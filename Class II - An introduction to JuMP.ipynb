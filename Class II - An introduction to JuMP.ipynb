{
 "cells": [
  {
   "cell_type": "markdown",
   "metadata": {},
   "source": [
    "# Class II - An introduction to JuMP\n",
    "\n",
    "*Los Alamos National Laboratory Grid Science Winter School, 2019*\n",
    "\n",
    "Welcome! This tutorial will introduce you to the basics of JuMP. If you haven't yet, work through [Class I - An introduction  to Julia](Class%20I%20-%20An%20introduction%20to%20Julia.ipynb) first.\n",
    "\n",
    "**Warning! This notebook is an introduction to JuMP v0.18. However, JuMP is currently undergoing a re-write. In the near future, some aspects of JuMP will change. But don't worry, the majority of this tutorial is still relevant in the future.**\n",
    "\n",
    "This tutorial doesn't exist in isolation. Some other good resources for learning JuMP are\n",
    "- [the Discourse forum](https://discourse.julialang.org/c/domain/opt)\n",
    "- [JuMP documentation](http://www.juliaopt.org/JuMP.jl/0.18/)\n",
    "- [JuMP examples](https://github.com/JuliaOpt/JuMP.jl/tree/release-0.18/examples)\n",
    "- [Textbook: Julia Programming for Operations Research](http://www.chkwon.net/julia/)\n",
    "\n",
    "Before we start, run the following magic sauce to install the required Julia packages and check that we're good to go."
   ]
  },
  {
   "cell_type": "code",
   "execution_count": 1,
   "metadata": {},
   "outputs": [
    {
     "name": "stdout",
     "output_type": "stream",
     "text": [
      "\u001b[32m\u001b[1m  Updating\u001b[22m\u001b[39m registry at `~/.julia/registries/General`\n",
      "\u001b[32m\u001b[1m  Updating\u001b[22m\u001b[39m git-repo `https://github.com/JuliaRegistries/General.git`\n",
      "\u001b[?25l\u001b[2K\u001b[?25hExcellent! Everything is good to go!\n"
     ]
    }
   ],
   "source": [
    "import Pkg\n",
    "Pkg.activate(@__DIR__)\n",
    "Pkg.instantiate()\n",
    "println(\"Excellent! Everything is good to go!\")"
   ]
  },
  {
   "cell_type": "markdown",
   "metadata": {},
   "source": [
    "## The basics"
   ]
  },
  {
   "cell_type": "markdown",
   "metadata": {},
   "source": [
    "First, load the JuMP package into your current environment."
   ]
  },
  {
   "cell_type": "code",
   "execution_count": 2,
   "metadata": {},
   "outputs": [
    {
     "name": "stderr",
     "output_type": "stream",
     "text": [
      "┌ Info: Recompiling stale cache file /Users/carleton/.julia/compiled/v1.1/JuMP/DmXqY.ji for JuMP [4076af6c-e467-56ae-b986-b466b2749572]\n",
      "└ @ Base loading.jl:1184\n"
     ]
    }
   ],
   "source": [
    "using JuMP"
   ]
  },
  {
   "cell_type": "markdown",
   "metadata": {},
   "source": [
    "Start building a JuMP model like so,"
   ]
  },
  {
   "cell_type": "code",
   "execution_count": 3,
   "metadata": {},
   "outputs": [
    {
     "data": {
      "text/latex": [
       "$$ \\begin{alignat*}{1}\\min\\quad & 0\\\\\n",
       "\\text{Subject to} \\quad & x\\\\\n",
       " & y \\geq 0\\\\\n",
       " & 1 \\leq z \\leq 2\\\\\n",
       "\\end{alignat*}\n",
       " $$"
      ],
      "text/plain": [
       "Feasibility problem with:\n",
       " * 0 linear constraints\n",
       " * 3 variables\n",
       "Solver is default solver"
      ]
     },
     "execution_count": 3,
     "metadata": {},
     "output_type": "execute_result"
    }
   ],
   "source": [
    "model = Model()\n",
    "@variable(model, x)\n",
    "@variable(model, y >= 0)\n",
    "@variable(model, 1 <= z <= 2)\n",
    "model"
   ]
  },
  {
   "cell_type": "markdown",
   "metadata": {},
   "source": [
    "### What's going on here?\n",
    "`@variable(model, x)` does four things:\n",
    "1. it adds an *optimization* variable to the model\n",
    "2. it creates a *JuMP* variable that acts as a reference to the optimization variable in the model\n",
    "3. it creates a *Julia* variable `x` that points to the JuMP variable\n",
    "4. it stores a reference to the JuMP variable in the model with the name `:x`"
   ]
  },
  {
   "cell_type": "code",
   "execution_count": 4,
   "metadata": {},
   "outputs": [
    {
     "data": {
      "text/latex": [
       "$$ x $$"
      ],
      "text/plain": [
       "x"
      ]
     },
     "execution_count": 4,
     "metadata": {},
     "output_type": "execute_result"
    }
   ],
   "source": [
    "model = Model()\n",
    "@variable(model, x >= 1.414)"
   ]
  },
  {
   "cell_type": "code",
   "execution_count": 5,
   "metadata": {},
   "outputs": [
    {
     "data": {
      "text/plain": [
       "Variable"
      ]
     },
     "execution_count": 5,
     "metadata": {},
     "output_type": "execute_result"
    }
   ],
   "source": [
    "# x is a JuMP variable\n",
    "typeof(x)"
   ]
  },
  {
   "cell_type": "code",
   "execution_count": 6,
   "metadata": {},
   "outputs": [
    {
     "name": "stdout",
     "output_type": "stream",
     "text": [
      "typeof(y) = Variable\n",
      "typeof(x) = Int64\n"
     ]
    },
    {
     "data": {
      "text/latex": [
       "$$ x $$"
      ],
      "text/plain": [
       "x"
      ]
     },
     "execution_count": 6,
     "metadata": {},
     "output_type": "execute_result"
    }
   ],
   "source": [
    "# We can bind the JuMP variable to a different Julia variable and set `x` to something else\n",
    "y = x\n",
    "x = 1\n",
    "\n",
    "@show typeof(y)\n",
    "@show typeof(x)\n",
    "\n",
    "y"
   ]
  },
  {
   "cell_type": "code",
   "execution_count": 7,
   "metadata": {},
   "outputs": [
    {
     "data": {
      "text/plain": [
       "1.414"
      ]
     },
     "execution_count": 7,
     "metadata": {},
     "output_type": "execute_result"
    }
   ],
   "source": [
    "JuMP.getlowerbound(y)"
   ]
  },
  {
   "cell_type": "code",
   "execution_count": 8,
   "metadata": {},
   "outputs": [
    {
     "data": {
      "text/latex": [
       "$$ x $$"
      ],
      "text/plain": [
       "x"
      ]
     },
     "execution_count": 8,
     "metadata": {},
     "output_type": "execute_result"
    }
   ],
   "source": [
    "model[:x]"
   ]
  },
  {
   "cell_type": "code",
   "execution_count": 9,
   "metadata": {},
   "outputs": [
    {
     "data": {
      "text/plain": [
       "true"
      ]
     },
     "execution_count": 9,
     "metadata": {},
     "output_type": "execute_result"
    }
   ],
   "source": [
    "model[:x] == y"
   ]
  },
  {
   "cell_type": "markdown",
   "metadata": {},
   "source": [
    "### Other ways to create variables\n",
    "\n",
    "We can also create arrays of JuMP variables."
   ]
  },
  {
   "cell_type": "code",
   "execution_count": 10,
   "metadata": {},
   "outputs": [
    {
     "data": {
      "text/latex": [
       "$$ x_{i} \\geq \\dots \\quad\\forall i \\in \\{1,2,3,4\\} $$"
      ],
      "text/plain": [
       "4-element Array{Variable,1}:\n",
       " x[1]\n",
       " x[2]\n",
       " x[3]\n",
       " x[4]"
      ]
     },
     "execution_count": 10,
     "metadata": {},
     "output_type": "execute_result"
    }
   ],
   "source": [
    "model = Model()\n",
    "@variable(model, x[i = 1:4] >= i)\n",
    "x"
   ]
  },
  {
   "cell_type": "markdown",
   "metadata": {},
   "source": [
    "The indices of the arrays don't have to be integers. They can be anything, like a string or a symbol."
   ]
  },
  {
   "cell_type": "code",
   "execution_count": 11,
   "metadata": {},
   "outputs": [
    {
     "data": {
      "text/latex": [
       "$$ x_{i,j} \\geq \\dots \\quad\\forall i \\in \\{1,2\\}, j \\in \\{A,B\\} $$"
      ],
      "text/plain": [
       "x[i,j] ≥ … ∀ i ∈ {1,2}, j ∈ {A,B}"
      ]
     },
     "execution_count": 11,
     "metadata": {},
     "output_type": "execute_result"
    }
   ],
   "source": [
    "model = Model()\n",
    "@variable(model, x[i = 1:2, j = [:A, :B]] >= i)\n",
    "x"
   ]
  },
  {
   "cell_type": "markdown",
   "metadata": {},
   "source": [
    "We can also add a condition to filter out some of the variables"
   ]
  },
  {
   "cell_type": "code",
   "execution_count": 12,
   "metadata": {},
   "outputs": [
    {
     "data": {
      "text/latex": [
       "$$ x_{i,j} \\geq \\dots \\quad\\forall i \\in \\{1,2,3,4\\}, j \\in \\{A,B\\} s.t. isodd(i) $$"
      ],
      "text/plain": [
       "x[i,j] ≥ … ∀ i ∈ {1,2,3,4}, j ∈ {A,B} s.t. isodd(i)"
      ]
     },
     "execution_count": 12,
     "metadata": {},
     "output_type": "execute_result"
    }
   ],
   "source": [
    "model = Model()\n",
    "@variable(model, x[i = 1:4, j = [:A, :B]; isodd(i)] >= i)\n",
    "x"
   ]
  },
  {
   "cell_type": "markdown",
   "metadata": {},
   "source": [
    "What if I want to add two variables with the same name?"
   ]
  },
  {
   "cell_type": "code",
   "execution_count": 13,
   "metadata": {},
   "outputs": [
    {
     "name": "stderr",
     "output_type": "stream",
     "text": [
      "┌ Warning: A variable or constraint named x is already attached to this model. If creating variables programmatically, use the anonymous variable syntax x = @variable(m, [1:N], ...).\n",
      "└ @ JuMP /Users/carleton/.julia/packages/JuMP/PbnIJ/src/JuMP.jl:852\n"
     ]
    },
    {
     "data": {
      "text/latex": [
       "$$ x $$"
      ],
      "text/plain": [
       "x"
      ]
     },
     "execution_count": 13,
     "metadata": {},
     "output_type": "execute_result"
    }
   ],
   "source": [
    "model = Model()\n",
    "@variable(model, x >= 1)\n",
    "@variable(model, x >= 2)"
   ]
  },
  {
   "cell_type": "markdown",
   "metadata": {},
   "source": [
    "### Quiz Question\n",
    "\n",
    "What is the value of the following?"
   ]
  },
  {
   "cell_type": "code",
   "execution_count": 14,
   "metadata": {},
   "outputs": [
    {
     "data": {
      "text/plain": [
       "2.0"
      ]
     },
     "execution_count": 14,
     "metadata": {},
     "output_type": "execute_result"
    }
   ],
   "source": [
    "JuMP.getlowerbound(x)"
   ]
  },
  {
   "cell_type": "markdown",
   "metadata": {},
   "source": [
    "### Anonymous variables\n",
    "\n",
    "So far, we've only added *named* variables. This works great until we want to add two variables with the same name! To work around this isse, we can add *anonymous* variables."
   ]
  },
  {
   "cell_type": "code",
   "execution_count": 15,
   "metadata": {},
   "outputs": [
    {
     "name": "stdout",
     "output_type": "stream",
     "text": [
      "JuMP.getlowerbound(x) = -Inf\n",
      "JuMP.getlowerbound(x) = 1.0\n",
      "JuMP.getlowerbound(x) = [1.0, 2.0]\n"
     ]
    },
    {
     "ename": "KeyError",
     "evalue": "KeyError: key \"No object with name x\" not found",
     "output_type": "error",
     "traceback": [
      "KeyError: key \"No object with name x\" not found",
      "",
      "Stacktrace:",
      " [1] getindex(::Model, ::Symbol) at /Users/carleton/.julia/packages/JuMP/PbnIJ/src/JuMP.jl:863",
      " [2] top-level scope at In[15]:8"
     ]
    }
   ],
   "source": [
    "model = Model()\n",
    "x = @variable(model)\n",
    "@show JuMP.getlowerbound(x)\n",
    "x = @variable(model, lowerbound = 1)\n",
    "@show JuMP.getlowerbound(x)\n",
    "x = @variable(model, [i = 1:2], lowerbound = i)\n",
    "@show JuMP.getlowerbound(x)\n",
    "\n",
    "model[:x]  # This throws an error"
   ]
  },
  {
   "cell_type": "markdown",
   "metadata": {},
   "source": [
    "So what's the difference between the *named* and *anonymous* syntax? \n",
    "\n",
    "Well, `@variable(model, x >= 2)` is (roughly) equivalent to"
   ]
  },
  {
   "cell_type": "code",
   "execution_count": 16,
   "metadata": {},
   "outputs": [
    {
     "data": {
      "text/latex": [
       "$$ \\begin{alignat*}{1}\\min\\quad & 0\\\\\n",
       "\\text{Subject to} \\quad & x \\geq 2\\\\\n",
       "\\end{alignat*}\n",
       " $$"
      ],
      "text/plain": [
       "Feasibility problem with:\n",
       " * 0 linear constraints\n",
       " * 1 variable\n",
       "Solver is default solver"
      ]
     },
     "execution_count": 16,
     "metadata": {},
     "output_type": "execute_result"
    }
   ],
   "source": [
    "model = Model()\n",
    "x = model[:x] = @variable(model, lowerbound = 2, basename = \"x\")\n",
    "model"
   ]
  },
  {
   "cell_type": "code",
   "execution_count": 17,
   "metadata": {},
   "outputs": [
    {
     "data": {
      "text/latex": [
       "$$ \\begin{alignat*}{1}\\min\\quad & 0\\\\\n",
       "\\text{Subject to} \\quad & x \\geq 2\\\\\n",
       "\\end{alignat*}\n",
       " $$"
      ],
      "text/plain": [
       "Feasibility problem with:\n",
       " * 0 linear constraints\n",
       " * 1 variable\n",
       "Solver is default solver"
      ]
     },
     "execution_count": 17,
     "metadata": {},
     "output_type": "execute_result"
    }
   ],
   "source": [
    "model = Model()\n",
    "@variable(model, x >= 2)\n",
    "model"
   ]
  },
  {
   "cell_type": "markdown",
   "metadata": {},
   "source": [
    "Although uneeded for this tutorial, we can also create binary and integer variables as follows:"
   ]
  },
  {
   "cell_type": "code",
   "execution_count": 18,
   "metadata": {},
   "outputs": [
    {
     "data": {
      "text/latex": [
       "$$ \\begin{alignat*}{1}\\min\\quad & 0\\\\\n",
       "\\text{Subject to} \\quad & x \\geq 1, \\in \\mathbb{Z}\\\\\n",
       " & y \\in \\{0,1\\}\\\\\n",
       "\\end{alignat*}\n",
       " $$"
      ],
      "text/plain": [
       "Feasibility problem with:\n",
       " * 0 linear constraints\n",
       " * 2 variables: 1 binary, 1 integer\n",
       "Solver is default solver"
      ]
     },
     "execution_count": 18,
     "metadata": {},
     "output_type": "execute_result"
    }
   ],
   "source": [
    "model = Model()\n",
    "@variable(model, x >= 1, Int)\n",
    "@variable(model, y, Bin)\n",
    "model"
   ]
  },
  {
   "cell_type": "markdown",
   "metadata": {},
   "source": [
    "### Constraints\n",
    "\n",
    "Now that we've seen how to create variables, let's look at constraints. Much of the syntax should be familiar."
   ]
  },
  {
   "cell_type": "code",
   "execution_count": 19,
   "metadata": {},
   "outputs": [
    {
     "data": {
      "text/latex": [
       "$$ \\begin{alignat*}{1}\\min\\quad & 0\\\\\n",
       "\\text{Subject to} \\quad & 2 x + y \\leq 1\\\\\n",
       " & 2 x + y \\geq 1\\\\\n",
       " & 2 x + y = 1\\\\\n",
       " & x \\geq 0\\\\\n",
       " & y \\geq 0\\\\\n",
       "\\end{alignat*}\n",
       " $$"
      ],
      "text/plain": [
       "Feasibility problem with:\n",
       " * 3 linear constraints\n",
       " * 2 variables\n",
       "Solver is default solver"
      ]
     },
     "execution_count": 19,
     "metadata": {},
     "output_type": "execute_result"
    }
   ],
   "source": [
    "model = Model()\n",
    "@variable(model, x >= 0)\n",
    "@variable(model, y >= 0)\n",
    "\n",
    "@constraint(model, c_less_than, 2x + y <= 1)\n",
    "@constraint(model, c_greater_than, 2x + y >= 1)\n",
    "@constraint(model, c_equal_to, 2x + y == 1)\n",
    "\n",
    "model"
   ]
  },
  {
   "cell_type": "code",
   "execution_count": 20,
   "metadata": {},
   "outputs": [
    {
     "data": {
      "text/latex": [
       "$$ 2 x + y = 1 $$"
      ],
      "text/plain": [
       "2 x + y = 1"
      ]
     },
     "execution_count": 20,
     "metadata": {},
     "output_type": "execute_result"
    }
   ],
   "source": [
    "model[:c_equal_to]"
   ]
  },
  {
   "cell_type": "code",
   "execution_count": 21,
   "metadata": {},
   "outputs": [
    {
     "data": {
      "text/latex": [
       "$$ \\begin{alignat*}{1}\\min\\quad & 0\\\\\n",
       "\\text{Subject to} \\quad & 2 x + y \\leq 1\\\\\n",
       " & 2 x + y \\geq 1\\\\\n",
       " & 2 x + y = 1\\\\\n",
       " & x - y \\leq 0\\\\\n",
       " & 2 x - y \\leq 0\\\\\n",
       " & x \\geq 0\\\\\n",
       " & y \\geq 0\\\\\n",
       "\\end{alignat*}\n",
       " $$"
      ],
      "text/plain": [
       "Feasibility problem with:\n",
       " * 5 linear constraints\n",
       " * 2 variables\n",
       "Solver is default solver"
      ]
     },
     "execution_count": 21,
     "metadata": {},
     "output_type": "execute_result"
    }
   ],
   "source": [
    "anonymous_constraint = @constraint(model, [i = 1:2], i * x <= y)\n",
    "\n",
    "model"
   ]
  },
  {
   "cell_type": "markdown",
   "metadata": {},
   "source": [
    "### Objective Functions\n",
    "\n",
    "Now let's look at the objective function."
   ]
  },
  {
   "cell_type": "code",
   "execution_count": 22,
   "metadata": {},
   "outputs": [
    {
     "data": {
      "text/latex": [
       "$$ \\begin{alignat*}{1}\\min\\quad & 2 x + 1\\\\\n",
       "\\text{Subject to} \\quad & x \\geq 0\\\\\n",
       "\\end{alignat*}\n",
       " $$"
      ],
      "text/plain": [
       "Minimization problem with:\n",
       " * 0 linear constraints\n",
       " * 1 variable\n",
       "Solver is default solver"
      ]
     },
     "execution_count": 22,
     "metadata": {},
     "output_type": "execute_result"
    }
   ],
   "source": [
    "model = Model()\n",
    "@variable(model, x >= 0)\n",
    "\n",
    "@objective(model, Min, 2x + 1)\n",
    "\n",
    "model"
   ]
  },
  {
   "cell_type": "code",
   "execution_count": 23,
   "metadata": {},
   "outputs": [
    {
     "data": {
      "text/latex": [
       "$$ \\begin{alignat*}{1}\\max\\quad & 2 x + 1\\\\\n",
       "\\text{Subject to} \\quad & x \\leq 2\\\\\n",
       "\\end{alignat*}\n",
       " $$"
      ],
      "text/plain": [
       "Maximization problem with:\n",
       " * 0 linear constraints\n",
       " * 1 variable\n",
       "Solver is default solver"
      ]
     },
     "execution_count": 23,
     "metadata": {},
     "output_type": "execute_result"
    }
   ],
   "source": [
    "model = Model()\n",
    "@variable(model, x <= 2)\n",
    "\n",
    "@objective(model, Max, 2x + 1)\n",
    "\n",
    "model"
   ]
  },
  {
   "cell_type": "markdown",
   "metadata": {},
   "source": [
    "### Solving a Model\n",
    "\n",
    "Once we've formulated a model, the next step is to solve it. This requires a solver.\n",
    "\n",
    "JuMP supports lots of different solvers. The [JuMP documentation](http://www.juliaopt.org/JuMP.jl/0.18/installation.html#getting-solvers) contains a list of the supported solvers and the types of problems each solver supports.\n",
    "\n",
    "We're going to use two solvers in particular.\n",
    "\n",
    "The first solver is the [GNU Linear Programming Kit (GLPK)](https://www.gnu.org/software/glpk/). This solver supports linear programs with continous variables.\n",
    "\n",
    "GLPK is available via the [GLPKMathProgInterface.jl](https://github.com/JuliaOpt/GLPKMathProgInterface.jl) package."
   ]
  },
  {
   "cell_type": "code",
   "execution_count": 24,
   "metadata": {},
   "outputs": [
    {
     "name": "stderr",
     "output_type": "stream",
     "text": [
      "┌ Info: Recompiling stale cache file /Users/carleton/.julia/compiled/v1.1/GLPKMathProgInterface/Y5bTM.ji for GLPKMathProgInterface [3c7084bd-78ad-589a-b5bb-dbd673274bea]\n",
      "└ @ Base loading.jl:1184\n"
     ]
    },
    {
     "data": {
      "text/plain": [
       "GLPKMathProgInterface.GLPKInterfaceLP.GLPKSolverLP(false, :Simplex, Base.Iterators.Pairs{Union{},Union{},Tuple{},NamedTuple{(),Tuple{}}}())"
      ]
     },
     "execution_count": 24,
     "metadata": {},
     "output_type": "execute_result"
    }
   ],
   "source": [
    "using GLPKMathProgInterface\n",
    "# Define an instance of the GLPK solver.\n",
    "const GLPK_SOLVER = GLPKMathProgInterface.GLPKSolverLP()"
   ]
  },
  {
   "cell_type": "markdown",
   "metadata": {},
   "source": [
    "The second solver is the COIN-OR [Interior Point OPTimizer (Ipopt)](https://projects.coin-or.org/Ipopt). This solver supports nonlinear programs with continous variables.\n",
    "\n",
    "Ipopt is available via the [Ipopt.jl](https://github.com/JuliaOpt/Ipopt.jl) package."
   ]
  },
  {
   "cell_type": "code",
   "execution_count": 25,
   "metadata": {},
   "outputs": [
    {
     "data": {
      "text/plain": [
       "IpoptSolver(Tuple[(:print_level, 0)])"
      ]
     },
     "execution_count": 25,
     "metadata": {},
     "output_type": "execute_result"
    }
   ],
   "source": [
    "using Ipopt\n",
    "const IPOPT_SOLVER = IpoptSolver(print_level=0)"
   ]
  },
  {
   "cell_type": "markdown",
   "metadata": {},
   "source": [
    "There are two ways to add a solver to a JuMP model:"
   ]
  },
  {
   "cell_type": "code",
   "execution_count": 26,
   "metadata": {},
   "outputs": [
    {
     "data": {
      "text/latex": [
       "$$ \\begin{alignat*}{1}\\min\\quad & 0\\\\\n",
       "\\text{Subject to} \\quad\\end{alignat*}\n",
       " $$"
      ],
      "text/plain": [
       "Feasibility problem with:\n",
       " * 0 linear constraints\n",
       " * 0 variables\n",
       "Solver is Ipopt"
      ]
     },
     "execution_count": 26,
     "metadata": {},
     "output_type": "execute_result"
    }
   ],
   "source": [
    "model = Model()\n",
    "JuMP.setsolver(model, GLPK_SOLVER)\n",
    "\n",
    "# ... or ...\n",
    "\n",
    "model = Model(solver = IPOPT_SOLVER)"
   ]
  },
  {
   "cell_type": "markdown",
   "metadata": {},
   "source": [
    "If you try to solve an unsupported problem type, an error will be thrown:"
   ]
  },
  {
   "cell_type": "code",
   "execution_count": 27,
   "metadata": {},
   "outputs": [
    {
     "ename": "MethodError",
     "evalue": "MethodError: no method matching NonlinearModel(::GLPKMathProgInterface.GLPKInterfaceLP.GLPKSolverLP)\nClosest candidates are:\n  NonlinearModel(!Matched::IpoptSolver) at /Users/carleton/.julia/packages/Ipopt/Iu7vT/src/MPB_wrapper.jl:38\n  NonlinearModel(!Matched::Int64) at /Users/carleton/.julia/packages/MathProgBase/rVlFR/src/SolverInterface/SolverInterface.jl:29\n  NonlinearModel() at /Users/carleton/.julia/packages/MathProgBase/rVlFR/src/SolverInterface/SolverInterface.jl:27",
     "output_type": "error",
     "traceback": [
      "MethodError: no method matching NonlinearModel(::GLPKMathProgInterface.GLPKInterfaceLP.GLPKSolverLP)\nClosest candidates are:\n  NonlinearModel(!Matched::IpoptSolver) at /Users/carleton/.julia/packages/Ipopt/Iu7vT/src/MPB_wrapper.jl:38\n  NonlinearModel(!Matched::Int64) at /Users/carleton/.julia/packages/MathProgBase/rVlFR/src/SolverInterface/SolverInterface.jl:29\n  NonlinearModel() at /Users/carleton/.julia/packages/MathProgBase/rVlFR/src/SolverInterface/SolverInterface.jl:27",
      "",
      "Stacktrace:",
      " [1] _buildInternalModel_nlp(::Model, ::JuMP.ProblemTraits) at /Users/carleton/.julia/packages/JuMP/PbnIJ/src/nlp.jl:1242",
      " [2] #build#123(::Bool, ::Bool, ::JuMP.ProblemTraits, ::Function, ::Model) at /Users/carleton/.julia/packages/JuMP/PbnIJ/src/solvers.jl:304",
      " [3] #build at ./none:0 [inlined]",
      " [4] #solve#120(::Bool, ::Bool, ::Bool, ::Base.Iterators.Pairs{Union{},Union{},Tuple{},NamedTuple{(),Tuple{}}}, ::Function, ::Model) at /Users/carleton/.julia/packages/JuMP/PbnIJ/src/solvers.jl:168",
      " [5] solve(::Model) at /Users/carleton/.julia/packages/JuMP/PbnIJ/src/solvers.jl:150",
      " [6] top-level scope at In[27]:4"
     ]
    }
   ],
   "source": [
    "model = Model(solver = GLPK_SOLVER)\n",
    "@variable(model, 0 <= x <= π)\n",
    "@NLobjective(model, Min, cos(x)^2)\n",
    "solve(model)"
   ]
  },
  {
   "cell_type": "markdown",
   "metadata": {},
   "source": [
    "That error isn't very nice, but don't worry, the new version of JuMP has much nicer errors. This sort of thing shouldn't happen in the future."
   ]
  },
  {
   "cell_type": "code",
   "execution_count": 28,
   "metadata": {},
   "outputs": [
    {
     "name": "stdout",
     "output_type": "stream",
     "text": [
      "\n",
      "******************************************************************************\n",
      "This program contains Ipopt, a library for large-scale nonlinear optimization.\n",
      " Ipopt is released as open source code under the Eclipse Public License (EPL).\n",
      "         For more information visit http://projects.coin-or.org/Ipopt\n",
      "******************************************************************************\n",
      "\n",
      "The solution status is: Optimal\n"
     ]
    }
   ],
   "source": [
    "JuMP.setsolver(model, IPOPT_SOLVER)\n",
    "status = solve(model)\n",
    "\n",
    "println(\"The solution status is: $(status)\")"
   ]
  },
  {
   "cell_type": "code",
   "execution_count": 29,
   "metadata": {},
   "outputs": [
    {
     "name": "stdout",
     "output_type": "stream",
     "text": [
      "      x | 1.5707963267948966\n",
      "    π/2 | 1.5707963267948966\n",
      "--------+----------------------\n",
      "cos²(x) | 3.749399456654644e-33\n"
     ]
    }
   ],
   "source": [
    "x_value = JuMP.getvalue(x)\n",
    "obj_value = JuMP.getobjectivevalue(model)\n",
    "\n",
    "println(\"      x | $(x_value)\")\n",
    "println(\"    π/2 | $(π/2)\")\n",
    "println(\"--------+----------------------\")\n",
    "println(\"cos²(x) | $(obj_value)\")"
   ]
  },
  {
   "cell_type": "markdown",
   "metadata": {},
   "source": [
    "## Example: Simple Economic Dispatch\n",
    "\n",
    "*This example is adapted from a [tutorial given at the 2015 Grid Science Winter School](https://github.com/JuliaOpt/juliaopt-notebooks/blob/3110eddaf5effdecfee687739295bea05731ba33/notebooks/Dvorkin%20-%20Power%20systems%20-%20Economic%20dispatch%20and%20Unit%20commitment.ipynb).*\n",
    "\n",
    "Economic dispatch (ED) is an optimization problem that minimizes the cost of supplying energy demand subject to operational constraints on power system assets. In its simplest instantiation, ED is a Linear Programing (LP) problem solved for an aggregated load and wind forecast and for a single infinitesimal moment. Mathematically, the ED problem can be written as follows:\n",
    "$$\n",
    "\\min \\sum_{i \\in I} c^g_{i} \\cdot g_{i} + c^w \\cdot w,\n",
    "$$\n",
    "where $c_{i}$ and $g_{i}$ are the incremental cost ($\\$/MWh$) and power output ($MW$) of the $i^{th}$ thermal generator, respectively, and $c^w$ and $w$ are the incremental cost ($\\$/MWh$) and wind power injection ($MW$), respectively.\n",
    "\n",
    "s.t.\n",
    "\n",
    "<li> Minimum ($g^{\\min}$) and maximum ($g^{\\max}$) limits on power outputs of the thermal generators: </li>\n",
    "$$\n",
    "g^{\\min}_{i} \\leq g_{i} \\leq g^{\\max}_{i}.\n",
    "$$\n",
    "<li>Constraint on the wind power injection:</li>\n",
    "$$\n",
    "0 \\leq w \\leq w^f, \n",
    "$$\n",
    "where $w$ and $w^f$ are the wind power injection and wind power forecast, respectively.\n",
    "\n",
    "<li>Power balance constraint:</li>\n",
    "$$\n",
    "\\sum_{i \\in I} g_{i} + w = d, \n",
    "$$\n",
    "where $d$ is the demand.\n",
    "\n",
    "Further reading on ED models can be found in A. J. Wood, B. F. Wollenberg, and G. B. Sheblé, \"Power Generation, Operation and Control\", Wiley, 2013.\n",
    "\n",
    "### JuMP Implementation of Economic Dispatch \n",
    "\n",
    "First, we need to load some plotting packages.  Note, compilation may take a few minutes."
   ]
  },
  {
   "cell_type": "code",
   "execution_count": 30,
   "metadata": {},
   "outputs": [
    {
     "name": "stderr",
     "output_type": "stream",
     "text": [
      "┌ Info: Recompiling stale cache file /Users/carleton/.julia/compiled/v1.1/Interact/XmYW4.ji for Interact [c601a237-2ae4-5e1e-952c-7a85b0c7eef1]\n",
      "└ @ Base loading.jl:1184\n"
     ]
    },
    {
     "data": {
      "text/html": [
       "<script>\n",
       "// Immediately-invoked-function-expression to avoid global variables.\n",
       "(function() {\n",
       "    var warning_div = document.getElementById(\"webio-warning-493448827776635789\");\n",
       "    var hide = function () {\n",
       "        var script = document.getElementById(\"webio-setup-6645670929563601065\");\n",
       "        var parent = script && script.parentElement;\n",
       "        var grandparent = parent && parent.parentElement;\n",
       "        if (grandparent) {\n",
       "            grandparent.style.display = \"none\";\n",
       "        }\n",
       "        warning_div.style.display = \"none\";\n",
       "    };\n",
       "    if (typeof Jupyter !== \"undefined\") {\n",
       "        console.log(\"WebIO detected Jupyter notebook environment.\");\n",
       "        // Jupyter notebook.\n",
       "        var extensions = (\n",
       "            Jupyter\n",
       "            && Jupyter.notebook.config.data\n",
       "            && Jupyter.notebook.config.data.load_extensions\n",
       "        );\n",
       "        if (extensions && extensions[\"webio/main\"]) {\n",
       "            // Extension already loaded.\n",
       "            console.log(\"Jupyter WebIO nbextension detected; not loading ad-hoc.\");\n",
       "            hide();\n",
       "            return;\n",
       "        }\n",
       "        console.warn(\"Loading WebIO Jupyter extension on an ad-hoc basis. Consider enabling the WebIO nbextension for a stabler experience (this should happen automatically when building WebIO).\");\n",
       "        require([\"/assetserver/2dd9f775b85550382eb503bc174f2656e39df966-dist/main.js\"], function (webIOModule) {\n",
       "            webIOModule.load_ipython_extension();\n",
       "        });\n",
       "        warning_div.innerHTML = \"<strong>Loading WebIO Jupyter extension on an ad-hoc basis. Consider enabling the WebIO nbextension for a stabler experience (this should happen automatically when building WebIO).</strong>\";\n",
       "    } else if (window.location.pathname.includes(\"/lab\")) {\n",
       "        // Guessing JupyterLa\n",
       "        console.log(\"Jupyter Lab detected; make sure the @webio/jupyter-lab-provider labextension is installed.\");\n",
       "        hide();\n",
       "        return;\n",
       "    }\n",
       "})();\n",
       "\n",
       "</script>\n",
       "<div\n",
       "    id=\"webio-warning-493448827776635789\"\n",
       "    class=\"output_text output_stderr\"\n",
       "    style=\"padding: 1em; font-weight: bold;\"\n",
       ">\n",
       "    Unable to load WebIO. Please make sure WebIO works for your Jupyter client.\n",
       "    <!-- TODO: link to installation docs. -->\n",
       "</div>\n"
      ],
      "text/plain": [
       "HTML{String}(\"<script>\\n// Immediately-invoked-function-expression to avoid global variables.\\n(function() {\\n    var warning_div = document.getElementById(\\\"webio-warning-493448827776635789\\\");\\n    var hide = function () {\\n        var script = document.getElementById(\\\"webio-setup-6645670929563601065\\\");\\n        var parent = script && script.parentElement;\\n        var grandparent = parent && parent.parentElement;\\n        if (grandparent) {\\n            grandparent.style.display = \\\"none\\\";\\n        }\\n        warning_div.style.display = \\\"none\\\";\\n    };\\n    if (typeof Jupyter !== \\\"undefined\\\") {\\n        console.log(\\\"WebIO detected Jupyter notebook environment.\\\");\\n        // Jupyter notebook.\\n        var extensions = (\\n            Jupyter\\n            && Jupyter.notebook.config.data\\n            && Jupyter.notebook.config.data.load_extensions\\n        );\\n        if (extensions && extensions[\\\"webio/main\\\"]) {\\n            // Extension already loaded.\\n            console.log(\\\"Jupyter WebIO nbextension detected; not loading ad-hoc.\\\");\\n            hide();\\n            return;\\n        }\\n        console.warn(\\\"Loading WebIO Jupyter extension on an ad-hoc basis. Consider enabling the WebIO nbextension for a stabler experience (this should happen automatically when building WebIO).\\\");\\n        require([\\\"/assetserver/2dd9f775b85550382eb503bc174f2656e39df966-dist/main.js\\\"], function (webIOModule) {\\n            webIOModule.load_ipython_extension();\\n        });\\n        warning_div.innerHTML = \\\"<strong>Loading WebIO Jupyter extension on an ad-hoc basis. Consider enabling the WebIO nbextension for a stabler experience (this should happen automatically when building WebIO).</strong>\\\";\\n    } else if (window.location.pathname.includes(\\\"/lab\\\")) {\\n        // Guessing JupyterLa\\n        console.log(\\\"Jupyter Lab detected; make sure the @webio/jupyter-lab-provider labextension is installed.\\\");\\n        hide();\\n        return;\\n    }\\n})();\\n\\n</script>\\n<div\\n    id=\\\"webio-warning-493448827776635789\\\"\\n    class=\\\"output_text output_stderr\\\"\\n    style=\\\"padding: 1em; font-weight: bold;\\\"\\n>\\n    Unable to load WebIO. Please make sure WebIO works for your Jupyter client.\\n    <!-- TODO: link to installation docs. -->\\n</div>\\n\")"
      ]
     },
     "metadata": {},
     "output_type": "display_data"
    }
   ],
   "source": [
    "using Interact\n",
    "using Plots"
   ]
  },
  {
   "cell_type": "markdown",
   "metadata": {},
   "source": [
    "Now, we define some problem data for a model with two thermal generators and one wind generator."
   ]
  },
  {
   "cell_type": "code",
   "execution_count": 31,
   "metadata": {},
   "outputs": [],
   "source": [
    "# Define some input data about the test system\n",
    "# Maximum power output of generators\n",
    "const GENERATION_MAX = [1000, 1000]\n",
    "# Minimum power output of generators\n",
    "const GENERATION_MIN = [0, 300]\n",
    "# Incremental cost of generators \n",
    "const COST_GENERATION = [50, 100]\n",
    "# Incremental cost of wind generators\n",
    "const COST_WIND = 50\n",
    "# Total demand\n",
    "const DEMAND = 1500\n",
    "# Wind forecast\n",
    "const WIND_MAX = 200;"
   ]
  },
  {
   "cell_type": "markdown",
   "metadata": {},
   "source": [
    "In the next cell, we create a Julia function that formulates and solves the economic dispatch problem."
   ]
  },
  {
   "cell_type": "code",
   "execution_count": 32,
   "metadata": {},
   "outputs": [
    {
     "name": "stdout",
     "output_type": "stream",
     "text": [
      "Dispatch\n",
      "   Generators: [1000.0, 300.0] MW\n",
      "         Wind: 200.0 MW\n",
      "Wind spillage: 0.0 MW\n",
      "----------------------------------\n",
      "Total cost: $90000.0\n"
     ]
    }
   ],
   "source": [
    "\"\"\"\n",
    "    solve_economic_dispatch(; cost_of_thermal::Vector, cost_of_wind)\n",
    "\n",
    "Formulate and solve the economic dispatch problem given the cost of generation \n",
    "for the two thermal generators and the cost of wind generation.\n",
    "\"\"\"\n",
    "function solve_economic_dispatch(;\n",
    "        cost_of_thermal = COST_GENERATION, \n",
    "        cost_of_wind = COST_WIND)\n",
    "\n",
    "    economic_dispatch = Model(solver = GLPK_SOLVER) \n",
    "    \n",
    "    # Define decision variables    \n",
    "    @variables(economic_dispatch, begin\n",
    "        g[i=1:2]  # Thermal generation (MW).\n",
    "        w >= 0  # Wind power (MW).\n",
    "    end)\n",
    "\n",
    "    # Define the objective function\n",
    "    @objective(economic_dispatch, Min, \n",
    "        sum(cost_of_thermal[i] * g[i] for i in 1:2) + cost_of_wind * w\n",
    "    )\n",
    "\n",
    "    # Define the constraint on the maximum and minimum power output of each generator.\n",
    "    for i in 1:2\n",
    "        @constraint(economic_dispatch, g[i] <= GENERATION_MAX[i])\n",
    "        @constraint(economic_dispatch, g[i] >= GENERATION_MIN[i])\n",
    "    end\n",
    "    \n",
    "    @constraints(economic_dispatch, begin\n",
    "        # Define the constraint on the wind power injection\n",
    "        w <= WIND_MAX\n",
    "        # Define the power balance constraint\n",
    "        sum(g[i] for i in 1:2) + w == DEMAND\n",
    "    end)\n",
    "\n",
    "    # Solve statement\n",
    "    solve(economic_dispatch)\n",
    "    \n",
    "    # Return the optimal value of the objective function and its minimizers\n",
    "    # as a NamedTuple.\n",
    "    return (\n",
    "        generation = getvalue(g), \n",
    "        wind_generation = getvalue(w),\n",
    "        wind_spillage = WIND_MAX - getvalue(w),\n",
    "        cost = getobjectivevalue(economic_dispatch)\n",
    "    )\n",
    "end\n",
    "\n",
    "# Solve the economic dispatch problem\n",
    "solution = solve_economic_dispatch()\n",
    "\n",
    "println(\"Dispatch\")\n",
    "println(\"   Generators: \", solution.generation, \" MW\")\n",
    "println(\"         Wind: \", solution.wind_generation, \" MW\")\n",
    "println(\"Wind spillage: \", solution.wind_spillage, \" MW\") \n",
    "println(\"----------------------------------\")\n",
    "println(\"Total cost: \\$\", solution.cost)  "
   ]
  },
  {
   "cell_type": "markdown",
   "metadata": {},
   "source": [
    "### Economic dispatch with adjustable incremental costs"
   ]
  },
  {
   "cell_type": "markdown",
   "metadata": {},
   "source": [
    "In the following exercise we introduce a manipulator to vary the cost of wind generation and observe its impact the total cost, dispatch of generators G1 and G2, utilization of available wind under different values of the incremental cost of generator G1."
   ]
  },
  {
   "cell_type": "code",
   "execution_count": 33,
   "metadata": {},
   "outputs": [
    {
     "data": {
      "application/vnd.webio.node+json": {
       "children": [
        {
         "children": [
          {
           "children": [
            {
             "children": [
              {
               "children": [
                {
                 "children": [
                  "cost_of_wind"
                 ],
                 "instanceArgs": {
                  "namespace": "html",
                  "tag": "label"
                 },
                 "nodeType": "DOM",
                 "props": {
                  "className": "interact ",
                  "style": {
                   "padding": "5px 10px 0px 10px"
                  }
                 },
                 "type": "node"
                }
               ],
               "instanceArgs": {
                "namespace": "html",
                "tag": "div"
               },
               "nodeType": "DOM",
               "props": {
                "className": "interact-flex-row-left"
               },
               "type": "node"
              },
              {
               "children": [
                {
                 "children": [],
                 "instanceArgs": {
                  "namespace": "html",
                  "tag": "input"
                 },
                 "nodeType": "DOM",
                 "props": {
                  "attributes": {
                   "data-bind": "numericValue: index, valueUpdate: 'input', event: {change: function (){this.changes(this.changes()+1)}}",
                   "orient": "horizontal",
                   "type": "range"
                  },
                  "className": "slider slider is-fullwidth",
                  "max": 26,
                  "min": 1,
                  "step": 1,
                  "style": {}
                 },
                 "type": "node"
                }
               ],
               "instanceArgs": {
                "namespace": "html",
                "tag": "div"
               },
               "nodeType": "DOM",
               "props": {
                "className": "interact-flex-row-center"
               },
               "type": "node"
              },
              {
               "children": [
                {
                 "children": [],
                 "instanceArgs": {
                  "namespace": "html",
                  "tag": "p"
                 },
                 "nodeType": "DOM",
                 "props": {
                  "attributes": {
                   "data-bind": "text: formatted_val"
                  }
                 },
                 "type": "node"
                }
               ],
               "instanceArgs": {
                "namespace": "html",
                "tag": "div"
               },
               "nodeType": "DOM",
               "props": {
                "className": "interact-flex-row-right"
               },
               "type": "node"
              }
             ],
             "instanceArgs": {
              "namespace": "html",
              "tag": "div"
             },
             "nodeType": "DOM",
             "props": {
              "className": "interact-flex-row interact-widget"
             },
             "type": "node"
            }
           ],
           "instanceArgs": {
            "handlers": {
             "changes": [
              "(function (val){return (val!=this.model[\"changes\"]()) ? (this.valueFromJulia[\"changes\"]=true, this.model[\"changes\"](val)) : undefined})"
             ],
             "index": [
              "(function (val){return (val!=this.model[\"index\"]()) ? (this.valueFromJulia[\"index\"]=true, this.model[\"index\"](val)) : undefined})"
             ]
            },
            "id": "knockout-component-e8d4bc87-8d77-4271-8990-42b7c2513e20",
            "imports": {
             "data": [
              {
               "name": "knockout",
               "type": "js",
               "url": "/assetserver/0db2030eda8ae695ee385b177287a65d5698da81-knockout.js"
              },
              {
               "name": "knockout_punches",
               "type": "js",
               "url": "/assetserver/ab0f37d8318710d8b034c6f57de3dc43b8f803db-knockout_punches.js"
              },
              {
               "name": null,
               "type": "js",
               "url": "/assetserver/328dc776aa9f428539a661e8f9a278c165884663-all.js"
              },
              {
               "name": null,
               "type": "css",
               "url": "/assetserver/d23f72b7b3b6c3fabe3e7e1f280b67d5d679fe0b-style.css"
              },
              {
               "name": null,
               "type": "css",
               "url": "/assetserver/f116afb558b7c1b42a69d9c8d6e53ef190388cb9-bulma_confined.min.css"
              }
             ],
             "type": "async_block"
            },
            "mount_callbacks": [
             "function () {\n    var handler = (function (ko, koPunches) {\n    ko.punches.enableAll();\n    ko.bindingHandlers.numericValue = {\n        init : function(element, valueAccessor, allBindings, data, context) {\n            var stringified = ko.observable(ko.unwrap(valueAccessor()));\n            stringified.subscribe(function(value) {\n                var val = parseFloat(value);\n                if (!isNaN(val)) {\n                    valueAccessor()(val);\n                }\n            })\n            valueAccessor().subscribe(function(value) {\n                var str = JSON.stringify(value);\n                if ((str == \"0\") && ([\"-0\", \"-0.\"].indexOf(stringified()) >= 0))\n                     return;\n                 if ([\"null\", \"\"].indexOf(str) >= 0)\n                     return;\n                stringified(str);\n            })\n            ko.applyBindingsToNode(element, { value: stringified, valueUpdate: allBindings.get('valueUpdate')}, context);\n        }\n    };\n    var json_data = {\"formatted_vals\":[\"50.0\",\"55.0\",\"60.0\",\"65.0\",\"70.0\",\"75.0\",\"80.0\",\"85.0\",\"90.0\",\"95.0\",\"100.0\",\"105.0\",\"110.0\",\"115.0\",\"120.0\",\"125.0\",\"130.0\",\"135.0\",\"140.0\",\"145.0\",\"150.0\",\"155.0\",\"160.0\",\"165.0\",\"170.0\",\"175.0\"],\"changes\":WebIO.getval({\"name\":\"changes\",\"scope\":\"knockout-component-e8d4bc87-8d77-4271-8990-42b7c2513e20\",\"id\":\"ob_03\",\"type\":\"observable\"}),\"index\":WebIO.getval({\"name\":\"index\",\"scope\":\"knockout-component-e8d4bc87-8d77-4271-8990-42b7c2513e20\",\"id\":\"ob_02\",\"type\":\"observable\"})};\n    var self = this;\n    function AppViewModel() {\n        for (var key in json_data) {\n            var el = json_data[key];\n            this[key] = Array.isArray(el) ? ko.observableArray(el) : ko.observable(el);\n        }\n        \n        [this[\"formatted_val\"]=ko.computed(    function(){\n        return this.formatted_vals()[parseInt(this.index())-1];\n    }\n,this)]\n        [this[\"changes\"].subscribe((function (val){!(this.valueFromJulia[\"changes\"]) ? (WebIO.setval({\"name\":\"changes\",\"scope\":\"knockout-component-e8d4bc87-8d77-4271-8990-42b7c2513e20\",\"id\":\"ob_03\",\"type\":\"observable\"},val)) : undefined; return this.valueFromJulia[\"changes\"]=false}),self),this[\"index\"].subscribe((function (val){!(this.valueFromJulia[\"index\"]) ? (WebIO.setval({\"name\":\"index\",\"scope\":\"knockout-component-e8d4bc87-8d77-4271-8990-42b7c2513e20\",\"id\":\"ob_02\",\"type\":\"observable\"},val)) : undefined; return this.valueFromJulia[\"index\"]=false}),self)]\n        \n    }\n    self.model = new AppViewModel();\n    self.valueFromJulia = {};\n    for (var key in json_data) {\n        self.valueFromJulia[key] = false;\n    }\n    ko.applyBindings(self.model, self.dom);\n}\n);\n    (WebIO.importBlock({\"data\":[{\"name\":\"knockout\",\"type\":\"js\",\"url\":\"/assetserver/0db2030eda8ae695ee385b177287a65d5698da81-knockout.js\"},{\"name\":\"knockout_punches\",\"type\":\"js\",\"url\":\"/assetserver/ab0f37d8318710d8b034c6f57de3dc43b8f803db-knockout_punches.js\"}],\"type\":\"async_block\"})).then((imports) => handler.apply(this, imports));\n}\n"
            ],
            "observables": {
             "changes": {
              "id": "ob_03",
              "sync": false,
              "value": 0
             },
             "index": {
              "id": "ob_02",
              "sync": true,
              "value": 13
             }
            },
            "systemjs_options": null
           },
           "nodeType": "Scope",
           "props": {},
           "type": "node"
          }
         ],
         "instanceArgs": {
          "namespace": "html",
          "tag": "div"
         },
         "nodeType": "DOM",
         "props": {
          "className": "field interact-widget"
         },
         "type": "node"
        },
        {
         "children": [
          {
           "children": [],
           "instanceArgs": {
            "id": "ob_09",
            "name": "obs-node"
           },
           "nodeType": "ObservableNode",
           "props": {},
           "type": "node"
          }
         ],
         "instanceArgs": {
          "handlers": {},
          "id": "scope-b021ecbe-9b18-4b6d-b728-59e82130e5e2",
          "imports": {
           "data": [],
           "type": "async_block"
          },
          "mount_callbacks": [],
          "observables": {
           "obs-node": {
            "id": "ob_09",
            "sync": false,
            "value": {
             "children": [
              {
               "children": [],
               "instanceArgs": {
                "namespace": "html",
                "tag": "div"
               },
               "nodeType": "DOM",
               "props": {
                "setInnerHtml": "<?xml version=\"1.0\" encoding=\"utf-8\"?>\n<svg xmlns=\"http://www.w3.org/2000/svg\" xmlns:xlink=\"http://www.w3.org/1999/xlink\" width=\"600\" height=\"400\" viewBox=\"0 0 2400 1600\">\n<defs>\n  <clipPath id=\"clip4000\">\n    <rect x=\"0\" y=\"0\" width=\"2400\" height=\"1600\"/>\n  </clipPath>\n</defs>\n<polygon clip-path=\"url(#clip4000)\" points=\"\n0,1600 2400,1600 2400,0 0,0 \n  \" fill=\"#ffffff\" fill-rule=\"evenodd\" fill-opacity=\"1\"/>\n<defs>\n  <clipPath id=\"clip4001\">\n    <rect x=\"480\" y=\"0\" width=\"1681\" height=\"1600\"/>\n  </clipPath>\n</defs>\n<polygon clip-path=\"url(#clip4000)\" points=\"\n363.188,625.619 1206.4,625.619 1206.4,47.2441 363.188,47.2441 \n  \" fill=\"#ffffff\" fill-rule=\"evenodd\" fill-opacity=\"1\"/>\n<defs>\n  <clipPath id=\"clip4002\">\n    <rect x=\"363\" y=\"47\" width=\"844\" height=\"579\"/>\n  </clipPath>\n</defs>\n<polyline clip-path=\"url(#clip4002)\" style=\"stroke:#000000; stroke-width:2; stroke-opacity:0.1; fill:none\" points=\"\n  482.51,625.619 482.51,47.2441 \n  \"/>\n<polyline clip-path=\"url(#clip4002)\" style=\"stroke:#000000; stroke-width:2; stroke-opacity:0.1; fill:none\" points=\"\n  609.788,625.619 609.788,47.2441 \n  \"/>\n<polyline clip-path=\"url(#clip4002)\" style=\"stroke:#000000; stroke-width:2; stroke-opacity:0.1; fill:none\" points=\"\n  737.065,625.619 737.065,47.2441 \n  \"/>\n<polyline clip-path=\"url(#clip4002)\" style=\"stroke:#000000; stroke-width:2; stroke-opacity:0.1; fill:none\" points=\"\n  864.343,625.619 864.343,47.2441 \n  \"/>\n<polyline clip-path=\"url(#clip4002)\" style=\"stroke:#000000; stroke-width:2; stroke-opacity:0.1; fill:none\" points=\"\n  991.62,625.619 991.62,47.2441 \n  \"/>\n<polyline clip-path=\"url(#clip4002)\" style=\"stroke:#000000; stroke-width:2; stroke-opacity:0.1; fill:none\" points=\"\n  1118.9,625.619 1118.9,47.2441 \n  \"/>\n<polyline clip-path=\"url(#clip4002)\" style=\"stroke:#000000; stroke-width:2; stroke-opacity:0.1; fill:none\" points=\"\n  363.188,625.619 1206.4,625.619 \n  \"/>\n<polyline clip-path=\"url(#clip4002)\" style=\"stroke:#000000; stroke-width:2; stroke-opacity:0.1; fill:none\" points=\"\n  363.188,432.827 1206.4,432.827 \n  \"/>\n<polyline clip-path=\"url(#clip4002)\" style=\"stroke:#000000; stroke-width:2; stroke-opacity:0.1; fill:none\" points=\"\n  363.188,240.036 1206.4,240.036 \n  \"/>\n<polyline clip-path=\"url(#clip4002)\" style=\"stroke:#000000; stroke-width:2; stroke-opacity:0.1; fill:none\" points=\"\n  363.188,47.2441 1206.4,47.2441 \n  \"/>\n<polyline clip-path=\"url(#clip4000)\" style=\"stroke:#000000; stroke-width:4; stroke-opacity:1; fill:none\" points=\"\n  363.188,625.619 1206.4,625.619 \n  \"/>\n<polyline clip-path=\"url(#clip4000)\" style=\"stroke:#000000; stroke-width:4; stroke-opacity:1; fill:none\" points=\"\n  363.188,625.619 363.188,47.2441 \n  \"/>\n<polyline clip-path=\"url(#clip4000)\" style=\"stroke:#000000; stroke-width:4; stroke-opacity:1; fill:none\" points=\"\n  482.51,625.619 482.51,616.943 \n  \"/>\n<polyline clip-path=\"url(#clip4000)\" style=\"stroke:#000000; stroke-width:4; stroke-opacity:1; fill:none\" points=\"\n  609.788,625.619 609.788,616.943 \n  \"/>\n<polyline clip-path=\"url(#clip4000)\" style=\"stroke:#000000; stroke-width:4; stroke-opacity:1; fill:none\" points=\"\n  737.065,625.619 737.065,616.943 \n  \"/>\n<polyline clip-path=\"url(#clip4000)\" style=\"stroke:#000000; stroke-width:4; stroke-opacity:1; fill:none\" points=\"\n  864.343,625.619 864.343,616.943 \n  \"/>\n<polyline clip-path=\"url(#clip4000)\" style=\"stroke:#000000; stroke-width:4; stroke-opacity:1; fill:none\" points=\"\n  991.62,625.619 991.62,616.943 \n  \"/>\n<polyline clip-path=\"url(#clip4000)\" style=\"stroke:#000000; stroke-width:4; stroke-opacity:1; fill:none\" points=\"\n  1118.9,625.619 1118.9,616.943 \n  \"/>\n<polyline clip-path=\"url(#clip4000)\" style=\"stroke:#000000; stroke-width:4; stroke-opacity:1; fill:none\" points=\"\n  363.188,625.619 375.836,625.619 \n  \"/>\n<polyline clip-path=\"url(#clip4000)\" style=\"stroke:#000000; stroke-width:4; stroke-opacity:1; fill:none\" points=\"\n  363.188,432.827 375.836,432.827 \n  \"/>\n<polyline clip-path=\"url(#clip4000)\" style=\"stroke:#000000; stroke-width:4; stroke-opacity:1; fill:none\" points=\"\n  363.188,240.036 375.836,240.036 \n  \"/>\n<polyline clip-path=\"url(#clip4000)\" style=\"stroke:#000000; stroke-width:4; stroke-opacity:1; fill:none\" points=\"\n  363.188,47.2441 375.836,47.2441 \n  \"/>\n<g clip-path=\"url(#clip4000)\">\n<text style=\"fill:#000000; fill-opacity:1; font-family:Arial,Helvetica Neue,Helvetica,sans-serif; font-size:48px; text-anchor:middle;\" transform=\"rotate(0, 482.51, 679.619)\" x=\"482.51\" y=\"679.619\">40</text>\n</g>\n<g clip-path=\"url(#clip4000)\">\n<text style=\"fill:#000000; fill-opacity:1; font-family:Arial,Helvetica Neue,Helvetica,sans-serif; font-size:48px; text-anchor:middle;\" transform=\"rotate(0, 609.788, 679.619)\" x=\"609.788\" y=\"679.619\">60</text>\n</g>\n<g clip-path=\"url(#clip4000)\">\n<text style=\"fill:#000000; fill-opacity:1; font-family:Arial,Helvetica Neue,Helvetica,sans-serif; font-size:48px; text-anchor:middle;\" transform=\"rotate(0, 737.065, 679.619)\" x=\"737.065\" y=\"679.619\">80</text>\n</g>\n<g clip-path=\"url(#clip4000)\">\n<text style=\"fill:#000000; fill-opacity:1; font-family:Arial,Helvetica Neue,Helvetica,sans-serif; font-size:48px; text-anchor:middle;\" transform=\"rotate(0, 864.343, 679.619)\" x=\"864.343\" y=\"679.619\">100</text>\n</g>\n<g clip-path=\"url(#clip4000)\">\n<text style=\"fill:#000000; fill-opacity:1; font-family:Arial,Helvetica Neue,Helvetica,sans-serif; font-size:48px; text-anchor:middle;\" transform=\"rotate(0, 991.62, 679.619)\" x=\"991.62\" y=\"679.619\">120</text>\n</g>\n<g clip-path=\"url(#clip4000)\">\n<text style=\"fill:#000000; fill-opacity:1; font-family:Arial,Helvetica Neue,Helvetica,sans-serif; font-size:48px; text-anchor:middle;\" transform=\"rotate(0, 1118.9, 679.619)\" x=\"1118.9\" y=\"679.619\">140</text>\n</g>\n<g clip-path=\"url(#clip4000)\">\n<text style=\"fill:#000000; fill-opacity:1; font-family:Arial,Helvetica Neue,Helvetica,sans-serif; font-size:48px; text-anchor:start;\" transform=\"rotate(0, 168.903, 649.346)\" x=\"168.903\" y=\"649.346\">5.0×10</text>\n</g>\n<g clip-path=\"url(#clip4000)\">\n<text style=\"fill:#000000; fill-opacity:1; font-family:Arial,Helvetica Neue,Helvetica,sans-serif; font-size:38px; text-anchor:start;\" transform=\"rotate(0, 317.443, 621.936)\" x=\"317.443\" y=\"621.936\">4</text>\n</g>\n<g clip-path=\"url(#clip4000)\">\n<text style=\"fill:#000000; fill-opacity:1; font-family:Arial,Helvetica Neue,Helvetica,sans-serif; font-size:48px; text-anchor:start;\" transform=\"rotate(0, 168.903, 456.555)\" x=\"168.903\" y=\"456.555\">1.0×10</text>\n</g>\n<g clip-path=\"url(#clip4000)\">\n<text style=\"fill:#000000; fill-opacity:1; font-family:Arial,Helvetica Neue,Helvetica,sans-serif; font-size:38px; text-anchor:start;\" transform=\"rotate(0, 317.443, 429.144)\" x=\"317.443\" y=\"429.144\">5</text>\n</g>\n<g clip-path=\"url(#clip4000)\">\n<text style=\"fill:#000000; fill-opacity:1; font-family:Arial,Helvetica Neue,Helvetica,sans-serif; font-size:48px; text-anchor:start;\" transform=\"rotate(0, 168.903, 263.763)\" x=\"168.903\" y=\"263.763\">1.5×10</text>\n</g>\n<g clip-path=\"url(#clip4000)\">\n<text style=\"fill:#000000; fill-opacity:1; font-family:Arial,Helvetica Neue,Helvetica,sans-serif; font-size:38px; text-anchor:start;\" transform=\"rotate(0, 317.443, 236.353)\" x=\"317.443\" y=\"236.353\">5</text>\n</g>\n<g clip-path=\"url(#clip4000)\">\n<text style=\"fill:#000000; fill-opacity:1; font-family:Arial,Helvetica Neue,Helvetica,sans-serif; font-size:48px; text-anchor:start;\" transform=\"rotate(0, 168.903, 70.9717)\" x=\"168.903\" y=\"70.9717\">2.0×10</text>\n</g>\n<g clip-path=\"url(#clip4000)\">\n<text style=\"fill:#000000; fill-opacity:1; font-family:Arial,Helvetica Neue,Helvetica,sans-serif; font-size:38px; text-anchor:start;\" transform=\"rotate(0, 317.443, 43.5613)\" x=\"317.443\" y=\"43.5613\">5</text>\n</g>\n<g clip-path=\"url(#clip4000)\">\n<text style=\"fill:#000000; fill-opacity:1; font-family:Arial,Helvetica Neue,Helvetica,sans-serif; font-size:66px; text-anchor:middle;\" transform=\"rotate(0, 784.794, 759.48)\" x=\"784.794\" y=\"759.48\">Cost of G1</text>\n</g>\n<g clip-path=\"url(#clip4000)\">\n<text style=\"fill:#000000; fill-opacity:1; font-family:Arial,Helvetica Neue,Helvetica,sans-serif; font-size:66px; text-anchor:middle;\" transform=\"rotate(-90, 89.2861, 336.431)\" x=\"89.2861\" y=\"336.431\">Total cost</text>\n</g>\n<polyline clip-path=\"url(#clip4002)\" style=\"stroke:#009af9; stroke-width:4; stroke-opacity:1; fill:none\" points=\"\n  387.052,529.223 390.234,527.295 393.416,525.367 396.598,523.439 399.78,521.511 402.962,519.583 406.144,517.655 409.326,515.727 412.508,513.8 415.69,511.872 \n  418.872,509.944 422.053,508.016 425.235,506.088 428.417,504.16 431.599,502.232 434.781,500.304 437.963,498.376 441.145,496.448 444.327,494.52 447.509,492.592 \n  450.691,490.665 453.873,488.737 457.055,486.809 460.237,484.881 463.419,482.953 466.601,481.025 469.783,479.097 472.964,477.169 476.146,475.241 479.328,473.313 \n  482.51,471.385 485.692,469.457 488.874,467.53 492.056,465.602 495.238,463.674 498.42,461.746 501.602,459.818 504.784,457.89 507.966,455.962 511.148,454.034 \n  514.33,452.106 517.512,450.178 520.694,448.25 523.875,446.323 527.057,444.395 530.239,442.467 533.421,440.539 536.603,438.611 539.785,436.683 542.967,434.755 \n  546.149,432.827 549.331,430.899 552.513,428.971 555.695,427.043 558.877,425.115 562.059,423.188 565.241,421.26 568.423,419.332 571.604,417.404 574.786,415.476 \n  577.968,413.548 581.15,411.62 584.332,409.692 587.514,407.764 590.696,405.836 593.878,403.908 597.06,401.98 600.242,400.053 603.424,398.125 606.606,396.197 \n  609.788,394.269 612.97,392.341 616.152,390.413 619.334,388.485 622.515,386.557 625.697,384.629 628.879,382.701 632.061,380.773 635.243,378.845 638.425,376.918 \n  641.607,374.99 644.789,373.062 647.971,371.134 651.153,369.206 654.335,367.278 657.517,365.35 660.699,363.422 663.881,361.494 667.063,359.566 670.245,357.638 \n  673.426,355.711 676.608,353.783 679.79,351.855 682.972,349.927 686.154,347.999 689.336,346.071 692.518,344.143 695.7,342.215 698.882,340.287 702.064,338.359 \n  705.246,336.431 708.428,334.503 711.61,332.576 714.792,330.648 717.974,328.72 721.156,326.792 724.337,324.864 727.519,322.936 730.701,321.008 733.883,319.08 \n  737.065,317.152 740.247,315.224 743.429,313.296 746.611,311.368 749.793,309.441 752.975,307.513 756.157,305.585 759.339,303.657 762.521,301.729 765.703,299.801 \n  768.885,297.873 772.067,295.945 775.248,294.017 778.43,292.089 781.612,290.161 784.794,288.233 787.976,286.306 791.158,284.378 794.34,282.45 797.522,280.522 \n  800.704,278.594 803.886,276.666 807.068,274.738 810.25,272.81 813.432,270.882 816.614,268.954 819.796,267.026 822.978,265.098 826.159,263.171 829.341,261.243 \n  832.523,259.315 835.705,257.387 838.887,255.459 842.069,253.531 845.251,251.603 848.433,249.675 851.615,247.747 854.797,245.819 857.979,243.891 861.161,241.964 \n  864.343,240.036 867.525,239.072 870.707,238.108 873.889,237.144 877.07,236.18 880.252,235.216 883.434,234.252 886.616,233.288 889.798,232.324 892.98,231.36 \n  896.162,230.396 899.344,229.432 902.526,228.468 905.708,227.504 908.89,226.54 912.072,225.576 915.254,224.612 918.436,223.648 921.618,222.684 924.799,221.72 \n  927.981,220.756 931.163,220.178 934.345,219.6 937.527,219.021 940.709,218.443 943.891,217.865 947.073,217.286 950.255,216.708 953.437,216.129 956.619,215.551 \n  959.801,214.973 962.983,214.394 966.165,213.816 969.347,213.238 972.529,212.659 975.71,212.081 978.892,211.502 982.074,210.924 985.256,210.346 988.438,209.767 \n  991.62,209.189 994.802,208.611 997.984,208.032 1001.17,207.454 1004.35,206.875 1007.53,206.297 1010.71,205.719 1013.89,205.14 1017.08,204.562 1020.26,203.984 \n  1023.44,203.405 1026.62,202.827 1029.8,202.248 1032.99,201.67 1036.17,201.092 1039.35,200.513 1042.53,199.935 1045.71,199.357 1048.9,198.778 1052.08,198.2 \n  1055.26,197.621 1058.44,197.043 1061.62,196.465 1064.8,195.886 1067.99,195.308 1071.17,194.73 1074.35,194.151 1077.53,193.573 1080.71,192.994 1083.9,192.416 \n  1087.08,191.838 1090.26,191.259 1093.44,190.681 1096.62,190.103 1099.81,189.524 1102.99,188.946 1106.17,188.367 1109.35,187.789 1112.53,187.211 1115.72,186.632 \n  1118.9,186.054 1122.08,185.476 1125.26,184.897 1128.44,184.319 1131.63,183.74 1134.81,183.162 1137.99,182.584 1141.17,182.005 1144.35,181.427 1147.54,180.849 \n  1150.72,180.27 1153.9,179.692 1157.08,179.113 1160.26,178.535 1163.44,177.957 1166.63,177.378 1169.81,176.8 1172.99,176.222 1176.17,175.643 1179.35,175.065 \n  1182.54,174.486 \n  \"/>\n<polygon clip-path=\"url(#clip4000)\" points=\"\n1509.54,625.619 2352.76,625.619 2352.76,47.2441 1509.54,47.2441 \n  \" fill=\"#ffffff\" fill-rule=\"evenodd\" fill-opacity=\"1\"/>\n<defs>\n  <clipPath id=\"clip4003\">\n    <rect x=\"1509\" y=\"47\" width=\"844\" height=\"579\"/>\n  </clipPath>\n</defs>\n<polyline clip-path=\"url(#clip4003)\" style=\"stroke:#000000; stroke-width:2; stroke-opacity:0.1; fill:none\" points=\"\n  1628.87,625.619 1628.87,47.2441 \n  \"/>\n<polyline clip-path=\"url(#clip4003)\" style=\"stroke:#000000; stroke-width:2; stroke-opacity:0.1; fill:none\" points=\"\n  1756.14,625.619 1756.14,47.2441 \n  \"/>\n<polyline clip-path=\"url(#clip4003)\" style=\"stroke:#000000; stroke-width:2; stroke-opacity:0.1; fill:none\" points=\"\n  1883.42,625.619 1883.42,47.2441 \n  \"/>\n<polyline clip-path=\"url(#clip4003)\" style=\"stroke:#000000; stroke-width:2; stroke-opacity:0.1; fill:none\" points=\"\n  2010.7,625.619 2010.7,47.2441 \n  \"/>\n<polyline clip-path=\"url(#clip4003)\" style=\"stroke:#000000; stroke-width:2; stroke-opacity:0.1; fill:none\" points=\"\n  2137.98,625.619 2137.98,47.2441 \n  \"/>\n<polyline clip-path=\"url(#clip4003)\" style=\"stroke:#000000; stroke-width:2; stroke-opacity:0.1; fill:none\" points=\"\n  2265.25,625.619 2265.25,47.2441 \n  \"/>\n<polyline clip-path=\"url(#clip4003)\" style=\"stroke:#000000; stroke-width:2; stroke-opacity:0.1; fill:none\" points=\"\n  1509.54,625.619 2352.76,625.619 \n  \"/>\n<polyline clip-path=\"url(#clip4003)\" style=\"stroke:#000000; stroke-width:2; stroke-opacity:0.1; fill:none\" points=\"\n  1509.54,494.17 2352.76,494.17 \n  \"/>\n<polyline clip-path=\"url(#clip4003)\" style=\"stroke:#000000; stroke-width:2; stroke-opacity:0.1; fill:none\" points=\"\n  1509.54,362.721 2352.76,362.721 \n  \"/>\n<polyline clip-path=\"url(#clip4003)\" style=\"stroke:#000000; stroke-width:2; stroke-opacity:0.1; fill:none\" points=\"\n  1509.54,231.272 2352.76,231.272 \n  \"/>\n<polyline clip-path=\"url(#clip4003)\" style=\"stroke:#000000; stroke-width:2; stroke-opacity:0.1; fill:none\" points=\"\n  1509.54,99.8236 2352.76,99.8236 \n  \"/>\n<polyline clip-path=\"url(#clip4000)\" style=\"stroke:#000000; stroke-width:4; stroke-opacity:1; fill:none\" points=\"\n  1509.54,625.619 2352.76,625.619 \n  \"/>\n<polyline clip-path=\"url(#clip4000)\" style=\"stroke:#000000; stroke-width:4; stroke-opacity:1; fill:none\" points=\"\n  1509.54,625.619 1509.54,47.2441 \n  \"/>\n<polyline clip-path=\"url(#clip4000)\" style=\"stroke:#000000; stroke-width:4; stroke-opacity:1; fill:none\" points=\"\n  1628.87,625.619 1628.87,616.943 \n  \"/>\n<polyline clip-path=\"url(#clip4000)\" style=\"stroke:#000000; stroke-width:4; stroke-opacity:1; fill:none\" points=\"\n  1756.14,625.619 1756.14,616.943 \n  \"/>\n<polyline clip-path=\"url(#clip4000)\" style=\"stroke:#000000; stroke-width:4; stroke-opacity:1; fill:none\" points=\"\n  1883.42,625.619 1883.42,616.943 \n  \"/>\n<polyline clip-path=\"url(#clip4000)\" style=\"stroke:#000000; stroke-width:4; stroke-opacity:1; fill:none\" points=\"\n  2010.7,625.619 2010.7,616.943 \n  \"/>\n<polyline clip-path=\"url(#clip4000)\" style=\"stroke:#000000; stroke-width:4; stroke-opacity:1; fill:none\" points=\"\n  2137.98,625.619 2137.98,616.943 \n  \"/>\n<polyline clip-path=\"url(#clip4000)\" style=\"stroke:#000000; stroke-width:4; stroke-opacity:1; fill:none\" points=\"\n  2265.25,625.619 2265.25,616.943 \n  \"/>\n<polyline clip-path=\"url(#clip4000)\" style=\"stroke:#000000; stroke-width:4; stroke-opacity:1; fill:none\" points=\"\n  1509.54,625.619 1522.19,625.619 \n  \"/>\n<polyline clip-path=\"url(#clip4000)\" style=\"stroke:#000000; stroke-width:4; stroke-opacity:1; fill:none\" points=\"\n  1509.54,494.17 1522.19,494.17 \n  \"/>\n<polyline clip-path=\"url(#clip4000)\" style=\"stroke:#000000; stroke-width:4; stroke-opacity:1; fill:none\" points=\"\n  1509.54,362.721 1522.19,362.721 \n  \"/>\n<polyline clip-path=\"url(#clip4000)\" style=\"stroke:#000000; stroke-width:4; stroke-opacity:1; fill:none\" points=\"\n  1509.54,231.272 1522.19,231.272 \n  \"/>\n<polyline clip-path=\"url(#clip4000)\" style=\"stroke:#000000; stroke-width:4; stroke-opacity:1; fill:none\" points=\"\n  1509.54,99.8236 1522.19,99.8236 \n  \"/>\n<g clip-path=\"url(#clip4000)\">\n<text style=\"fill:#000000; fill-opacity:1; font-family:Arial,Helvetica Neue,Helvetica,sans-serif; font-size:48px; text-anchor:middle;\" transform=\"rotate(0, 1628.87, 679.619)\" x=\"1628.87\" y=\"679.619\">40</text>\n</g>\n<g clip-path=\"url(#clip4000)\">\n<text style=\"fill:#000000; fill-opacity:1; font-family:Arial,Helvetica Neue,Helvetica,sans-serif; font-size:48px; text-anchor:middle;\" transform=\"rotate(0, 1756.14, 679.619)\" x=\"1756.14\" y=\"679.619\">60</text>\n</g>\n<g clip-path=\"url(#clip4000)\">\n<text style=\"fill:#000000; fill-opacity:1; font-family:Arial,Helvetica Neue,Helvetica,sans-serif; font-size:48px; text-anchor:middle;\" transform=\"rotate(0, 1883.42, 679.619)\" x=\"1883.42\" y=\"679.619\">80</text>\n</g>\n<g clip-path=\"url(#clip4000)\">\n<text style=\"fill:#000000; fill-opacity:1; font-family:Arial,Helvetica Neue,Helvetica,sans-serif; font-size:48px; text-anchor:middle;\" transform=\"rotate(0, 2010.7, 679.619)\" x=\"2010.7\" y=\"679.619\">100</text>\n</g>\n<g clip-path=\"url(#clip4000)\">\n<text style=\"fill:#000000; fill-opacity:1; font-family:Arial,Helvetica Neue,Helvetica,sans-serif; font-size:48px; text-anchor:middle;\" transform=\"rotate(0, 2137.98, 679.619)\" x=\"2137.98\" y=\"679.619\">120</text>\n</g>\n<g clip-path=\"url(#clip4000)\">\n<text style=\"fill:#000000; fill-opacity:1; font-family:Arial,Helvetica Neue,Helvetica,sans-serif; font-size:48px; text-anchor:middle;\" transform=\"rotate(0, 2265.25, 679.619)\" x=\"2265.25\" y=\"679.619\">140</text>\n</g>\n<g clip-path=\"url(#clip4000)\">\n<text style=\"fill:#000000; fill-opacity:1; font-family:Arial,Helvetica Neue,Helvetica,sans-serif; font-size:48px; text-anchor:end;\" transform=\"rotate(0, 1485.54, 643.119)\" x=\"1485.54\" y=\"643.119\">0</text>\n</g>\n<g clip-path=\"url(#clip4000)\">\n<text style=\"fill:#000000; fill-opacity:1; font-family:Arial,Helvetica Neue,Helvetica,sans-serif; font-size:48px; text-anchor:end;\" transform=\"rotate(0, 1485.54, 511.67)\" x=\"1485.54\" y=\"511.67\">250</text>\n</g>\n<g clip-path=\"url(#clip4000)\">\n<text style=\"fill:#000000; fill-opacity:1; font-family:Arial,Helvetica Neue,Helvetica,sans-serif; font-size:48px; text-anchor:end;\" transform=\"rotate(0, 1485.54, 380.221)\" x=\"1485.54\" y=\"380.221\">500</text>\n</g>\n<g clip-path=\"url(#clip4000)\">\n<text style=\"fill:#000000; fill-opacity:1; font-family:Arial,Helvetica Neue,Helvetica,sans-serif; font-size:48px; text-anchor:end;\" transform=\"rotate(0, 1485.54, 248.772)\" x=\"1485.54\" y=\"248.772\">750</text>\n</g>\n<g clip-path=\"url(#clip4000)\">\n<text style=\"fill:#000000; fill-opacity:1; font-family:Arial,Helvetica Neue,Helvetica,sans-serif; font-size:48px; text-anchor:end;\" transform=\"rotate(0, 1485.54, 117.324)\" x=\"1485.54\" y=\"117.324\">1000</text>\n</g>\n<g clip-path=\"url(#clip4000)\">\n<text style=\"fill:#000000; fill-opacity:1; font-family:Arial,Helvetica Neue,Helvetica,sans-serif; font-size:66px; text-anchor:middle;\" transform=\"rotate(0, 1931.15, 759.48)\" x=\"1931.15\" y=\"759.48\">Cost of G1</text>\n</g>\n<g clip-path=\"url(#clip4000)\">\n<text style=\"fill:#000000; fill-opacity:1; font-family:Arial,Helvetica Neue,Helvetica,sans-serif; font-size:66px; text-anchor:middle;\" transform=\"rotate(-90, 1342.93, 336.431)\" x=\"1342.93\" y=\"336.431\">Dispatch: G1</text>\n</g>\n<polyline clip-path=\"url(#clip4003)\" style=\"stroke:#009af9; stroke-width:4; stroke-opacity:1; fill:none\" points=\"\n  1533.41,99.8236 1536.59,99.8236 1539.77,99.8236 1542.95,99.8236 1546.13,99.8236 1549.32,99.8236 1552.5,99.8236 1555.68,99.8236 1558.86,99.8236 1562.04,99.8236 \n  1565.23,99.8236 1568.41,99.8236 1571.59,99.8236 1574.77,99.8236 1577.95,99.8236 1581.14,99.8236 1584.32,99.8236 1587.5,99.8236 1590.68,99.8236 1593.86,99.8236 \n  1597.05,99.8236 1600.23,99.8236 1603.41,99.8236 1606.59,99.8236 1609.77,99.8236 1612.96,99.8236 1616.14,99.8236 1619.32,99.8236 1622.5,99.8236 1625.68,99.8236 \n  1628.87,99.8236 1632.05,99.8236 1635.23,99.8236 1638.41,99.8236 1641.59,99.8236 1644.77,99.8236 1647.96,99.8236 1651.14,99.8236 1654.32,99.8236 1657.5,99.8236 \n  1660.68,99.8236 1663.87,99.8236 1667.05,99.8236 1670.23,99.8236 1673.41,99.8236 1676.59,99.8236 1679.78,99.8236 1682.96,99.8236 1686.14,99.8236 1689.32,99.8236 \n  1692.5,99.8236 1695.69,99.8236 1698.87,99.8236 1702.05,99.8236 1705.23,99.8236 1708.41,99.8236 1711.6,99.8236 1714.78,99.8236 1717.96,99.8236 1721.14,99.8236 \n  1724.32,99.8236 1727.51,99.8236 1730.69,99.8236 1733.87,99.8236 1737.05,99.8236 1740.23,99.8236 1743.41,99.8236 1746.6,99.8236 1749.78,99.8236 1752.96,99.8236 \n  1756.14,99.8236 1759.32,99.8236 1762.51,99.8236 1765.69,99.8236 1768.87,99.8236 1772.05,99.8236 1775.23,99.8236 1778.42,99.8236 1781.6,99.8236 1784.78,99.8236 \n  1787.96,99.8236 1791.14,99.8236 1794.33,99.8236 1797.51,99.8236 1800.69,99.8236 1803.87,99.8236 1807.05,99.8236 1810.24,99.8236 1813.42,99.8236 1816.6,99.8236 \n  1819.78,99.8236 1822.96,99.8236 1826.15,99.8236 1829.33,99.8236 1832.51,99.8236 1835.69,99.8236 1838.87,99.8236 1842.06,99.8236 1845.24,99.8236 1848.42,99.8236 \n  1851.6,99.8236 1854.78,99.8236 1857.96,99.8236 1861.15,99.8236 1864.33,99.8236 1867.51,99.8236 1870.69,99.8236 1873.87,99.8236 1877.06,99.8236 1880.24,99.8236 \n  1883.42,99.8236 1886.6,99.8236 1889.78,99.8236 1892.97,99.8236 1896.15,99.8236 1899.33,99.8236 1902.51,99.8236 1905.69,99.8236 1908.88,99.8236 1912.06,99.8236 \n  1915.24,99.8236 1918.42,99.8236 1921.6,99.8236 1924.79,99.8236 1927.97,99.8236 1931.15,99.8236 1934.33,99.8236 1937.51,99.8236 1940.7,99.8236 1943.88,99.8236 \n  1947.06,99.8236 1950.24,99.8236 1953.42,99.8236 1956.6,99.8236 1959.79,99.8236 1962.97,99.8236 1966.15,99.8236 1969.33,99.8236 1972.51,99.8236 1975.7,99.8236 \n  1978.88,99.8236 1982.06,99.8236 1985.24,99.8236 1988.42,99.8236 1991.61,99.8236 1994.79,99.8236 1997.97,99.8236 2001.15,99.8236 2004.33,99.8236 2007.52,99.8236 \n  2010.7,99.8236 2013.88,362.721 2017.06,362.721 2020.24,362.721 2023.43,362.721 2026.61,362.721 2029.79,362.721 2032.97,362.721 2036.15,362.721 2039.34,362.721 \n  2042.52,362.721 2045.7,362.721 2048.88,362.721 2052.06,362.721 2055.24,362.721 2058.43,362.721 2061.61,362.721 2064.79,362.721 2067.97,362.721 2071.15,362.721 \n  2074.34,362.721 2077.52,467.88 2080.7,467.88 2083.88,467.88 2087.06,467.88 2090.25,467.88 2093.43,467.88 2096.61,467.88 2099.79,467.88 2102.97,467.88 \n  2106.16,467.88 2109.34,467.88 2112.52,467.88 2115.7,467.88 2118.88,467.88 2122.07,467.88 2125.25,467.88 2128.43,467.88 2131.61,467.88 2134.79,467.88 \n  2137.98,467.88 2141.16,467.88 2144.34,467.88 2147.52,467.88 2150.7,467.88 2153.88,467.88 2157.07,467.88 2160.25,467.88 2163.43,467.88 2166.61,467.88 \n  2169.79,467.88 2172.98,467.88 2176.16,467.88 2179.34,467.88 2182.52,467.88 2185.7,467.88 2188.89,467.88 2192.07,467.88 2195.25,467.88 2198.43,467.88 \n  2201.61,467.88 2204.8,467.88 2207.98,467.88 2211.16,467.88 2214.34,467.88 2217.52,467.88 2220.71,467.88 2223.89,467.88 2227.07,467.88 2230.25,467.88 \n  2233.43,467.88 2236.62,467.88 2239.8,467.88 2242.98,467.88 2246.16,467.88 2249.34,467.88 2252.52,467.88 2255.71,467.88 2258.89,467.88 2262.07,467.88 \n  2265.25,467.88 2268.43,467.88 2271.62,467.88 2274.8,467.88 2277.98,467.88 2281.16,467.88 2284.34,467.88 2287.53,467.88 2290.71,467.88 2293.89,467.88 \n  2297.07,467.88 2300.25,467.88 2303.44,467.88 2306.62,467.88 2309.8,467.88 2312.98,467.88 2316.16,467.88 2319.35,467.88 2322.53,467.88 2325.71,467.88 \n  2328.89,467.88 \n  \"/>\n<polygon clip-path=\"url(#clip4000)\" points=\"\n363.188,1425.62 1206.4,1425.62 1206.4,847.244 363.188,847.244 \n  \" fill=\"#ffffff\" fill-rule=\"evenodd\" fill-opacity=\"1\"/>\n<defs>\n  <clipPath id=\"clip4004\">\n    <rect x=\"363\" y=\"847\" width=\"844\" height=\"579\"/>\n  </clipPath>\n</defs>\n<polyline clip-path=\"url(#clip4004)\" style=\"stroke:#000000; stroke-width:2; stroke-opacity:0.1; fill:none\" points=\"\n  482.51,1425.62 482.51,847.244 \n  \"/>\n<polyline clip-path=\"url(#clip4004)\" style=\"stroke:#000000; stroke-width:2; stroke-opacity:0.1; fill:none\" points=\"\n  609.788,1425.62 609.788,847.244 \n  \"/>\n<polyline clip-path=\"url(#clip4004)\" style=\"stroke:#000000; stroke-width:2; stroke-opacity:0.1; fill:none\" points=\"\n  737.065,1425.62 737.065,847.244 \n  \"/>\n<polyline clip-path=\"url(#clip4004)\" style=\"stroke:#000000; stroke-width:2; stroke-opacity:0.1; fill:none\" points=\"\n  864.343,1425.62 864.343,847.244 \n  \"/>\n<polyline clip-path=\"url(#clip4004)\" style=\"stroke:#000000; stroke-width:2; stroke-opacity:0.1; fill:none\" points=\"\n  991.62,1425.62 991.62,847.244 \n  \"/>\n<polyline clip-path=\"url(#clip4004)\" style=\"stroke:#000000; stroke-width:2; stroke-opacity:0.1; fill:none\" points=\"\n  1118.9,1425.62 1118.9,847.244 \n  \"/>\n<polyline clip-path=\"url(#clip4004)\" style=\"stroke:#000000; stroke-width:2; stroke-opacity:0.1; fill:none\" points=\"\n  363.188,1425.62 1206.4,1425.62 \n  \"/>\n<polyline clip-path=\"url(#clip4004)\" style=\"stroke:#000000; stroke-width:2; stroke-opacity:0.1; fill:none\" points=\"\n  363.188,1244.88 1206.4,1244.88 \n  \"/>\n<polyline clip-path=\"url(#clip4004)\" style=\"stroke:#000000; stroke-width:2; stroke-opacity:0.1; fill:none\" points=\"\n  363.188,1064.13 1206.4,1064.13 \n  \"/>\n<polyline clip-path=\"url(#clip4004)\" style=\"stroke:#000000; stroke-width:2; stroke-opacity:0.1; fill:none\" points=\"\n  363.188,883.393 1206.4,883.393 \n  \"/>\n<polyline clip-path=\"url(#clip4000)\" style=\"stroke:#000000; stroke-width:4; stroke-opacity:1; fill:none\" points=\"\n  363.188,1425.62 1206.4,1425.62 \n  \"/>\n<polyline clip-path=\"url(#clip4000)\" style=\"stroke:#000000; stroke-width:4; stroke-opacity:1; fill:none\" points=\"\n  363.188,1425.62 363.188,847.244 \n  \"/>\n<polyline clip-path=\"url(#clip4000)\" style=\"stroke:#000000; stroke-width:4; stroke-opacity:1; fill:none\" points=\"\n  482.51,1425.62 482.51,1416.94 \n  \"/>\n<polyline clip-path=\"url(#clip4000)\" style=\"stroke:#000000; stroke-width:4; stroke-opacity:1; fill:none\" points=\"\n  609.788,1425.62 609.788,1416.94 \n  \"/>\n<polyline clip-path=\"url(#clip4000)\" style=\"stroke:#000000; stroke-width:4; stroke-opacity:1; fill:none\" points=\"\n  737.065,1425.62 737.065,1416.94 \n  \"/>\n<polyline clip-path=\"url(#clip4000)\" style=\"stroke:#000000; stroke-width:4; stroke-opacity:1; fill:none\" points=\"\n  864.343,1425.62 864.343,1416.94 \n  \"/>\n<polyline clip-path=\"url(#clip4000)\" style=\"stroke:#000000; stroke-width:4; stroke-opacity:1; fill:none\" points=\"\n  991.62,1425.62 991.62,1416.94 \n  \"/>\n<polyline clip-path=\"url(#clip4000)\" style=\"stroke:#000000; stroke-width:4; stroke-opacity:1; fill:none\" points=\"\n  1118.9,1425.62 1118.9,1416.94 \n  \"/>\n<polyline clip-path=\"url(#clip4000)\" style=\"stroke:#000000; stroke-width:4; stroke-opacity:1; fill:none\" points=\"\n  363.188,1425.62 375.836,1425.62 \n  \"/>\n<polyline clip-path=\"url(#clip4000)\" style=\"stroke:#000000; stroke-width:4; stroke-opacity:1; fill:none\" points=\"\n  363.188,1244.88 375.836,1244.88 \n  \"/>\n<polyline clip-path=\"url(#clip4000)\" style=\"stroke:#000000; stroke-width:4; stroke-opacity:1; fill:none\" points=\"\n  363.188,1064.13 375.836,1064.13 \n  \"/>\n<polyline clip-path=\"url(#clip4000)\" style=\"stroke:#000000; stroke-width:4; stroke-opacity:1; fill:none\" points=\"\n  363.188,883.393 375.836,883.393 \n  \"/>\n<g clip-path=\"url(#clip4000)\">\n<text style=\"fill:#000000; fill-opacity:1; font-family:Arial,Helvetica Neue,Helvetica,sans-serif; font-size:48px; text-anchor:middle;\" transform=\"rotate(0, 482.51, 1479.62)\" x=\"482.51\" y=\"1479.62\">40</text>\n</g>\n<g clip-path=\"url(#clip4000)\">\n<text style=\"fill:#000000; fill-opacity:1; font-family:Arial,Helvetica Neue,Helvetica,sans-serif; font-size:48px; text-anchor:middle;\" transform=\"rotate(0, 609.788, 1479.62)\" x=\"609.788\" y=\"1479.62\">60</text>\n</g>\n<g clip-path=\"url(#clip4000)\">\n<text style=\"fill:#000000; fill-opacity:1; font-family:Arial,Helvetica Neue,Helvetica,sans-serif; font-size:48px; text-anchor:middle;\" transform=\"rotate(0, 737.065, 1479.62)\" x=\"737.065\" y=\"1479.62\">80</text>\n</g>\n<g clip-path=\"url(#clip4000)\">\n<text style=\"fill:#000000; fill-opacity:1; font-family:Arial,Helvetica Neue,Helvetica,sans-serif; font-size:48px; text-anchor:middle;\" transform=\"rotate(0, 864.343, 1479.62)\" x=\"864.343\" y=\"1479.62\">100</text>\n</g>\n<g clip-path=\"url(#clip4000)\">\n<text style=\"fill:#000000; fill-opacity:1; font-family:Arial,Helvetica Neue,Helvetica,sans-serif; font-size:48px; text-anchor:middle;\" transform=\"rotate(0, 991.62, 1479.62)\" x=\"991.62\" y=\"1479.62\">120</text>\n</g>\n<g clip-path=\"url(#clip4000)\">\n<text style=\"fill:#000000; fill-opacity:1; font-family:Arial,Helvetica Neue,Helvetica,sans-serif; font-size:48px; text-anchor:middle;\" transform=\"rotate(0, 1118.9, 1479.62)\" x=\"1118.9\" y=\"1479.62\">140</text>\n</g>\n<g clip-path=\"url(#clip4000)\">\n<text style=\"fill:#000000; fill-opacity:1; font-family:Arial,Helvetica Neue,Helvetica,sans-serif; font-size:48px; text-anchor:end;\" transform=\"rotate(0, 339.188, 1443.12)\" x=\"339.188\" y=\"1443.12\">0</text>\n</g>\n<g clip-path=\"url(#clip4000)\">\n<text style=\"fill:#000000; fill-opacity:1; font-family:Arial,Helvetica Neue,Helvetica,sans-serif; font-size:48px; text-anchor:end;\" transform=\"rotate(0, 339.188, 1262.38)\" x=\"339.188\" y=\"1262.38\">500</text>\n</g>\n<g clip-path=\"url(#clip4000)\">\n<text style=\"fill:#000000; fill-opacity:1; font-family:Arial,Helvetica Neue,Helvetica,sans-serif; font-size:48px; text-anchor:end;\" transform=\"rotate(0, 339.188, 1081.63)\" x=\"339.188\" y=\"1081.63\">1000</text>\n</g>\n<g clip-path=\"url(#clip4000)\">\n<text style=\"fill:#000000; fill-opacity:1; font-family:Arial,Helvetica Neue,Helvetica,sans-serif; font-size:48px; text-anchor:end;\" transform=\"rotate(0, 339.188, 900.893)\" x=\"339.188\" y=\"900.893\">1500</text>\n</g>\n<g clip-path=\"url(#clip4000)\">\n<text style=\"fill:#000000; fill-opacity:1; font-family:Arial,Helvetica Neue,Helvetica,sans-serif; font-size:66px; text-anchor:middle;\" transform=\"rotate(0, 784.794, 1559.48)\" x=\"784.794\" y=\"1559.48\">Cost of G1</text>\n</g>\n<g clip-path=\"url(#clip4000)\">\n<text style=\"fill:#000000; fill-opacity:1; font-family:Arial,Helvetica Neue,Helvetica,sans-serif; font-size:66px; text-anchor:middle;\" transform=\"rotate(-90, 196.576, 1136.43)\" x=\"196.576\" y=\"1136.43\">Dispatch: G2</text>\n</g>\n<polyline clip-path=\"url(#clip4004)\" style=\"stroke:#009af9; stroke-width:4; stroke-opacity:1; fill:none\" points=\"\n  387.052,1244.88 390.234,1244.88 393.416,1244.88 396.598,1244.88 399.78,1244.88 402.962,1244.88 406.144,1244.88 409.326,1244.88 412.508,1244.88 415.69,1244.88 \n  418.872,1244.88 422.053,1244.88 425.235,1244.88 428.417,1244.88 431.599,1244.88 434.781,1244.88 437.963,1244.88 441.145,1244.88 444.327,1244.88 447.509,1244.88 \n  450.691,1244.88 453.873,1244.88 457.055,1244.88 460.237,1244.88 463.419,1244.88 466.601,1244.88 469.783,1244.88 472.964,1244.88 476.146,1244.88 479.328,1244.88 \n  482.51,1244.88 485.692,1244.88 488.874,1244.88 492.056,1244.88 495.238,1244.88 498.42,1244.88 501.602,1244.88 504.784,1244.88 507.966,1244.88 511.148,1244.88 \n  514.33,1244.88 517.512,1244.88 520.694,1244.88 523.875,1244.88 527.057,1244.88 530.239,1244.88 533.421,1244.88 536.603,1244.88 539.785,1244.88 542.967,1244.88 \n  546.149,1244.88 549.331,1244.88 552.513,1244.88 555.695,1244.88 558.877,1244.88 562.059,1244.88 565.241,1244.88 568.423,1244.88 571.604,1244.88 574.786,1244.88 \n  577.968,1244.88 581.15,1244.88 584.332,1244.88 587.514,1244.88 590.696,1244.88 593.878,1244.88 597.06,1244.88 600.242,1244.88 603.424,1244.88 606.606,1244.88 \n  609.788,1244.88 612.97,1244.88 616.152,1244.88 619.334,1244.88 622.515,1244.88 625.697,1244.88 628.879,1244.88 632.061,1244.88 635.243,1244.88 638.425,1244.88 \n  641.607,1244.88 644.789,1244.88 647.971,1244.88 651.153,1244.88 654.335,1244.88 657.517,1244.88 660.699,1244.88 663.881,1244.88 667.063,1244.88 670.245,1244.88 \n  673.426,1244.88 676.608,1244.88 679.79,1244.88 682.972,1244.88 686.154,1244.88 689.336,1244.88 692.518,1244.88 695.7,1244.88 698.882,1244.88 702.064,1244.88 \n  705.246,1244.88 708.428,1244.88 711.61,1244.88 714.792,1244.88 717.974,1244.88 721.156,1244.88 724.337,1244.88 727.519,1244.88 730.701,1244.88 733.883,1244.88 \n  737.065,1244.88 740.247,1244.88 743.429,1244.88 746.611,1244.88 749.793,1244.88 752.975,1244.88 756.157,1244.88 759.339,1244.88 762.521,1244.88 765.703,1244.88 \n  768.885,1244.88 772.067,1244.88 775.248,1244.88 778.43,1244.88 781.612,1244.88 784.794,1244.88 787.976,1244.88 791.158,1244.88 794.34,1244.88 797.522,1244.88 \n  800.704,1244.88 803.886,1244.88 807.068,1244.88 810.25,1244.88 813.432,1244.88 816.614,1244.88 819.796,1244.88 822.978,1244.88 826.159,1244.88 829.341,1244.88 \n  832.523,1244.88 835.705,1244.88 838.887,1244.88 842.069,1244.88 845.251,1244.88 848.433,1244.88 851.615,1244.88 854.797,1244.88 857.979,1244.88 861.161,1244.88 \n  864.343,1244.88 867.525,1064.13 870.707,1064.13 873.889,1064.13 877.07,1064.13 880.252,1064.13 883.434,1064.13 886.616,1064.13 889.798,1064.13 892.98,1064.13 \n  896.162,1064.13 899.344,1064.13 902.526,1064.13 905.708,1064.13 908.89,1064.13 912.072,1064.13 915.254,1064.13 918.436,1064.13 921.618,1064.13 924.799,1064.13 \n  927.981,1064.13 931.163,1064.13 934.345,1064.13 937.527,1064.13 940.709,1064.13 943.891,1064.13 947.073,1064.13 950.255,1064.13 953.437,1064.13 956.619,1064.13 \n  959.801,1064.13 962.983,1064.13 966.165,1064.13 969.347,1064.13 972.529,1064.13 975.71,1064.13 978.892,1064.13 982.074,1064.13 985.256,1064.13 988.438,1064.13 \n  991.62,1064.13 994.802,1064.13 997.984,1064.13 1001.17,1064.13 1004.35,1064.13 1007.53,1064.13 1010.71,1064.13 1013.89,1064.13 1017.08,1064.13 1020.26,1064.13 \n  1023.44,1064.13 1026.62,1064.13 1029.8,1064.13 1032.99,1064.13 1036.17,1064.13 1039.35,1064.13 1042.53,1064.13 1045.71,1064.13 1048.9,1064.13 1052.08,1064.13 \n  1055.26,1064.13 1058.44,1064.13 1061.62,1064.13 1064.8,1064.13 1067.99,1064.13 1071.17,1064.13 1074.35,1064.13 1077.53,1064.13 1080.71,1064.13 1083.9,1064.13 \n  1087.08,1064.13 1090.26,1064.13 1093.44,1064.13 1096.62,1064.13 1099.81,1064.13 1102.99,1064.13 1106.17,1064.13 1109.35,1064.13 1112.53,1064.13 1115.72,1064.13 \n  1118.9,1064.13 1122.08,1064.13 1125.26,1064.13 1128.44,1064.13 1131.63,1064.13 1134.81,1064.13 1137.99,1064.13 1141.17,1064.13 1144.35,1064.13 1147.54,1064.13 \n  1150.72,1064.13 1153.9,1064.13 1157.08,1064.13 1160.26,1064.13 1163.44,1064.13 1166.63,1064.13 1169.81,1064.13 1172.99,1064.13 1176.17,1064.13 1179.35,1064.13 \n  1182.54,1064.13 \n  \"/>\n<polygon clip-path=\"url(#clip4000)\" points=\"\n1482.78,1425.62 2352.76,1425.62 2352.76,847.244 1482.78,847.244 \n  \" fill=\"#ffffff\" fill-rule=\"evenodd\" fill-opacity=\"1\"/>\n<defs>\n  <clipPath id=\"clip4005\">\n    <rect x=\"1482\" y=\"847\" width=\"871\" height=\"579\"/>\n  </clipPath>\n</defs>\n<polyline clip-path=\"url(#clip4005)\" style=\"stroke:#000000; stroke-width:2; stroke-opacity:0.1; fill:none\" points=\"\n  1605.89,1425.62 1605.89,847.244 \n  \"/>\n<polyline clip-path=\"url(#clip4005)\" style=\"stroke:#000000; stroke-width:2; stroke-opacity:0.1; fill:none\" points=\"\n  1737.21,1425.62 1737.21,847.244 \n  \"/>\n<polyline clip-path=\"url(#clip4005)\" style=\"stroke:#000000; stroke-width:2; stroke-opacity:0.1; fill:none\" points=\"\n  1868.52,1425.62 1868.52,847.244 \n  \"/>\n<polyline clip-path=\"url(#clip4005)\" style=\"stroke:#000000; stroke-width:2; stroke-opacity:0.1; fill:none\" points=\"\n  1999.84,1425.62 1999.84,847.244 \n  \"/>\n<polyline clip-path=\"url(#clip4005)\" style=\"stroke:#000000; stroke-width:2; stroke-opacity:0.1; fill:none\" points=\"\n  2131.16,1425.62 2131.16,847.244 \n  \"/>\n<polyline clip-path=\"url(#clip4005)\" style=\"stroke:#000000; stroke-width:2; stroke-opacity:0.1; fill:none\" points=\"\n  2262.48,1425.62 2262.48,847.244 \n  \"/>\n<polyline clip-path=\"url(#clip4005)\" style=\"stroke:#000000; stroke-width:2; stroke-opacity:0.1; fill:none\" points=\"\n  1482.78,1425.62 2352.76,1425.62 \n  \"/>\n<polyline clip-path=\"url(#clip4005)\" style=\"stroke:#000000; stroke-width:2; stroke-opacity:0.1; fill:none\" points=\"\n  1482.78,1309.94 2352.76,1309.94 \n  \"/>\n<polyline clip-path=\"url(#clip4005)\" style=\"stroke:#000000; stroke-width:2; stroke-opacity:0.1; fill:none\" points=\"\n  1482.78,1194.27 2352.76,1194.27 \n  \"/>\n<polyline clip-path=\"url(#clip4005)\" style=\"stroke:#000000; stroke-width:2; stroke-opacity:0.1; fill:none\" points=\"\n  1482.78,1078.59 2352.76,1078.59 \n  \"/>\n<polyline clip-path=\"url(#clip4005)\" style=\"stroke:#000000; stroke-width:2; stroke-opacity:0.1; fill:none\" points=\"\n  1482.78,962.919 2352.76,962.919 \n  \"/>\n<polyline clip-path=\"url(#clip4005)\" style=\"stroke:#000000; stroke-width:2; stroke-opacity:0.1; fill:none\" points=\"\n  1482.78,847.244 2352.76,847.244 \n  \"/>\n<polyline clip-path=\"url(#clip4000)\" style=\"stroke:#000000; stroke-width:4; stroke-opacity:1; fill:none\" points=\"\n  1482.78,1425.62 2352.76,1425.62 \n  \"/>\n<polyline clip-path=\"url(#clip4000)\" style=\"stroke:#000000; stroke-width:4; stroke-opacity:1; fill:none\" points=\"\n  1482.78,1425.62 1482.78,847.244 \n  \"/>\n<polyline clip-path=\"url(#clip4000)\" style=\"stroke:#000000; stroke-width:4; stroke-opacity:1; fill:none\" points=\"\n  1605.89,1425.62 1605.89,1416.94 \n  \"/>\n<polyline clip-path=\"url(#clip4000)\" style=\"stroke:#000000; stroke-width:4; stroke-opacity:1; fill:none\" points=\"\n  1737.21,1425.62 1737.21,1416.94 \n  \"/>\n<polyline clip-path=\"url(#clip4000)\" style=\"stroke:#000000; stroke-width:4; stroke-opacity:1; fill:none\" points=\"\n  1868.52,1425.62 1868.52,1416.94 \n  \"/>\n<polyline clip-path=\"url(#clip4000)\" style=\"stroke:#000000; stroke-width:4; stroke-opacity:1; fill:none\" points=\"\n  1999.84,1425.62 1999.84,1416.94 \n  \"/>\n<polyline clip-path=\"url(#clip4000)\" style=\"stroke:#000000; stroke-width:4; stroke-opacity:1; fill:none\" points=\"\n  2131.16,1425.62 2131.16,1416.94 \n  \"/>\n<polyline clip-path=\"url(#clip4000)\" style=\"stroke:#000000; stroke-width:4; stroke-opacity:1; fill:none\" points=\"\n  2262.48,1425.62 2262.48,1416.94 \n  \"/>\n<polyline clip-path=\"url(#clip4000)\" style=\"stroke:#000000; stroke-width:4; stroke-opacity:1; fill:none\" points=\"\n  1482.78,1425.62 1495.83,1425.62 \n  \"/>\n<polyline clip-path=\"url(#clip4000)\" style=\"stroke:#000000; stroke-width:4; stroke-opacity:1; fill:none\" points=\"\n  1482.78,1309.94 1495.83,1309.94 \n  \"/>\n<polyline clip-path=\"url(#clip4000)\" style=\"stroke:#000000; stroke-width:4; stroke-opacity:1; fill:none\" points=\"\n  1482.78,1194.27 1495.83,1194.27 \n  \"/>\n<polyline clip-path=\"url(#clip4000)\" style=\"stroke:#000000; stroke-width:4; stroke-opacity:1; fill:none\" points=\"\n  1482.78,1078.59 1495.83,1078.59 \n  \"/>\n<polyline clip-path=\"url(#clip4000)\" style=\"stroke:#000000; stroke-width:4; stroke-opacity:1; fill:none\" points=\"\n  1482.78,962.919 1495.83,962.919 \n  \"/>\n<polyline clip-path=\"url(#clip4000)\" style=\"stroke:#000000; stroke-width:4; stroke-opacity:1; fill:none\" points=\"\n  1482.78,847.244 1495.83,847.244 \n  \"/>\n<g clip-path=\"url(#clip4000)\">\n<text style=\"fill:#000000; fill-opacity:1; font-family:Arial,Helvetica Neue,Helvetica,sans-serif; font-size:48px; text-anchor:middle;\" transform=\"rotate(0, 1605.89, 1479.62)\" x=\"1605.89\" y=\"1479.62\">40</text>\n</g>\n<g clip-path=\"url(#clip4000)\">\n<text style=\"fill:#000000; fill-opacity:1; font-family:Arial,Helvetica Neue,Helvetica,sans-serif; font-size:48px; text-anchor:middle;\" transform=\"rotate(0, 1737.21, 1479.62)\" x=\"1737.21\" y=\"1479.62\">60</text>\n</g>\n<g clip-path=\"url(#clip4000)\">\n<text style=\"fill:#000000; fill-opacity:1; font-family:Arial,Helvetica Neue,Helvetica,sans-serif; font-size:48px; text-anchor:middle;\" transform=\"rotate(0, 1868.52, 1479.62)\" x=\"1868.52\" y=\"1479.62\">80</text>\n</g>\n<g clip-path=\"url(#clip4000)\">\n<text style=\"fill:#000000; fill-opacity:1; font-family:Arial,Helvetica Neue,Helvetica,sans-serif; font-size:48px; text-anchor:middle;\" transform=\"rotate(0, 1999.84, 1479.62)\" x=\"1999.84\" y=\"1479.62\">100</text>\n</g>\n<g clip-path=\"url(#clip4000)\">\n<text style=\"fill:#000000; fill-opacity:1; font-family:Arial,Helvetica Neue,Helvetica,sans-serif; font-size:48px; text-anchor:middle;\" transform=\"rotate(0, 2131.16, 1479.62)\" x=\"2131.16\" y=\"1479.62\">120</text>\n</g>\n<g clip-path=\"url(#clip4000)\">\n<text style=\"fill:#000000; fill-opacity:1; font-family:Arial,Helvetica Neue,Helvetica,sans-serif; font-size:48px; text-anchor:middle;\" transform=\"rotate(0, 2262.48, 1479.62)\" x=\"2262.48\" y=\"1479.62\">140</text>\n</g>\n<g clip-path=\"url(#clip4000)\">\n<text style=\"fill:#000000; fill-opacity:1; font-family:Arial,Helvetica Neue,Helvetica,sans-serif; font-size:48px; text-anchor:end;\" transform=\"rotate(0, 1458.78, 1443.12)\" x=\"1458.78\" y=\"1443.12\">0</text>\n</g>\n<g clip-path=\"url(#clip4000)\">\n<text style=\"fill:#000000; fill-opacity:1; font-family:Arial,Helvetica Neue,Helvetica,sans-serif; font-size:48px; text-anchor:end;\" transform=\"rotate(0, 1458.78, 1327.44)\" x=\"1458.78\" y=\"1327.44\">50</text>\n</g>\n<g clip-path=\"url(#clip4000)\">\n<text style=\"fill:#000000; fill-opacity:1; font-family:Arial,Helvetica Neue,Helvetica,sans-serif; font-size:48px; text-anchor:end;\" transform=\"rotate(0, 1458.78, 1211.77)\" x=\"1458.78\" y=\"1211.77\">100</text>\n</g>\n<g clip-path=\"url(#clip4000)\">\n<text style=\"fill:#000000; fill-opacity:1; font-family:Arial,Helvetica Neue,Helvetica,sans-serif; font-size:48px; text-anchor:end;\" transform=\"rotate(0, 1458.78, 1096.09)\" x=\"1458.78\" y=\"1096.09\">150</text>\n</g>\n<g clip-path=\"url(#clip4000)\">\n<text style=\"fill:#000000; fill-opacity:1; font-family:Arial,Helvetica Neue,Helvetica,sans-serif; font-size:48px; text-anchor:end;\" transform=\"rotate(0, 1458.78, 980.419)\" x=\"1458.78\" y=\"980.419\">200</text>\n</g>\n<g clip-path=\"url(#clip4000)\">\n<text style=\"fill:#000000; fill-opacity:1; font-family:Arial,Helvetica Neue,Helvetica,sans-serif; font-size:48px; text-anchor:end;\" transform=\"rotate(0, 1458.78, 864.744)\" x=\"1458.78\" y=\"864.744\">250</text>\n</g>\n<g clip-path=\"url(#clip4000)\">\n<text style=\"fill:#000000; fill-opacity:1; font-family:Arial,Helvetica Neue,Helvetica,sans-serif; font-size:66px; text-anchor:middle;\" transform=\"rotate(0, 1917.77, 1559.48)\" x=\"1917.77\" y=\"1559.48\">Cost of G1</text>\n</g>\n<g clip-path=\"url(#clip4000)\">\n<text style=\"fill:#000000; fill-opacity:1; font-family:Arial,Helvetica Neue,Helvetica,sans-serif; font-size:66px; text-anchor:middle;\" transform=\"rotate(-90, 1342.93, 1136.43)\" x=\"1342.93\" y=\"1136.43\">Dispatch: Wind</text>\n</g>\n<polyline clip-path=\"url(#clip4005)\" style=\"stroke:#009af9; stroke-width:4; stroke-opacity:1; fill:none\" points=\"\n  1507.4,1425.62 1510.69,1425.62 1513.97,1425.62 1517.25,1425.62 1520.53,1425.62 1523.82,1425.62 1527.1,1425.62 1530.38,1425.62 1533.67,1425.62 1536.95,1425.62 \n  1540.23,1425.62 1543.51,1425.62 1546.8,1425.62 1550.08,1425.62 1553.36,1425.62 1556.65,1425.62 1559.93,1425.62 1563.21,1425.62 1566.49,1425.62 1569.78,1425.62 \n  1573.06,1425.62 1576.34,1425.62 1579.63,1425.62 1582.91,1425.62 1586.19,1425.62 1589.48,1425.62 1592.76,1425.62 1596.04,1425.62 1599.32,1425.62 1602.61,1425.62 \n  1605.89,1425.62 1609.17,1425.62 1612.46,1425.62 1615.74,1425.62 1619.02,1425.62 1622.3,1425.62 1625.59,1425.62 1628.87,1425.62 1632.15,1425.62 1635.44,1425.62 \n  1638.72,1425.62 1642,1425.62 1645.29,1425.62 1648.57,1425.62 1651.85,1425.62 1655.13,1425.62 1658.42,1425.62 1661.7,1425.62 1664.98,1425.62 1668.27,1425.62 \n  1671.55,1425.62 1674.83,1425.62 1678.11,1425.62 1681.4,1425.62 1684.68,1425.62 1687.96,1425.62 1691.25,1425.62 1694.53,1425.62 1697.81,1425.62 1701.09,1425.62 \n  1704.38,1425.62 1707.66,1425.62 1710.94,1425.62 1714.23,1425.62 1717.51,1425.62 1720.79,1425.62 1724.08,1425.62 1727.36,1425.62 1730.64,1425.62 1733.92,1425.62 \n  1737.21,1425.62 1740.49,1425.62 1743.77,1425.62 1747.06,1425.62 1750.34,1425.62 1753.62,1425.62 1756.9,1425.62 1760.19,1425.62 1763.47,1425.62 1766.75,1425.62 \n  1770.04,1425.62 1773.32,1425.62 1776.6,1425.62 1779.89,1425.62 1783.17,1425.62 1786.45,1425.62 1789.73,1425.62 1793.02,1425.62 1796.3,1425.62 1799.58,1425.62 \n  1802.87,1425.62 1806.15,1425.62 1809.43,1425.62 1812.71,1425.62 1816,1425.62 1819.28,1425.62 1822.56,1425.62 1825.85,1425.62 1829.13,1425.62 1832.41,1425.62 \n  1835.69,1425.62 1838.98,1425.62 1842.26,1425.62 1845.54,1425.62 1848.83,1425.62 1852.11,1425.62 1855.39,1425.62 1858.68,1425.62 1861.96,1425.62 1865.24,1425.62 \n  1868.52,1425.62 1871.81,1425.62 1875.09,1425.62 1878.37,1425.62 1881.66,1425.62 1884.94,1425.62 1888.22,1425.62 1891.5,1425.62 1894.79,1425.62 1898.07,1425.62 \n  1901.35,1425.62 1904.64,1425.62 1907.92,1425.62 1911.2,1425.62 1914.49,1425.62 1917.77,1425.62 1921.05,1425.62 1924.33,1425.62 1927.62,1425.62 1930.9,1425.62 \n  1934.18,1425.62 1937.47,1425.62 1940.75,1425.62 1944.03,1425.62 1947.31,1425.62 1950.6,1425.62 1953.88,1425.62 1957.16,1425.62 1960.45,1425.62 1963.73,1425.62 \n  1967.01,1425.62 1970.29,1425.62 1973.58,1425.62 1976.86,1425.62 1980.14,1425.62 1983.43,1425.62 1986.71,1425.62 1989.99,1425.62 1993.28,1425.62 1996.56,1425.62 \n  1999.84,1425.62 2003.12,1425.62 2006.41,1425.62 2009.69,1425.62 2012.97,1425.62 2016.26,1425.62 2019.54,1425.62 2022.82,1425.62 2026.1,1425.62 2029.39,1425.62 \n  2032.67,1425.62 2035.95,1425.62 2039.24,1425.62 2042.52,1425.62 2045.8,1425.62 2049.09,1425.62 2052.37,1425.62 2055.65,1425.62 2058.93,1425.62 2062.22,1425.62 \n  2065.5,1425.62 2068.78,962.919 2072.07,962.919 2075.35,962.919 2078.63,962.919 2081.91,962.919 2085.2,962.919 2088.48,962.919 2091.76,962.919 2095.05,962.919 \n  2098.33,962.919 2101.61,962.919 2104.89,962.919 2108.18,962.919 2111.46,962.919 2114.74,962.919 2118.03,962.919 2121.31,962.919 2124.59,962.919 2127.88,962.919 \n  2131.16,962.919 2134.44,962.919 2137.72,962.919 2141.01,962.919 2144.29,962.919 2147.57,962.919 2150.86,962.919 2154.14,962.919 2157.42,962.919 2160.7,962.919 \n  2163.99,962.919 2167.27,962.919 2170.55,962.919 2173.84,962.919 2177.12,962.919 2180.4,962.919 2183.69,962.919 2186.97,962.919 2190.25,962.919 2193.53,962.919 \n  2196.82,962.919 2200.1,962.919 2203.38,962.919 2206.67,962.919 2209.95,962.919 2213.23,962.919 2216.51,962.919 2219.8,962.919 2223.08,962.919 2226.36,962.919 \n  2229.65,962.919 2232.93,962.919 2236.21,962.919 2239.49,962.919 2242.78,962.919 2246.06,962.919 2249.34,962.919 2252.63,962.919 2255.91,962.919 2259.19,962.919 \n  2262.48,962.919 2265.76,962.919 2269.04,962.919 2272.32,962.919 2275.61,962.919 2278.89,962.919 2282.17,962.919 2285.46,962.919 2288.74,962.919 2292.02,962.919 \n  2295.3,962.919 2298.59,962.919 2301.87,962.919 2305.15,962.919 2308.44,962.919 2311.72,962.919 2315,962.919 2318.29,962.919 2321.57,962.919 2324.85,962.919 \n  2328.13,962.919 \n  \"/>\n</svg>\n"
               },
               "type": "node"
              }
             ],
             "instanceArgs": {
              "namespace": "html",
              "tag": "div"
             },
             "nodeType": "DOM",
             "props": {
              "className": "interact-flex-row interact-widget"
             },
             "type": "node"
            }
           }
          },
          "systemjs_options": null
         },
         "nodeType": "Scope",
         "props": {},
         "type": "node"
        }
       ],
       "instanceArgs": {
        "namespace": "html",
        "tag": "div"
       },
       "nodeType": "DOM",
       "props": {},
       "type": "node"
      },
      "text/html": [
       "<div\n",
       "    class=\"webio-mountpoint\"\n",
       "    data-webio-mountpoint=\"6243253134859462359\"\n",
       ">\n",
       "    <script>\n",
       "    if (window.require && require.defined && require.defined(\"nbextensions/webio/main\")) {\n",
       "        console.log(\"Jupyter WebIO extension detected, not mounting.\");\n",
       "    } else if (window.WebIO) {\n",
       "        WebIO.mount(\n",
       "            document.querySelector('[data-webio-mountpoint=\"6243253134859462359\"]'),\n",
       "            {\"props\":{},\"nodeType\":\"DOM\",\"type\":\"node\",\"instanceArgs\":{\"namespace\":\"html\",\"tag\":\"div\"},\"children\":[{\"props\":{\"className\":\"field interact-widget\"},\"nodeType\":\"DOM\",\"type\":\"node\",\"instanceArgs\":{\"namespace\":\"html\",\"tag\":\"div\"},\"children\":[{\"props\":{},\"nodeType\":\"Scope\",\"type\":\"node\",\"instanceArgs\":{\"imports\":{\"data\":[{\"name\":\"knockout\",\"type\":\"js\",\"url\":\"\\/assetserver\\/0db2030eda8ae695ee385b177287a65d5698da81-knockout.js\"},{\"name\":\"knockout_punches\",\"type\":\"js\",\"url\":\"\\/assetserver\\/ab0f37d8318710d8b034c6f57de3dc43b8f803db-knockout_punches.js\"},{\"name\":null,\"type\":\"js\",\"url\":\"\\/assetserver\\/328dc776aa9f428539a661e8f9a278c165884663-all.js\"},{\"name\":null,\"type\":\"css\",\"url\":\"\\/assetserver\\/d23f72b7b3b6c3fabe3e7e1f280b67d5d679fe0b-style.css\"},{\"name\":null,\"type\":\"css\",\"url\":\"\\/assetserver\\/f116afb558b7c1b42a69d9c8d6e53ef190388cb9-bulma_confined.min.css\"}],\"type\":\"async_block\"},\"id\":\"knockout-component-e8d4bc87-8d77-4271-8990-42b7c2513e20\",\"handlers\":{\"changes\":[\"(function (val){return (val!=this.model[\\\"changes\\\"]()) ? (this.valueFromJulia[\\\"changes\\\"]=true, this.model[\\\"changes\\\"](val)) : undefined})\"],\"index\":[\"(function (val){return (val!=this.model[\\\"index\\\"]()) ? (this.valueFromJulia[\\\"index\\\"]=true, this.model[\\\"index\\\"](val)) : undefined})\"]},\"systemjs_options\":null,\"mount_callbacks\":[\"function () {\\n    var handler = (function (ko, koPunches) {\\n    ko.punches.enableAll();\\n    ko.bindingHandlers.numericValue = {\\n        init : function(element, valueAccessor, allBindings, data, context) {\\n            var stringified = ko.observable(ko.unwrap(valueAccessor()));\\n            stringified.subscribe(function(value) {\\n                var val = parseFloat(value);\\n                if (!isNaN(val)) {\\n                    valueAccessor()(val);\\n                }\\n            })\\n            valueAccessor().subscribe(function(value) {\\n                var str = JSON.stringify(value);\\n                if ((str == \\\"0\\\") && ([\\\"-0\\\", \\\"-0.\\\"].indexOf(stringified()) >= 0))\\n                     return;\\n                 if ([\\\"null\\\", \\\"\\\"].indexOf(str) >= 0)\\n                     return;\\n                stringified(str);\\n            })\\n            ko.applyBindingsToNode(element, { value: stringified, valueUpdate: allBindings.get('valueUpdate')}, context);\\n        }\\n    };\\n    var json_data = {\\\"formatted_vals\\\":[\\\"50.0\\\",\\\"55.0\\\",\\\"60.0\\\",\\\"65.0\\\",\\\"70.0\\\",\\\"75.0\\\",\\\"80.0\\\",\\\"85.0\\\",\\\"90.0\\\",\\\"95.0\\\",\\\"100.0\\\",\\\"105.0\\\",\\\"110.0\\\",\\\"115.0\\\",\\\"120.0\\\",\\\"125.0\\\",\\\"130.0\\\",\\\"135.0\\\",\\\"140.0\\\",\\\"145.0\\\",\\\"150.0\\\",\\\"155.0\\\",\\\"160.0\\\",\\\"165.0\\\",\\\"170.0\\\",\\\"175.0\\\"],\\\"changes\\\":WebIO.getval({\\\"name\\\":\\\"changes\\\",\\\"scope\\\":\\\"knockout-component-e8d4bc87-8d77-4271-8990-42b7c2513e20\\\",\\\"id\\\":\\\"ob_03\\\",\\\"type\\\":\\\"observable\\\"}),\\\"index\\\":WebIO.getval({\\\"name\\\":\\\"index\\\",\\\"scope\\\":\\\"knockout-component-e8d4bc87-8d77-4271-8990-42b7c2513e20\\\",\\\"id\\\":\\\"ob_02\\\",\\\"type\\\":\\\"observable\\\"})};\\n    var self = this;\\n    function AppViewModel() {\\n        for (var key in json_data) {\\n            var el = json_data[key];\\n            this[key] = Array.isArray(el) ? ko.observableArray(el) : ko.observable(el);\\n        }\\n        \\n        [this[\\\"formatted_val\\\"]=ko.computed(    function(){\\n        return this.formatted_vals()[parseInt(this.index())-1];\\n    }\\n,this)]\\n        [this[\\\"changes\\\"].subscribe((function (val){!(this.valueFromJulia[\\\"changes\\\"]) ? (WebIO.setval({\\\"name\\\":\\\"changes\\\",\\\"scope\\\":\\\"knockout-component-e8d4bc87-8d77-4271-8990-42b7c2513e20\\\",\\\"id\\\":\\\"ob_03\\\",\\\"type\\\":\\\"observable\\\"},val)) : undefined; return this.valueFromJulia[\\\"changes\\\"]=false}),self),this[\\\"index\\\"].subscribe((function (val){!(this.valueFromJulia[\\\"index\\\"]) ? (WebIO.setval({\\\"name\\\":\\\"index\\\",\\\"scope\\\":\\\"knockout-component-e8d4bc87-8d77-4271-8990-42b7c2513e20\\\",\\\"id\\\":\\\"ob_02\\\",\\\"type\\\":\\\"observable\\\"},val)) : undefined; return this.valueFromJulia[\\\"index\\\"]=false}),self)]\\n        \\n    }\\n    self.model = new AppViewModel();\\n    self.valueFromJulia = {};\\n    for (var key in json_data) {\\n        self.valueFromJulia[key] = false;\\n    }\\n    ko.applyBindings(self.model, self.dom);\\n}\\n);\\n    (WebIO.importBlock({\\\"data\\\":[{\\\"name\\\":\\\"knockout\\\",\\\"type\\\":\\\"js\\\",\\\"url\\\":\\\"\\/assetserver\\/0db2030eda8ae695ee385b177287a65d5698da81-knockout.js\\\"},{\\\"name\\\":\\\"knockout_punches\\\",\\\"type\\\":\\\"js\\\",\\\"url\\\":\\\"\\/assetserver\\/ab0f37d8318710d8b034c6f57de3dc43b8f803db-knockout_punches.js\\\"}],\\\"type\\\":\\\"async_block\\\"})).then((imports) => handler.apply(this, imports));\\n}\\n\"],\"observables\":{\"changes\":{\"sync\":false,\"id\":\"ob_03\",\"value\":0},\"index\":{\"sync\":true,\"id\":\"ob_02\",\"value\":13}}},\"children\":[{\"props\":{\"className\":\"interact-flex-row interact-widget\"},\"nodeType\":\"DOM\",\"type\":\"node\",\"instanceArgs\":{\"namespace\":\"html\",\"tag\":\"div\"},\"children\":[{\"props\":{\"className\":\"interact-flex-row-left\"},\"nodeType\":\"DOM\",\"type\":\"node\",\"instanceArgs\":{\"namespace\":\"html\",\"tag\":\"div\"},\"children\":[{\"props\":{\"className\":\"interact \",\"style\":{\"padding\":\"5px 10px 0px 10px\"}},\"nodeType\":\"DOM\",\"type\":\"node\",\"instanceArgs\":{\"namespace\":\"html\",\"tag\":\"label\"},\"children\":[\"cost_of_wind\"]}]},{\"props\":{\"className\":\"interact-flex-row-center\"},\"nodeType\":\"DOM\",\"type\":\"node\",\"instanceArgs\":{\"namespace\":\"html\",\"tag\":\"div\"},\"children\":[{\"props\":{\"max\":26,\"min\":1,\"attributes\":{\"type\":\"range\",\"data-bind\":\"numericValue: index, valueUpdate: 'input', event: {change: function (){this.changes(this.changes()+1)}}\",\"orient\":\"horizontal\"},\"step\":1,\"className\":\"slider slider is-fullwidth\",\"style\":{}},\"nodeType\":\"DOM\",\"type\":\"node\",\"instanceArgs\":{\"namespace\":\"html\",\"tag\":\"input\"},\"children\":[]}]},{\"props\":{\"className\":\"interact-flex-row-right\"},\"nodeType\":\"DOM\",\"type\":\"node\",\"instanceArgs\":{\"namespace\":\"html\",\"tag\":\"div\"},\"children\":[{\"props\":{\"attributes\":{\"data-bind\":\"text: formatted_val\"}},\"nodeType\":\"DOM\",\"type\":\"node\",\"instanceArgs\":{\"namespace\":\"html\",\"tag\":\"p\"},\"children\":[]}]}]}]}]},{\"props\":{},\"nodeType\":\"Scope\",\"type\":\"node\",\"instanceArgs\":{\"imports\":{\"data\":[],\"type\":\"async_block\"},\"id\":\"scope-85b40a15-0ca7-4be4-99ff-d3f0b270f7cf\",\"handlers\":{},\"systemjs_options\":null,\"mount_callbacks\":[],\"observables\":{\"obs-node\":{\"sync\":false,\"id\":\"ob_07\",\"value\":{\"props\":{\"className\":\"interact-flex-row interact-widget\"},\"nodeType\":\"DOM\",\"type\":\"node\",\"instanceArgs\":{\"namespace\":\"html\",\"tag\":\"div\"},\"children\":[{\"props\":{\"setInnerHtml\":\"<?xml version=\\\"1.0\\\" encoding=\\\"utf-8\\\"?>\\n<svg xmlns=\\\"http:\\/\\/www.w3.org\\/2000\\/svg\\\" xmlns:xlink=\\\"http:\\/\\/www.w3.org\\/1999\\/xlink\\\" width=\\\"600\\\" height=\\\"400\\\" viewBox=\\\"0 0 2400 1600\\\">\\n<defs>\\n  <clipPath id=\\\"clip3600\\\">\\n    <rect x=\\\"0\\\" y=\\\"0\\\" width=\\\"2400\\\" height=\\\"1600\\\"\\/>\\n  <\\/clipPath>\\n<\\/defs>\\n<polygon clip-path=\\\"url(#clip3600)\\\" points=\\\"\\n0,1600 2400,1600 2400,0 0,0 \\n  \\\" fill=\\\"#ffffff\\\" fill-rule=\\\"evenodd\\\" fill-opacity=\\\"1\\\"\\/>\\n<defs>\\n  <clipPath id=\\\"clip3601\\\">\\n    <rect x=\\\"480\\\" y=\\\"0\\\" width=\\\"1681\\\" height=\\\"1600\\\"\\/>\\n  <\\/clipPath>\\n<\\/defs>\\n<polygon clip-path=\\\"url(#clip3600)\\\" points=\\\"\\n363.188,625.619 1206.4,625.619 1206.4,47.2441 363.188,47.2441 \\n  \\\" fill=\\\"#ffffff\\\" fill-rule=\\\"evenodd\\\" fill-opacity=\\\"1\\\"\\/>\\n<defs>\\n  <clipPath id=\\\"clip3602\\\">\\n    <rect x=\\\"363\\\" y=\\\"47\\\" width=\\\"844\\\" height=\\\"579\\\"\\/>\\n  <\\/clipPath>\\n<\\/defs>\\n<polyline clip-path=\\\"url(#clip3602)\\\" style=\\\"stroke:#000000; stroke-width:2; stroke-opacity:0.1; fill:none\\\" points=\\\"\\n  482.51,625.619 482.51,47.2441 \\n  \\\"\\/>\\n<polyline clip-path=\\\"url(#clip3602)\\\" style=\\\"stroke:#000000; stroke-width:2; stroke-opacity:0.1; fill:none\\\" points=\\\"\\n  609.788,625.619 609.788,47.2441 \\n  \\\"\\/>\\n<polyline clip-path=\\\"url(#clip3602)\\\" style=\\\"stroke:#000000; stroke-width:2; stroke-opacity:0.1; fill:none\\\" points=\\\"\\n  737.065,625.619 737.065,47.2441 \\n  \\\"\\/>\\n<polyline clip-path=\\\"url(#clip3602)\\\" style=\\\"stroke:#000000; stroke-width:2; stroke-opacity:0.1; fill:none\\\" points=\\\"\\n  864.343,625.619 864.343,47.2441 \\n  \\\"\\/>\\n<polyline clip-path=\\\"url(#clip3602)\\\" style=\\\"stroke:#000000; stroke-width:2; stroke-opacity:0.1; fill:none\\\" points=\\\"\\n  991.62,625.619 991.62,47.2441 \\n  \\\"\\/>\\n<polyline clip-path=\\\"url(#clip3602)\\\" style=\\\"stroke:#000000; stroke-width:2; stroke-opacity:0.1; fill:none\\\" points=\\\"\\n  1118.9,625.619 1118.9,47.2441 \\n  \\\"\\/>\\n<polyline clip-path=\\\"url(#clip3602)\\\" style=\\\"stroke:#000000; stroke-width:2; stroke-opacity:0.1; fill:none\\\" points=\\\"\\n  363.188,625.619 1206.4,625.619 \\n  \\\"\\/>\\n<polyline clip-path=\\\"url(#clip3602)\\\" style=\\\"stroke:#000000; stroke-width:2; stroke-opacity:0.1; fill:none\\\" points=\\\"\\n  363.188,432.827 1206.4,432.827 \\n  \\\"\\/>\\n<polyline clip-path=\\\"url(#clip3602)\\\" style=\\\"stroke:#000000; stroke-width:2; stroke-opacity:0.1; fill:none\\\" points=\\\"\\n  363.188,240.036 1206.4,240.036 \\n  \\\"\\/>\\n<polyline clip-path=\\\"url(#clip3602)\\\" style=\\\"stroke:#000000; stroke-width:2; stroke-opacity:0.1; fill:none\\\" points=\\\"\\n  363.188,47.2441 1206.4,47.2441 \\n  \\\"\\/>\\n<polyline clip-path=\\\"url(#clip3600)\\\" style=\\\"stroke:#000000; stroke-width:4; stroke-opacity:1; fill:none\\\" points=\\\"\\n  363.188,625.619 1206.4,625.619 \\n  \\\"\\/>\\n<polyline clip-path=\\\"url(#clip3600)\\\" style=\\\"stroke:#000000; stroke-width:4; stroke-opacity:1; fill:none\\\" points=\\\"\\n  363.188,625.619 363.188,47.2441 \\n  \\\"\\/>\\n<polyline clip-path=\\\"url(#clip3600)\\\" style=\\\"stroke:#000000; stroke-width:4; stroke-opacity:1; fill:none\\\" points=\\\"\\n  482.51,625.619 482.51,616.943 \\n  \\\"\\/>\\n<polyline clip-path=\\\"url(#clip3600)\\\" style=\\\"stroke:#000000; stroke-width:4; stroke-opacity:1; fill:none\\\" points=\\\"\\n  609.788,625.619 609.788,616.943 \\n  \\\"\\/>\\n<polyline clip-path=\\\"url(#clip3600)\\\" style=\\\"stroke:#000000; stroke-width:4; stroke-opacity:1; fill:none\\\" points=\\\"\\n  737.065,625.619 737.065,616.943 \\n  \\\"\\/>\\n<polyline clip-path=\\\"url(#clip3600)\\\" style=\\\"stroke:#000000; stroke-width:4; stroke-opacity:1; fill:none\\\" points=\\\"\\n  864.343,625.619 864.343,616.943 \\n  \\\"\\/>\\n<polyline clip-path=\\\"url(#clip3600)\\\" style=\\\"stroke:#000000; stroke-width:4; stroke-opacity:1; fill:none\\\" points=\\\"\\n  991.62,625.619 991.62,616.943 \\n  \\\"\\/>\\n<polyline clip-path=\\\"url(#clip3600)\\\" style=\\\"stroke:#000000; stroke-width:4; stroke-opacity:1; fill:none\\\" points=\\\"\\n  1118.9,625.619 1118.9,616.943 \\n  \\\"\\/>\\n<polyline clip-path=\\\"url(#clip3600)\\\" style=\\\"stroke:#000000; stroke-width:4; stroke-opacity:1; fill:none\\\" points=\\\"\\n  363.188,625.619 375.836,625.619 \\n  \\\"\\/>\\n<polyline clip-path=\\\"url(#clip3600)\\\" style=\\\"stroke:#000000; stroke-width:4; stroke-opacity:1; fill:none\\\" points=\\\"\\n  363.188,432.827 375.836,432.827 \\n  \\\"\\/>\\n<polyline clip-path=\\\"url(#clip3600)\\\" style=\\\"stroke:#000000; stroke-width:4; stroke-opacity:1; fill:none\\\" points=\\\"\\n  363.188,240.036 375.836,240.036 \\n  \\\"\\/>\\n<polyline clip-path=\\\"url(#clip3600)\\\" style=\\\"stroke:#000000; stroke-width:4; stroke-opacity:1; fill:none\\\" points=\\\"\\n  363.188,47.2441 375.836,47.2441 \\n  \\\"\\/>\\n<g clip-path=\\\"url(#clip3600)\\\">\\n<text style=\\\"fill:#000000; fill-opacity:1; font-family:Arial,Helvetica Neue,Helvetica,sans-serif; font-size:48px; text-anchor:middle;\\\" transform=\\\"rotate(0, 482.51, 679.619)\\\" x=\\\"482.51\\\" y=\\\"679.619\\\">40<\\/text>\\n<\\/g>\\n<g clip-path=\\\"url(#clip3600)\\\">\\n<text style=\\\"fill:#000000; fill-opacity:1; font-family:Arial,Helvetica Neue,Helvetica,sans-serif; font-size:48px; text-anchor:middle;\\\" transform=\\\"rotate(0, 609.788, 679.619)\\\" x=\\\"609.788\\\" y=\\\"679.619\\\">60<\\/text>\\n<\\/g>\\n<g clip-path=\\\"url(#clip3600)\\\">\\n<text style=\\\"fill:#000000; fill-opacity:1; font-family:Arial,Helvetica Neue,Helvetica,sans-serif; font-size:48px; text-anchor:middle;\\\" transform=\\\"rotate(0, 737.065, 679.619)\\\" x=\\\"737.065\\\" y=\\\"679.619\\\">80<\\/text>\\n<\\/g>\\n<g clip-path=\\\"url(#clip3600)\\\">\\n<text style=\\\"fill:#000000; fill-opacity:1; font-family:Arial,Helvetica Neue,Helvetica,sans-serif; font-size:48px; text-anchor:middle;\\\" transform=\\\"rotate(0, 864.343, 679.619)\\\" x=\\\"864.343\\\" y=\\\"679.619\\\">100<\\/text>\\n<\\/g>\\n<g clip-path=\\\"url(#clip3600)\\\">\\n<text style=\\\"fill:#000000; fill-opacity:1; font-family:Arial,Helvetica Neue,Helvetica,sans-serif; font-size:48px; text-anchor:middle;\\\" transform=\\\"rotate(0, 991.62, 679.619)\\\" x=\\\"991.62\\\" y=\\\"679.619\\\">120<\\/text>\\n<\\/g>\\n<g clip-path=\\\"url(#clip3600)\\\">\\n<text style=\\\"fill:#000000; fill-opacity:1; font-family:Arial,Helvetica Neue,Helvetica,sans-serif; font-size:48px; text-anchor:middle;\\\" transform=\\\"rotate(0, 1118.9, 679.619)\\\" x=\\\"1118.9\\\" y=\\\"679.619\\\">140<\\/text>\\n<\\/g>\\n<g clip-path=\\\"url(#clip3600)\\\">\\n<text style=\\\"fill:#000000; fill-opacity:1; font-family:Arial,Helvetica Neue,Helvetica,sans-serif; font-size:48px; text-anchor:start;\\\" transform=\\\"rotate(0, 168.903, 649.346)\\\" x=\\\"168.903\\\" y=\\\"649.346\\\">5.0×10<\\/text>\\n<\\/g>\\n<g clip-path=\\\"url(#clip3600)\\\">\\n<text style=\\\"fill:#000000; fill-opacity:1; font-family:Arial,Helvetica Neue,Helvetica,sans-serif; font-size:38px; text-anchor:start;\\\" transform=\\\"rotate(0, 317.443, 621.936)\\\" x=\\\"317.443\\\" y=\\\"621.936\\\">4<\\/text>\\n<\\/g>\\n<g clip-path=\\\"url(#clip3600)\\\">\\n<text style=\\\"fill:#000000; fill-opacity:1; font-family:Arial,Helvetica Neue,Helvetica,sans-serif; font-size:48px; text-anchor:start;\\\" transform=\\\"rotate(0, 168.903, 456.555)\\\" x=\\\"168.903\\\" y=\\\"456.555\\\">1.0×10<\\/text>\\n<\\/g>\\n<g clip-path=\\\"url(#clip3600)\\\">\\n<text style=\\\"fill:#000000; fill-opacity:1; font-family:Arial,Helvetica Neue,Helvetica,sans-serif; font-size:38px; text-anchor:start;\\\" transform=\\\"rotate(0, 317.443, 429.144)\\\" x=\\\"317.443\\\" y=\\\"429.144\\\">5<\\/text>\\n<\\/g>\\n<g clip-path=\\\"url(#clip3600)\\\">\\n<text style=\\\"fill:#000000; fill-opacity:1; font-family:Arial,Helvetica Neue,Helvetica,sans-serif; font-size:48px; text-anchor:start;\\\" transform=\\\"rotate(0, 168.903, 263.763)\\\" x=\\\"168.903\\\" y=\\\"263.763\\\">1.5×10<\\/text>\\n<\\/g>\\n<g clip-path=\\\"url(#clip3600)\\\">\\n<text style=\\\"fill:#000000; fill-opacity:1; font-family:Arial,Helvetica Neue,Helvetica,sans-serif; font-size:38px; text-anchor:start;\\\" transform=\\\"rotate(0, 317.443, 236.353)\\\" x=\\\"317.443\\\" y=\\\"236.353\\\">5<\\/text>\\n<\\/g>\\n<g clip-path=\\\"url(#clip3600)\\\">\\n<text style=\\\"fill:#000000; fill-opacity:1; font-family:Arial,Helvetica Neue,Helvetica,sans-serif; font-size:48px; text-anchor:start;\\\" transform=\\\"rotate(0, 168.903, 70.9717)\\\" x=\\\"168.903\\\" y=\\\"70.9717\\\">2.0×10<\\/text>\\n<\\/g>\\n<g clip-path=\\\"url(#clip3600)\\\">\\n<text style=\\\"fill:#000000; fill-opacity:1; font-family:Arial,Helvetica Neue,Helvetica,sans-serif; font-size:38px; text-anchor:start;\\\" transform=\\\"rotate(0, 317.443, 43.5613)\\\" x=\\\"317.443\\\" y=\\\"43.5613\\\">5<\\/text>\\n<\\/g>\\n<g clip-path=\\\"url(#clip3600)\\\">\\n<text style=\\\"fill:#000000; fill-opacity:1; font-family:Arial,Helvetica Neue,Helvetica,sans-serif; font-size:66px; text-anchor:middle;\\\" transform=\\\"rotate(0, 784.794, 759.48)\\\" x=\\\"784.794\\\" y=\\\"759.48\\\">Cost of G1<\\/text>\\n<\\/g>\\n<g clip-path=\\\"url(#clip3600)\\\">\\n<text style=\\\"fill:#000000; fill-opacity:1; font-family:Arial,Helvetica Neue,Helvetica,sans-serif; font-size:66px; text-anchor:middle;\\\" transform=\\\"rotate(-90, 89.2861, 336.431)\\\" x=\\\"89.2861\\\" y=\\\"336.431\\\">Total cost<\\/text>\\n<\\/g>\\n<polyline clip-path=\\\"url(#clip3602)\\\" style=\\\"stroke:#009af9; stroke-width:4; stroke-opacity:1; fill:none\\\" points=\\\"\\n  387.052,529.223 390.234,527.295 393.416,525.367 396.598,523.439 399.78,521.511 402.962,519.583 406.144,517.655 409.326,515.727 412.508,513.8 415.69,511.872 \\n  418.872,509.944 422.053,508.016 425.235,506.088 428.417,504.16 431.599,502.232 434.781,500.304 437.963,498.376 441.145,496.448 444.327,494.52 447.509,492.592 \\n  450.691,490.665 453.873,488.737 457.055,486.809 460.237,484.881 463.419,482.953 466.601,481.025 469.783,479.097 472.964,477.169 476.146,475.241 479.328,473.313 \\n  482.51,471.385 485.692,469.457 488.874,467.53 492.056,465.602 495.238,463.674 498.42,461.746 501.602,459.818 504.784,457.89 507.966,455.962 511.148,454.034 \\n  514.33,452.106 517.512,450.178 520.694,448.25 523.875,446.323 527.057,444.395 530.239,442.467 533.421,440.539 536.603,438.611 539.785,436.683 542.967,434.755 \\n  546.149,432.827 549.331,430.899 552.513,428.971 555.695,427.043 558.877,425.115 562.059,423.188 565.241,421.26 568.423,419.332 571.604,417.404 574.786,415.476 \\n  577.968,413.548 581.15,411.62 584.332,409.692 587.514,407.764 590.696,405.836 593.878,403.908 597.06,401.98 600.242,400.053 603.424,398.125 606.606,396.197 \\n  609.788,394.269 612.97,392.341 616.152,390.413 619.334,388.485 622.515,386.557 625.697,384.629 628.879,382.701 632.061,380.773 635.243,378.845 638.425,376.918 \\n  641.607,374.99 644.789,373.062 647.971,371.134 651.153,369.206 654.335,367.278 657.517,365.35 660.699,363.422 663.881,361.494 667.063,359.566 670.245,357.638 \\n  673.426,355.711 676.608,353.783 679.79,351.855 682.972,349.927 686.154,347.999 689.336,346.071 692.518,344.143 695.7,342.215 698.882,340.287 702.064,338.359 \\n  705.246,336.431 708.428,334.503 711.61,332.576 714.792,330.648 717.974,328.72 721.156,326.792 724.337,324.864 727.519,322.936 730.701,321.008 733.883,319.08 \\n  737.065,317.152 740.247,315.224 743.429,313.296 746.611,311.368 749.793,309.441 752.975,307.513 756.157,305.585 759.339,303.657 762.521,301.729 765.703,299.801 \\n  768.885,297.873 772.067,295.945 775.248,294.017 778.43,292.089 781.612,290.161 784.794,288.233 787.976,286.306 791.158,284.378 794.34,282.45 797.522,280.522 \\n  800.704,278.594 803.886,276.666 807.068,274.738 810.25,272.81 813.432,270.882 816.614,268.954 819.796,267.026 822.978,265.098 826.159,263.171 829.341,261.243 \\n  832.523,259.315 835.705,257.387 838.887,255.459 842.069,253.531 845.251,251.603 848.433,249.675 851.615,247.747 854.797,245.819 857.979,243.891 861.161,241.964 \\n  864.343,240.036 867.525,239.072 870.707,238.108 873.889,237.144 877.07,236.18 880.252,235.216 883.434,234.252 886.616,233.288 889.798,232.324 892.98,231.36 \\n  896.162,230.396 899.344,229.432 902.526,228.468 905.708,227.504 908.89,226.54 912.072,225.576 915.254,224.612 918.436,223.648 921.618,222.684 924.799,221.72 \\n  927.981,220.756 931.163,220.178 934.345,219.6 937.527,219.021 940.709,218.443 943.891,217.865 947.073,217.286 950.255,216.708 953.437,216.129 956.619,215.551 \\n  959.801,214.973 962.983,214.394 966.165,213.816 969.347,213.238 972.529,212.659 975.71,212.081 978.892,211.502 982.074,210.924 985.256,210.346 988.438,209.767 \\n  991.62,209.189 994.802,208.611 997.984,208.032 1001.17,207.454 1004.35,206.875 1007.53,206.297 1010.71,205.719 1013.89,205.14 1017.08,204.562 1020.26,203.984 \\n  1023.44,203.405 1026.62,202.827 1029.8,202.248 1032.99,201.67 1036.17,201.092 1039.35,200.513 1042.53,199.935 1045.71,199.357 1048.9,198.778 1052.08,198.2 \\n  1055.26,197.621 1058.44,197.043 1061.62,196.465 1064.8,195.886 1067.99,195.308 1071.17,194.73 1074.35,194.151 1077.53,193.573 1080.71,192.994 1083.9,192.416 \\n  1087.08,191.838 1090.26,191.259 1093.44,190.681 1096.62,190.103 1099.81,189.524 1102.99,188.946 1106.17,188.367 1109.35,187.789 1112.53,187.211 1115.72,186.632 \\n  1118.9,186.054 1122.08,185.476 1125.26,184.897 1128.44,184.319 1131.63,183.74 1134.81,183.162 1137.99,182.584 1141.17,182.005 1144.35,181.427 1147.54,180.849 \\n  1150.72,180.27 1153.9,179.692 1157.08,179.113 1160.26,178.535 1163.44,177.957 1166.63,177.378 1169.81,176.8 1172.99,176.222 1176.17,175.643 1179.35,175.065 \\n  1182.54,174.486 \\n  \\\"\\/>\\n<polygon clip-path=\\\"url(#clip3600)\\\" points=\\\"\\n1509.54,625.619 2352.76,625.619 2352.76,47.2441 1509.54,47.2441 \\n  \\\" fill=\\\"#ffffff\\\" fill-rule=\\\"evenodd\\\" fill-opacity=\\\"1\\\"\\/>\\n<defs>\\n  <clipPath id=\\\"clip3603\\\">\\n    <rect x=\\\"1509\\\" y=\\\"47\\\" width=\\\"844\\\" height=\\\"579\\\"\\/>\\n  <\\/clipPath>\\n<\\/defs>\\n<polyline clip-path=\\\"url(#clip3603)\\\" style=\\\"stroke:#000000; stroke-width:2; stroke-opacity:0.1; fill:none\\\" points=\\\"\\n  1628.87,625.619 1628.87,47.2441 \\n  \\\"\\/>\\n<polyline clip-path=\\\"url(#clip3603)\\\" style=\\\"stroke:#000000; stroke-width:2; stroke-opacity:0.1; fill:none\\\" points=\\\"\\n  1756.14,625.619 1756.14,47.2441 \\n  \\\"\\/>\\n<polyline clip-path=\\\"url(#clip3603)\\\" style=\\\"stroke:#000000; stroke-width:2; stroke-opacity:0.1; fill:none\\\" points=\\\"\\n  1883.42,625.619 1883.42,47.2441 \\n  \\\"\\/>\\n<polyline clip-path=\\\"url(#clip3603)\\\" style=\\\"stroke:#000000; stroke-width:2; stroke-opacity:0.1; fill:none\\\" points=\\\"\\n  2010.7,625.619 2010.7,47.2441 \\n  \\\"\\/>\\n<polyline clip-path=\\\"url(#clip3603)\\\" style=\\\"stroke:#000000; stroke-width:2; stroke-opacity:0.1; fill:none\\\" points=\\\"\\n  2137.98,625.619 2137.98,47.2441 \\n  \\\"\\/>\\n<polyline clip-path=\\\"url(#clip3603)\\\" style=\\\"stroke:#000000; stroke-width:2; stroke-opacity:0.1; fill:none\\\" points=\\\"\\n  2265.25,625.619 2265.25,47.2441 \\n  \\\"\\/>\\n<polyline clip-path=\\\"url(#clip3603)\\\" style=\\\"stroke:#000000; stroke-width:2; stroke-opacity:0.1; fill:none\\\" points=\\\"\\n  1509.54,625.619 2352.76,625.619 \\n  \\\"\\/>\\n<polyline clip-path=\\\"url(#clip3603)\\\" style=\\\"stroke:#000000; stroke-width:2; stroke-opacity:0.1; fill:none\\\" points=\\\"\\n  1509.54,494.17 2352.76,494.17 \\n  \\\"\\/>\\n<polyline clip-path=\\\"url(#clip3603)\\\" style=\\\"stroke:#000000; stroke-width:2; stroke-opacity:0.1; fill:none\\\" points=\\\"\\n  1509.54,362.721 2352.76,362.721 \\n  \\\"\\/>\\n<polyline clip-path=\\\"url(#clip3603)\\\" style=\\\"stroke:#000000; stroke-width:2; stroke-opacity:0.1; fill:none\\\" points=\\\"\\n  1509.54,231.272 2352.76,231.272 \\n  \\\"\\/>\\n<polyline clip-path=\\\"url(#clip3603)\\\" style=\\\"stroke:#000000; stroke-width:2; stroke-opacity:0.1; fill:none\\\" points=\\\"\\n  1509.54,99.8236 2352.76,99.8236 \\n  \\\"\\/>\\n<polyline clip-path=\\\"url(#clip3600)\\\" style=\\\"stroke:#000000; stroke-width:4; stroke-opacity:1; fill:none\\\" points=\\\"\\n  1509.54,625.619 2352.76,625.619 \\n  \\\"\\/>\\n<polyline clip-path=\\\"url(#clip3600)\\\" style=\\\"stroke:#000000; stroke-width:4; stroke-opacity:1; fill:none\\\" points=\\\"\\n  1509.54,625.619 1509.54,47.2441 \\n  \\\"\\/>\\n<polyline clip-path=\\\"url(#clip3600)\\\" style=\\\"stroke:#000000; stroke-width:4; stroke-opacity:1; fill:none\\\" points=\\\"\\n  1628.87,625.619 1628.87,616.943 \\n  \\\"\\/>\\n<polyline clip-path=\\\"url(#clip3600)\\\" style=\\\"stroke:#000000; stroke-width:4; stroke-opacity:1; fill:none\\\" points=\\\"\\n  1756.14,625.619 1756.14,616.943 \\n  \\\"\\/>\\n<polyline clip-path=\\\"url(#clip3600)\\\" style=\\\"stroke:#000000; stroke-width:4; stroke-opacity:1; fill:none\\\" points=\\\"\\n  1883.42,625.619 1883.42,616.943 \\n  \\\"\\/>\\n<polyline clip-path=\\\"url(#clip3600)\\\" style=\\\"stroke:#000000; stroke-width:4; stroke-opacity:1; fill:none\\\" points=\\\"\\n  2010.7,625.619 2010.7,616.943 \\n  \\\"\\/>\\n<polyline clip-path=\\\"url(#clip3600)\\\" style=\\\"stroke:#000000; stroke-width:4; stroke-opacity:1; fill:none\\\" points=\\\"\\n  2137.98,625.619 2137.98,616.943 \\n  \\\"\\/>\\n<polyline clip-path=\\\"url(#clip3600)\\\" style=\\\"stroke:#000000; stroke-width:4; stroke-opacity:1; fill:none\\\" points=\\\"\\n  2265.25,625.619 2265.25,616.943 \\n  \\\"\\/>\\n<polyline clip-path=\\\"url(#clip3600)\\\" style=\\\"stroke:#000000; stroke-width:4; stroke-opacity:1; fill:none\\\" points=\\\"\\n  1509.54,625.619 1522.19,625.619 \\n  \\\"\\/>\\n<polyline clip-path=\\\"url(#clip3600)\\\" style=\\\"stroke:#000000; stroke-width:4; stroke-opacity:1; fill:none\\\" points=\\\"\\n  1509.54,494.17 1522.19,494.17 \\n  \\\"\\/>\\n<polyline clip-path=\\\"url(#clip3600)\\\" style=\\\"stroke:#000000; stroke-width:4; stroke-opacity:1; fill:none\\\" points=\\\"\\n  1509.54,362.721 1522.19,362.721 \\n  \\\"\\/>\\n<polyline clip-path=\\\"url(#clip3600)\\\" style=\\\"stroke:#000000; stroke-width:4; stroke-opacity:1; fill:none\\\" points=\\\"\\n  1509.54,231.272 1522.19,231.272 \\n  \\\"\\/>\\n<polyline clip-path=\\\"url(#clip3600)\\\" style=\\\"stroke:#000000; stroke-width:4; stroke-opacity:1; fill:none\\\" points=\\\"\\n  1509.54,99.8236 1522.19,99.8236 \\n  \\\"\\/>\\n<g clip-path=\\\"url(#clip3600)\\\">\\n<text style=\\\"fill:#000000; fill-opacity:1; font-family:Arial,Helvetica Neue,Helvetica,sans-serif; font-size:48px; text-anchor:middle;\\\" transform=\\\"rotate(0, 1628.87, 679.619)\\\" x=\\\"1628.87\\\" y=\\\"679.619\\\">40<\\/text>\\n<\\/g>\\n<g clip-path=\\\"url(#clip3600)\\\">\\n<text style=\\\"fill:#000000; fill-opacity:1; font-family:Arial,Helvetica Neue,Helvetica,sans-serif; font-size:48px; text-anchor:middle;\\\" transform=\\\"rotate(0, 1756.14, 679.619)\\\" x=\\\"1756.14\\\" y=\\\"679.619\\\">60<\\/text>\\n<\\/g>\\n<g clip-path=\\\"url(#clip3600)\\\">\\n<text style=\\\"fill:#000000; fill-opacity:1; font-family:Arial,Helvetica Neue,Helvetica,sans-serif; font-size:48px; text-anchor:middle;\\\" transform=\\\"rotate(0, 1883.42, 679.619)\\\" x=\\\"1883.42\\\" y=\\\"679.619\\\">80<\\/text>\\n<\\/g>\\n<g clip-path=\\\"url(#clip3600)\\\">\\n<text style=\\\"fill:#000000; fill-opacity:1; font-family:Arial,Helvetica Neue,Helvetica,sans-serif; font-size:48px; text-anchor:middle;\\\" transform=\\\"rotate(0, 2010.7, 679.619)\\\" x=\\\"2010.7\\\" y=\\\"679.619\\\">100<\\/text>\\n<\\/g>\\n<g clip-path=\\\"url(#clip3600)\\\">\\n<text style=\\\"fill:#000000; fill-opacity:1; font-family:Arial,Helvetica Neue,Helvetica,sans-serif; font-size:48px; text-anchor:middle;\\\" transform=\\\"rotate(0, 2137.98, 679.619)\\\" x=\\\"2137.98\\\" y=\\\"679.619\\\">120<\\/text>\\n<\\/g>\\n<g clip-path=\\\"url(#clip3600)\\\">\\n<text style=\\\"fill:#000000; fill-opacity:1; font-family:Arial,Helvetica Neue,Helvetica,sans-serif; font-size:48px; text-anchor:middle;\\\" transform=\\\"rotate(0, 2265.25, 679.619)\\\" x=\\\"2265.25\\\" y=\\\"679.619\\\">140<\\/text>\\n<\\/g>\\n<g clip-path=\\\"url(#clip3600)\\\">\\n<text style=\\\"fill:#000000; fill-opacity:1; font-family:Arial,Helvetica Neue,Helvetica,sans-serif; font-size:48px; text-anchor:end;\\\" transform=\\\"rotate(0, 1485.54, 643.119)\\\" x=\\\"1485.54\\\" y=\\\"643.119\\\">0<\\/text>\\n<\\/g>\\n<g clip-path=\\\"url(#clip3600)\\\">\\n<text style=\\\"fill:#000000; fill-opacity:1; font-family:Arial,Helvetica Neue,Helvetica,sans-serif; font-size:48px; text-anchor:end;\\\" transform=\\\"rotate(0, 1485.54, 511.67)\\\" x=\\\"1485.54\\\" y=\\\"511.67\\\">250<\\/text>\\n<\\/g>\\n<g clip-path=\\\"url(#clip3600)\\\">\\n<text style=\\\"fill:#000000; fill-opacity:1; font-family:Arial,Helvetica Neue,Helvetica,sans-serif; font-size:48px; text-anchor:end;\\\" transform=\\\"rotate(0, 1485.54, 380.221)\\\" x=\\\"1485.54\\\" y=\\\"380.221\\\">500<\\/text>\\n<\\/g>\\n<g clip-path=\\\"url(#clip3600)\\\">\\n<text style=\\\"fill:#000000; fill-opacity:1; font-family:Arial,Helvetica Neue,Helvetica,sans-serif; font-size:48px; text-anchor:end;\\\" transform=\\\"rotate(0, 1485.54, 248.772)\\\" x=\\\"1485.54\\\" y=\\\"248.772\\\">750<\\/text>\\n<\\/g>\\n<g clip-path=\\\"url(#clip3600)\\\">\\n<text style=\\\"fill:#000000; fill-opacity:1; font-family:Arial,Helvetica Neue,Helvetica,sans-serif; font-size:48px; text-anchor:end;\\\" transform=\\\"rotate(0, 1485.54, 117.324)\\\" x=\\\"1485.54\\\" y=\\\"117.324\\\">1000<\\/text>\\n<\\/g>\\n<g clip-path=\\\"url(#clip3600)\\\">\\n<text style=\\\"fill:#000000; fill-opacity:1; font-family:Arial,Helvetica Neue,Helvetica,sans-serif; font-size:66px; text-anchor:middle;\\\" transform=\\\"rotate(0, 1931.15, 759.48)\\\" x=\\\"1931.15\\\" y=\\\"759.48\\\">Cost of G1<\\/text>\\n<\\/g>\\n<g clip-path=\\\"url(#clip3600)\\\">\\n<text style=\\\"fill:#000000; fill-opacity:1; font-family:Arial,Helvetica Neue,Helvetica,sans-serif; font-size:66px; text-anchor:middle;\\\" transform=\\\"rotate(-90, 1342.93, 336.431)\\\" x=\\\"1342.93\\\" y=\\\"336.431\\\">Dispatch: G1<\\/text>\\n<\\/g>\\n<polyline clip-path=\\\"url(#clip3603)\\\" style=\\\"stroke:#009af9; stroke-width:4; stroke-opacity:1; fill:none\\\" points=\\\"\\n  1533.41,99.8236 1536.59,99.8236 1539.77,99.8236 1542.95,99.8236 1546.13,99.8236 1549.32,99.8236 1552.5,99.8236 1555.68,99.8236 1558.86,99.8236 1562.04,99.8236 \\n  1565.23,99.8236 1568.41,99.8236 1571.59,99.8236 1574.77,99.8236 1577.95,99.8236 1581.14,99.8236 1584.32,99.8236 1587.5,99.8236 1590.68,99.8236 1593.86,99.8236 \\n  1597.05,99.8236 1600.23,99.8236 1603.41,99.8236 1606.59,99.8236 1609.77,99.8236 1612.96,99.8236 1616.14,99.8236 1619.32,99.8236 1622.5,99.8236 1625.68,99.8236 \\n  1628.87,99.8236 1632.05,99.8236 1635.23,99.8236 1638.41,99.8236 1641.59,99.8236 1644.77,99.8236 1647.96,99.8236 1651.14,99.8236 1654.32,99.8236 1657.5,99.8236 \\n  1660.68,99.8236 1663.87,99.8236 1667.05,99.8236 1670.23,99.8236 1673.41,99.8236 1676.59,99.8236 1679.78,99.8236 1682.96,99.8236 1686.14,99.8236 1689.32,99.8236 \\n  1692.5,99.8236 1695.69,99.8236 1698.87,99.8236 1702.05,99.8236 1705.23,99.8236 1708.41,99.8236 1711.6,99.8236 1714.78,99.8236 1717.96,99.8236 1721.14,99.8236 \\n  1724.32,99.8236 1727.51,99.8236 1730.69,99.8236 1733.87,99.8236 1737.05,99.8236 1740.23,99.8236 1743.41,99.8236 1746.6,99.8236 1749.78,99.8236 1752.96,99.8236 \\n  1756.14,99.8236 1759.32,99.8236 1762.51,99.8236 1765.69,99.8236 1768.87,99.8236 1772.05,99.8236 1775.23,99.8236 1778.42,99.8236 1781.6,99.8236 1784.78,99.8236 \\n  1787.96,99.8236 1791.14,99.8236 1794.33,99.8236 1797.51,99.8236 1800.69,99.8236 1803.87,99.8236 1807.05,99.8236 1810.24,99.8236 1813.42,99.8236 1816.6,99.8236 \\n  1819.78,99.8236 1822.96,99.8236 1826.15,99.8236 1829.33,99.8236 1832.51,99.8236 1835.69,99.8236 1838.87,99.8236 1842.06,99.8236 1845.24,99.8236 1848.42,99.8236 \\n  1851.6,99.8236 1854.78,99.8236 1857.96,99.8236 1861.15,99.8236 1864.33,99.8236 1867.51,99.8236 1870.69,99.8236 1873.87,99.8236 1877.06,99.8236 1880.24,99.8236 \\n  1883.42,99.8236 1886.6,99.8236 1889.78,99.8236 1892.97,99.8236 1896.15,99.8236 1899.33,99.8236 1902.51,99.8236 1905.69,99.8236 1908.88,99.8236 1912.06,99.8236 \\n  1915.24,99.8236 1918.42,99.8236 1921.6,99.8236 1924.79,99.8236 1927.97,99.8236 1931.15,99.8236 1934.33,99.8236 1937.51,99.8236 1940.7,99.8236 1943.88,99.8236 \\n  1947.06,99.8236 1950.24,99.8236 1953.42,99.8236 1956.6,99.8236 1959.79,99.8236 1962.97,99.8236 1966.15,99.8236 1969.33,99.8236 1972.51,99.8236 1975.7,99.8236 \\n  1978.88,99.8236 1982.06,99.8236 1985.24,99.8236 1988.42,99.8236 1991.61,99.8236 1994.79,99.8236 1997.97,99.8236 2001.15,99.8236 2004.33,99.8236 2007.52,99.8236 \\n  2010.7,99.8236 2013.88,362.721 2017.06,362.721 2020.24,362.721 2023.43,362.721 2026.61,362.721 2029.79,362.721 2032.97,362.721 2036.15,362.721 2039.34,362.721 \\n  2042.52,362.721 2045.7,362.721 2048.88,362.721 2052.06,362.721 2055.24,362.721 2058.43,362.721 2061.61,362.721 2064.79,362.721 2067.97,362.721 2071.15,362.721 \\n  2074.34,362.721 2077.52,467.88 2080.7,467.88 2083.88,467.88 2087.06,467.88 2090.25,467.88 2093.43,467.88 2096.61,467.88 2099.79,467.88 2102.97,467.88 \\n  2106.16,467.88 2109.34,467.88 2112.52,467.88 2115.7,467.88 2118.88,467.88 2122.07,467.88 2125.25,467.88 2128.43,467.88 2131.61,467.88 2134.79,467.88 \\n  2137.98,467.88 2141.16,467.88 2144.34,467.88 2147.52,467.88 2150.7,467.88 2153.88,467.88 2157.07,467.88 2160.25,467.88 2163.43,467.88 2166.61,467.88 \\n  2169.79,467.88 2172.98,467.88 2176.16,467.88 2179.34,467.88 2182.52,467.88 2185.7,467.88 2188.89,467.88 2192.07,467.88 2195.25,467.88 2198.43,467.88 \\n  2201.61,467.88 2204.8,467.88 2207.98,467.88 2211.16,467.88 2214.34,467.88 2217.52,467.88 2220.71,467.88 2223.89,467.88 2227.07,467.88 2230.25,467.88 \\n  2233.43,467.88 2236.62,467.88 2239.8,467.88 2242.98,467.88 2246.16,467.88 2249.34,467.88 2252.52,467.88 2255.71,467.88 2258.89,467.88 2262.07,467.88 \\n  2265.25,467.88 2268.43,467.88 2271.62,467.88 2274.8,467.88 2277.98,467.88 2281.16,467.88 2284.34,467.88 2287.53,467.88 2290.71,467.88 2293.89,467.88 \\n  2297.07,467.88 2300.25,467.88 2303.44,467.88 2306.62,467.88 2309.8,467.88 2312.98,467.88 2316.16,467.88 2319.35,467.88 2322.53,467.88 2325.71,467.88 \\n  2328.89,467.88 \\n  \\\"\\/>\\n<polygon clip-path=\\\"url(#clip3600)\\\" points=\\\"\\n363.188,1425.62 1206.4,1425.62 1206.4,847.244 363.188,847.244 \\n  \\\" fill=\\\"#ffffff\\\" fill-rule=\\\"evenodd\\\" fill-opacity=\\\"1\\\"\\/>\\n<defs>\\n  <clipPath id=\\\"clip3604\\\">\\n    <rect x=\\\"363\\\" y=\\\"847\\\" width=\\\"844\\\" height=\\\"579\\\"\\/>\\n  <\\/clipPath>\\n<\\/defs>\\n<polyline clip-path=\\\"url(#clip3604)\\\" style=\\\"stroke:#000000; stroke-width:2; stroke-opacity:0.1; fill:none\\\" points=\\\"\\n  482.51,1425.62 482.51,847.244 \\n  \\\"\\/>\\n<polyline clip-path=\\\"url(#clip3604)\\\" style=\\\"stroke:#000000; stroke-width:2; stroke-opacity:0.1; fill:none\\\" points=\\\"\\n  609.788,1425.62 609.788,847.244 \\n  \\\"\\/>\\n<polyline clip-path=\\\"url(#clip3604)\\\" style=\\\"stroke:#000000; stroke-width:2; stroke-opacity:0.1; fill:none\\\" points=\\\"\\n  737.065,1425.62 737.065,847.244 \\n  \\\"\\/>\\n<polyline clip-path=\\\"url(#clip3604)\\\" style=\\\"stroke:#000000; stroke-width:2; stroke-opacity:0.1; fill:none\\\" points=\\\"\\n  864.343,1425.62 864.343,847.244 \\n  \\\"\\/>\\n<polyline clip-path=\\\"url(#clip3604)\\\" style=\\\"stroke:#000000; stroke-width:2; stroke-opacity:0.1; fill:none\\\" points=\\\"\\n  991.62,1425.62 991.62,847.244 \\n  \\\"\\/>\\n<polyline clip-path=\\\"url(#clip3604)\\\" style=\\\"stroke:#000000; stroke-width:2; stroke-opacity:0.1; fill:none\\\" points=\\\"\\n  1118.9,1425.62 1118.9,847.244 \\n  \\\"\\/>\\n<polyline clip-path=\\\"url(#clip3604)\\\" style=\\\"stroke:#000000; stroke-width:2; stroke-opacity:0.1; fill:none\\\" points=\\\"\\n  363.188,1425.62 1206.4,1425.62 \\n  \\\"\\/>\\n<polyline clip-path=\\\"url(#clip3604)\\\" style=\\\"stroke:#000000; stroke-width:2; stroke-opacity:0.1; fill:none\\\" points=\\\"\\n  363.188,1244.88 1206.4,1244.88 \\n  \\\"\\/>\\n<polyline clip-path=\\\"url(#clip3604)\\\" style=\\\"stroke:#000000; stroke-width:2; stroke-opacity:0.1; fill:none\\\" points=\\\"\\n  363.188,1064.13 1206.4,1064.13 \\n  \\\"\\/>\\n<polyline clip-path=\\\"url(#clip3604)\\\" style=\\\"stroke:#000000; stroke-width:2; stroke-opacity:0.1; fill:none\\\" points=\\\"\\n  363.188,883.393 1206.4,883.393 \\n  \\\"\\/>\\n<polyline clip-path=\\\"url(#clip3600)\\\" style=\\\"stroke:#000000; stroke-width:4; stroke-opacity:1; fill:none\\\" points=\\\"\\n  363.188,1425.62 1206.4,1425.62 \\n  \\\"\\/>\\n<polyline clip-path=\\\"url(#clip3600)\\\" style=\\\"stroke:#000000; stroke-width:4; stroke-opacity:1; fill:none\\\" points=\\\"\\n  363.188,1425.62 363.188,847.244 \\n  \\\"\\/>\\n<polyline clip-path=\\\"url(#clip3600)\\\" style=\\\"stroke:#000000; stroke-width:4; stroke-opacity:1; fill:none\\\" points=\\\"\\n  482.51,1425.62 482.51,1416.94 \\n  \\\"\\/>\\n<polyline clip-path=\\\"url(#clip3600)\\\" style=\\\"stroke:#000000; stroke-width:4; stroke-opacity:1; fill:none\\\" points=\\\"\\n  609.788,1425.62 609.788,1416.94 \\n  \\\"\\/>\\n<polyline clip-path=\\\"url(#clip3600)\\\" style=\\\"stroke:#000000; stroke-width:4; stroke-opacity:1; fill:none\\\" points=\\\"\\n  737.065,1425.62 737.065,1416.94 \\n  \\\"\\/>\\n<polyline clip-path=\\\"url(#clip3600)\\\" style=\\\"stroke:#000000; stroke-width:4; stroke-opacity:1; fill:none\\\" points=\\\"\\n  864.343,1425.62 864.343,1416.94 \\n  \\\"\\/>\\n<polyline clip-path=\\\"url(#clip3600)\\\" style=\\\"stroke:#000000; stroke-width:4; stroke-opacity:1; fill:none\\\" points=\\\"\\n  991.62,1425.62 991.62,1416.94 \\n  \\\"\\/>\\n<polyline clip-path=\\\"url(#clip3600)\\\" style=\\\"stroke:#000000; stroke-width:4; stroke-opacity:1; fill:none\\\" points=\\\"\\n  1118.9,1425.62 1118.9,1416.94 \\n  \\\"\\/>\\n<polyline clip-path=\\\"url(#clip3600)\\\" style=\\\"stroke:#000000; stroke-width:4; stroke-opacity:1; fill:none\\\" points=\\\"\\n  363.188,1425.62 375.836,1425.62 \\n  \\\"\\/>\\n<polyline clip-path=\\\"url(#clip3600)\\\" style=\\\"stroke:#000000; stroke-width:4; stroke-opacity:1; fill:none\\\" points=\\\"\\n  363.188,1244.88 375.836,1244.88 \\n  \\\"\\/>\\n<polyline clip-path=\\\"url(#clip3600)\\\" style=\\\"stroke:#000000; stroke-width:4; stroke-opacity:1; fill:none\\\" points=\\\"\\n  363.188,1064.13 375.836,1064.13 \\n  \\\"\\/>\\n<polyline clip-path=\\\"url(#clip3600)\\\" style=\\\"stroke:#000000; stroke-width:4; stroke-opacity:1; fill:none\\\" points=\\\"\\n  363.188,883.393 375.836,883.393 \\n  \\\"\\/>\\n<g clip-path=\\\"url(#clip3600)\\\">\\n<text style=\\\"fill:#000000; fill-opacity:1; font-family:Arial,Helvetica Neue,Helvetica,sans-serif; font-size:48px; text-anchor:middle;\\\" transform=\\\"rotate(0, 482.51, 1479.62)\\\" x=\\\"482.51\\\" y=\\\"1479.62\\\">40<\\/text>\\n<\\/g>\\n<g clip-path=\\\"url(#clip3600)\\\">\\n<text style=\\\"fill:#000000; fill-opacity:1; font-family:Arial,Helvetica Neue,Helvetica,sans-serif; font-size:48px; text-anchor:middle;\\\" transform=\\\"rotate(0, 609.788, 1479.62)\\\" x=\\\"609.788\\\" y=\\\"1479.62\\\">60<\\/text>\\n<\\/g>\\n<g clip-path=\\\"url(#clip3600)\\\">\\n<text style=\\\"fill:#000000; fill-opacity:1; font-family:Arial,Helvetica Neue,Helvetica,sans-serif; font-size:48px; text-anchor:middle;\\\" transform=\\\"rotate(0, 737.065, 1479.62)\\\" x=\\\"737.065\\\" y=\\\"1479.62\\\">80<\\/text>\\n<\\/g>\\n<g clip-path=\\\"url(#clip3600)\\\">\\n<text style=\\\"fill:#000000; fill-opacity:1; font-family:Arial,Helvetica Neue,Helvetica,sans-serif; font-size:48px; text-anchor:middle;\\\" transform=\\\"rotate(0, 864.343, 1479.62)\\\" x=\\\"864.343\\\" y=\\\"1479.62\\\">100<\\/text>\\n<\\/g>\\n<g clip-path=\\\"url(#clip3600)\\\">\\n<text style=\\\"fill:#000000; fill-opacity:1; font-family:Arial,Helvetica Neue,Helvetica,sans-serif; font-size:48px; text-anchor:middle;\\\" transform=\\\"rotate(0, 991.62, 1479.62)\\\" x=\\\"991.62\\\" y=\\\"1479.62\\\">120<\\/text>\\n<\\/g>\\n<g clip-path=\\\"url(#clip3600)\\\">\\n<text style=\\\"fill:#000000; fill-opacity:1; font-family:Arial,Helvetica Neue,Helvetica,sans-serif; font-size:48px; text-anchor:middle;\\\" transform=\\\"rotate(0, 1118.9, 1479.62)\\\" x=\\\"1118.9\\\" y=\\\"1479.62\\\">140<\\/text>\\n<\\/g>\\n<g clip-path=\\\"url(#clip3600)\\\">\\n<text style=\\\"fill:#000000; fill-opacity:1; font-family:Arial,Helvetica Neue,Helvetica,sans-serif; font-size:48px; text-anchor:end;\\\" transform=\\\"rotate(0, 339.188, 1443.12)\\\" x=\\\"339.188\\\" y=\\\"1443.12\\\">0<\\/text>\\n<\\/g>\\n<g clip-path=\\\"url(#clip3600)\\\">\\n<text style=\\\"fill:#000000; fill-opacity:1; font-family:Arial,Helvetica Neue,Helvetica,sans-serif; font-size:48px; text-anchor:end;\\\" transform=\\\"rotate(0, 339.188, 1262.38)\\\" x=\\\"339.188\\\" y=\\\"1262.38\\\">500<\\/text>\\n<\\/g>\\n<g clip-path=\\\"url(#clip3600)\\\">\\n<text style=\\\"fill:#000000; fill-opacity:1; font-family:Arial,Helvetica Neue,Helvetica,sans-serif; font-size:48px; text-anchor:end;\\\" transform=\\\"rotate(0, 339.188, 1081.63)\\\" x=\\\"339.188\\\" y=\\\"1081.63\\\">1000<\\/text>\\n<\\/g>\\n<g clip-path=\\\"url(#clip3600)\\\">\\n<text style=\\\"fill:#000000; fill-opacity:1; font-family:Arial,Helvetica Neue,Helvetica,sans-serif; font-size:48px; text-anchor:end;\\\" transform=\\\"rotate(0, 339.188, 900.893)\\\" x=\\\"339.188\\\" y=\\\"900.893\\\">1500<\\/text>\\n<\\/g>\\n<g clip-path=\\\"url(#clip3600)\\\">\\n<text style=\\\"fill:#000000; fill-opacity:1; font-family:Arial,Helvetica Neue,Helvetica,sans-serif; font-size:66px; text-anchor:middle;\\\" transform=\\\"rotate(0, 784.794, 1559.48)\\\" x=\\\"784.794\\\" y=\\\"1559.48\\\">Cost of G1<\\/text>\\n<\\/g>\\n<g clip-path=\\\"url(#clip3600)\\\">\\n<text style=\\\"fill:#000000; fill-opacity:1; font-family:Arial,Helvetica Neue,Helvetica,sans-serif; font-size:66px; text-anchor:middle;\\\" transform=\\\"rotate(-90, 196.576, 1136.43)\\\" x=\\\"196.576\\\" y=\\\"1136.43\\\">Dispatch: G2<\\/text>\\n<\\/g>\\n<polyline clip-path=\\\"url(#clip3604)\\\" style=\\\"stroke:#009af9; stroke-width:4; stroke-opacity:1; fill:none\\\" points=\\\"\\n  387.052,1244.88 390.234,1244.88 393.416,1244.88 396.598,1244.88 399.78,1244.88 402.962,1244.88 406.144,1244.88 409.326,1244.88 412.508,1244.88 415.69,1244.88 \\n  418.872,1244.88 422.053,1244.88 425.235,1244.88 428.417,1244.88 431.599,1244.88 434.781,1244.88 437.963,1244.88 441.145,1244.88 444.327,1244.88 447.509,1244.88 \\n  450.691,1244.88 453.873,1244.88 457.055,1244.88 460.237,1244.88 463.419,1244.88 466.601,1244.88 469.783,1244.88 472.964,1244.88 476.146,1244.88 479.328,1244.88 \\n  482.51,1244.88 485.692,1244.88 488.874,1244.88 492.056,1244.88 495.238,1244.88 498.42,1244.88 501.602,1244.88 504.784,1244.88 507.966,1244.88 511.148,1244.88 \\n  514.33,1244.88 517.512,1244.88 520.694,1244.88 523.875,1244.88 527.057,1244.88 530.239,1244.88 533.421,1244.88 536.603,1244.88 539.785,1244.88 542.967,1244.88 \\n  546.149,1244.88 549.331,1244.88 552.513,1244.88 555.695,1244.88 558.877,1244.88 562.059,1244.88 565.241,1244.88 568.423,1244.88 571.604,1244.88 574.786,1244.88 \\n  577.968,1244.88 581.15,1244.88 584.332,1244.88 587.514,1244.88 590.696,1244.88 593.878,1244.88 597.06,1244.88 600.242,1244.88 603.424,1244.88 606.606,1244.88 \\n  609.788,1244.88 612.97,1244.88 616.152,1244.88 619.334,1244.88 622.515,1244.88 625.697,1244.88 628.879,1244.88 632.061,1244.88 635.243,1244.88 638.425,1244.88 \\n  641.607,1244.88 644.789,1244.88 647.971,1244.88 651.153,1244.88 654.335,1244.88 657.517,1244.88 660.699,1244.88 663.881,1244.88 667.063,1244.88 670.245,1244.88 \\n  673.426,1244.88 676.608,1244.88 679.79,1244.88 682.972,1244.88 686.154,1244.88 689.336,1244.88 692.518,1244.88 695.7,1244.88 698.882,1244.88 702.064,1244.88 \\n  705.246,1244.88 708.428,1244.88 711.61,1244.88 714.792,1244.88 717.974,1244.88 721.156,1244.88 724.337,1244.88 727.519,1244.88 730.701,1244.88 733.883,1244.88 \\n  737.065,1244.88 740.247,1244.88 743.429,1244.88 746.611,1244.88 749.793,1244.88 752.975,1244.88 756.157,1244.88 759.339,1244.88 762.521,1244.88 765.703,1244.88 \\n  768.885,1244.88 772.067,1244.88 775.248,1244.88 778.43,1244.88 781.612,1244.88 784.794,1244.88 787.976,1244.88 791.158,1244.88 794.34,1244.88 797.522,1244.88 \\n  800.704,1244.88 803.886,1244.88 807.068,1244.88 810.25,1244.88 813.432,1244.88 816.614,1244.88 819.796,1244.88 822.978,1244.88 826.159,1244.88 829.341,1244.88 \\n  832.523,1244.88 835.705,1244.88 838.887,1244.88 842.069,1244.88 845.251,1244.88 848.433,1244.88 851.615,1244.88 854.797,1244.88 857.979,1244.88 861.161,1244.88 \\n  864.343,1244.88 867.525,1064.13 870.707,1064.13 873.889,1064.13 877.07,1064.13 880.252,1064.13 883.434,1064.13 886.616,1064.13 889.798,1064.13 892.98,1064.13 \\n  896.162,1064.13 899.344,1064.13 902.526,1064.13 905.708,1064.13 908.89,1064.13 912.072,1064.13 915.254,1064.13 918.436,1064.13 921.618,1064.13 924.799,1064.13 \\n  927.981,1064.13 931.163,1064.13 934.345,1064.13 937.527,1064.13 940.709,1064.13 943.891,1064.13 947.073,1064.13 950.255,1064.13 953.437,1064.13 956.619,1064.13 \\n  959.801,1064.13 962.983,1064.13 966.165,1064.13 969.347,1064.13 972.529,1064.13 975.71,1064.13 978.892,1064.13 982.074,1064.13 985.256,1064.13 988.438,1064.13 \\n  991.62,1064.13 994.802,1064.13 997.984,1064.13 1001.17,1064.13 1004.35,1064.13 1007.53,1064.13 1010.71,1064.13 1013.89,1064.13 1017.08,1064.13 1020.26,1064.13 \\n  1023.44,1064.13 1026.62,1064.13 1029.8,1064.13 1032.99,1064.13 1036.17,1064.13 1039.35,1064.13 1042.53,1064.13 1045.71,1064.13 1048.9,1064.13 1052.08,1064.13 \\n  1055.26,1064.13 1058.44,1064.13 1061.62,1064.13 1064.8,1064.13 1067.99,1064.13 1071.17,1064.13 1074.35,1064.13 1077.53,1064.13 1080.71,1064.13 1083.9,1064.13 \\n  1087.08,1064.13 1090.26,1064.13 1093.44,1064.13 1096.62,1064.13 1099.81,1064.13 1102.99,1064.13 1106.17,1064.13 1109.35,1064.13 1112.53,1064.13 1115.72,1064.13 \\n  1118.9,1064.13 1122.08,1064.13 1125.26,1064.13 1128.44,1064.13 1131.63,1064.13 1134.81,1064.13 1137.99,1064.13 1141.17,1064.13 1144.35,1064.13 1147.54,1064.13 \\n  1150.72,1064.13 1153.9,1064.13 1157.08,1064.13 1160.26,1064.13 1163.44,1064.13 1166.63,1064.13 1169.81,1064.13 1172.99,1064.13 1176.17,1064.13 1179.35,1064.13 \\n  1182.54,1064.13 \\n  \\\"\\/>\\n<polygon clip-path=\\\"url(#clip3600)\\\" points=\\\"\\n1482.78,1425.62 2352.76,1425.62 2352.76,847.244 1482.78,847.244 \\n  \\\" fill=\\\"#ffffff\\\" fill-rule=\\\"evenodd\\\" fill-opacity=\\\"1\\\"\\/>\\n<defs>\\n  <clipPath id=\\\"clip3605\\\">\\n    <rect x=\\\"1482\\\" y=\\\"847\\\" width=\\\"871\\\" height=\\\"579\\\"\\/>\\n  <\\/clipPath>\\n<\\/defs>\\n<polyline clip-path=\\\"url(#clip3605)\\\" style=\\\"stroke:#000000; stroke-width:2; stroke-opacity:0.1; fill:none\\\" points=\\\"\\n  1605.89,1425.62 1605.89,847.244 \\n  \\\"\\/>\\n<polyline clip-path=\\\"url(#clip3605)\\\" style=\\\"stroke:#000000; stroke-width:2; stroke-opacity:0.1; fill:none\\\" points=\\\"\\n  1737.21,1425.62 1737.21,847.244 \\n  \\\"\\/>\\n<polyline clip-path=\\\"url(#clip3605)\\\" style=\\\"stroke:#000000; stroke-width:2; stroke-opacity:0.1; fill:none\\\" points=\\\"\\n  1868.52,1425.62 1868.52,847.244 \\n  \\\"\\/>\\n<polyline clip-path=\\\"url(#clip3605)\\\" style=\\\"stroke:#000000; stroke-width:2; stroke-opacity:0.1; fill:none\\\" points=\\\"\\n  1999.84,1425.62 1999.84,847.244 \\n  \\\"\\/>\\n<polyline clip-path=\\\"url(#clip3605)\\\" style=\\\"stroke:#000000; stroke-width:2; stroke-opacity:0.1; fill:none\\\" points=\\\"\\n  2131.16,1425.62 2131.16,847.244 \\n  \\\"\\/>\\n<polyline clip-path=\\\"url(#clip3605)\\\" style=\\\"stroke:#000000; stroke-width:2; stroke-opacity:0.1; fill:none\\\" points=\\\"\\n  2262.48,1425.62 2262.48,847.244 \\n  \\\"\\/>\\n<polyline clip-path=\\\"url(#clip3605)\\\" style=\\\"stroke:#000000; stroke-width:2; stroke-opacity:0.1; fill:none\\\" points=\\\"\\n  1482.78,1425.62 2352.76,1425.62 \\n  \\\"\\/>\\n<polyline clip-path=\\\"url(#clip3605)\\\" style=\\\"stroke:#000000; stroke-width:2; stroke-opacity:0.1; fill:none\\\" points=\\\"\\n  1482.78,1309.94 2352.76,1309.94 \\n  \\\"\\/>\\n<polyline clip-path=\\\"url(#clip3605)\\\" style=\\\"stroke:#000000; stroke-width:2; stroke-opacity:0.1; fill:none\\\" points=\\\"\\n  1482.78,1194.27 2352.76,1194.27 \\n  \\\"\\/>\\n<polyline clip-path=\\\"url(#clip3605)\\\" style=\\\"stroke:#000000; stroke-width:2; stroke-opacity:0.1; fill:none\\\" points=\\\"\\n  1482.78,1078.59 2352.76,1078.59 \\n  \\\"\\/>\\n<polyline clip-path=\\\"url(#clip3605)\\\" style=\\\"stroke:#000000; stroke-width:2; stroke-opacity:0.1; fill:none\\\" points=\\\"\\n  1482.78,962.919 2352.76,962.919 \\n  \\\"\\/>\\n<polyline clip-path=\\\"url(#clip3605)\\\" style=\\\"stroke:#000000; stroke-width:2; stroke-opacity:0.1; fill:none\\\" points=\\\"\\n  1482.78,847.244 2352.76,847.244 \\n  \\\"\\/>\\n<polyline clip-path=\\\"url(#clip3600)\\\" style=\\\"stroke:#000000; stroke-width:4; stroke-opacity:1; fill:none\\\" points=\\\"\\n  1482.78,1425.62 2352.76,1425.62 \\n  \\\"\\/>\\n<polyline clip-path=\\\"url(#clip3600)\\\" style=\\\"stroke:#000000; stroke-width:4; stroke-opacity:1; fill:none\\\" points=\\\"\\n  1482.78,1425.62 1482.78,847.244 \\n  \\\"\\/>\\n<polyline clip-path=\\\"url(#clip3600)\\\" style=\\\"stroke:#000000; stroke-width:4; stroke-opacity:1; fill:none\\\" points=\\\"\\n  1605.89,1425.62 1605.89,1416.94 \\n  \\\"\\/>\\n<polyline clip-path=\\\"url(#clip3600)\\\" style=\\\"stroke:#000000; stroke-width:4; stroke-opacity:1; fill:none\\\" points=\\\"\\n  1737.21,1425.62 1737.21,1416.94 \\n  \\\"\\/>\\n<polyline clip-path=\\\"url(#clip3600)\\\" style=\\\"stroke:#000000; stroke-width:4; stroke-opacity:1; fill:none\\\" points=\\\"\\n  1868.52,1425.62 1868.52,1416.94 \\n  \\\"\\/>\\n<polyline clip-path=\\\"url(#clip3600)\\\" style=\\\"stroke:#000000; stroke-width:4; stroke-opacity:1; fill:none\\\" points=\\\"\\n  1999.84,1425.62 1999.84,1416.94 \\n  \\\"\\/>\\n<polyline clip-path=\\\"url(#clip3600)\\\" style=\\\"stroke:#000000; stroke-width:4; stroke-opacity:1; fill:none\\\" points=\\\"\\n  2131.16,1425.62 2131.16,1416.94 \\n  \\\"\\/>\\n<polyline clip-path=\\\"url(#clip3600)\\\" style=\\\"stroke:#000000; stroke-width:4; stroke-opacity:1; fill:none\\\" points=\\\"\\n  2262.48,1425.62 2262.48,1416.94 \\n  \\\"\\/>\\n<polyline clip-path=\\\"url(#clip3600)\\\" style=\\\"stroke:#000000; stroke-width:4; stroke-opacity:1; fill:none\\\" points=\\\"\\n  1482.78,1425.62 1495.83,1425.62 \\n  \\\"\\/>\\n<polyline clip-path=\\\"url(#clip3600)\\\" style=\\\"stroke:#000000; stroke-width:4; stroke-opacity:1; fill:none\\\" points=\\\"\\n  1482.78,1309.94 1495.83,1309.94 \\n  \\\"\\/>\\n<polyline clip-path=\\\"url(#clip3600)\\\" style=\\\"stroke:#000000; stroke-width:4; stroke-opacity:1; fill:none\\\" points=\\\"\\n  1482.78,1194.27 1495.83,1194.27 \\n  \\\"\\/>\\n<polyline clip-path=\\\"url(#clip3600)\\\" style=\\\"stroke:#000000; stroke-width:4; stroke-opacity:1; fill:none\\\" points=\\\"\\n  1482.78,1078.59 1495.83,1078.59 \\n  \\\"\\/>\\n<polyline clip-path=\\\"url(#clip3600)\\\" style=\\\"stroke:#000000; stroke-width:4; stroke-opacity:1; fill:none\\\" points=\\\"\\n  1482.78,962.919 1495.83,962.919 \\n  \\\"\\/>\\n<polyline clip-path=\\\"url(#clip3600)\\\" style=\\\"stroke:#000000; stroke-width:4; stroke-opacity:1; fill:none\\\" points=\\\"\\n  1482.78,847.244 1495.83,847.244 \\n  \\\"\\/>\\n<g clip-path=\\\"url(#clip3600)\\\">\\n<text style=\\\"fill:#000000; fill-opacity:1; font-family:Arial,Helvetica Neue,Helvetica,sans-serif; font-size:48px; text-anchor:middle;\\\" transform=\\\"rotate(0, 1605.89, 1479.62)\\\" x=\\\"1605.89\\\" y=\\\"1479.62\\\">40<\\/text>\\n<\\/g>\\n<g clip-path=\\\"url(#clip3600)\\\">\\n<text style=\\\"fill:#000000; fill-opacity:1; font-family:Arial,Helvetica Neue,Helvetica,sans-serif; font-size:48px; text-anchor:middle;\\\" transform=\\\"rotate(0, 1737.21, 1479.62)\\\" x=\\\"1737.21\\\" y=\\\"1479.62\\\">60<\\/text>\\n<\\/g>\\n<g clip-path=\\\"url(#clip3600)\\\">\\n<text style=\\\"fill:#000000; fill-opacity:1; font-family:Arial,Helvetica Neue,Helvetica,sans-serif; font-size:48px; text-anchor:middle;\\\" transform=\\\"rotate(0, 1868.52, 1479.62)\\\" x=\\\"1868.52\\\" y=\\\"1479.62\\\">80<\\/text>\\n<\\/g>\\n<g clip-path=\\\"url(#clip3600)\\\">\\n<text style=\\\"fill:#000000; fill-opacity:1; font-family:Arial,Helvetica Neue,Helvetica,sans-serif; font-size:48px; text-anchor:middle;\\\" transform=\\\"rotate(0, 1999.84, 1479.62)\\\" x=\\\"1999.84\\\" y=\\\"1479.62\\\">100<\\/text>\\n<\\/g>\\n<g clip-path=\\\"url(#clip3600)\\\">\\n<text style=\\\"fill:#000000; fill-opacity:1; font-family:Arial,Helvetica Neue,Helvetica,sans-serif; font-size:48px; text-anchor:middle;\\\" transform=\\\"rotate(0, 2131.16, 1479.62)\\\" x=\\\"2131.16\\\" y=\\\"1479.62\\\">120<\\/text>\\n<\\/g>\\n<g clip-path=\\\"url(#clip3600)\\\">\\n<text style=\\\"fill:#000000; fill-opacity:1; font-family:Arial,Helvetica Neue,Helvetica,sans-serif; font-size:48px; text-anchor:middle;\\\" transform=\\\"rotate(0, 2262.48, 1479.62)\\\" x=\\\"2262.48\\\" y=\\\"1479.62\\\">140<\\/text>\\n<\\/g>\\n<g clip-path=\\\"url(#clip3600)\\\">\\n<text style=\\\"fill:#000000; fill-opacity:1; font-family:Arial,Helvetica Neue,Helvetica,sans-serif; font-size:48px; text-anchor:end;\\\" transform=\\\"rotate(0, 1458.78, 1443.12)\\\" x=\\\"1458.78\\\" y=\\\"1443.12\\\">0<\\/text>\\n<\\/g>\\n<g clip-path=\\\"url(#clip3600)\\\">\\n<text style=\\\"fill:#000000; fill-opacity:1; font-family:Arial,Helvetica Neue,Helvetica,sans-serif; font-size:48px; text-anchor:end;\\\" transform=\\\"rotate(0, 1458.78, 1327.44)\\\" x=\\\"1458.78\\\" y=\\\"1327.44\\\">50<\\/text>\\n<\\/g>\\n<g clip-path=\\\"url(#clip3600)\\\">\\n<text style=\\\"fill:#000000; fill-opacity:1; font-family:Arial,Helvetica Neue,Helvetica,sans-serif; font-size:48px; text-anchor:end;\\\" transform=\\\"rotate(0, 1458.78, 1211.77)\\\" x=\\\"1458.78\\\" y=\\\"1211.77\\\">100<\\/text>\\n<\\/g>\\n<g clip-path=\\\"url(#clip3600)\\\">\\n<text style=\\\"fill:#000000; fill-opacity:1; font-family:Arial,Helvetica Neue,Helvetica,sans-serif; font-size:48px; text-anchor:end;\\\" transform=\\\"rotate(0, 1458.78, 1096.09)\\\" x=\\\"1458.78\\\" y=\\\"1096.09\\\">150<\\/text>\\n<\\/g>\\n<g clip-path=\\\"url(#clip3600)\\\">\\n<text style=\\\"fill:#000000; fill-opacity:1; font-family:Arial,Helvetica Neue,Helvetica,sans-serif; font-size:48px; text-anchor:end;\\\" transform=\\\"rotate(0, 1458.78, 980.419)\\\" x=\\\"1458.78\\\" y=\\\"980.419\\\">200<\\/text>\\n<\\/g>\\n<g clip-path=\\\"url(#clip3600)\\\">\\n<text style=\\\"fill:#000000; fill-opacity:1; font-family:Arial,Helvetica Neue,Helvetica,sans-serif; font-size:48px; text-anchor:end;\\\" transform=\\\"rotate(0, 1458.78, 864.744)\\\" x=\\\"1458.78\\\" y=\\\"864.744\\\">250<\\/text>\\n<\\/g>\\n<g clip-path=\\\"url(#clip3600)\\\">\\n<text style=\\\"fill:#000000; fill-opacity:1; font-family:Arial,Helvetica Neue,Helvetica,sans-serif; font-size:66px; text-anchor:middle;\\\" transform=\\\"rotate(0, 1917.77, 1559.48)\\\" x=\\\"1917.77\\\" y=\\\"1559.48\\\">Cost of G1<\\/text>\\n<\\/g>\\n<g clip-path=\\\"url(#clip3600)\\\">\\n<text style=\\\"fill:#000000; fill-opacity:1; font-family:Arial,Helvetica Neue,Helvetica,sans-serif; font-size:66px; text-anchor:middle;\\\" transform=\\\"rotate(-90, 1342.93, 1136.43)\\\" x=\\\"1342.93\\\" y=\\\"1136.43\\\">Dispatch: Wind<\\/text>\\n<\\/g>\\n<polyline clip-path=\\\"url(#clip3605)\\\" style=\\\"stroke:#009af9; stroke-width:4; stroke-opacity:1; fill:none\\\" points=\\\"\\n  1507.4,1425.62 1510.69,1425.62 1513.97,1425.62 1517.25,1425.62 1520.53,1425.62 1523.82,1425.62 1527.1,1425.62 1530.38,1425.62 1533.67,1425.62 1536.95,1425.62 \\n  1540.23,1425.62 1543.51,1425.62 1546.8,1425.62 1550.08,1425.62 1553.36,1425.62 1556.65,1425.62 1559.93,1425.62 1563.21,1425.62 1566.49,1425.62 1569.78,1425.62 \\n  1573.06,1425.62 1576.34,1425.62 1579.63,1425.62 1582.91,1425.62 1586.19,1425.62 1589.48,1425.62 1592.76,1425.62 1596.04,1425.62 1599.32,1425.62 1602.61,1425.62 \\n  1605.89,1425.62 1609.17,1425.62 1612.46,1425.62 1615.74,1425.62 1619.02,1425.62 1622.3,1425.62 1625.59,1425.62 1628.87,1425.62 1632.15,1425.62 1635.44,1425.62 \\n  1638.72,1425.62 1642,1425.62 1645.29,1425.62 1648.57,1425.62 1651.85,1425.62 1655.13,1425.62 1658.42,1425.62 1661.7,1425.62 1664.98,1425.62 1668.27,1425.62 \\n  1671.55,1425.62 1674.83,1425.62 1678.11,1425.62 1681.4,1425.62 1684.68,1425.62 1687.96,1425.62 1691.25,1425.62 1694.53,1425.62 1697.81,1425.62 1701.09,1425.62 \\n  1704.38,1425.62 1707.66,1425.62 1710.94,1425.62 1714.23,1425.62 1717.51,1425.62 1720.79,1425.62 1724.08,1425.62 1727.36,1425.62 1730.64,1425.62 1733.92,1425.62 \\n  1737.21,1425.62 1740.49,1425.62 1743.77,1425.62 1747.06,1425.62 1750.34,1425.62 1753.62,1425.62 1756.9,1425.62 1760.19,1425.62 1763.47,1425.62 1766.75,1425.62 \\n  1770.04,1425.62 1773.32,1425.62 1776.6,1425.62 1779.89,1425.62 1783.17,1425.62 1786.45,1425.62 1789.73,1425.62 1793.02,1425.62 1796.3,1425.62 1799.58,1425.62 \\n  1802.87,1425.62 1806.15,1425.62 1809.43,1425.62 1812.71,1425.62 1816,1425.62 1819.28,1425.62 1822.56,1425.62 1825.85,1425.62 1829.13,1425.62 1832.41,1425.62 \\n  1835.69,1425.62 1838.98,1425.62 1842.26,1425.62 1845.54,1425.62 1848.83,1425.62 1852.11,1425.62 1855.39,1425.62 1858.68,1425.62 1861.96,1425.62 1865.24,1425.62 \\n  1868.52,1425.62 1871.81,1425.62 1875.09,1425.62 1878.37,1425.62 1881.66,1425.62 1884.94,1425.62 1888.22,1425.62 1891.5,1425.62 1894.79,1425.62 1898.07,1425.62 \\n  1901.35,1425.62 1904.64,1425.62 1907.92,1425.62 1911.2,1425.62 1914.49,1425.62 1917.77,1425.62 1921.05,1425.62 1924.33,1425.62 1927.62,1425.62 1930.9,1425.62 \\n  1934.18,1425.62 1937.47,1425.62 1940.75,1425.62 1944.03,1425.62 1947.31,1425.62 1950.6,1425.62 1953.88,1425.62 1957.16,1425.62 1960.45,1425.62 1963.73,1425.62 \\n  1967.01,1425.62 1970.29,1425.62 1973.58,1425.62 1976.86,1425.62 1980.14,1425.62 1983.43,1425.62 1986.71,1425.62 1989.99,1425.62 1993.28,1425.62 1996.56,1425.62 \\n  1999.84,1425.62 2003.12,1425.62 2006.41,1425.62 2009.69,1425.62 2012.97,1425.62 2016.26,1425.62 2019.54,1425.62 2022.82,1425.62 2026.1,1425.62 2029.39,1425.62 \\n  2032.67,1425.62 2035.95,1425.62 2039.24,1425.62 2042.52,1425.62 2045.8,1425.62 2049.09,1425.62 2052.37,1425.62 2055.65,1425.62 2058.93,1425.62 2062.22,1425.62 \\n  2065.5,1425.62 2068.78,962.919 2072.07,962.919 2075.35,962.919 2078.63,962.919 2081.91,962.919 2085.2,962.919 2088.48,962.919 2091.76,962.919 2095.05,962.919 \\n  2098.33,962.919 2101.61,962.919 2104.89,962.919 2108.18,962.919 2111.46,962.919 2114.74,962.919 2118.03,962.919 2121.31,962.919 2124.59,962.919 2127.88,962.919 \\n  2131.16,962.919 2134.44,962.919 2137.72,962.919 2141.01,962.919 2144.29,962.919 2147.57,962.919 2150.86,962.919 2154.14,962.919 2157.42,962.919 2160.7,962.919 \\n  2163.99,962.919 2167.27,962.919 2170.55,962.919 2173.84,962.919 2177.12,962.919 2180.4,962.919 2183.69,962.919 2186.97,962.919 2190.25,962.919 2193.53,962.919 \\n  2196.82,962.919 2200.1,962.919 2203.38,962.919 2206.67,962.919 2209.95,962.919 2213.23,962.919 2216.51,962.919 2219.8,962.919 2223.08,962.919 2226.36,962.919 \\n  2229.65,962.919 2232.93,962.919 2236.21,962.919 2239.49,962.919 2242.78,962.919 2246.06,962.919 2249.34,962.919 2252.63,962.919 2255.91,962.919 2259.19,962.919 \\n  2262.48,962.919 2265.76,962.919 2269.04,962.919 2272.32,962.919 2275.61,962.919 2278.89,962.919 2282.17,962.919 2285.46,962.919 2288.74,962.919 2292.02,962.919 \\n  2295.3,962.919 2298.59,962.919 2301.87,962.919 2305.15,962.919 2308.44,962.919 2311.72,962.919 2315,962.919 2318.29,962.919 2321.57,962.919 2324.85,962.919 \\n  2328.13,962.919 \\n  \\\"\\/>\\n<\\/svg>\\n\"},\"nodeType\":\"DOM\",\"type\":\"node\",\"instanceArgs\":{\"namespace\":\"html\",\"tag\":\"div\"},\"children\":[]}]}}}},\"children\":[{\"props\":{},\"nodeType\":\"ObservableNode\",\"type\":\"node\",\"instanceArgs\":{\"id\":\"ob_07\",\"name\":\"obs-node\"},\"children\":[]}]}]},\n",
       "            window,\n",
       "        );\n",
       "    } else {\n",
       "        document\n",
       "            .querySelector('[data-webio-mountpoint=\"6243253134859462359\"]')\n",
       "            .innerHTML = '<strong>WebIO not detected.</strong>';\n",
       "    }\n",
       "    </script>\n",
       "</div>\n"
      ],
      "text/plain": [
       "Node{WebIO.DOM}(WebIO.DOM(:html, :div), Any[Node{DOM}(DOM(:html, :div), Any[Scope(\"knockout-component-e8d4bc87-8d77-4271-8990-42b7c2513e20\", Node{DOM}(DOM(:html, :div), Any[Node{DOM}(DOM(:html, :div), Any[Node{DOM}(DOM(:html, :label), Any[\"cost_of_wind\"], Dict{Symbol,Any}(:className=>\"interact \",:style=>Dict{Any,Any}(:padding=>\"5px 10px 0px 10px\")), 1)], Dict{Symbol,Any}(:className=>\"interact-flex-row-left\"), 2), Node{DOM}(DOM(:html, :div), Any[Node{DOM}(DOM(:html, :input), Any[], Dict{Symbol,Any}(:max=>26,:min=>1,:attributes=>Dict{Any,Any}(:type=>\"range\",Symbol(\"data-bind\")=>\"numericValue: index, valueUpdate: 'input', event: {change: function (){this.changes(this.changes()+1)}}\",\"orient\"=>\"horizontal\"),:step=>1,:className=>\"slider slider is-fullwidth\",:style=>Dict{Any,Any}()), 0)], Dict{Symbol,Any}(:className=>\"interact-flex-row-center\"), 1), Node{DOM}(DOM(:html, :div), Any[Node{DOM}(DOM(:html, :p), Any[], Dict{Symbol,Any}(:attributes=>Dict(\"data-bind\"=>\"text: formatted_val\")), 0)], Dict{Symbol,Any}(:className=>\"interact-flex-row-right\"), 1)], Dict{Symbol,Any}(:className=>\"interact-flex-row interact-widget\"), 7), Dict{String,Tuple{Observables.AbstractObservable,Union{Nothing, Bool}}}(\"changes\"=>(Observable{Int64} with 1 listeners. Value:\n",
       "0, nothing),\"index\"=>(Observable{Any} with 2 listeners. Value:\n",
       "13, nothing)), Set(String[]), nothing, Asset[Asset(\"js\", \"knockout\", \"/Users/carleton/.julia/packages/Knockout/JE2Yq/src/../assets/knockout.js\"), Asset(\"js\", \"knockout_punches\", \"/Users/carleton/.julia/packages/Knockout/JE2Yq/src/../assets/knockout_punches.js\"), Asset(\"js\", nothing, \"/Users/carleton/.julia/packages/InteractBase/R8JgH/src/../assets/all.js\"), Asset(\"css\", nothing, \"/Users/carleton/.julia/packages/InteractBase/R8JgH/src/../assets/style.css\"), Asset(\"css\", nothing, \"/Users/carleton/.julia/packages/Interact/0klKX/src/../assets/bulma_confined.min.css\")], Dict{Any,Any}(\"changes\"=>Any[JSString(\"(function (val){return (val!=this.model[\\\"changes\\\"]()) ? (this.valueFromJulia[\\\"changes\\\"]=true, this.model[\\\"changes\\\"](val)) : undefined})\")],\"index\"=>Any[JSString(\"(function (val){return (val!=this.model[\\\"index\\\"]()) ? (this.valueFromJulia[\\\"index\\\"]=true, this.model[\\\"index\\\"](val)) : undefined})\")]), ConnectionPool(Channel{Any}(sz_max:9223372036854775807,sz_curr:0), Set(AbstractConnection[]), Channel{AbstractConnection}(sz_max:32,sz_curr:0)), WebIO.JSString[JSString(\"function () {\\n    var handler = (function (ko, koPunches) {\\n    ko.punches.enableAll();\\n    ko.bindingHandlers.numericValue = {\\n        init : function(element, valueAccessor, allBindings, data, context) {\\n            var stringified = ko.observable(ko.unwrap(valueAccessor()));\\n            stringified.subscribe(function(value) {\\n                var val = parseFloat(value);\\n                if (!isNaN(val)) {\\n                    valueAccessor()(val);\\n                }\\n            })\\n            valueAccessor().subscribe(function(value) {\\n                var str = JSON.stringify(value);\\n                if ((str == \\\"0\\\") && ([\\\"-0\\\", \\\"-0.\\\"].indexOf(stringified()) >= 0))\\n                     return;\\n                 if ([\\\"null\\\", \\\"\\\"].indexOf(str) >= 0)\\n                     return;\\n                stringified(str);\\n            })\\n            ko.applyBindingsToNode(element, { value: stringified, valueUpdate: allBindings.get('valueUpdate')}, context);\\n        }\\n    };\\n    var json_data = {\\\"formatted_vals\\\":[\\\"50.0\\\",\\\"55.0\\\",\\\"60.0\\\",\\\"65.0\\\",\\\"70.0\\\",\\\"75.0\\\",\\\"80.0\\\",\\\"85.0\\\",\\\"90.0\\\",\\\"95.0\\\",\\\"100.0\\\",\\\"105.0\\\",\\\"110.0\\\",\\\"115.0\\\",\\\"120.0\\\",\\\"125.0\\\",\\\"130.0\\\",\\\"135.0\\\",\\\"140.0\\\",\\\"145.0\\\",\\\"150.0\\\",\\\"155.0\\\",\\\"160.0\\\",\\\"165.0\\\",\\\"170.0\\\",\\\"175.0\\\"],\\\"changes\\\":WebIO.getval({\\\"name\\\":\\\"changes\\\",\\\"scope\\\":\\\"knockout-component-e8d4bc87-8d77-4271-8990-42b7c2513e20\\\",\\\"id\\\":\\\"ob_03\\\",\\\"type\\\":\\\"observable\\\"}),\\\"index\\\":WebIO.getval({\\\"name\\\":\\\"index\\\",\\\"scope\\\":\\\"knockout-component-e8d4bc87-8d77-4271-8990-42b7c2513e20\\\",\\\"id\\\":\\\"ob_02\\\",\\\"type\\\":\\\"observable\\\"})};\\n    var self = this;\\n    function AppViewModel() {\\n        for (var key in json_data) {\\n            var el = json_data[key];\\n            this[key] = Array.isArray(el) ? ko.observableArray(el) : ko.observable(el);\\n        }\\n        \\n        [this[\\\"formatted_val\\\"]=ko.computed(    function(){\\n        return this.formatted_vals()[parseInt(this.index())-1];\\n    }\\n,this)]\\n        [this[\\\"changes\\\"].subscribe((function (val){!(this.valueFromJulia[\\\"changes\\\"]) ? (WebIO.setval({\\\"name\\\":\\\"changes\\\",\\\"scope\\\":\\\"knockout-component-e8d4bc87-8d77-4271-8990-42b7c2513e20\\\",\\\"id\\\":\\\"ob_03\\\",\\\"type\\\":\\\"observable\\\"},val)) : undefined; return this.valueFromJulia[\\\"changes\\\"]=false}),self),this[\\\"index\\\"].subscribe((function (val){!(this.valueFromJulia[\\\"index\\\"]) ? (WebIO.setval({\\\"name\\\":\\\"index\\\",\\\"scope\\\":\\\"knockout-component-e8d4bc87-8d77-4271-8990-42b7c2513e20\\\",\\\"id\\\":\\\"ob_02\\\",\\\"type\\\":\\\"observable\\\"},val)) : undefined; return this.valueFromJulia[\\\"index\\\"]=false}),self)]\\n        \\n    }\\n    self.model = new AppViewModel();\\n    self.valueFromJulia = {};\\n    for (var key in json_data) {\\n        self.valueFromJulia[key] = false;\\n    }\\n    ko.applyBindings(self.model, self.dom);\\n}\\n);\\n    (WebIO.importBlock({\\\"data\\\":[{\\\"name\\\":\\\"knockout\\\",\\\"type\\\":\\\"js\\\",\\\"url\\\":\\\"/assetserver/0db2030eda8ae695ee385b177287a65d5698da81-knockout.js\\\"},{\\\"name\\\":\\\"knockout_punches\\\",\\\"type\\\":\\\"js\\\",\\\"url\\\":\\\"/assetserver/ab0f37d8318710d8b034c6f57de3dc43b8f803db-knockout_punches.js\\\"}],\\\"type\\\":\\\"async_block\\\"})).then((imports) => handler.apply(this, imports));\\n}\\n\")])], Dict{Symbol,Any}(:className=>\"field interact-widget\"), 1), Observable{Any} with 0 listeners. Value:\n",
       "Node{DOM}(DOM(:html, :div), Any[Plot{Plots.GRBackend() n=4}], Dict{Symbol,Any}(:className=>\"interact-flex-row interact-widget\"), 1)], Dict{Symbol,Any}(), 2)"
      ]
     },
     "execution_count": 33,
     "metadata": {
      "application/vnd.webio.node+json": {
       "kernelId": "283b75d2-947d-4fef-93e3-13ec90e51c32"
      }
     },
     "output_type": "execute_result"
    }
   ],
   "source": [
    "@manipulate for cost_of_wind in COST_WIND .* (1:0.1:3.5)\n",
    "    solutions = Any[]\n",
    "    cost_of_g1 = COST_GENERATION[1] .* (0.5:0.01:3.0)\n",
    "    for c_g1 in cost_of_g1\n",
    "        # update the incremental cost of the first generator at every iteration\n",
    "        solution = solve_economic_dispatch(\n",
    "            cost_of_thermal = [c_g1, COST_GENERATION[2]],\n",
    "            cost_of_wind = cost_of_wind\n",
    "        )\n",
    "        push!(solutions, solution)\n",
    "    end\n",
    "    \n",
    "    # Plot the outputs\n",
    "    plot(\n",
    "        # Plot the total cost\n",
    "        plot(cost_of_g1, [sol.cost for sol in solutions],\n",
    "            ylabel = \"Total cost\",\n",
    "            ylims = (50000, 200000)\n",
    "        ),\n",
    "        # Plot the power output of Generator 1\n",
    "        plot(cost_of_g1, [sol.generation[1] for sol in solutions],\n",
    "            ylabel = \"Dispatch: G1\",\n",
    "            ylims = (0, 1100)\n",
    "        ),\n",
    "        # Plot the power output of Generator 2    \n",
    "        plot(cost_of_g1, [sol.generation[2] for sol in solutions],\n",
    "            ylabel = \"Dispatch: G2\",\n",
    "            ylims = (0, 1600)\n",
    "        ),\n",
    "        # Plot the wind power output\n",
    "        plot(cost_of_g1, [sol.wind_generation for sol in solutions],\n",
    "            ylabel = \"Dispatch: Wind\",\n",
    "            ylims = (0, 250)\n",
    "        ),\n",
    "        legend = false,\n",
    "        xlabel = \"Cost of G1\"\n",
    "    )\n",
    "end"
   ]
  },
  {
   "cell_type": "markdown",
   "metadata": {},
   "source": [
    "## Nonlinear example\n",
    "\n",
    "JuMP can also be used to solve non-linear problems (NLP). We saw a brief hint of this earlier when we used Ipopt and the `@NLobjective` macro. In the next example, we add nonlinearity to the cost of the second generator. The new cost of generation is\n",
    "$$\\text{generation_cost} = c_1^g\\times g_1 + \\frac{c_2^g\\times  g_2^{1.5}}{\\sqrt{1000}}.$$\n"
   ]
  },
  {
   "cell_type": "code",
   "execution_count": 34,
   "metadata": {},
   "outputs": [
    {
     "data": {
      "text/plain": [
       "solve_nonlinear_economic_dispatch"
      ]
     },
     "execution_count": 34,
     "metadata": {},
     "output_type": "execute_result"
    }
   ],
   "source": [
    "\"\"\"\n",
    "    solve_economic_dispatch(; cost_of_thermal::Vector, cost_of_wind)\n",
    "\n",
    "Formulate and solve the economic dispatch problem given the cost of generation \n",
    "for the two thermal generators and the cost of wind generation.\n",
    "\"\"\"\n",
    "function solve_nonlinear_economic_dispatch(;\n",
    "        cost_of_thermal = COST_GENERATION, \n",
    "        cost_of_wind = COST_WIND)\n",
    "    economic_dispatch = Model(solver = IPOPT_SOLVER) \n",
    "    \n",
    "    @variables(economic_dispatch, begin\n",
    "        g[i=1:2] >= 0\n",
    "        w >= 0\n",
    "    end)\n",
    "\n",
    "    # ===========================================================\n",
    "    # You can write out nonlinear expression in the @NLobjective macro\n",
    "    # The same also applies for @NLconstraint.\n",
    "    @NLobjective(economic_dispatch, Min,\n",
    "        cost_of_thermal[1] * g[1] + \n",
    "        cost_of_thermal[2] * g[2]^1.5 / sqrt(1000) + \n",
    "        cost_of_wind * w)\n",
    "    # ===========================================================\n",
    "    # Look! This bit changed.\n",
    "    function generator_cost(g1, g2)\n",
    "        return cost_of_thermal[1] * g1 + cost_of_thermal[2] * g2^1.5 / sqrt(1000)\n",
    "    end\n",
    "    JuMP.register(economic_dispatch, :generator_cost, 2, generator_cost, autodiff=true)\n",
    "    @NLobjective(economic_dispatch, Min, \n",
    "        generator_cost(g[1], g[2]) + cost_of_wind * w)\n",
    "    # ===========================================================\n",
    "    \n",
    "    for i in 1:2\n",
    "        @constraint(economic_dispatch, g[i] <= GENERATION_MAX[i])\n",
    "        @constraint(economic_dispatch, g[i] >= GENERATION_MIN[i])\n",
    "    end    \n",
    "    @constraints(economic_dispatch, begin\n",
    "        w <= WIND_MAX\n",
    "        sum(g[i] for i in 1:2) + w == DEMAND\n",
    "    end)\n",
    "    solve(economic_dispatch)\n",
    "    return (\n",
    "        generation = getvalue(g), \n",
    "        wind_generation = getvalue(w),\n",
    "        wind_spillage = WIND_MAX - getvalue(w),\n",
    "        cost = getobjectivevalue(economic_dispatch)\n",
    "    )\n",
    "end"
   ]
  },
  {
   "cell_type": "code",
   "execution_count": 35,
   "metadata": {},
   "outputs": [
    {
     "data": {
      "application/vnd.webio.node+json": {
       "children": [
        {
         "children": [
          {
           "children": [
            {
             "children": [
              {
               "children": [
                {
                 "children": [
                  "cost_of_wind"
                 ],
                 "instanceArgs": {
                  "namespace": "html",
                  "tag": "label"
                 },
                 "nodeType": "DOM",
                 "props": {
                  "className": "interact ",
                  "style": {
                   "padding": "5px 10px 0px 10px"
                  }
                 },
                 "type": "node"
                }
               ],
               "instanceArgs": {
                "namespace": "html",
                "tag": "div"
               },
               "nodeType": "DOM",
               "props": {
                "className": "interact-flex-row-left"
               },
               "type": "node"
              },
              {
               "children": [
                {
                 "children": [],
                 "instanceArgs": {
                  "namespace": "html",
                  "tag": "input"
                 },
                 "nodeType": "DOM",
                 "props": {
                  "attributes": {
                   "data-bind": "numericValue: index, valueUpdate: 'input', event: {change: function (){this.changes(this.changes()+1)}}",
                   "orient": "horizontal",
                   "type": "range"
                  },
                  "className": "slider slider is-fullwidth",
                  "max": 13,
                  "min": 1,
                  "step": 1,
                  "style": {}
                 },
                 "type": "node"
                }
               ],
               "instanceArgs": {
                "namespace": "html",
                "tag": "div"
               },
               "nodeType": "DOM",
               "props": {
                "className": "interact-flex-row-center"
               },
               "type": "node"
              },
              {
               "children": [
                {
                 "children": [],
                 "instanceArgs": {
                  "namespace": "html",
                  "tag": "p"
                 },
                 "nodeType": "DOM",
                 "props": {
                  "attributes": {
                   "data-bind": "text: formatted_val"
                  }
                 },
                 "type": "node"
                }
               ],
               "instanceArgs": {
                "namespace": "html",
                "tag": "div"
               },
               "nodeType": "DOM",
               "props": {
                "className": "interact-flex-row-right"
               },
               "type": "node"
              }
             ],
             "instanceArgs": {
              "namespace": "html",
              "tag": "div"
             },
             "nodeType": "DOM",
             "props": {
              "className": "interact-flex-row interact-widget"
             },
             "type": "node"
            }
           ],
           "instanceArgs": {
            "handlers": {
             "changes": [
              "(function (val){return (val!=this.model[\"changes\"]()) ? (this.valueFromJulia[\"changes\"]=true, this.model[\"changes\"](val)) : undefined})"
             ],
             "index": [
              "(function (val){return (val!=this.model[\"index\"]()) ? (this.valueFromJulia[\"index\"]=true, this.model[\"index\"](val)) : undefined})"
             ]
            },
            "id": "knockout-component-b6e4ad19-ee8b-49ae-93bd-efbb76d4f477",
            "imports": {
             "data": [
              {
               "name": "knockout",
               "type": "js",
               "url": "/assetserver/0db2030eda8ae695ee385b177287a65d5698da81-knockout.js"
              },
              {
               "name": "knockout_punches",
               "type": "js",
               "url": "/assetserver/ab0f37d8318710d8b034c6f57de3dc43b8f803db-knockout_punches.js"
              },
              {
               "name": null,
               "type": "js",
               "url": "/assetserver/328dc776aa9f428539a661e8f9a278c165884663-all.js"
              },
              {
               "name": null,
               "type": "css",
               "url": "/assetserver/d23f72b7b3b6c3fabe3e7e1f280b67d5d679fe0b-style.css"
              },
              {
               "name": null,
               "type": "css",
               "url": "/assetserver/f116afb558b7c1b42a69d9c8d6e53ef190388cb9-bulma_confined.min.css"
              }
             ],
             "type": "async_block"
            },
            "mount_callbacks": [
             "function () {\n    var handler = (function (ko, koPunches) {\n    ko.punches.enableAll();\n    ko.bindingHandlers.numericValue = {\n        init : function(element, valueAccessor, allBindings, data, context) {\n            var stringified = ko.observable(ko.unwrap(valueAccessor()));\n            stringified.subscribe(function(value) {\n                var val = parseFloat(value);\n                if (!isNaN(val)) {\n                    valueAccessor()(val);\n                }\n            })\n            valueAccessor().subscribe(function(value) {\n                var str = JSON.stringify(value);\n                if ((str == \"0\") && ([\"-0\", \"-0.\"].indexOf(stringified()) >= 0))\n                     return;\n                 if ([\"null\", \"\"].indexOf(str) >= 0)\n                     return;\n                stringified(str);\n            })\n            ko.applyBindingsToNode(element, { value: stringified, valueUpdate: allBindings.get('valueUpdate')}, context);\n        }\n    };\n    var json_data = {\"formatted_vals\":[\"50.0\",\"60.0\",\"70.0\",\"80.0\",\"90.0\",\"100.0\",\"110.0\",\"120.0\",\"130.0\",\"140.0\",\"150.0\",\"160.0\",\"170.0\"],\"changes\":WebIO.getval({\"name\":\"changes\",\"scope\":\"knockout-component-b6e4ad19-ee8b-49ae-93bd-efbb76d4f477\",\"id\":\"ob_12\",\"type\":\"observable\"}),\"index\":WebIO.getval({\"name\":\"index\",\"scope\":\"knockout-component-b6e4ad19-ee8b-49ae-93bd-efbb76d4f477\",\"id\":\"ob_11\",\"type\":\"observable\"})};\n    var self = this;\n    function AppViewModel() {\n        for (var key in json_data) {\n            var el = json_data[key];\n            this[key] = Array.isArray(el) ? ko.observableArray(el) : ko.observable(el);\n        }\n        \n        [this[\"formatted_val\"]=ko.computed(    function(){\n        return this.formatted_vals()[parseInt(this.index())-1];\n    }\n,this)]\n        [this[\"changes\"].subscribe((function (val){!(this.valueFromJulia[\"changes\"]) ? (WebIO.setval({\"name\":\"changes\",\"scope\":\"knockout-component-b6e4ad19-ee8b-49ae-93bd-efbb76d4f477\",\"id\":\"ob_12\",\"type\":\"observable\"},val)) : undefined; return this.valueFromJulia[\"changes\"]=false}),self),this[\"index\"].subscribe((function (val){!(this.valueFromJulia[\"index\"]) ? (WebIO.setval({\"name\":\"index\",\"scope\":\"knockout-component-b6e4ad19-ee8b-49ae-93bd-efbb76d4f477\",\"id\":\"ob_11\",\"type\":\"observable\"},val)) : undefined; return this.valueFromJulia[\"index\"]=false}),self)]\n        \n    }\n    self.model = new AppViewModel();\n    self.valueFromJulia = {};\n    for (var key in json_data) {\n        self.valueFromJulia[key] = false;\n    }\n    ko.applyBindings(self.model, self.dom);\n}\n);\n    (WebIO.importBlock({\"data\":[{\"name\":\"knockout\",\"type\":\"js\",\"url\":\"/assetserver/0db2030eda8ae695ee385b177287a65d5698da81-knockout.js\"},{\"name\":\"knockout_punches\",\"type\":\"js\",\"url\":\"/assetserver/ab0f37d8318710d8b034c6f57de3dc43b8f803db-knockout_punches.js\"}],\"type\":\"async_block\"})).then((imports) => handler.apply(this, imports));\n}\n"
            ],
            "observables": {
             "changes": {
              "id": "ob_12",
              "sync": false,
              "value": 0
             },
             "index": {
              "id": "ob_11",
              "sync": true,
              "value": 7
             }
            },
            "systemjs_options": null
           },
           "nodeType": "Scope",
           "props": {},
           "type": "node"
          }
         ],
         "instanceArgs": {
          "namespace": "html",
          "tag": "div"
         },
         "nodeType": "DOM",
         "props": {
          "className": "field interact-widget"
         },
         "type": "node"
        },
        {
         "children": [
          {
           "children": [],
           "instanceArgs": {
            "id": "ob_18",
            "name": "obs-node"
           },
           "nodeType": "ObservableNode",
           "props": {},
           "type": "node"
          }
         ],
         "instanceArgs": {
          "handlers": {},
          "id": "scope-207a7aae-a5ff-4d61-93bc-2a65726dc857",
          "imports": {
           "data": [],
           "type": "async_block"
          },
          "mount_callbacks": [],
          "observables": {
           "obs-node": {
            "id": "ob_18",
            "sync": false,
            "value": {
             "children": [
              {
               "children": [],
               "instanceArgs": {
                "namespace": "html",
                "tag": "div"
               },
               "nodeType": "DOM",
               "props": {
                "setInnerHtml": "<?xml version=\"1.0\" encoding=\"utf-8\"?>\n<svg xmlns=\"http://www.w3.org/2000/svg\" xmlns:xlink=\"http://www.w3.org/1999/xlink\" width=\"600\" height=\"400\" viewBox=\"0 0 2400 1600\">\n<defs>\n  <clipPath id=\"clip4800\">\n    <rect x=\"0\" y=\"0\" width=\"2400\" height=\"1600\"/>\n  </clipPath>\n</defs>\n<polygon clip-path=\"url(#clip4800)\" points=\"\n0,1600 2400,1600 2400,0 0,0 \n  \" fill=\"#ffffff\" fill-rule=\"evenodd\" fill-opacity=\"1\"/>\n<defs>\n  <clipPath id=\"clip4801\">\n    <rect x=\"480\" y=\"0\" width=\"1681\" height=\"1600\"/>\n  </clipPath>\n</defs>\n<polygon clip-path=\"url(#clip4800)\" points=\"\n363.188,625.619 1206.4,625.619 1206.4,47.2441 363.188,47.2441 \n  \" fill=\"#ffffff\" fill-rule=\"evenodd\" fill-opacity=\"1\"/>\n<defs>\n  <clipPath id=\"clip4802\">\n    <rect x=\"363\" y=\"47\" width=\"844\" height=\"579\"/>\n  </clipPath>\n</defs>\n<polyline clip-path=\"url(#clip4802)\" style=\"stroke:#000000; stroke-width:2; stroke-opacity:0.1; fill:none\" points=\"\n  482.51,625.619 482.51,47.2441 \n  \"/>\n<polyline clip-path=\"url(#clip4802)\" style=\"stroke:#000000; stroke-width:2; stroke-opacity:0.1; fill:none\" points=\"\n  609.788,625.619 609.788,47.2441 \n  \"/>\n<polyline clip-path=\"url(#clip4802)\" style=\"stroke:#000000; stroke-width:2; stroke-opacity:0.1; fill:none\" points=\"\n  737.065,625.619 737.065,47.2441 \n  \"/>\n<polyline clip-path=\"url(#clip4802)\" style=\"stroke:#000000; stroke-width:2; stroke-opacity:0.1; fill:none\" points=\"\n  864.343,625.619 864.343,47.2441 \n  \"/>\n<polyline clip-path=\"url(#clip4802)\" style=\"stroke:#000000; stroke-width:2; stroke-opacity:0.1; fill:none\" points=\"\n  991.62,625.619 991.62,47.2441 \n  \"/>\n<polyline clip-path=\"url(#clip4802)\" style=\"stroke:#000000; stroke-width:2; stroke-opacity:0.1; fill:none\" points=\"\n  1118.9,625.619 1118.9,47.2441 \n  \"/>\n<polyline clip-path=\"url(#clip4802)\" style=\"stroke:#000000; stroke-width:2; stroke-opacity:0.1; fill:none\" points=\"\n  363.188,625.619 1206.4,625.619 \n  \"/>\n<polyline clip-path=\"url(#clip4802)\" style=\"stroke:#000000; stroke-width:2; stroke-opacity:0.1; fill:none\" points=\"\n  363.188,432.827 1206.4,432.827 \n  \"/>\n<polyline clip-path=\"url(#clip4802)\" style=\"stroke:#000000; stroke-width:2; stroke-opacity:0.1; fill:none\" points=\"\n  363.188,240.036 1206.4,240.036 \n  \"/>\n<polyline clip-path=\"url(#clip4802)\" style=\"stroke:#000000; stroke-width:2; stroke-opacity:0.1; fill:none\" points=\"\n  363.188,47.2441 1206.4,47.2441 \n  \"/>\n<polyline clip-path=\"url(#clip4800)\" style=\"stroke:#000000; stroke-width:4; stroke-opacity:1; fill:none\" points=\"\n  363.188,625.619 1206.4,625.619 \n  \"/>\n<polyline clip-path=\"url(#clip4800)\" style=\"stroke:#000000; stroke-width:4; stroke-opacity:1; fill:none\" points=\"\n  363.188,625.619 363.188,47.2441 \n  \"/>\n<polyline clip-path=\"url(#clip4800)\" style=\"stroke:#000000; stroke-width:4; stroke-opacity:1; fill:none\" points=\"\n  482.51,625.619 482.51,616.943 \n  \"/>\n<polyline clip-path=\"url(#clip4800)\" style=\"stroke:#000000; stroke-width:4; stroke-opacity:1; fill:none\" points=\"\n  609.788,625.619 609.788,616.943 \n  \"/>\n<polyline clip-path=\"url(#clip4800)\" style=\"stroke:#000000; stroke-width:4; stroke-opacity:1; fill:none\" points=\"\n  737.065,625.619 737.065,616.943 \n  \"/>\n<polyline clip-path=\"url(#clip4800)\" style=\"stroke:#000000; stroke-width:4; stroke-opacity:1; fill:none\" points=\"\n  864.343,625.619 864.343,616.943 \n  \"/>\n<polyline clip-path=\"url(#clip4800)\" style=\"stroke:#000000; stroke-width:4; stroke-opacity:1; fill:none\" points=\"\n  991.62,625.619 991.62,616.943 \n  \"/>\n<polyline clip-path=\"url(#clip4800)\" style=\"stroke:#000000; stroke-width:4; stroke-opacity:1; fill:none\" points=\"\n  1118.9,625.619 1118.9,616.943 \n  \"/>\n<polyline clip-path=\"url(#clip4800)\" style=\"stroke:#000000; stroke-width:4; stroke-opacity:1; fill:none\" points=\"\n  363.188,625.619 375.836,625.619 \n  \"/>\n<polyline clip-path=\"url(#clip4800)\" style=\"stroke:#000000; stroke-width:4; stroke-opacity:1; fill:none\" points=\"\n  363.188,432.827 375.836,432.827 \n  \"/>\n<polyline clip-path=\"url(#clip4800)\" style=\"stroke:#000000; stroke-width:4; stroke-opacity:1; fill:none\" points=\"\n  363.188,240.036 375.836,240.036 \n  \"/>\n<polyline clip-path=\"url(#clip4800)\" style=\"stroke:#000000; stroke-width:4; stroke-opacity:1; fill:none\" points=\"\n  363.188,47.2441 375.836,47.2441 \n  \"/>\n<g clip-path=\"url(#clip4800)\">\n<text style=\"fill:#000000; fill-opacity:1; font-family:Arial,Helvetica Neue,Helvetica,sans-serif; font-size:48px; text-anchor:middle;\" transform=\"rotate(0, 482.51, 679.619)\" x=\"482.51\" y=\"679.619\">40</text>\n</g>\n<g clip-path=\"url(#clip4800)\">\n<text style=\"fill:#000000; fill-opacity:1; font-family:Arial,Helvetica Neue,Helvetica,sans-serif; font-size:48px; text-anchor:middle;\" transform=\"rotate(0, 609.788, 679.619)\" x=\"609.788\" y=\"679.619\">60</text>\n</g>\n<g clip-path=\"url(#clip4800)\">\n<text style=\"fill:#000000; fill-opacity:1; font-family:Arial,Helvetica Neue,Helvetica,sans-serif; font-size:48px; text-anchor:middle;\" transform=\"rotate(0, 737.065, 679.619)\" x=\"737.065\" y=\"679.619\">80</text>\n</g>\n<g clip-path=\"url(#clip4800)\">\n<text style=\"fill:#000000; fill-opacity:1; font-family:Arial,Helvetica Neue,Helvetica,sans-serif; font-size:48px; text-anchor:middle;\" transform=\"rotate(0, 864.343, 679.619)\" x=\"864.343\" y=\"679.619\">100</text>\n</g>\n<g clip-path=\"url(#clip4800)\">\n<text style=\"fill:#000000; fill-opacity:1; font-family:Arial,Helvetica Neue,Helvetica,sans-serif; font-size:48px; text-anchor:middle;\" transform=\"rotate(0, 991.62, 679.619)\" x=\"991.62\" y=\"679.619\">120</text>\n</g>\n<g clip-path=\"url(#clip4800)\">\n<text style=\"fill:#000000; fill-opacity:1; font-family:Arial,Helvetica Neue,Helvetica,sans-serif; font-size:48px; text-anchor:middle;\" transform=\"rotate(0, 1118.9, 679.619)\" x=\"1118.9\" y=\"679.619\">140</text>\n</g>\n<g clip-path=\"url(#clip4800)\">\n<text style=\"fill:#000000; fill-opacity:1; font-family:Arial,Helvetica Neue,Helvetica,sans-serif; font-size:48px; text-anchor:start;\" transform=\"rotate(0, 168.903, 649.346)\" x=\"168.903\" y=\"649.346\">5.0×10</text>\n</g>\n<g clip-path=\"url(#clip4800)\">\n<text style=\"fill:#000000; fill-opacity:1; font-family:Arial,Helvetica Neue,Helvetica,sans-serif; font-size:38px; text-anchor:start;\" transform=\"rotate(0, 317.443, 621.936)\" x=\"317.443\" y=\"621.936\">4</text>\n</g>\n<g clip-path=\"url(#clip4800)\">\n<text style=\"fill:#000000; fill-opacity:1; font-family:Arial,Helvetica Neue,Helvetica,sans-serif; font-size:48px; text-anchor:start;\" transform=\"rotate(0, 168.903, 456.555)\" x=\"168.903\" y=\"456.555\">1.0×10</text>\n</g>\n<g clip-path=\"url(#clip4800)\">\n<text style=\"fill:#000000; fill-opacity:1; font-family:Arial,Helvetica Neue,Helvetica,sans-serif; font-size:38px; text-anchor:start;\" transform=\"rotate(0, 317.443, 429.144)\" x=\"317.443\" y=\"429.144\">5</text>\n</g>\n<g clip-path=\"url(#clip4800)\">\n<text style=\"fill:#000000; fill-opacity:1; font-family:Arial,Helvetica Neue,Helvetica,sans-serif; font-size:48px; text-anchor:start;\" transform=\"rotate(0, 168.903, 263.763)\" x=\"168.903\" y=\"263.763\">1.5×10</text>\n</g>\n<g clip-path=\"url(#clip4800)\">\n<text style=\"fill:#000000; fill-opacity:1; font-family:Arial,Helvetica Neue,Helvetica,sans-serif; font-size:38px; text-anchor:start;\" transform=\"rotate(0, 317.443, 236.353)\" x=\"317.443\" y=\"236.353\">5</text>\n</g>\n<g clip-path=\"url(#clip4800)\">\n<text style=\"fill:#000000; fill-opacity:1; font-family:Arial,Helvetica Neue,Helvetica,sans-serif; font-size:48px; text-anchor:start;\" transform=\"rotate(0, 168.903, 70.9717)\" x=\"168.903\" y=\"70.9717\">2.0×10</text>\n</g>\n<g clip-path=\"url(#clip4800)\">\n<text style=\"fill:#000000; fill-opacity:1; font-family:Arial,Helvetica Neue,Helvetica,sans-serif; font-size:38px; text-anchor:start;\" transform=\"rotate(0, 317.443, 43.5613)\" x=\"317.443\" y=\"43.5613\">5</text>\n</g>\n<g clip-path=\"url(#clip4800)\">\n<text style=\"fill:#000000; fill-opacity:1; font-family:Arial,Helvetica Neue,Helvetica,sans-serif; font-size:66px; text-anchor:middle;\" transform=\"rotate(0, 784.794, 759.48)\" x=\"784.794\" y=\"759.48\">Cost of G1</text>\n</g>\n<g clip-path=\"url(#clip4800)\">\n<text style=\"fill:#000000; fill-opacity:1; font-family:Arial,Helvetica Neue,Helvetica,sans-serif; font-size:66px; text-anchor:middle;\" transform=\"rotate(-90, 89.2861, 336.431)\" x=\"89.2861\" y=\"336.431\">Total cost</text>\n</g>\n<polyline clip-path=\"url(#clip4802)\" style=\"stroke:#009af9; stroke-width:4; stroke-opacity:1; fill:none\" points=\"\n  387.052,585.69 418.872,566.411 450.691,547.132 482.51,527.853 514.33,508.574 546.149,489.294 577.968,470.015 609.788,450.736 641.607,431.457 673.426,412.178 \n  705.246,392.899 737.065,373.62 768.885,354.34 800.704,335.061 832.523,315.782 864.343,296.503 896.162,277.224 927.981,258.229 959.801,244.013 991.62,230.782 \n  1023.44,218.579 1055.26,207.447 1087.08,197.429 1118.9,188.567 1150.72,180.906 1182.54,174.486 \n  \"/>\n<polygon clip-path=\"url(#clip4800)\" points=\"\n1509.54,625.619 2352.76,625.619 2352.76,47.2441 1509.54,47.2441 \n  \" fill=\"#ffffff\" fill-rule=\"evenodd\" fill-opacity=\"1\"/>\n<defs>\n  <clipPath id=\"clip4803\">\n    <rect x=\"1509\" y=\"47\" width=\"844\" height=\"579\"/>\n  </clipPath>\n</defs>\n<polyline clip-path=\"url(#clip4803)\" style=\"stroke:#000000; stroke-width:2; stroke-opacity:0.1; fill:none\" points=\"\n  1628.87,625.619 1628.87,47.2441 \n  \"/>\n<polyline clip-path=\"url(#clip4803)\" style=\"stroke:#000000; stroke-width:2; stroke-opacity:0.1; fill:none\" points=\"\n  1756.14,625.619 1756.14,47.2441 \n  \"/>\n<polyline clip-path=\"url(#clip4803)\" style=\"stroke:#000000; stroke-width:2; stroke-opacity:0.1; fill:none\" points=\"\n  1883.42,625.619 1883.42,47.2441 \n  \"/>\n<polyline clip-path=\"url(#clip4803)\" style=\"stroke:#000000; stroke-width:2; stroke-opacity:0.1; fill:none\" points=\"\n  2010.7,625.619 2010.7,47.2441 \n  \"/>\n<polyline clip-path=\"url(#clip4803)\" style=\"stroke:#000000; stroke-width:2; stroke-opacity:0.1; fill:none\" points=\"\n  2137.98,625.619 2137.98,47.2441 \n  \"/>\n<polyline clip-path=\"url(#clip4803)\" style=\"stroke:#000000; stroke-width:2; stroke-opacity:0.1; fill:none\" points=\"\n  2265.25,625.619 2265.25,47.2441 \n  \"/>\n<polyline clip-path=\"url(#clip4803)\" style=\"stroke:#000000; stroke-width:2; stroke-opacity:0.1; fill:none\" points=\"\n  1509.54,625.619 2352.76,625.619 \n  \"/>\n<polyline clip-path=\"url(#clip4803)\" style=\"stroke:#000000; stroke-width:2; stroke-opacity:0.1; fill:none\" points=\"\n  1509.54,494.17 2352.76,494.17 \n  \"/>\n<polyline clip-path=\"url(#clip4803)\" style=\"stroke:#000000; stroke-width:2; stroke-opacity:0.1; fill:none\" points=\"\n  1509.54,362.721 2352.76,362.721 \n  \"/>\n<polyline clip-path=\"url(#clip4803)\" style=\"stroke:#000000; stroke-width:2; stroke-opacity:0.1; fill:none\" points=\"\n  1509.54,231.272 2352.76,231.272 \n  \"/>\n<polyline clip-path=\"url(#clip4803)\" style=\"stroke:#000000; stroke-width:2; stroke-opacity:0.1; fill:none\" points=\"\n  1509.54,99.8236 2352.76,99.8236 \n  \"/>\n<polyline clip-path=\"url(#clip4800)\" style=\"stroke:#000000; stroke-width:4; stroke-opacity:1; fill:none\" points=\"\n  1509.54,625.619 2352.76,625.619 \n  \"/>\n<polyline clip-path=\"url(#clip4800)\" style=\"stroke:#000000; stroke-width:4; stroke-opacity:1; fill:none\" points=\"\n  1509.54,625.619 1509.54,47.2441 \n  \"/>\n<polyline clip-path=\"url(#clip4800)\" style=\"stroke:#000000; stroke-width:4; stroke-opacity:1; fill:none\" points=\"\n  1628.87,625.619 1628.87,616.943 \n  \"/>\n<polyline clip-path=\"url(#clip4800)\" style=\"stroke:#000000; stroke-width:4; stroke-opacity:1; fill:none\" points=\"\n  1756.14,625.619 1756.14,616.943 \n  \"/>\n<polyline clip-path=\"url(#clip4800)\" style=\"stroke:#000000; stroke-width:4; stroke-opacity:1; fill:none\" points=\"\n  1883.42,625.619 1883.42,616.943 \n  \"/>\n<polyline clip-path=\"url(#clip4800)\" style=\"stroke:#000000; stroke-width:4; stroke-opacity:1; fill:none\" points=\"\n  2010.7,625.619 2010.7,616.943 \n  \"/>\n<polyline clip-path=\"url(#clip4800)\" style=\"stroke:#000000; stroke-width:4; stroke-opacity:1; fill:none\" points=\"\n  2137.98,625.619 2137.98,616.943 \n  \"/>\n<polyline clip-path=\"url(#clip4800)\" style=\"stroke:#000000; stroke-width:4; stroke-opacity:1; fill:none\" points=\"\n  2265.25,625.619 2265.25,616.943 \n  \"/>\n<polyline clip-path=\"url(#clip4800)\" style=\"stroke:#000000; stroke-width:4; stroke-opacity:1; fill:none\" points=\"\n  1509.54,625.619 1522.19,625.619 \n  \"/>\n<polyline clip-path=\"url(#clip4800)\" style=\"stroke:#000000; stroke-width:4; stroke-opacity:1; fill:none\" points=\"\n  1509.54,494.17 1522.19,494.17 \n  \"/>\n<polyline clip-path=\"url(#clip4800)\" style=\"stroke:#000000; stroke-width:4; stroke-opacity:1; fill:none\" points=\"\n  1509.54,362.721 1522.19,362.721 \n  \"/>\n<polyline clip-path=\"url(#clip4800)\" style=\"stroke:#000000; stroke-width:4; stroke-opacity:1; fill:none\" points=\"\n  1509.54,231.272 1522.19,231.272 \n  \"/>\n<polyline clip-path=\"url(#clip4800)\" style=\"stroke:#000000; stroke-width:4; stroke-opacity:1; fill:none\" points=\"\n  1509.54,99.8236 1522.19,99.8236 \n  \"/>\n<g clip-path=\"url(#clip4800)\">\n<text style=\"fill:#000000; fill-opacity:1; font-family:Arial,Helvetica Neue,Helvetica,sans-serif; font-size:48px; text-anchor:middle;\" transform=\"rotate(0, 1628.87, 679.619)\" x=\"1628.87\" y=\"679.619\">40</text>\n</g>\n<g clip-path=\"url(#clip4800)\">\n<text style=\"fill:#000000; fill-opacity:1; font-family:Arial,Helvetica Neue,Helvetica,sans-serif; font-size:48px; text-anchor:middle;\" transform=\"rotate(0, 1756.14, 679.619)\" x=\"1756.14\" y=\"679.619\">60</text>\n</g>\n<g clip-path=\"url(#clip4800)\">\n<text style=\"fill:#000000; fill-opacity:1; font-family:Arial,Helvetica Neue,Helvetica,sans-serif; font-size:48px; text-anchor:middle;\" transform=\"rotate(0, 1883.42, 679.619)\" x=\"1883.42\" y=\"679.619\">80</text>\n</g>\n<g clip-path=\"url(#clip4800)\">\n<text style=\"fill:#000000; fill-opacity:1; font-family:Arial,Helvetica Neue,Helvetica,sans-serif; font-size:48px; text-anchor:middle;\" transform=\"rotate(0, 2010.7, 679.619)\" x=\"2010.7\" y=\"679.619\">100</text>\n</g>\n<g clip-path=\"url(#clip4800)\">\n<text style=\"fill:#000000; fill-opacity:1; font-family:Arial,Helvetica Neue,Helvetica,sans-serif; font-size:48px; text-anchor:middle;\" transform=\"rotate(0, 2137.98, 679.619)\" x=\"2137.98\" y=\"679.619\">120</text>\n</g>\n<g clip-path=\"url(#clip4800)\">\n<text style=\"fill:#000000; fill-opacity:1; font-family:Arial,Helvetica Neue,Helvetica,sans-serif; font-size:48px; text-anchor:middle;\" transform=\"rotate(0, 2265.25, 679.619)\" x=\"2265.25\" y=\"679.619\">140</text>\n</g>\n<g clip-path=\"url(#clip4800)\">\n<text style=\"fill:#000000; fill-opacity:1; font-family:Arial,Helvetica Neue,Helvetica,sans-serif; font-size:48px; text-anchor:end;\" transform=\"rotate(0, 1485.54, 643.119)\" x=\"1485.54\" y=\"643.119\">0</text>\n</g>\n<g clip-path=\"url(#clip4800)\">\n<text style=\"fill:#000000; fill-opacity:1; font-family:Arial,Helvetica Neue,Helvetica,sans-serif; font-size:48px; text-anchor:end;\" transform=\"rotate(0, 1485.54, 511.67)\" x=\"1485.54\" y=\"511.67\">250</text>\n</g>\n<g clip-path=\"url(#clip4800)\">\n<text style=\"fill:#000000; fill-opacity:1; font-family:Arial,Helvetica Neue,Helvetica,sans-serif; font-size:48px; text-anchor:end;\" transform=\"rotate(0, 1485.54, 380.221)\" x=\"1485.54\" y=\"380.221\">500</text>\n</g>\n<g clip-path=\"url(#clip4800)\">\n<text style=\"fill:#000000; fill-opacity:1; font-family:Arial,Helvetica Neue,Helvetica,sans-serif; font-size:48px; text-anchor:end;\" transform=\"rotate(0, 1485.54, 248.772)\" x=\"1485.54\" y=\"248.772\">750</text>\n</g>\n<g clip-path=\"url(#clip4800)\">\n<text style=\"fill:#000000; fill-opacity:1; font-family:Arial,Helvetica Neue,Helvetica,sans-serif; font-size:48px; text-anchor:end;\" transform=\"rotate(0, 1485.54, 117.324)\" x=\"1485.54\" y=\"117.324\">1000</text>\n</g>\n<g clip-path=\"url(#clip4800)\">\n<text style=\"fill:#000000; fill-opacity:1; font-family:Arial,Helvetica Neue,Helvetica,sans-serif; font-size:66px; text-anchor:middle;\" transform=\"rotate(0, 1931.15, 759.48)\" x=\"1931.15\" y=\"759.48\">Cost of G1</text>\n</g>\n<g clip-path=\"url(#clip4800)\">\n<text style=\"fill:#000000; fill-opacity:1; font-family:Arial,Helvetica Neue,Helvetica,sans-serif; font-size:66px; text-anchor:middle;\" transform=\"rotate(-90, 1342.93, 336.431)\" x=\"1342.93\" y=\"336.431\">Dispatch: G1</text>\n</g>\n<polyline clip-path=\"url(#clip4803)\" style=\"stroke:#009af9; stroke-width:4; stroke-opacity:1; fill:none\" points=\"\n  1533.41,99.8236 1565.23,99.8236 1597.05,99.8236 1628.87,99.8236 1660.68,99.8236 1692.5,99.8236 1724.32,99.8236 1756.14,99.8236 1787.96,99.8236 1819.78,99.8236 \n  1851.6,99.8236 1883.42,99.8236 1915.24,99.8236 1947.06,99.8236 1978.88,99.8236 2010.7,99.8236 2042.52,99.8236 2074.34,151.992 2106.16,251.136 2137.98,278.594 \n  2169.79,307.221 2201.61,337.016 2233.43,367.979 2265.25,400.111 2297.07,433.411 2328.89,467.88 \n  \"/>\n<polygon clip-path=\"url(#clip4800)\" points=\"\n363.188,1425.62 1206.4,1425.62 1206.4,847.244 363.188,847.244 \n  \" fill=\"#ffffff\" fill-rule=\"evenodd\" fill-opacity=\"1\"/>\n<defs>\n  <clipPath id=\"clip4804\">\n    <rect x=\"363\" y=\"847\" width=\"844\" height=\"579\"/>\n  </clipPath>\n</defs>\n<polyline clip-path=\"url(#clip4804)\" style=\"stroke:#000000; stroke-width:2; stroke-opacity:0.1; fill:none\" points=\"\n  482.51,1425.62 482.51,847.244 \n  \"/>\n<polyline clip-path=\"url(#clip4804)\" style=\"stroke:#000000; stroke-width:2; stroke-opacity:0.1; fill:none\" points=\"\n  609.788,1425.62 609.788,847.244 \n  \"/>\n<polyline clip-path=\"url(#clip4804)\" style=\"stroke:#000000; stroke-width:2; stroke-opacity:0.1; fill:none\" points=\"\n  737.065,1425.62 737.065,847.244 \n  \"/>\n<polyline clip-path=\"url(#clip4804)\" style=\"stroke:#000000; stroke-width:2; stroke-opacity:0.1; fill:none\" points=\"\n  864.343,1425.62 864.343,847.244 \n  \"/>\n<polyline clip-path=\"url(#clip4804)\" style=\"stroke:#000000; stroke-width:2; stroke-opacity:0.1; fill:none\" points=\"\n  991.62,1425.62 991.62,847.244 \n  \"/>\n<polyline clip-path=\"url(#clip4804)\" style=\"stroke:#000000; stroke-width:2; stroke-opacity:0.1; fill:none\" points=\"\n  1118.9,1425.62 1118.9,847.244 \n  \"/>\n<polyline clip-path=\"url(#clip4804)\" style=\"stroke:#000000; stroke-width:2; stroke-opacity:0.1; fill:none\" points=\"\n  363.188,1425.62 1206.4,1425.62 \n  \"/>\n<polyline clip-path=\"url(#clip4804)\" style=\"stroke:#000000; stroke-width:2; stroke-opacity:0.1; fill:none\" points=\"\n  363.188,1244.88 1206.4,1244.88 \n  \"/>\n<polyline clip-path=\"url(#clip4804)\" style=\"stroke:#000000; stroke-width:2; stroke-opacity:0.1; fill:none\" points=\"\n  363.188,1064.13 1206.4,1064.13 \n  \"/>\n<polyline clip-path=\"url(#clip4804)\" style=\"stroke:#000000; stroke-width:2; stroke-opacity:0.1; fill:none\" points=\"\n  363.188,883.393 1206.4,883.393 \n  \"/>\n<polyline clip-path=\"url(#clip4800)\" style=\"stroke:#000000; stroke-width:4; stroke-opacity:1; fill:none\" points=\"\n  363.188,1425.62 1206.4,1425.62 \n  \"/>\n<polyline clip-path=\"url(#clip4800)\" style=\"stroke:#000000; stroke-width:4; stroke-opacity:1; fill:none\" points=\"\n  363.188,1425.62 363.188,847.244 \n  \"/>\n<polyline clip-path=\"url(#clip4800)\" style=\"stroke:#000000; stroke-width:4; stroke-opacity:1; fill:none\" points=\"\n  482.51,1425.62 482.51,1416.94 \n  \"/>\n<polyline clip-path=\"url(#clip4800)\" style=\"stroke:#000000; stroke-width:4; stroke-opacity:1; fill:none\" points=\"\n  609.788,1425.62 609.788,1416.94 \n  \"/>\n<polyline clip-path=\"url(#clip4800)\" style=\"stroke:#000000; stroke-width:4; stroke-opacity:1; fill:none\" points=\"\n  737.065,1425.62 737.065,1416.94 \n  \"/>\n<polyline clip-path=\"url(#clip4800)\" style=\"stroke:#000000; stroke-width:4; stroke-opacity:1; fill:none\" points=\"\n  864.343,1425.62 864.343,1416.94 \n  \"/>\n<polyline clip-path=\"url(#clip4800)\" style=\"stroke:#000000; stroke-width:4; stroke-opacity:1; fill:none\" points=\"\n  991.62,1425.62 991.62,1416.94 \n  \"/>\n<polyline clip-path=\"url(#clip4800)\" style=\"stroke:#000000; stroke-width:4; stroke-opacity:1; fill:none\" points=\"\n  1118.9,1425.62 1118.9,1416.94 \n  \"/>\n<polyline clip-path=\"url(#clip4800)\" style=\"stroke:#000000; stroke-width:4; stroke-opacity:1; fill:none\" points=\"\n  363.188,1425.62 375.836,1425.62 \n  \"/>\n<polyline clip-path=\"url(#clip4800)\" style=\"stroke:#000000; stroke-width:4; stroke-opacity:1; fill:none\" points=\"\n  363.188,1244.88 375.836,1244.88 \n  \"/>\n<polyline clip-path=\"url(#clip4800)\" style=\"stroke:#000000; stroke-width:4; stroke-opacity:1; fill:none\" points=\"\n  363.188,1064.13 375.836,1064.13 \n  \"/>\n<polyline clip-path=\"url(#clip4800)\" style=\"stroke:#000000; stroke-width:4; stroke-opacity:1; fill:none\" points=\"\n  363.188,883.393 375.836,883.393 \n  \"/>\n<g clip-path=\"url(#clip4800)\">\n<text style=\"fill:#000000; fill-opacity:1; font-family:Arial,Helvetica Neue,Helvetica,sans-serif; font-size:48px; text-anchor:middle;\" transform=\"rotate(0, 482.51, 1479.62)\" x=\"482.51\" y=\"1479.62\">40</text>\n</g>\n<g clip-path=\"url(#clip4800)\">\n<text style=\"fill:#000000; fill-opacity:1; font-family:Arial,Helvetica Neue,Helvetica,sans-serif; font-size:48px; text-anchor:middle;\" transform=\"rotate(0, 609.788, 1479.62)\" x=\"609.788\" y=\"1479.62\">60</text>\n</g>\n<g clip-path=\"url(#clip4800)\">\n<text style=\"fill:#000000; fill-opacity:1; font-family:Arial,Helvetica Neue,Helvetica,sans-serif; font-size:48px; text-anchor:middle;\" transform=\"rotate(0, 737.065, 1479.62)\" x=\"737.065\" y=\"1479.62\">80</text>\n</g>\n<g clip-path=\"url(#clip4800)\">\n<text style=\"fill:#000000; fill-opacity:1; font-family:Arial,Helvetica Neue,Helvetica,sans-serif; font-size:48px; text-anchor:middle;\" transform=\"rotate(0, 864.343, 1479.62)\" x=\"864.343\" y=\"1479.62\">100</text>\n</g>\n<g clip-path=\"url(#clip4800)\">\n<text style=\"fill:#000000; fill-opacity:1; font-family:Arial,Helvetica Neue,Helvetica,sans-serif; font-size:48px; text-anchor:middle;\" transform=\"rotate(0, 991.62, 1479.62)\" x=\"991.62\" y=\"1479.62\">120</text>\n</g>\n<g clip-path=\"url(#clip4800)\">\n<text style=\"fill:#000000; fill-opacity:1; font-family:Arial,Helvetica Neue,Helvetica,sans-serif; font-size:48px; text-anchor:middle;\" transform=\"rotate(0, 1118.9, 1479.62)\" x=\"1118.9\" y=\"1479.62\">140</text>\n</g>\n<g clip-path=\"url(#clip4800)\">\n<text style=\"fill:#000000; fill-opacity:1; font-family:Arial,Helvetica Neue,Helvetica,sans-serif; font-size:48px; text-anchor:end;\" transform=\"rotate(0, 339.188, 1443.12)\" x=\"339.188\" y=\"1443.12\">0</text>\n</g>\n<g clip-path=\"url(#clip4800)\">\n<text style=\"fill:#000000; fill-opacity:1; font-family:Arial,Helvetica Neue,Helvetica,sans-serif; font-size:48px; text-anchor:end;\" transform=\"rotate(0, 339.188, 1262.38)\" x=\"339.188\" y=\"1262.38\">500</text>\n</g>\n<g clip-path=\"url(#clip4800)\">\n<text style=\"fill:#000000; fill-opacity:1; font-family:Arial,Helvetica Neue,Helvetica,sans-serif; font-size:48px; text-anchor:end;\" transform=\"rotate(0, 339.188, 1081.63)\" x=\"339.188\" y=\"1081.63\">1000</text>\n</g>\n<g clip-path=\"url(#clip4800)\">\n<text style=\"fill:#000000; fill-opacity:1; font-family:Arial,Helvetica Neue,Helvetica,sans-serif; font-size:48px; text-anchor:end;\" transform=\"rotate(0, 339.188, 900.893)\" x=\"339.188\" y=\"900.893\">1500</text>\n</g>\n<g clip-path=\"url(#clip4800)\">\n<text style=\"fill:#000000; fill-opacity:1; font-family:Arial,Helvetica Neue,Helvetica,sans-serif; font-size:66px; text-anchor:middle;\" transform=\"rotate(0, 784.794, 1559.48)\" x=\"784.794\" y=\"1559.48\">Cost of G1</text>\n</g>\n<g clip-path=\"url(#clip4800)\">\n<text style=\"fill:#000000; fill-opacity:1; font-family:Arial,Helvetica Neue,Helvetica,sans-serif; font-size:66px; text-anchor:middle;\" transform=\"rotate(-90, 196.576, 1136.43)\" x=\"196.576\" y=\"1136.43\">Dispatch: G2</text>\n</g>\n<polyline clip-path=\"url(#clip4804)\" style=\"stroke:#009af9; stroke-width:4; stroke-opacity:1; fill:none\" points=\"\n  387.052,1244.88 418.872,1244.88 450.691,1244.88 482.51,1244.88 514.33,1244.88 546.149,1244.88 577.968,1244.88 609.788,1244.88 641.607,1244.88 673.426,1244.88 \n  705.246,1244.88 737.065,1244.88 768.885,1244.88 800.704,1244.88 832.523,1244.88 864.343,1244.88 896.162,1244.88 927.981,1231.22 959.801,1213.15 991.62,1194.27 \n  1023.44,1174.59 1055.26,1154.1 1087.08,1132.82 1118.9,1110.73 1150.72,1087.83 1182.54,1064.13 \n  \"/>\n<polygon clip-path=\"url(#clip4800)\" points=\"\n1482.78,1425.62 2352.76,1425.62 2352.76,847.244 1482.78,847.244 \n  \" fill=\"#ffffff\" fill-rule=\"evenodd\" fill-opacity=\"1\"/>\n<defs>\n  <clipPath id=\"clip4805\">\n    <rect x=\"1482\" y=\"847\" width=\"871\" height=\"579\"/>\n  </clipPath>\n</defs>\n<polyline clip-path=\"url(#clip4805)\" style=\"stroke:#000000; stroke-width:2; stroke-opacity:0.1; fill:none\" points=\"\n  1605.89,1425.62 1605.89,847.244 \n  \"/>\n<polyline clip-path=\"url(#clip4805)\" style=\"stroke:#000000; stroke-width:2; stroke-opacity:0.1; fill:none\" points=\"\n  1737.21,1425.62 1737.21,847.244 \n  \"/>\n<polyline clip-path=\"url(#clip4805)\" style=\"stroke:#000000; stroke-width:2; stroke-opacity:0.1; fill:none\" points=\"\n  1868.52,1425.62 1868.52,847.244 \n  \"/>\n<polyline clip-path=\"url(#clip4805)\" style=\"stroke:#000000; stroke-width:2; stroke-opacity:0.1; fill:none\" points=\"\n  1999.84,1425.62 1999.84,847.244 \n  \"/>\n<polyline clip-path=\"url(#clip4805)\" style=\"stroke:#000000; stroke-width:2; stroke-opacity:0.1; fill:none\" points=\"\n  2131.16,1425.62 2131.16,847.244 \n  \"/>\n<polyline clip-path=\"url(#clip4805)\" style=\"stroke:#000000; stroke-width:2; stroke-opacity:0.1; fill:none\" points=\"\n  2262.48,1425.62 2262.48,847.244 \n  \"/>\n<polyline clip-path=\"url(#clip4805)\" style=\"stroke:#000000; stroke-width:2; stroke-opacity:0.1; fill:none\" points=\"\n  1482.78,1425.62 2352.76,1425.62 \n  \"/>\n<polyline clip-path=\"url(#clip4805)\" style=\"stroke:#000000; stroke-width:2; stroke-opacity:0.1; fill:none\" points=\"\n  1482.78,1309.94 2352.76,1309.94 \n  \"/>\n<polyline clip-path=\"url(#clip4805)\" style=\"stroke:#000000; stroke-width:2; stroke-opacity:0.1; fill:none\" points=\"\n  1482.78,1194.27 2352.76,1194.27 \n  \"/>\n<polyline clip-path=\"url(#clip4805)\" style=\"stroke:#000000; stroke-width:2; stroke-opacity:0.1; fill:none\" points=\"\n  1482.78,1078.59 2352.76,1078.59 \n  \"/>\n<polyline clip-path=\"url(#clip4805)\" style=\"stroke:#000000; stroke-width:2; stroke-opacity:0.1; fill:none\" points=\"\n  1482.78,962.919 2352.76,962.919 \n  \"/>\n<polyline clip-path=\"url(#clip4805)\" style=\"stroke:#000000; stroke-width:2; stroke-opacity:0.1; fill:none\" points=\"\n  1482.78,847.244 2352.76,847.244 \n  \"/>\n<polyline clip-path=\"url(#clip4800)\" style=\"stroke:#000000; stroke-width:4; stroke-opacity:1; fill:none\" points=\"\n  1482.78,1425.62 2352.76,1425.62 \n  \"/>\n<polyline clip-path=\"url(#clip4800)\" style=\"stroke:#000000; stroke-width:4; stroke-opacity:1; fill:none\" points=\"\n  1482.78,1425.62 1482.78,847.244 \n  \"/>\n<polyline clip-path=\"url(#clip4800)\" style=\"stroke:#000000; stroke-width:4; stroke-opacity:1; fill:none\" points=\"\n  1605.89,1425.62 1605.89,1416.94 \n  \"/>\n<polyline clip-path=\"url(#clip4800)\" style=\"stroke:#000000; stroke-width:4; stroke-opacity:1; fill:none\" points=\"\n  1737.21,1425.62 1737.21,1416.94 \n  \"/>\n<polyline clip-path=\"url(#clip4800)\" style=\"stroke:#000000; stroke-width:4; stroke-opacity:1; fill:none\" points=\"\n  1868.52,1425.62 1868.52,1416.94 \n  \"/>\n<polyline clip-path=\"url(#clip4800)\" style=\"stroke:#000000; stroke-width:4; stroke-opacity:1; fill:none\" points=\"\n  1999.84,1425.62 1999.84,1416.94 \n  \"/>\n<polyline clip-path=\"url(#clip4800)\" style=\"stroke:#000000; stroke-width:4; stroke-opacity:1; fill:none\" points=\"\n  2131.16,1425.62 2131.16,1416.94 \n  \"/>\n<polyline clip-path=\"url(#clip4800)\" style=\"stroke:#000000; stroke-width:4; stroke-opacity:1; fill:none\" points=\"\n  2262.48,1425.62 2262.48,1416.94 \n  \"/>\n<polyline clip-path=\"url(#clip4800)\" style=\"stroke:#000000; stroke-width:4; stroke-opacity:1; fill:none\" points=\"\n  1482.78,1425.62 1495.83,1425.62 \n  \"/>\n<polyline clip-path=\"url(#clip4800)\" style=\"stroke:#000000; stroke-width:4; stroke-opacity:1; fill:none\" points=\"\n  1482.78,1309.94 1495.83,1309.94 \n  \"/>\n<polyline clip-path=\"url(#clip4800)\" style=\"stroke:#000000; stroke-width:4; stroke-opacity:1; fill:none\" points=\"\n  1482.78,1194.27 1495.83,1194.27 \n  \"/>\n<polyline clip-path=\"url(#clip4800)\" style=\"stroke:#000000; stroke-width:4; stroke-opacity:1; fill:none\" points=\"\n  1482.78,1078.59 1495.83,1078.59 \n  \"/>\n<polyline clip-path=\"url(#clip4800)\" style=\"stroke:#000000; stroke-width:4; stroke-opacity:1; fill:none\" points=\"\n  1482.78,962.919 1495.83,962.919 \n  \"/>\n<polyline clip-path=\"url(#clip4800)\" style=\"stroke:#000000; stroke-width:4; stroke-opacity:1; fill:none\" points=\"\n  1482.78,847.244 1495.83,847.244 \n  \"/>\n<g clip-path=\"url(#clip4800)\">\n<text style=\"fill:#000000; fill-opacity:1; font-family:Arial,Helvetica Neue,Helvetica,sans-serif; font-size:48px; text-anchor:middle;\" transform=\"rotate(0, 1605.89, 1479.62)\" x=\"1605.89\" y=\"1479.62\">40</text>\n</g>\n<g clip-path=\"url(#clip4800)\">\n<text style=\"fill:#000000; fill-opacity:1; font-family:Arial,Helvetica Neue,Helvetica,sans-serif; font-size:48px; text-anchor:middle;\" transform=\"rotate(0, 1737.21, 1479.62)\" x=\"1737.21\" y=\"1479.62\">60</text>\n</g>\n<g clip-path=\"url(#clip4800)\">\n<text style=\"fill:#000000; fill-opacity:1; font-family:Arial,Helvetica Neue,Helvetica,sans-serif; font-size:48px; text-anchor:middle;\" transform=\"rotate(0, 1868.52, 1479.62)\" x=\"1868.52\" y=\"1479.62\">80</text>\n</g>\n<g clip-path=\"url(#clip4800)\">\n<text style=\"fill:#000000; fill-opacity:1; font-family:Arial,Helvetica Neue,Helvetica,sans-serif; font-size:48px; text-anchor:middle;\" transform=\"rotate(0, 1999.84, 1479.62)\" x=\"1999.84\" y=\"1479.62\">100</text>\n</g>\n<g clip-path=\"url(#clip4800)\">\n<text style=\"fill:#000000; fill-opacity:1; font-family:Arial,Helvetica Neue,Helvetica,sans-serif; font-size:48px; text-anchor:middle;\" transform=\"rotate(0, 2131.16, 1479.62)\" x=\"2131.16\" y=\"1479.62\">120</text>\n</g>\n<g clip-path=\"url(#clip4800)\">\n<text style=\"fill:#000000; fill-opacity:1; font-family:Arial,Helvetica Neue,Helvetica,sans-serif; font-size:48px; text-anchor:middle;\" transform=\"rotate(0, 2262.48, 1479.62)\" x=\"2262.48\" y=\"1479.62\">140</text>\n</g>\n<g clip-path=\"url(#clip4800)\">\n<text style=\"fill:#000000; fill-opacity:1; font-family:Arial,Helvetica Neue,Helvetica,sans-serif; font-size:48px; text-anchor:end;\" transform=\"rotate(0, 1458.78, 1443.12)\" x=\"1458.78\" y=\"1443.12\">0</text>\n</g>\n<g clip-path=\"url(#clip4800)\">\n<text style=\"fill:#000000; fill-opacity:1; font-family:Arial,Helvetica Neue,Helvetica,sans-serif; font-size:48px; text-anchor:end;\" transform=\"rotate(0, 1458.78, 1327.44)\" x=\"1458.78\" y=\"1327.44\">50</text>\n</g>\n<g clip-path=\"url(#clip4800)\">\n<text style=\"fill:#000000; fill-opacity:1; font-family:Arial,Helvetica Neue,Helvetica,sans-serif; font-size:48px; text-anchor:end;\" transform=\"rotate(0, 1458.78, 1211.77)\" x=\"1458.78\" y=\"1211.77\">100</text>\n</g>\n<g clip-path=\"url(#clip4800)\">\n<text style=\"fill:#000000; fill-opacity:1; font-family:Arial,Helvetica Neue,Helvetica,sans-serif; font-size:48px; text-anchor:end;\" transform=\"rotate(0, 1458.78, 1096.09)\" x=\"1458.78\" y=\"1096.09\">150</text>\n</g>\n<g clip-path=\"url(#clip4800)\">\n<text style=\"fill:#000000; fill-opacity:1; font-family:Arial,Helvetica Neue,Helvetica,sans-serif; font-size:48px; text-anchor:end;\" transform=\"rotate(0, 1458.78, 980.419)\" x=\"1458.78\" y=\"980.419\">200</text>\n</g>\n<g clip-path=\"url(#clip4800)\">\n<text style=\"fill:#000000; fill-opacity:1; font-family:Arial,Helvetica Neue,Helvetica,sans-serif; font-size:48px; text-anchor:end;\" transform=\"rotate(0, 1458.78, 864.744)\" x=\"1458.78\" y=\"864.744\">250</text>\n</g>\n<g clip-path=\"url(#clip4800)\">\n<text style=\"fill:#000000; fill-opacity:1; font-family:Arial,Helvetica Neue,Helvetica,sans-serif; font-size:66px; text-anchor:middle;\" transform=\"rotate(0, 1917.77, 1559.48)\" x=\"1917.77\" y=\"1559.48\">Cost of G1</text>\n</g>\n<g clip-path=\"url(#clip4800)\">\n<text style=\"fill:#000000; fill-opacity:1; font-family:Arial,Helvetica Neue,Helvetica,sans-serif; font-size:66px; text-anchor:middle;\" transform=\"rotate(-90, 1342.93, 1136.43)\" x=\"1342.93\" y=\"1136.43\">Dispatch: Wind</text>\n</g>\n<polyline clip-path=\"url(#clip4805)\" style=\"stroke:#009af9; stroke-width:4; stroke-opacity:1; fill:none\" points=\"\n  1507.4,1425.62 1540.23,1425.62 1573.06,1425.62 1605.89,1425.62 1638.72,1425.62 1671.55,1425.62 1704.38,1425.62 1737.21,1425.62 1770.04,1425.62 1802.87,1425.62 \n  1835.69,1425.62 1868.52,1425.62 1901.35,1425.62 1934.18,1425.62 1967.01,1425.62 1999.84,1425.62 2032.67,1425.62 2065.5,1283.47 2098.33,962.919 2131.16,962.919 \n  2163.99,962.919 2196.82,962.919 2229.65,962.919 2262.48,962.919 2295.3,962.919 2328.13,962.919 \n  \"/>\n</svg>\n"
               },
               "type": "node"
              }
             ],
             "instanceArgs": {
              "namespace": "html",
              "tag": "div"
             },
             "nodeType": "DOM",
             "props": {
              "className": "interact-flex-row interact-widget"
             },
             "type": "node"
            }
           }
          },
          "systemjs_options": null
         },
         "nodeType": "Scope",
         "props": {},
         "type": "node"
        }
       ],
       "instanceArgs": {
        "namespace": "html",
        "tag": "div"
       },
       "nodeType": "DOM",
       "props": {},
       "type": "node"
      },
      "text/html": [
       "<div\n",
       "    class=\"webio-mountpoint\"\n",
       "    data-webio-mountpoint=\"10032719183187803634\"\n",
       ">\n",
       "    <script>\n",
       "    if (window.require && require.defined && require.defined(\"nbextensions/webio/main\")) {\n",
       "        console.log(\"Jupyter WebIO extension detected, not mounting.\");\n",
       "    } else if (window.WebIO) {\n",
       "        WebIO.mount(\n",
       "            document.querySelector('[data-webio-mountpoint=\"10032719183187803634\"]'),\n",
       "            {\"props\":{},\"nodeType\":\"DOM\",\"type\":\"node\",\"instanceArgs\":{\"namespace\":\"html\",\"tag\":\"div\"},\"children\":[{\"props\":{\"className\":\"field interact-widget\"},\"nodeType\":\"DOM\",\"type\":\"node\",\"instanceArgs\":{\"namespace\":\"html\",\"tag\":\"div\"},\"children\":[{\"props\":{},\"nodeType\":\"Scope\",\"type\":\"node\",\"instanceArgs\":{\"imports\":{\"data\":[{\"name\":\"knockout\",\"type\":\"js\",\"url\":\"\\/assetserver\\/0db2030eda8ae695ee385b177287a65d5698da81-knockout.js\"},{\"name\":\"knockout_punches\",\"type\":\"js\",\"url\":\"\\/assetserver\\/ab0f37d8318710d8b034c6f57de3dc43b8f803db-knockout_punches.js\"},{\"name\":null,\"type\":\"js\",\"url\":\"\\/assetserver\\/328dc776aa9f428539a661e8f9a278c165884663-all.js\"},{\"name\":null,\"type\":\"css\",\"url\":\"\\/assetserver\\/d23f72b7b3b6c3fabe3e7e1f280b67d5d679fe0b-style.css\"},{\"name\":null,\"type\":\"css\",\"url\":\"\\/assetserver\\/f116afb558b7c1b42a69d9c8d6e53ef190388cb9-bulma_confined.min.css\"}],\"type\":\"async_block\"},\"id\":\"knockout-component-b6e4ad19-ee8b-49ae-93bd-efbb76d4f477\",\"handlers\":{\"changes\":[\"(function (val){return (val!=this.model[\\\"changes\\\"]()) ? (this.valueFromJulia[\\\"changes\\\"]=true, this.model[\\\"changes\\\"](val)) : undefined})\"],\"index\":[\"(function (val){return (val!=this.model[\\\"index\\\"]()) ? (this.valueFromJulia[\\\"index\\\"]=true, this.model[\\\"index\\\"](val)) : undefined})\"]},\"systemjs_options\":null,\"mount_callbacks\":[\"function () {\\n    var handler = (function (ko, koPunches) {\\n    ko.punches.enableAll();\\n    ko.bindingHandlers.numericValue = {\\n        init : function(element, valueAccessor, allBindings, data, context) {\\n            var stringified = ko.observable(ko.unwrap(valueAccessor()));\\n            stringified.subscribe(function(value) {\\n                var val = parseFloat(value);\\n                if (!isNaN(val)) {\\n                    valueAccessor()(val);\\n                }\\n            })\\n            valueAccessor().subscribe(function(value) {\\n                var str = JSON.stringify(value);\\n                if ((str == \\\"0\\\") && ([\\\"-0\\\", \\\"-0.\\\"].indexOf(stringified()) >= 0))\\n                     return;\\n                 if ([\\\"null\\\", \\\"\\\"].indexOf(str) >= 0)\\n                     return;\\n                stringified(str);\\n            })\\n            ko.applyBindingsToNode(element, { value: stringified, valueUpdate: allBindings.get('valueUpdate')}, context);\\n        }\\n    };\\n    var json_data = {\\\"formatted_vals\\\":[\\\"50.0\\\",\\\"60.0\\\",\\\"70.0\\\",\\\"80.0\\\",\\\"90.0\\\",\\\"100.0\\\",\\\"110.0\\\",\\\"120.0\\\",\\\"130.0\\\",\\\"140.0\\\",\\\"150.0\\\",\\\"160.0\\\",\\\"170.0\\\"],\\\"changes\\\":WebIO.getval({\\\"name\\\":\\\"changes\\\",\\\"scope\\\":\\\"knockout-component-b6e4ad19-ee8b-49ae-93bd-efbb76d4f477\\\",\\\"id\\\":\\\"ob_12\\\",\\\"type\\\":\\\"observable\\\"}),\\\"index\\\":WebIO.getval({\\\"name\\\":\\\"index\\\",\\\"scope\\\":\\\"knockout-component-b6e4ad19-ee8b-49ae-93bd-efbb76d4f477\\\",\\\"id\\\":\\\"ob_11\\\",\\\"type\\\":\\\"observable\\\"})};\\n    var self = this;\\n    function AppViewModel() {\\n        for (var key in json_data) {\\n            var el = json_data[key];\\n            this[key] = Array.isArray(el) ? ko.observableArray(el) : ko.observable(el);\\n        }\\n        \\n        [this[\\\"formatted_val\\\"]=ko.computed(    function(){\\n        return this.formatted_vals()[parseInt(this.index())-1];\\n    }\\n,this)]\\n        [this[\\\"changes\\\"].subscribe((function (val){!(this.valueFromJulia[\\\"changes\\\"]) ? (WebIO.setval({\\\"name\\\":\\\"changes\\\",\\\"scope\\\":\\\"knockout-component-b6e4ad19-ee8b-49ae-93bd-efbb76d4f477\\\",\\\"id\\\":\\\"ob_12\\\",\\\"type\\\":\\\"observable\\\"},val)) : undefined; return this.valueFromJulia[\\\"changes\\\"]=false}),self),this[\\\"index\\\"].subscribe((function (val){!(this.valueFromJulia[\\\"index\\\"]) ? (WebIO.setval({\\\"name\\\":\\\"index\\\",\\\"scope\\\":\\\"knockout-component-b6e4ad19-ee8b-49ae-93bd-efbb76d4f477\\\",\\\"id\\\":\\\"ob_11\\\",\\\"type\\\":\\\"observable\\\"},val)) : undefined; return this.valueFromJulia[\\\"index\\\"]=false}),self)]\\n        \\n    }\\n    self.model = new AppViewModel();\\n    self.valueFromJulia = {};\\n    for (var key in json_data) {\\n        self.valueFromJulia[key] = false;\\n    }\\n    ko.applyBindings(self.model, self.dom);\\n}\\n);\\n    (WebIO.importBlock({\\\"data\\\":[{\\\"name\\\":\\\"knockout\\\",\\\"type\\\":\\\"js\\\",\\\"url\\\":\\\"\\/assetserver\\/0db2030eda8ae695ee385b177287a65d5698da81-knockout.js\\\"},{\\\"name\\\":\\\"knockout_punches\\\",\\\"type\\\":\\\"js\\\",\\\"url\\\":\\\"\\/assetserver\\/ab0f37d8318710d8b034c6f57de3dc43b8f803db-knockout_punches.js\\\"}],\\\"type\\\":\\\"async_block\\\"})).then((imports) => handler.apply(this, imports));\\n}\\n\"],\"observables\":{\"changes\":{\"sync\":false,\"id\":\"ob_12\",\"value\":0},\"index\":{\"sync\":true,\"id\":\"ob_11\",\"value\":7}}},\"children\":[{\"props\":{\"className\":\"interact-flex-row interact-widget\"},\"nodeType\":\"DOM\",\"type\":\"node\",\"instanceArgs\":{\"namespace\":\"html\",\"tag\":\"div\"},\"children\":[{\"props\":{\"className\":\"interact-flex-row-left\"},\"nodeType\":\"DOM\",\"type\":\"node\",\"instanceArgs\":{\"namespace\":\"html\",\"tag\":\"div\"},\"children\":[{\"props\":{\"className\":\"interact \",\"style\":{\"padding\":\"5px 10px 0px 10px\"}},\"nodeType\":\"DOM\",\"type\":\"node\",\"instanceArgs\":{\"namespace\":\"html\",\"tag\":\"label\"},\"children\":[\"cost_of_wind\"]}]},{\"props\":{\"className\":\"interact-flex-row-center\"},\"nodeType\":\"DOM\",\"type\":\"node\",\"instanceArgs\":{\"namespace\":\"html\",\"tag\":\"div\"},\"children\":[{\"props\":{\"max\":13,\"min\":1,\"attributes\":{\"type\":\"range\",\"data-bind\":\"numericValue: index, valueUpdate: 'input', event: {change: function (){this.changes(this.changes()+1)}}\",\"orient\":\"horizontal\"},\"step\":1,\"className\":\"slider slider is-fullwidth\",\"style\":{}},\"nodeType\":\"DOM\",\"type\":\"node\",\"instanceArgs\":{\"namespace\":\"html\",\"tag\":\"input\"},\"children\":[]}]},{\"props\":{\"className\":\"interact-flex-row-right\"},\"nodeType\":\"DOM\",\"type\":\"node\",\"instanceArgs\":{\"namespace\":\"html\",\"tag\":\"div\"},\"children\":[{\"props\":{\"attributes\":{\"data-bind\":\"text: formatted_val\"}},\"nodeType\":\"DOM\",\"type\":\"node\",\"instanceArgs\":{\"namespace\":\"html\",\"tag\":\"p\"},\"children\":[]}]}]}]}]},{\"props\":{},\"nodeType\":\"Scope\",\"type\":\"node\",\"instanceArgs\":{\"imports\":{\"data\":[],\"type\":\"async_block\"},\"id\":\"scope-3fb3c11a-c0fd-40f9-8b0d-09800ce0525a\",\"handlers\":{},\"systemjs_options\":null,\"mount_callbacks\":[],\"observables\":{\"obs-node\":{\"sync\":false,\"id\":\"ob_16\",\"value\":{\"props\":{\"className\":\"interact-flex-row interact-widget\"},\"nodeType\":\"DOM\",\"type\":\"node\",\"instanceArgs\":{\"namespace\":\"html\",\"tag\":\"div\"},\"children\":[{\"props\":{\"setInnerHtml\":\"<?xml version=\\\"1.0\\\" encoding=\\\"utf-8\\\"?>\\n<svg xmlns=\\\"http:\\/\\/www.w3.org\\/2000\\/svg\\\" xmlns:xlink=\\\"http:\\/\\/www.w3.org\\/1999\\/xlink\\\" width=\\\"600\\\" height=\\\"400\\\" viewBox=\\\"0 0 2400 1600\\\">\\n<defs>\\n  <clipPath id=\\\"clip4400\\\">\\n    <rect x=\\\"0\\\" y=\\\"0\\\" width=\\\"2400\\\" height=\\\"1600\\\"\\/>\\n  <\\/clipPath>\\n<\\/defs>\\n<polygon clip-path=\\\"url(#clip4400)\\\" points=\\\"\\n0,1600 2400,1600 2400,0 0,0 \\n  \\\" fill=\\\"#ffffff\\\" fill-rule=\\\"evenodd\\\" fill-opacity=\\\"1\\\"\\/>\\n<defs>\\n  <clipPath id=\\\"clip4401\\\">\\n    <rect x=\\\"480\\\" y=\\\"0\\\" width=\\\"1681\\\" height=\\\"1600\\\"\\/>\\n  <\\/clipPath>\\n<\\/defs>\\n<polygon clip-path=\\\"url(#clip4400)\\\" points=\\\"\\n363.188,625.619 1206.4,625.619 1206.4,47.2441 363.188,47.2441 \\n  \\\" fill=\\\"#ffffff\\\" fill-rule=\\\"evenodd\\\" fill-opacity=\\\"1\\\"\\/>\\n<defs>\\n  <clipPath id=\\\"clip4402\\\">\\n    <rect x=\\\"363\\\" y=\\\"47\\\" width=\\\"844\\\" height=\\\"579\\\"\\/>\\n  <\\/clipPath>\\n<\\/defs>\\n<polyline clip-path=\\\"url(#clip4402)\\\" style=\\\"stroke:#000000; stroke-width:2; stroke-opacity:0.1; fill:none\\\" points=\\\"\\n  482.51,625.619 482.51,47.2441 \\n  \\\"\\/>\\n<polyline clip-path=\\\"url(#clip4402)\\\" style=\\\"stroke:#000000; stroke-width:2; stroke-opacity:0.1; fill:none\\\" points=\\\"\\n  609.788,625.619 609.788,47.2441 \\n  \\\"\\/>\\n<polyline clip-path=\\\"url(#clip4402)\\\" style=\\\"stroke:#000000; stroke-width:2; stroke-opacity:0.1; fill:none\\\" points=\\\"\\n  737.065,625.619 737.065,47.2441 \\n  \\\"\\/>\\n<polyline clip-path=\\\"url(#clip4402)\\\" style=\\\"stroke:#000000; stroke-width:2; stroke-opacity:0.1; fill:none\\\" points=\\\"\\n  864.343,625.619 864.343,47.2441 \\n  \\\"\\/>\\n<polyline clip-path=\\\"url(#clip4402)\\\" style=\\\"stroke:#000000; stroke-width:2; stroke-opacity:0.1; fill:none\\\" points=\\\"\\n  991.62,625.619 991.62,47.2441 \\n  \\\"\\/>\\n<polyline clip-path=\\\"url(#clip4402)\\\" style=\\\"stroke:#000000; stroke-width:2; stroke-opacity:0.1; fill:none\\\" points=\\\"\\n  1118.9,625.619 1118.9,47.2441 \\n  \\\"\\/>\\n<polyline clip-path=\\\"url(#clip4402)\\\" style=\\\"stroke:#000000; stroke-width:2; stroke-opacity:0.1; fill:none\\\" points=\\\"\\n  363.188,625.619 1206.4,625.619 \\n  \\\"\\/>\\n<polyline clip-path=\\\"url(#clip4402)\\\" style=\\\"stroke:#000000; stroke-width:2; stroke-opacity:0.1; fill:none\\\" points=\\\"\\n  363.188,432.827 1206.4,432.827 \\n  \\\"\\/>\\n<polyline clip-path=\\\"url(#clip4402)\\\" style=\\\"stroke:#000000; stroke-width:2; stroke-opacity:0.1; fill:none\\\" points=\\\"\\n  363.188,240.036 1206.4,240.036 \\n  \\\"\\/>\\n<polyline clip-path=\\\"url(#clip4402)\\\" style=\\\"stroke:#000000; stroke-width:2; stroke-opacity:0.1; fill:none\\\" points=\\\"\\n  363.188,47.2441 1206.4,47.2441 \\n  \\\"\\/>\\n<polyline clip-path=\\\"url(#clip4400)\\\" style=\\\"stroke:#000000; stroke-width:4; stroke-opacity:1; fill:none\\\" points=\\\"\\n  363.188,625.619 1206.4,625.619 \\n  \\\"\\/>\\n<polyline clip-path=\\\"url(#clip4400)\\\" style=\\\"stroke:#000000; stroke-width:4; stroke-opacity:1; fill:none\\\" points=\\\"\\n  363.188,625.619 363.188,47.2441 \\n  \\\"\\/>\\n<polyline clip-path=\\\"url(#clip4400)\\\" style=\\\"stroke:#000000; stroke-width:4; stroke-opacity:1; fill:none\\\" points=\\\"\\n  482.51,625.619 482.51,616.943 \\n  \\\"\\/>\\n<polyline clip-path=\\\"url(#clip4400)\\\" style=\\\"stroke:#000000; stroke-width:4; stroke-opacity:1; fill:none\\\" points=\\\"\\n  609.788,625.619 609.788,616.943 \\n  \\\"\\/>\\n<polyline clip-path=\\\"url(#clip4400)\\\" style=\\\"stroke:#000000; stroke-width:4; stroke-opacity:1; fill:none\\\" points=\\\"\\n  737.065,625.619 737.065,616.943 \\n  \\\"\\/>\\n<polyline clip-path=\\\"url(#clip4400)\\\" style=\\\"stroke:#000000; stroke-width:4; stroke-opacity:1; fill:none\\\" points=\\\"\\n  864.343,625.619 864.343,616.943 \\n  \\\"\\/>\\n<polyline clip-path=\\\"url(#clip4400)\\\" style=\\\"stroke:#000000; stroke-width:4; stroke-opacity:1; fill:none\\\" points=\\\"\\n  991.62,625.619 991.62,616.943 \\n  \\\"\\/>\\n<polyline clip-path=\\\"url(#clip4400)\\\" style=\\\"stroke:#000000; stroke-width:4; stroke-opacity:1; fill:none\\\" points=\\\"\\n  1118.9,625.619 1118.9,616.943 \\n  \\\"\\/>\\n<polyline clip-path=\\\"url(#clip4400)\\\" style=\\\"stroke:#000000; stroke-width:4; stroke-opacity:1; fill:none\\\" points=\\\"\\n  363.188,625.619 375.836,625.619 \\n  \\\"\\/>\\n<polyline clip-path=\\\"url(#clip4400)\\\" style=\\\"stroke:#000000; stroke-width:4; stroke-opacity:1; fill:none\\\" points=\\\"\\n  363.188,432.827 375.836,432.827 \\n  \\\"\\/>\\n<polyline clip-path=\\\"url(#clip4400)\\\" style=\\\"stroke:#000000; stroke-width:4; stroke-opacity:1; fill:none\\\" points=\\\"\\n  363.188,240.036 375.836,240.036 \\n  \\\"\\/>\\n<polyline clip-path=\\\"url(#clip4400)\\\" style=\\\"stroke:#000000; stroke-width:4; stroke-opacity:1; fill:none\\\" points=\\\"\\n  363.188,47.2441 375.836,47.2441 \\n  \\\"\\/>\\n<g clip-path=\\\"url(#clip4400)\\\">\\n<text style=\\\"fill:#000000; fill-opacity:1; font-family:Arial,Helvetica Neue,Helvetica,sans-serif; font-size:48px; text-anchor:middle;\\\" transform=\\\"rotate(0, 482.51, 679.619)\\\" x=\\\"482.51\\\" y=\\\"679.619\\\">40<\\/text>\\n<\\/g>\\n<g clip-path=\\\"url(#clip4400)\\\">\\n<text style=\\\"fill:#000000; fill-opacity:1; font-family:Arial,Helvetica Neue,Helvetica,sans-serif; font-size:48px; text-anchor:middle;\\\" transform=\\\"rotate(0, 609.788, 679.619)\\\" x=\\\"609.788\\\" y=\\\"679.619\\\">60<\\/text>\\n<\\/g>\\n<g clip-path=\\\"url(#clip4400)\\\">\\n<text style=\\\"fill:#000000; fill-opacity:1; font-family:Arial,Helvetica Neue,Helvetica,sans-serif; font-size:48px; text-anchor:middle;\\\" transform=\\\"rotate(0, 737.065, 679.619)\\\" x=\\\"737.065\\\" y=\\\"679.619\\\">80<\\/text>\\n<\\/g>\\n<g clip-path=\\\"url(#clip4400)\\\">\\n<text style=\\\"fill:#000000; fill-opacity:1; font-family:Arial,Helvetica Neue,Helvetica,sans-serif; font-size:48px; text-anchor:middle;\\\" transform=\\\"rotate(0, 864.343, 679.619)\\\" x=\\\"864.343\\\" y=\\\"679.619\\\">100<\\/text>\\n<\\/g>\\n<g clip-path=\\\"url(#clip4400)\\\">\\n<text style=\\\"fill:#000000; fill-opacity:1; font-family:Arial,Helvetica Neue,Helvetica,sans-serif; font-size:48px; text-anchor:middle;\\\" transform=\\\"rotate(0, 991.62, 679.619)\\\" x=\\\"991.62\\\" y=\\\"679.619\\\">120<\\/text>\\n<\\/g>\\n<g clip-path=\\\"url(#clip4400)\\\">\\n<text style=\\\"fill:#000000; fill-opacity:1; font-family:Arial,Helvetica Neue,Helvetica,sans-serif; font-size:48px; text-anchor:middle;\\\" transform=\\\"rotate(0, 1118.9, 679.619)\\\" x=\\\"1118.9\\\" y=\\\"679.619\\\">140<\\/text>\\n<\\/g>\\n<g clip-path=\\\"url(#clip4400)\\\">\\n<text style=\\\"fill:#000000; fill-opacity:1; font-family:Arial,Helvetica Neue,Helvetica,sans-serif; font-size:48px; text-anchor:start;\\\" transform=\\\"rotate(0, 168.903, 649.346)\\\" x=\\\"168.903\\\" y=\\\"649.346\\\">5.0×10<\\/text>\\n<\\/g>\\n<g clip-path=\\\"url(#clip4400)\\\">\\n<text style=\\\"fill:#000000; fill-opacity:1; font-family:Arial,Helvetica Neue,Helvetica,sans-serif; font-size:38px; text-anchor:start;\\\" transform=\\\"rotate(0, 317.443, 621.936)\\\" x=\\\"317.443\\\" y=\\\"621.936\\\">4<\\/text>\\n<\\/g>\\n<g clip-path=\\\"url(#clip4400)\\\">\\n<text style=\\\"fill:#000000; fill-opacity:1; font-family:Arial,Helvetica Neue,Helvetica,sans-serif; font-size:48px; text-anchor:start;\\\" transform=\\\"rotate(0, 168.903, 456.555)\\\" x=\\\"168.903\\\" y=\\\"456.555\\\">1.0×10<\\/text>\\n<\\/g>\\n<g clip-path=\\\"url(#clip4400)\\\">\\n<text style=\\\"fill:#000000; fill-opacity:1; font-family:Arial,Helvetica Neue,Helvetica,sans-serif; font-size:38px; text-anchor:start;\\\" transform=\\\"rotate(0, 317.443, 429.144)\\\" x=\\\"317.443\\\" y=\\\"429.144\\\">5<\\/text>\\n<\\/g>\\n<g clip-path=\\\"url(#clip4400)\\\">\\n<text style=\\\"fill:#000000; fill-opacity:1; font-family:Arial,Helvetica Neue,Helvetica,sans-serif; font-size:48px; text-anchor:start;\\\" transform=\\\"rotate(0, 168.903, 263.763)\\\" x=\\\"168.903\\\" y=\\\"263.763\\\">1.5×10<\\/text>\\n<\\/g>\\n<g clip-path=\\\"url(#clip4400)\\\">\\n<text style=\\\"fill:#000000; fill-opacity:1; font-family:Arial,Helvetica Neue,Helvetica,sans-serif; font-size:38px; text-anchor:start;\\\" transform=\\\"rotate(0, 317.443, 236.353)\\\" x=\\\"317.443\\\" y=\\\"236.353\\\">5<\\/text>\\n<\\/g>\\n<g clip-path=\\\"url(#clip4400)\\\">\\n<text style=\\\"fill:#000000; fill-opacity:1; font-family:Arial,Helvetica Neue,Helvetica,sans-serif; font-size:48px; text-anchor:start;\\\" transform=\\\"rotate(0, 168.903, 70.9717)\\\" x=\\\"168.903\\\" y=\\\"70.9717\\\">2.0×10<\\/text>\\n<\\/g>\\n<g clip-path=\\\"url(#clip4400)\\\">\\n<text style=\\\"fill:#000000; fill-opacity:1; font-family:Arial,Helvetica Neue,Helvetica,sans-serif; font-size:38px; text-anchor:start;\\\" transform=\\\"rotate(0, 317.443, 43.5613)\\\" x=\\\"317.443\\\" y=\\\"43.5613\\\">5<\\/text>\\n<\\/g>\\n<g clip-path=\\\"url(#clip4400)\\\">\\n<text style=\\\"fill:#000000; fill-opacity:1; font-family:Arial,Helvetica Neue,Helvetica,sans-serif; font-size:66px; text-anchor:middle;\\\" transform=\\\"rotate(0, 784.794, 759.48)\\\" x=\\\"784.794\\\" y=\\\"759.48\\\">Cost of G1<\\/text>\\n<\\/g>\\n<g clip-path=\\\"url(#clip4400)\\\">\\n<text style=\\\"fill:#000000; fill-opacity:1; font-family:Arial,Helvetica Neue,Helvetica,sans-serif; font-size:66px; text-anchor:middle;\\\" transform=\\\"rotate(-90, 89.2861, 336.431)\\\" x=\\\"89.2861\\\" y=\\\"336.431\\\">Total cost<\\/text>\\n<\\/g>\\n<polyline clip-path=\\\"url(#clip4402)\\\" style=\\\"stroke:#009af9; stroke-width:4; stroke-opacity:1; fill:none\\\" points=\\\"\\n  387.052,585.69 418.872,566.411 450.691,547.132 482.51,527.853 514.33,508.574 546.149,489.294 577.968,470.015 609.788,450.736 641.607,431.457 673.426,412.178 \\n  705.246,392.899 737.065,373.62 768.885,354.34 800.704,335.061 832.523,315.782 864.343,296.503 896.162,277.224 927.981,258.229 959.801,244.013 991.62,230.782 \\n  1023.44,218.579 1055.26,207.447 1087.08,197.429 1118.9,188.567 1150.72,180.906 1182.54,174.486 \\n  \\\"\\/>\\n<polygon clip-path=\\\"url(#clip4400)\\\" points=\\\"\\n1509.54,625.619 2352.76,625.619 2352.76,47.2441 1509.54,47.2441 \\n  \\\" fill=\\\"#ffffff\\\" fill-rule=\\\"evenodd\\\" fill-opacity=\\\"1\\\"\\/>\\n<defs>\\n  <clipPath id=\\\"clip4403\\\">\\n    <rect x=\\\"1509\\\" y=\\\"47\\\" width=\\\"844\\\" height=\\\"579\\\"\\/>\\n  <\\/clipPath>\\n<\\/defs>\\n<polyline clip-path=\\\"url(#clip4403)\\\" style=\\\"stroke:#000000; stroke-width:2; stroke-opacity:0.1; fill:none\\\" points=\\\"\\n  1628.87,625.619 1628.87,47.2441 \\n  \\\"\\/>\\n<polyline clip-path=\\\"url(#clip4403)\\\" style=\\\"stroke:#000000; stroke-width:2; stroke-opacity:0.1; fill:none\\\" points=\\\"\\n  1756.14,625.619 1756.14,47.2441 \\n  \\\"\\/>\\n<polyline clip-path=\\\"url(#clip4403)\\\" style=\\\"stroke:#000000; stroke-width:2; stroke-opacity:0.1; fill:none\\\" points=\\\"\\n  1883.42,625.619 1883.42,47.2441 \\n  \\\"\\/>\\n<polyline clip-path=\\\"url(#clip4403)\\\" style=\\\"stroke:#000000; stroke-width:2; stroke-opacity:0.1; fill:none\\\" points=\\\"\\n  2010.7,625.619 2010.7,47.2441 \\n  \\\"\\/>\\n<polyline clip-path=\\\"url(#clip4403)\\\" style=\\\"stroke:#000000; stroke-width:2; stroke-opacity:0.1; fill:none\\\" points=\\\"\\n  2137.98,625.619 2137.98,47.2441 \\n  \\\"\\/>\\n<polyline clip-path=\\\"url(#clip4403)\\\" style=\\\"stroke:#000000; stroke-width:2; stroke-opacity:0.1; fill:none\\\" points=\\\"\\n  2265.25,625.619 2265.25,47.2441 \\n  \\\"\\/>\\n<polyline clip-path=\\\"url(#clip4403)\\\" style=\\\"stroke:#000000; stroke-width:2; stroke-opacity:0.1; fill:none\\\" points=\\\"\\n  1509.54,625.619 2352.76,625.619 \\n  \\\"\\/>\\n<polyline clip-path=\\\"url(#clip4403)\\\" style=\\\"stroke:#000000; stroke-width:2; stroke-opacity:0.1; fill:none\\\" points=\\\"\\n  1509.54,494.17 2352.76,494.17 \\n  \\\"\\/>\\n<polyline clip-path=\\\"url(#clip4403)\\\" style=\\\"stroke:#000000; stroke-width:2; stroke-opacity:0.1; fill:none\\\" points=\\\"\\n  1509.54,362.721 2352.76,362.721 \\n  \\\"\\/>\\n<polyline clip-path=\\\"url(#clip4403)\\\" style=\\\"stroke:#000000; stroke-width:2; stroke-opacity:0.1; fill:none\\\" points=\\\"\\n  1509.54,231.272 2352.76,231.272 \\n  \\\"\\/>\\n<polyline clip-path=\\\"url(#clip4403)\\\" style=\\\"stroke:#000000; stroke-width:2; stroke-opacity:0.1; fill:none\\\" points=\\\"\\n  1509.54,99.8236 2352.76,99.8236 \\n  \\\"\\/>\\n<polyline clip-path=\\\"url(#clip4400)\\\" style=\\\"stroke:#000000; stroke-width:4; stroke-opacity:1; fill:none\\\" points=\\\"\\n  1509.54,625.619 2352.76,625.619 \\n  \\\"\\/>\\n<polyline clip-path=\\\"url(#clip4400)\\\" style=\\\"stroke:#000000; stroke-width:4; stroke-opacity:1; fill:none\\\" points=\\\"\\n  1509.54,625.619 1509.54,47.2441 \\n  \\\"\\/>\\n<polyline clip-path=\\\"url(#clip4400)\\\" style=\\\"stroke:#000000; stroke-width:4; stroke-opacity:1; fill:none\\\" points=\\\"\\n  1628.87,625.619 1628.87,616.943 \\n  \\\"\\/>\\n<polyline clip-path=\\\"url(#clip4400)\\\" style=\\\"stroke:#000000; stroke-width:4; stroke-opacity:1; fill:none\\\" points=\\\"\\n  1756.14,625.619 1756.14,616.943 \\n  \\\"\\/>\\n<polyline clip-path=\\\"url(#clip4400)\\\" style=\\\"stroke:#000000; stroke-width:4; stroke-opacity:1; fill:none\\\" points=\\\"\\n  1883.42,625.619 1883.42,616.943 \\n  \\\"\\/>\\n<polyline clip-path=\\\"url(#clip4400)\\\" style=\\\"stroke:#000000; stroke-width:4; stroke-opacity:1; fill:none\\\" points=\\\"\\n  2010.7,625.619 2010.7,616.943 \\n  \\\"\\/>\\n<polyline clip-path=\\\"url(#clip4400)\\\" style=\\\"stroke:#000000; stroke-width:4; stroke-opacity:1; fill:none\\\" points=\\\"\\n  2137.98,625.619 2137.98,616.943 \\n  \\\"\\/>\\n<polyline clip-path=\\\"url(#clip4400)\\\" style=\\\"stroke:#000000; stroke-width:4; stroke-opacity:1; fill:none\\\" points=\\\"\\n  2265.25,625.619 2265.25,616.943 \\n  \\\"\\/>\\n<polyline clip-path=\\\"url(#clip4400)\\\" style=\\\"stroke:#000000; stroke-width:4; stroke-opacity:1; fill:none\\\" points=\\\"\\n  1509.54,625.619 1522.19,625.619 \\n  \\\"\\/>\\n<polyline clip-path=\\\"url(#clip4400)\\\" style=\\\"stroke:#000000; stroke-width:4; stroke-opacity:1; fill:none\\\" points=\\\"\\n  1509.54,494.17 1522.19,494.17 \\n  \\\"\\/>\\n<polyline clip-path=\\\"url(#clip4400)\\\" style=\\\"stroke:#000000; stroke-width:4; stroke-opacity:1; fill:none\\\" points=\\\"\\n  1509.54,362.721 1522.19,362.721 \\n  \\\"\\/>\\n<polyline clip-path=\\\"url(#clip4400)\\\" style=\\\"stroke:#000000; stroke-width:4; stroke-opacity:1; fill:none\\\" points=\\\"\\n  1509.54,231.272 1522.19,231.272 \\n  \\\"\\/>\\n<polyline clip-path=\\\"url(#clip4400)\\\" style=\\\"stroke:#000000; stroke-width:4; stroke-opacity:1; fill:none\\\" points=\\\"\\n  1509.54,99.8236 1522.19,99.8236 \\n  \\\"\\/>\\n<g clip-path=\\\"url(#clip4400)\\\">\\n<text style=\\\"fill:#000000; fill-opacity:1; font-family:Arial,Helvetica Neue,Helvetica,sans-serif; font-size:48px; text-anchor:middle;\\\" transform=\\\"rotate(0, 1628.87, 679.619)\\\" x=\\\"1628.87\\\" y=\\\"679.619\\\">40<\\/text>\\n<\\/g>\\n<g clip-path=\\\"url(#clip4400)\\\">\\n<text style=\\\"fill:#000000; fill-opacity:1; font-family:Arial,Helvetica Neue,Helvetica,sans-serif; font-size:48px; text-anchor:middle;\\\" transform=\\\"rotate(0, 1756.14, 679.619)\\\" x=\\\"1756.14\\\" y=\\\"679.619\\\">60<\\/text>\\n<\\/g>\\n<g clip-path=\\\"url(#clip4400)\\\">\\n<text style=\\\"fill:#000000; fill-opacity:1; font-family:Arial,Helvetica Neue,Helvetica,sans-serif; font-size:48px; text-anchor:middle;\\\" transform=\\\"rotate(0, 1883.42, 679.619)\\\" x=\\\"1883.42\\\" y=\\\"679.619\\\">80<\\/text>\\n<\\/g>\\n<g clip-path=\\\"url(#clip4400)\\\">\\n<text style=\\\"fill:#000000; fill-opacity:1; font-family:Arial,Helvetica Neue,Helvetica,sans-serif; font-size:48px; text-anchor:middle;\\\" transform=\\\"rotate(0, 2010.7, 679.619)\\\" x=\\\"2010.7\\\" y=\\\"679.619\\\">100<\\/text>\\n<\\/g>\\n<g clip-path=\\\"url(#clip4400)\\\">\\n<text style=\\\"fill:#000000; fill-opacity:1; font-family:Arial,Helvetica Neue,Helvetica,sans-serif; font-size:48px; text-anchor:middle;\\\" transform=\\\"rotate(0, 2137.98, 679.619)\\\" x=\\\"2137.98\\\" y=\\\"679.619\\\">120<\\/text>\\n<\\/g>\\n<g clip-path=\\\"url(#clip4400)\\\">\\n<text style=\\\"fill:#000000; fill-opacity:1; font-family:Arial,Helvetica Neue,Helvetica,sans-serif; font-size:48px; text-anchor:middle;\\\" transform=\\\"rotate(0, 2265.25, 679.619)\\\" x=\\\"2265.25\\\" y=\\\"679.619\\\">140<\\/text>\\n<\\/g>\\n<g clip-path=\\\"url(#clip4400)\\\">\\n<text style=\\\"fill:#000000; fill-opacity:1; font-family:Arial,Helvetica Neue,Helvetica,sans-serif; font-size:48px; text-anchor:end;\\\" transform=\\\"rotate(0, 1485.54, 643.119)\\\" x=\\\"1485.54\\\" y=\\\"643.119\\\">0<\\/text>\\n<\\/g>\\n<g clip-path=\\\"url(#clip4400)\\\">\\n<text style=\\\"fill:#000000; fill-opacity:1; font-family:Arial,Helvetica Neue,Helvetica,sans-serif; font-size:48px; text-anchor:end;\\\" transform=\\\"rotate(0, 1485.54, 511.67)\\\" x=\\\"1485.54\\\" y=\\\"511.67\\\">250<\\/text>\\n<\\/g>\\n<g clip-path=\\\"url(#clip4400)\\\">\\n<text style=\\\"fill:#000000; fill-opacity:1; font-family:Arial,Helvetica Neue,Helvetica,sans-serif; font-size:48px; text-anchor:end;\\\" transform=\\\"rotate(0, 1485.54, 380.221)\\\" x=\\\"1485.54\\\" y=\\\"380.221\\\">500<\\/text>\\n<\\/g>\\n<g clip-path=\\\"url(#clip4400)\\\">\\n<text style=\\\"fill:#000000; fill-opacity:1; font-family:Arial,Helvetica Neue,Helvetica,sans-serif; font-size:48px; text-anchor:end;\\\" transform=\\\"rotate(0, 1485.54, 248.772)\\\" x=\\\"1485.54\\\" y=\\\"248.772\\\">750<\\/text>\\n<\\/g>\\n<g clip-path=\\\"url(#clip4400)\\\">\\n<text style=\\\"fill:#000000; fill-opacity:1; font-family:Arial,Helvetica Neue,Helvetica,sans-serif; font-size:48px; text-anchor:end;\\\" transform=\\\"rotate(0, 1485.54, 117.324)\\\" x=\\\"1485.54\\\" y=\\\"117.324\\\">1000<\\/text>\\n<\\/g>\\n<g clip-path=\\\"url(#clip4400)\\\">\\n<text style=\\\"fill:#000000; fill-opacity:1; font-family:Arial,Helvetica Neue,Helvetica,sans-serif; font-size:66px; text-anchor:middle;\\\" transform=\\\"rotate(0, 1931.15, 759.48)\\\" x=\\\"1931.15\\\" y=\\\"759.48\\\">Cost of G1<\\/text>\\n<\\/g>\\n<g clip-path=\\\"url(#clip4400)\\\">\\n<text style=\\\"fill:#000000; fill-opacity:1; font-family:Arial,Helvetica Neue,Helvetica,sans-serif; font-size:66px; text-anchor:middle;\\\" transform=\\\"rotate(-90, 1342.93, 336.431)\\\" x=\\\"1342.93\\\" y=\\\"336.431\\\">Dispatch: G1<\\/text>\\n<\\/g>\\n<polyline clip-path=\\\"url(#clip4403)\\\" style=\\\"stroke:#009af9; stroke-width:4; stroke-opacity:1; fill:none\\\" points=\\\"\\n  1533.41,99.8236 1565.23,99.8236 1597.05,99.8236 1628.87,99.8236 1660.68,99.8236 1692.5,99.8236 1724.32,99.8236 1756.14,99.8236 1787.96,99.8236 1819.78,99.8236 \\n  1851.6,99.8236 1883.42,99.8236 1915.24,99.8236 1947.06,99.8236 1978.88,99.8236 2010.7,99.8236 2042.52,99.8236 2074.34,151.992 2106.16,251.136 2137.98,278.594 \\n  2169.79,307.221 2201.61,337.016 2233.43,367.979 2265.25,400.111 2297.07,433.411 2328.89,467.88 \\n  \\\"\\/>\\n<polygon clip-path=\\\"url(#clip4400)\\\" points=\\\"\\n363.188,1425.62 1206.4,1425.62 1206.4,847.244 363.188,847.244 \\n  \\\" fill=\\\"#ffffff\\\" fill-rule=\\\"evenodd\\\" fill-opacity=\\\"1\\\"\\/>\\n<defs>\\n  <clipPath id=\\\"clip4404\\\">\\n    <rect x=\\\"363\\\" y=\\\"847\\\" width=\\\"844\\\" height=\\\"579\\\"\\/>\\n  <\\/clipPath>\\n<\\/defs>\\n<polyline clip-path=\\\"url(#clip4404)\\\" style=\\\"stroke:#000000; stroke-width:2; stroke-opacity:0.1; fill:none\\\" points=\\\"\\n  482.51,1425.62 482.51,847.244 \\n  \\\"\\/>\\n<polyline clip-path=\\\"url(#clip4404)\\\" style=\\\"stroke:#000000; stroke-width:2; stroke-opacity:0.1; fill:none\\\" points=\\\"\\n  609.788,1425.62 609.788,847.244 \\n  \\\"\\/>\\n<polyline clip-path=\\\"url(#clip4404)\\\" style=\\\"stroke:#000000; stroke-width:2; stroke-opacity:0.1; fill:none\\\" points=\\\"\\n  737.065,1425.62 737.065,847.244 \\n  \\\"\\/>\\n<polyline clip-path=\\\"url(#clip4404)\\\" style=\\\"stroke:#000000; stroke-width:2; stroke-opacity:0.1; fill:none\\\" points=\\\"\\n  864.343,1425.62 864.343,847.244 \\n  \\\"\\/>\\n<polyline clip-path=\\\"url(#clip4404)\\\" style=\\\"stroke:#000000; stroke-width:2; stroke-opacity:0.1; fill:none\\\" points=\\\"\\n  991.62,1425.62 991.62,847.244 \\n  \\\"\\/>\\n<polyline clip-path=\\\"url(#clip4404)\\\" style=\\\"stroke:#000000; stroke-width:2; stroke-opacity:0.1; fill:none\\\" points=\\\"\\n  1118.9,1425.62 1118.9,847.244 \\n  \\\"\\/>\\n<polyline clip-path=\\\"url(#clip4404)\\\" style=\\\"stroke:#000000; stroke-width:2; stroke-opacity:0.1; fill:none\\\" points=\\\"\\n  363.188,1425.62 1206.4,1425.62 \\n  \\\"\\/>\\n<polyline clip-path=\\\"url(#clip4404)\\\" style=\\\"stroke:#000000; stroke-width:2; stroke-opacity:0.1; fill:none\\\" points=\\\"\\n  363.188,1244.88 1206.4,1244.88 \\n  \\\"\\/>\\n<polyline clip-path=\\\"url(#clip4404)\\\" style=\\\"stroke:#000000; stroke-width:2; stroke-opacity:0.1; fill:none\\\" points=\\\"\\n  363.188,1064.13 1206.4,1064.13 \\n  \\\"\\/>\\n<polyline clip-path=\\\"url(#clip4404)\\\" style=\\\"stroke:#000000; stroke-width:2; stroke-opacity:0.1; fill:none\\\" points=\\\"\\n  363.188,883.393 1206.4,883.393 \\n  \\\"\\/>\\n<polyline clip-path=\\\"url(#clip4400)\\\" style=\\\"stroke:#000000; stroke-width:4; stroke-opacity:1; fill:none\\\" points=\\\"\\n  363.188,1425.62 1206.4,1425.62 \\n  \\\"\\/>\\n<polyline clip-path=\\\"url(#clip4400)\\\" style=\\\"stroke:#000000; stroke-width:4; stroke-opacity:1; fill:none\\\" points=\\\"\\n  363.188,1425.62 363.188,847.244 \\n  \\\"\\/>\\n<polyline clip-path=\\\"url(#clip4400)\\\" style=\\\"stroke:#000000; stroke-width:4; stroke-opacity:1; fill:none\\\" points=\\\"\\n  482.51,1425.62 482.51,1416.94 \\n  \\\"\\/>\\n<polyline clip-path=\\\"url(#clip4400)\\\" style=\\\"stroke:#000000; stroke-width:4; stroke-opacity:1; fill:none\\\" points=\\\"\\n  609.788,1425.62 609.788,1416.94 \\n  \\\"\\/>\\n<polyline clip-path=\\\"url(#clip4400)\\\" style=\\\"stroke:#000000; stroke-width:4; stroke-opacity:1; fill:none\\\" points=\\\"\\n  737.065,1425.62 737.065,1416.94 \\n  \\\"\\/>\\n<polyline clip-path=\\\"url(#clip4400)\\\" style=\\\"stroke:#000000; stroke-width:4; stroke-opacity:1; fill:none\\\" points=\\\"\\n  864.343,1425.62 864.343,1416.94 \\n  \\\"\\/>\\n<polyline clip-path=\\\"url(#clip4400)\\\" style=\\\"stroke:#000000; stroke-width:4; stroke-opacity:1; fill:none\\\" points=\\\"\\n  991.62,1425.62 991.62,1416.94 \\n  \\\"\\/>\\n<polyline clip-path=\\\"url(#clip4400)\\\" style=\\\"stroke:#000000; stroke-width:4; stroke-opacity:1; fill:none\\\" points=\\\"\\n  1118.9,1425.62 1118.9,1416.94 \\n  \\\"\\/>\\n<polyline clip-path=\\\"url(#clip4400)\\\" style=\\\"stroke:#000000; stroke-width:4; stroke-opacity:1; fill:none\\\" points=\\\"\\n  363.188,1425.62 375.836,1425.62 \\n  \\\"\\/>\\n<polyline clip-path=\\\"url(#clip4400)\\\" style=\\\"stroke:#000000; stroke-width:4; stroke-opacity:1; fill:none\\\" points=\\\"\\n  363.188,1244.88 375.836,1244.88 \\n  \\\"\\/>\\n<polyline clip-path=\\\"url(#clip4400)\\\" style=\\\"stroke:#000000; stroke-width:4; stroke-opacity:1; fill:none\\\" points=\\\"\\n  363.188,1064.13 375.836,1064.13 \\n  \\\"\\/>\\n<polyline clip-path=\\\"url(#clip4400)\\\" style=\\\"stroke:#000000; stroke-width:4; stroke-opacity:1; fill:none\\\" points=\\\"\\n  363.188,883.393 375.836,883.393 \\n  \\\"\\/>\\n<g clip-path=\\\"url(#clip4400)\\\">\\n<text style=\\\"fill:#000000; fill-opacity:1; font-family:Arial,Helvetica Neue,Helvetica,sans-serif; font-size:48px; text-anchor:middle;\\\" transform=\\\"rotate(0, 482.51, 1479.62)\\\" x=\\\"482.51\\\" y=\\\"1479.62\\\">40<\\/text>\\n<\\/g>\\n<g clip-path=\\\"url(#clip4400)\\\">\\n<text style=\\\"fill:#000000; fill-opacity:1; font-family:Arial,Helvetica Neue,Helvetica,sans-serif; font-size:48px; text-anchor:middle;\\\" transform=\\\"rotate(0, 609.788, 1479.62)\\\" x=\\\"609.788\\\" y=\\\"1479.62\\\">60<\\/text>\\n<\\/g>\\n<g clip-path=\\\"url(#clip4400)\\\">\\n<text style=\\\"fill:#000000; fill-opacity:1; font-family:Arial,Helvetica Neue,Helvetica,sans-serif; font-size:48px; text-anchor:middle;\\\" transform=\\\"rotate(0, 737.065, 1479.62)\\\" x=\\\"737.065\\\" y=\\\"1479.62\\\">80<\\/text>\\n<\\/g>\\n<g clip-path=\\\"url(#clip4400)\\\">\\n<text style=\\\"fill:#000000; fill-opacity:1; font-family:Arial,Helvetica Neue,Helvetica,sans-serif; font-size:48px; text-anchor:middle;\\\" transform=\\\"rotate(0, 864.343, 1479.62)\\\" x=\\\"864.343\\\" y=\\\"1479.62\\\">100<\\/text>\\n<\\/g>\\n<g clip-path=\\\"url(#clip4400)\\\">\\n<text style=\\\"fill:#000000; fill-opacity:1; font-family:Arial,Helvetica Neue,Helvetica,sans-serif; font-size:48px; text-anchor:middle;\\\" transform=\\\"rotate(0, 991.62, 1479.62)\\\" x=\\\"991.62\\\" y=\\\"1479.62\\\">120<\\/text>\\n<\\/g>\\n<g clip-path=\\\"url(#clip4400)\\\">\\n<text style=\\\"fill:#000000; fill-opacity:1; font-family:Arial,Helvetica Neue,Helvetica,sans-serif; font-size:48px; text-anchor:middle;\\\" transform=\\\"rotate(0, 1118.9, 1479.62)\\\" x=\\\"1118.9\\\" y=\\\"1479.62\\\">140<\\/text>\\n<\\/g>\\n<g clip-path=\\\"url(#clip4400)\\\">\\n<text style=\\\"fill:#000000; fill-opacity:1; font-family:Arial,Helvetica Neue,Helvetica,sans-serif; font-size:48px; text-anchor:end;\\\" transform=\\\"rotate(0, 339.188, 1443.12)\\\" x=\\\"339.188\\\" y=\\\"1443.12\\\">0<\\/text>\\n<\\/g>\\n<g clip-path=\\\"url(#clip4400)\\\">\\n<text style=\\\"fill:#000000; fill-opacity:1; font-family:Arial,Helvetica Neue,Helvetica,sans-serif; font-size:48px; text-anchor:end;\\\" transform=\\\"rotate(0, 339.188, 1262.38)\\\" x=\\\"339.188\\\" y=\\\"1262.38\\\">500<\\/text>\\n<\\/g>\\n<g clip-path=\\\"url(#clip4400)\\\">\\n<text style=\\\"fill:#000000; fill-opacity:1; font-family:Arial,Helvetica Neue,Helvetica,sans-serif; font-size:48px; text-anchor:end;\\\" transform=\\\"rotate(0, 339.188, 1081.63)\\\" x=\\\"339.188\\\" y=\\\"1081.63\\\">1000<\\/text>\\n<\\/g>\\n<g clip-path=\\\"url(#clip4400)\\\">\\n<text style=\\\"fill:#000000; fill-opacity:1; font-family:Arial,Helvetica Neue,Helvetica,sans-serif; font-size:48px; text-anchor:end;\\\" transform=\\\"rotate(0, 339.188, 900.893)\\\" x=\\\"339.188\\\" y=\\\"900.893\\\">1500<\\/text>\\n<\\/g>\\n<g clip-path=\\\"url(#clip4400)\\\">\\n<text style=\\\"fill:#000000; fill-opacity:1; font-family:Arial,Helvetica Neue,Helvetica,sans-serif; font-size:66px; text-anchor:middle;\\\" transform=\\\"rotate(0, 784.794, 1559.48)\\\" x=\\\"784.794\\\" y=\\\"1559.48\\\">Cost of G1<\\/text>\\n<\\/g>\\n<g clip-path=\\\"url(#clip4400)\\\">\\n<text style=\\\"fill:#000000; fill-opacity:1; font-family:Arial,Helvetica Neue,Helvetica,sans-serif; font-size:66px; text-anchor:middle;\\\" transform=\\\"rotate(-90, 196.576, 1136.43)\\\" x=\\\"196.576\\\" y=\\\"1136.43\\\">Dispatch: G2<\\/text>\\n<\\/g>\\n<polyline clip-path=\\\"url(#clip4404)\\\" style=\\\"stroke:#009af9; stroke-width:4; stroke-opacity:1; fill:none\\\" points=\\\"\\n  387.052,1244.88 418.872,1244.88 450.691,1244.88 482.51,1244.88 514.33,1244.88 546.149,1244.88 577.968,1244.88 609.788,1244.88 641.607,1244.88 673.426,1244.88 \\n  705.246,1244.88 737.065,1244.88 768.885,1244.88 800.704,1244.88 832.523,1244.88 864.343,1244.88 896.162,1244.88 927.981,1231.22 959.801,1213.15 991.62,1194.27 \\n  1023.44,1174.59 1055.26,1154.1 1087.08,1132.82 1118.9,1110.73 1150.72,1087.83 1182.54,1064.13 \\n  \\\"\\/>\\n<polygon clip-path=\\\"url(#clip4400)\\\" points=\\\"\\n1482.78,1425.62 2352.76,1425.62 2352.76,847.244 1482.78,847.244 \\n  \\\" fill=\\\"#ffffff\\\" fill-rule=\\\"evenodd\\\" fill-opacity=\\\"1\\\"\\/>\\n<defs>\\n  <clipPath id=\\\"clip4405\\\">\\n    <rect x=\\\"1482\\\" y=\\\"847\\\" width=\\\"871\\\" height=\\\"579\\\"\\/>\\n  <\\/clipPath>\\n<\\/defs>\\n<polyline clip-path=\\\"url(#clip4405)\\\" style=\\\"stroke:#000000; stroke-width:2; stroke-opacity:0.1; fill:none\\\" points=\\\"\\n  1605.89,1425.62 1605.89,847.244 \\n  \\\"\\/>\\n<polyline clip-path=\\\"url(#clip4405)\\\" style=\\\"stroke:#000000; stroke-width:2; stroke-opacity:0.1; fill:none\\\" points=\\\"\\n  1737.21,1425.62 1737.21,847.244 \\n  \\\"\\/>\\n<polyline clip-path=\\\"url(#clip4405)\\\" style=\\\"stroke:#000000; stroke-width:2; stroke-opacity:0.1; fill:none\\\" points=\\\"\\n  1868.52,1425.62 1868.52,847.244 \\n  \\\"\\/>\\n<polyline clip-path=\\\"url(#clip4405)\\\" style=\\\"stroke:#000000; stroke-width:2; stroke-opacity:0.1; fill:none\\\" points=\\\"\\n  1999.84,1425.62 1999.84,847.244 \\n  \\\"\\/>\\n<polyline clip-path=\\\"url(#clip4405)\\\" style=\\\"stroke:#000000; stroke-width:2; stroke-opacity:0.1; fill:none\\\" points=\\\"\\n  2131.16,1425.62 2131.16,847.244 \\n  \\\"\\/>\\n<polyline clip-path=\\\"url(#clip4405)\\\" style=\\\"stroke:#000000; stroke-width:2; stroke-opacity:0.1; fill:none\\\" points=\\\"\\n  2262.48,1425.62 2262.48,847.244 \\n  \\\"\\/>\\n<polyline clip-path=\\\"url(#clip4405)\\\" style=\\\"stroke:#000000; stroke-width:2; stroke-opacity:0.1; fill:none\\\" points=\\\"\\n  1482.78,1425.62 2352.76,1425.62 \\n  \\\"\\/>\\n<polyline clip-path=\\\"url(#clip4405)\\\" style=\\\"stroke:#000000; stroke-width:2; stroke-opacity:0.1; fill:none\\\" points=\\\"\\n  1482.78,1309.94 2352.76,1309.94 \\n  \\\"\\/>\\n<polyline clip-path=\\\"url(#clip4405)\\\" style=\\\"stroke:#000000; stroke-width:2; stroke-opacity:0.1; fill:none\\\" points=\\\"\\n  1482.78,1194.27 2352.76,1194.27 \\n  \\\"\\/>\\n<polyline clip-path=\\\"url(#clip4405)\\\" style=\\\"stroke:#000000; stroke-width:2; stroke-opacity:0.1; fill:none\\\" points=\\\"\\n  1482.78,1078.59 2352.76,1078.59 \\n  \\\"\\/>\\n<polyline clip-path=\\\"url(#clip4405)\\\" style=\\\"stroke:#000000; stroke-width:2; stroke-opacity:0.1; fill:none\\\" points=\\\"\\n  1482.78,962.919 2352.76,962.919 \\n  \\\"\\/>\\n<polyline clip-path=\\\"url(#clip4405)\\\" style=\\\"stroke:#000000; stroke-width:2; stroke-opacity:0.1; fill:none\\\" points=\\\"\\n  1482.78,847.244 2352.76,847.244 \\n  \\\"\\/>\\n<polyline clip-path=\\\"url(#clip4400)\\\" style=\\\"stroke:#000000; stroke-width:4; stroke-opacity:1; fill:none\\\" points=\\\"\\n  1482.78,1425.62 2352.76,1425.62 \\n  \\\"\\/>\\n<polyline clip-path=\\\"url(#clip4400)\\\" style=\\\"stroke:#000000; stroke-width:4; stroke-opacity:1; fill:none\\\" points=\\\"\\n  1482.78,1425.62 1482.78,847.244 \\n  \\\"\\/>\\n<polyline clip-path=\\\"url(#clip4400)\\\" style=\\\"stroke:#000000; stroke-width:4; stroke-opacity:1; fill:none\\\" points=\\\"\\n  1605.89,1425.62 1605.89,1416.94 \\n  \\\"\\/>\\n<polyline clip-path=\\\"url(#clip4400)\\\" style=\\\"stroke:#000000; stroke-width:4; stroke-opacity:1; fill:none\\\" points=\\\"\\n  1737.21,1425.62 1737.21,1416.94 \\n  \\\"\\/>\\n<polyline clip-path=\\\"url(#clip4400)\\\" style=\\\"stroke:#000000; stroke-width:4; stroke-opacity:1; fill:none\\\" points=\\\"\\n  1868.52,1425.62 1868.52,1416.94 \\n  \\\"\\/>\\n<polyline clip-path=\\\"url(#clip4400)\\\" style=\\\"stroke:#000000; stroke-width:4; stroke-opacity:1; fill:none\\\" points=\\\"\\n  1999.84,1425.62 1999.84,1416.94 \\n  \\\"\\/>\\n<polyline clip-path=\\\"url(#clip4400)\\\" style=\\\"stroke:#000000; stroke-width:4; stroke-opacity:1; fill:none\\\" points=\\\"\\n  2131.16,1425.62 2131.16,1416.94 \\n  \\\"\\/>\\n<polyline clip-path=\\\"url(#clip4400)\\\" style=\\\"stroke:#000000; stroke-width:4; stroke-opacity:1; fill:none\\\" points=\\\"\\n  2262.48,1425.62 2262.48,1416.94 \\n  \\\"\\/>\\n<polyline clip-path=\\\"url(#clip4400)\\\" style=\\\"stroke:#000000; stroke-width:4; stroke-opacity:1; fill:none\\\" points=\\\"\\n  1482.78,1425.62 1495.83,1425.62 \\n  \\\"\\/>\\n<polyline clip-path=\\\"url(#clip4400)\\\" style=\\\"stroke:#000000; stroke-width:4; stroke-opacity:1; fill:none\\\" points=\\\"\\n  1482.78,1309.94 1495.83,1309.94 \\n  \\\"\\/>\\n<polyline clip-path=\\\"url(#clip4400)\\\" style=\\\"stroke:#000000; stroke-width:4; stroke-opacity:1; fill:none\\\" points=\\\"\\n  1482.78,1194.27 1495.83,1194.27 \\n  \\\"\\/>\\n<polyline clip-path=\\\"url(#clip4400)\\\" style=\\\"stroke:#000000; stroke-width:4; stroke-opacity:1; fill:none\\\" points=\\\"\\n  1482.78,1078.59 1495.83,1078.59 \\n  \\\"\\/>\\n<polyline clip-path=\\\"url(#clip4400)\\\" style=\\\"stroke:#000000; stroke-width:4; stroke-opacity:1; fill:none\\\" points=\\\"\\n  1482.78,962.919 1495.83,962.919 \\n  \\\"\\/>\\n<polyline clip-path=\\\"url(#clip4400)\\\" style=\\\"stroke:#000000; stroke-width:4; stroke-opacity:1; fill:none\\\" points=\\\"\\n  1482.78,847.244 1495.83,847.244 \\n  \\\"\\/>\\n<g clip-path=\\\"url(#clip4400)\\\">\\n<text style=\\\"fill:#000000; fill-opacity:1; font-family:Arial,Helvetica Neue,Helvetica,sans-serif; font-size:48px; text-anchor:middle;\\\" transform=\\\"rotate(0, 1605.89, 1479.62)\\\" x=\\\"1605.89\\\" y=\\\"1479.62\\\">40<\\/text>\\n<\\/g>\\n<g clip-path=\\\"url(#clip4400)\\\">\\n<text style=\\\"fill:#000000; fill-opacity:1; font-family:Arial,Helvetica Neue,Helvetica,sans-serif; font-size:48px; text-anchor:middle;\\\" transform=\\\"rotate(0, 1737.21, 1479.62)\\\" x=\\\"1737.21\\\" y=\\\"1479.62\\\">60<\\/text>\\n<\\/g>\\n<g clip-path=\\\"url(#clip4400)\\\">\\n<text style=\\\"fill:#000000; fill-opacity:1; font-family:Arial,Helvetica Neue,Helvetica,sans-serif; font-size:48px; text-anchor:middle;\\\" transform=\\\"rotate(0, 1868.52, 1479.62)\\\" x=\\\"1868.52\\\" y=\\\"1479.62\\\">80<\\/text>\\n<\\/g>\\n<g clip-path=\\\"url(#clip4400)\\\">\\n<text style=\\\"fill:#000000; fill-opacity:1; font-family:Arial,Helvetica Neue,Helvetica,sans-serif; font-size:48px; text-anchor:middle;\\\" transform=\\\"rotate(0, 1999.84, 1479.62)\\\" x=\\\"1999.84\\\" y=\\\"1479.62\\\">100<\\/text>\\n<\\/g>\\n<g clip-path=\\\"url(#clip4400)\\\">\\n<text style=\\\"fill:#000000; fill-opacity:1; font-family:Arial,Helvetica Neue,Helvetica,sans-serif; font-size:48px; text-anchor:middle;\\\" transform=\\\"rotate(0, 2131.16, 1479.62)\\\" x=\\\"2131.16\\\" y=\\\"1479.62\\\">120<\\/text>\\n<\\/g>\\n<g clip-path=\\\"url(#clip4400)\\\">\\n<text style=\\\"fill:#000000; fill-opacity:1; font-family:Arial,Helvetica Neue,Helvetica,sans-serif; font-size:48px; text-anchor:middle;\\\" transform=\\\"rotate(0, 2262.48, 1479.62)\\\" x=\\\"2262.48\\\" y=\\\"1479.62\\\">140<\\/text>\\n<\\/g>\\n<g clip-path=\\\"url(#clip4400)\\\">\\n<text style=\\\"fill:#000000; fill-opacity:1; font-family:Arial,Helvetica Neue,Helvetica,sans-serif; font-size:48px; text-anchor:end;\\\" transform=\\\"rotate(0, 1458.78, 1443.12)\\\" x=\\\"1458.78\\\" y=\\\"1443.12\\\">0<\\/text>\\n<\\/g>\\n<g clip-path=\\\"url(#clip4400)\\\">\\n<text style=\\\"fill:#000000; fill-opacity:1; font-family:Arial,Helvetica Neue,Helvetica,sans-serif; font-size:48px; text-anchor:end;\\\" transform=\\\"rotate(0, 1458.78, 1327.44)\\\" x=\\\"1458.78\\\" y=\\\"1327.44\\\">50<\\/text>\\n<\\/g>\\n<g clip-path=\\\"url(#clip4400)\\\">\\n<text style=\\\"fill:#000000; fill-opacity:1; font-family:Arial,Helvetica Neue,Helvetica,sans-serif; font-size:48px; text-anchor:end;\\\" transform=\\\"rotate(0, 1458.78, 1211.77)\\\" x=\\\"1458.78\\\" y=\\\"1211.77\\\">100<\\/text>\\n<\\/g>\\n<g clip-path=\\\"url(#clip4400)\\\">\\n<text style=\\\"fill:#000000; fill-opacity:1; font-family:Arial,Helvetica Neue,Helvetica,sans-serif; font-size:48px; text-anchor:end;\\\" transform=\\\"rotate(0, 1458.78, 1096.09)\\\" x=\\\"1458.78\\\" y=\\\"1096.09\\\">150<\\/text>\\n<\\/g>\\n<g clip-path=\\\"url(#clip4400)\\\">\\n<text style=\\\"fill:#000000; fill-opacity:1; font-family:Arial,Helvetica Neue,Helvetica,sans-serif; font-size:48px; text-anchor:end;\\\" transform=\\\"rotate(0, 1458.78, 980.419)\\\" x=\\\"1458.78\\\" y=\\\"980.419\\\">200<\\/text>\\n<\\/g>\\n<g clip-path=\\\"url(#clip4400)\\\">\\n<text style=\\\"fill:#000000; fill-opacity:1; font-family:Arial,Helvetica Neue,Helvetica,sans-serif; font-size:48px; text-anchor:end;\\\" transform=\\\"rotate(0, 1458.78, 864.744)\\\" x=\\\"1458.78\\\" y=\\\"864.744\\\">250<\\/text>\\n<\\/g>\\n<g clip-path=\\\"url(#clip4400)\\\">\\n<text style=\\\"fill:#000000; fill-opacity:1; font-family:Arial,Helvetica Neue,Helvetica,sans-serif; font-size:66px; text-anchor:middle;\\\" transform=\\\"rotate(0, 1917.77, 1559.48)\\\" x=\\\"1917.77\\\" y=\\\"1559.48\\\">Cost of G1<\\/text>\\n<\\/g>\\n<g clip-path=\\\"url(#clip4400)\\\">\\n<text style=\\\"fill:#000000; fill-opacity:1; font-family:Arial,Helvetica Neue,Helvetica,sans-serif; font-size:66px; text-anchor:middle;\\\" transform=\\\"rotate(-90, 1342.93, 1136.43)\\\" x=\\\"1342.93\\\" y=\\\"1136.43\\\">Dispatch: Wind<\\/text>\\n<\\/g>\\n<polyline clip-path=\\\"url(#clip4405)\\\" style=\\\"stroke:#009af9; stroke-width:4; stroke-opacity:1; fill:none\\\" points=\\\"\\n  1507.4,1425.62 1540.23,1425.62 1573.06,1425.62 1605.89,1425.62 1638.72,1425.62 1671.55,1425.62 1704.38,1425.62 1737.21,1425.62 1770.04,1425.62 1802.87,1425.62 \\n  1835.69,1425.62 1868.52,1425.62 1901.35,1425.62 1934.18,1425.62 1967.01,1425.62 1999.84,1425.62 2032.67,1425.62 2065.5,1283.47 2098.33,962.919 2131.16,962.919 \\n  2163.99,962.919 2196.82,962.919 2229.65,962.919 2262.48,962.919 2295.3,962.919 2328.13,962.919 \\n  \\\"\\/>\\n<\\/svg>\\n\"},\"nodeType\":\"DOM\",\"type\":\"node\",\"instanceArgs\":{\"namespace\":\"html\",\"tag\":\"div\"},\"children\":[]}]}}}},\"children\":[{\"props\":{},\"nodeType\":\"ObservableNode\",\"type\":\"node\",\"instanceArgs\":{\"id\":\"ob_16\",\"name\":\"obs-node\"},\"children\":[]}]}]},\n",
       "            window,\n",
       "        );\n",
       "    } else {\n",
       "        document\n",
       "            .querySelector('[data-webio-mountpoint=\"10032719183187803634\"]')\n",
       "            .innerHTML = '<strong>WebIO not detected.</strong>';\n",
       "    }\n",
       "    </script>\n",
       "</div>\n"
      ],
      "text/plain": [
       "Node{WebIO.DOM}(WebIO.DOM(:html, :div), Any[Node{DOM}(DOM(:html, :div), Any[Scope(\"knockout-component-b6e4ad19-ee8b-49ae-93bd-efbb76d4f477\", Node{DOM}(DOM(:html, :div), Any[Node{DOM}(DOM(:html, :div), Any[Node{DOM}(DOM(:html, :label), Any[\"cost_of_wind\"], Dict{Symbol,Any}(:className=>\"interact \",:style=>Dict{Any,Any}(:padding=>\"5px 10px 0px 10px\")), 1)], Dict{Symbol,Any}(:className=>\"interact-flex-row-left\"), 2), Node{DOM}(DOM(:html, :div), Any[Node{DOM}(DOM(:html, :input), Any[], Dict{Symbol,Any}(:max=>13,:min=>1,:attributes=>Dict{Any,Any}(:type=>\"range\",Symbol(\"data-bind\")=>\"numericValue: index, valueUpdate: 'input', event: {change: function (){this.changes(this.changes()+1)}}\",\"orient\"=>\"horizontal\"),:step=>1,:className=>\"slider slider is-fullwidth\",:style=>Dict{Any,Any}()), 0)], Dict{Symbol,Any}(:className=>\"interact-flex-row-center\"), 1), Node{DOM}(DOM(:html, :div), Any[Node{DOM}(DOM(:html, :p), Any[], Dict{Symbol,Any}(:attributes=>Dict(\"data-bind\"=>\"text: formatted_val\")), 0)], Dict{Symbol,Any}(:className=>\"interact-flex-row-right\"), 1)], Dict{Symbol,Any}(:className=>\"interact-flex-row interact-widget\"), 7), Dict{String,Tuple{Observables.AbstractObservable,Union{Nothing, Bool}}}(\"changes\"=>(Observable{Int64} with 1 listeners. Value:\n",
       "0, nothing),\"index\"=>(Observable{Any} with 2 listeners. Value:\n",
       "7, nothing)), Set(String[]), nothing, Asset[Asset(\"js\", \"knockout\", \"/Users/carleton/.julia/packages/Knockout/JE2Yq/src/../assets/knockout.js\"), Asset(\"js\", \"knockout_punches\", \"/Users/carleton/.julia/packages/Knockout/JE2Yq/src/../assets/knockout_punches.js\"), Asset(\"js\", nothing, \"/Users/carleton/.julia/packages/InteractBase/R8JgH/src/../assets/all.js\"), Asset(\"css\", nothing, \"/Users/carleton/.julia/packages/InteractBase/R8JgH/src/../assets/style.css\"), Asset(\"css\", nothing, \"/Users/carleton/.julia/packages/Interact/0klKX/src/../assets/bulma_confined.min.css\")], Dict{Any,Any}(\"changes\"=>Any[JSString(\"(function (val){return (val!=this.model[\\\"changes\\\"]()) ? (this.valueFromJulia[\\\"changes\\\"]=true, this.model[\\\"changes\\\"](val)) : undefined})\")],\"index\"=>Any[JSString(\"(function (val){return (val!=this.model[\\\"index\\\"]()) ? (this.valueFromJulia[\\\"index\\\"]=true, this.model[\\\"index\\\"](val)) : undefined})\")]), ConnectionPool(Channel{Any}(sz_max:9223372036854775807,sz_curr:0), Set(AbstractConnection[]), Channel{AbstractConnection}(sz_max:32,sz_curr:0)), WebIO.JSString[JSString(\"function () {\\n    var handler = (function (ko, koPunches) {\\n    ko.punches.enableAll();\\n    ko.bindingHandlers.numericValue = {\\n        init : function(element, valueAccessor, allBindings, data, context) {\\n            var stringified = ko.observable(ko.unwrap(valueAccessor()));\\n            stringified.subscribe(function(value) {\\n                var val = parseFloat(value);\\n                if (!isNaN(val)) {\\n                    valueAccessor()(val);\\n                }\\n            })\\n            valueAccessor().subscribe(function(value) {\\n                var str = JSON.stringify(value);\\n                if ((str == \\\"0\\\") && ([\\\"-0\\\", \\\"-0.\\\"].indexOf(stringified()) >= 0))\\n                     return;\\n                 if ([\\\"null\\\", \\\"\\\"].indexOf(str) >= 0)\\n                     return;\\n                stringified(str);\\n            })\\n            ko.applyBindingsToNode(element, { value: stringified, valueUpdate: allBindings.get('valueUpdate')}, context);\\n        }\\n    };\\n    var json_data = {\\\"formatted_vals\\\":[\\\"50.0\\\",\\\"60.0\\\",\\\"70.0\\\",\\\"80.0\\\",\\\"90.0\\\",\\\"100.0\\\",\\\"110.0\\\",\\\"120.0\\\",\\\"130.0\\\",\\\"140.0\\\",\\\"150.0\\\",\\\"160.0\\\",\\\"170.0\\\"],\\\"changes\\\":WebIO.getval({\\\"name\\\":\\\"changes\\\",\\\"scope\\\":\\\"knockout-component-b6e4ad19-ee8b-49ae-93bd-efbb76d4f477\\\",\\\"id\\\":\\\"ob_12\\\",\\\"type\\\":\\\"observable\\\"}),\\\"index\\\":WebIO.getval({\\\"name\\\":\\\"index\\\",\\\"scope\\\":\\\"knockout-component-b6e4ad19-ee8b-49ae-93bd-efbb76d4f477\\\",\\\"id\\\":\\\"ob_11\\\",\\\"type\\\":\\\"observable\\\"})};\\n    var self = this;\\n    function AppViewModel() {\\n        for (var key in json_data) {\\n            var el = json_data[key];\\n            this[key] = Array.isArray(el) ? ko.observableArray(el) : ko.observable(el);\\n        }\\n        \\n        [this[\\\"formatted_val\\\"]=ko.computed(    function(){\\n        return this.formatted_vals()[parseInt(this.index())-1];\\n    }\\n,this)]\\n        [this[\\\"changes\\\"].subscribe((function (val){!(this.valueFromJulia[\\\"changes\\\"]) ? (WebIO.setval({\\\"name\\\":\\\"changes\\\",\\\"scope\\\":\\\"knockout-component-b6e4ad19-ee8b-49ae-93bd-efbb76d4f477\\\",\\\"id\\\":\\\"ob_12\\\",\\\"type\\\":\\\"observable\\\"},val)) : undefined; return this.valueFromJulia[\\\"changes\\\"]=false}),self),this[\\\"index\\\"].subscribe((function (val){!(this.valueFromJulia[\\\"index\\\"]) ? (WebIO.setval({\\\"name\\\":\\\"index\\\",\\\"scope\\\":\\\"knockout-component-b6e4ad19-ee8b-49ae-93bd-efbb76d4f477\\\",\\\"id\\\":\\\"ob_11\\\",\\\"type\\\":\\\"observable\\\"},val)) : undefined; return this.valueFromJulia[\\\"index\\\"]=false}),self)]\\n        \\n    }\\n    self.model = new AppViewModel();\\n    self.valueFromJulia = {};\\n    for (var key in json_data) {\\n        self.valueFromJulia[key] = false;\\n    }\\n    ko.applyBindings(self.model, self.dom);\\n}\\n);\\n    (WebIO.importBlock({\\\"data\\\":[{\\\"name\\\":\\\"knockout\\\",\\\"type\\\":\\\"js\\\",\\\"url\\\":\\\"/assetserver/0db2030eda8ae695ee385b177287a65d5698da81-knockout.js\\\"},{\\\"name\\\":\\\"knockout_punches\\\",\\\"type\\\":\\\"js\\\",\\\"url\\\":\\\"/assetserver/ab0f37d8318710d8b034c6f57de3dc43b8f803db-knockout_punches.js\\\"}],\\\"type\\\":\\\"async_block\\\"})).then((imports) => handler.apply(this, imports));\\n}\\n\")])], Dict{Symbol,Any}(:className=>\"field interact-widget\"), 1), Observable{Any} with 0 listeners. Value:\n",
       "Node{DOM}(DOM(:html, :div), Any[Plot{Plots.GRBackend() n=4}], Dict{Symbol,Any}(:className=>\"interact-flex-row interact-widget\"), 1)], Dict{Symbol,Any}(), 2)"
      ]
     },
     "execution_count": 35,
     "metadata": {
      "application/vnd.webio.node+json": {
       "kernelId": "283b75d2-947d-4fef-93e3-13ec90e51c32"
      }
     },
     "output_type": "execute_result"
    }
   ],
   "source": [
    "@manipulate for cost_of_wind in COST_WIND .* (1:0.2:3.5)\n",
    "    solutions = Any[]\n",
    "    cost_of_g1 = COST_GENERATION[1] .* (0.5:0.1:3.0)\n",
    "    for c_g1 in cost_of_g1\n",
    "        # update the incremental cost of the first generator at every iteration\n",
    "        solution = solve_nonlinear_economic_dispatch(\n",
    "            cost_of_thermal = [c_g1, COST_GENERATION[2]],\n",
    "            cost_of_wind = cost_of_wind\n",
    "        )\n",
    "        push!(solutions, solution)\n",
    "    end\n",
    "    \n",
    "    # Plot the outputs\n",
    "    plot(\n",
    "        # Plot the total cost\n",
    "        plot(cost_of_g1, [sol.cost for sol in solutions],\n",
    "            ylabel = \"Total cost\",\n",
    "            ylims = (50000, 200000)\n",
    "        ),\n",
    "        # Plot the power output of Generator 1\n",
    "        plot(cost_of_g1, [sol.generation[1] for sol in solutions],\n",
    "            ylabel = \"Dispatch: G1\",\n",
    "            ylims = (0, 1100)\n",
    "        ),\n",
    "        # Plot the power output of Generator 2    \n",
    "        plot(cost_of_g1, [sol.generation[2] for sol in solutions],\n",
    "            ylabel = \"Dispatch: G2\",\n",
    "            ylims = (0, 1600)\n",
    "        ),\n",
    "        # Plot the wind power output\n",
    "        plot(cost_of_g1, [sol.wind_generation for sol in solutions],\n",
    "            ylabel = \"Dispatch: Wind\",\n",
    "            ylims = (0, 250)\n",
    "        ),\n",
    "        legend = false,\n",
    "        xlabel = \"Cost of G1\"\n",
    "    )\n",
    "end"
   ]
  }
 ],
 "metadata": {
  "@webio": {
   "lastCommId": "ffc123fabba14a0790a51449e6a678b1",
   "lastKernelId": "283b75d2-947d-4fef-93e3-13ec90e51c32"
  },
  "kernelspec": {
   "display_name": "Julia 1.1.0",
   "language": "julia",
   "name": "julia-1.1"
  },
  "language_info": {
   "file_extension": ".jl",
   "mimetype": "application/julia",
   "name": "julia",
   "version": "1.1.0"
  }
 },
 "nbformat": 4,
 "nbformat_minor": 2
}
