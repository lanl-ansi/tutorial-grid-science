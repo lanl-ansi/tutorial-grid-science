{
 "cells": [
  {
   "cell_type": "markdown",
   "metadata": {},
   "source": [
    "# Class II - An introduction to JuMP\n",
    "\n",
    "*Los Alamos National Laboratory Grid Science Winter School, 2019*\n",
    "\n",
    "Welcome! This tutorial will introduce you to the basics of JuMP. If you haven't yet, work through [Class I - An introduction  to Julia](Class%20I%20-%20An%20introduction%20to%20Julia.ipynb) first.\n",
    "\n",
    "This tutorial doesn't exist in isolation. Some other good resources for learning JuMP are\n",
    "- [the Discourse forum](https://discourse.julialang.org/c/domain/opt)\n",
    "- [JuMP documentation](http://www.juliaopt.org/JuMP.jl/0.18/)\n",
    "- [JuMP examples](https://github.com/JuliaOpt/JuMP.jl/tree/release-0.18/examples)\n",
    "- [Textbook: Julia Programming for Operations Research](http://www.chkwon.net/julia/)\n",
    "\n",
    "Before we start, run the following magic sauce to install the required Julia packages and check that we're good to go."
   ]
  },
  {
   "cell_type": "code",
   "execution_count": null,
   "metadata": {},
   "outputs": [],
   "source": [
    "import Pkg\n",
    "Pkg.activate(@__DIR__)\n",
    "Pkg.instantiate()\n",
    "println(\"Excellent! Everything is good to go!\")"
   ]
  },
  {
   "cell_type": "markdown",
   "metadata": {},
   "source": [
    "## The basics"
   ]
  },
  {
   "cell_type": "markdown",
   "metadata": {},
   "source": [
    "First, load the JuMP package into your current environment."
   ]
  },
  {
   "cell_type": "code",
   "execution_count": null,
   "metadata": {},
   "outputs": [],
   "source": [
    "using JuMP"
   ]
  },
  {
   "cell_type": "markdown",
   "metadata": {},
   "source": [
    "Start building a JuMP model like so,"
   ]
  },
  {
   "cell_type": "code",
   "execution_count": null,
   "metadata": {},
   "outputs": [],
   "source": [
    "model = Model()\n",
    "@variable(model, x)\n",
    "@variable(model, y >= 0)\n",
    "@variable(model, 1 <= z <= 2)\n",
    "model"
   ]
  },
  {
   "cell_type": "markdown",
   "metadata": {},
   "source": [
    "### What's going on here?\n",
    "`@variable(model, x)` does four things:\n",
    "1. it adds an *optimization* variable to the model\n",
    "2. it creates a *JuMP* variable that acts as a reference to the optimization variable in the model\n",
    "3. it creates a *Julia* variable `x` that points to the JuMP variable\n",
    "4. it stores a reference to the JuMP variable in the model with the name `:x`"
   ]
  },
  {
   "cell_type": "code",
   "execution_count": null,
   "metadata": {},
   "outputs": [],
   "source": [
    "model = Model()\n",
    "@variable(model, x >= 1.414)"
   ]
  },
  {
   "cell_type": "code",
   "execution_count": null,
   "metadata": {},
   "outputs": [],
   "source": [
    "# x is a JuMP variable\n",
    "typeof(x)"
   ]
  },
  {
   "cell_type": "code",
   "execution_count": null,
   "metadata": {},
   "outputs": [],
   "source": [
    "# We can bind the JuMP variable to a different Julia variable and set `x` to something else\n",
    "y = x\n",
    "x = 1\n",
    "\n",
    "@show typeof(y)\n",
    "@show typeof(x)\n",
    "\n",
    "y"
   ]
  },
  {
   "cell_type": "code",
   "execution_count": null,
   "metadata": {},
   "outputs": [],
   "source": [
    "JuMP.lower_bound(y)"
   ]
  },
  {
   "cell_type": "code",
   "execution_count": null,
   "metadata": {},
   "outputs": [],
   "source": [
    "model[:x]"
   ]
  },
  {
   "cell_type": "code",
   "execution_count": null,
   "metadata": {},
   "outputs": [],
   "source": [
    "model[:x] == y"
   ]
  },
  {
   "cell_type": "markdown",
   "metadata": {},
   "source": [
    "### Other ways to create variables\n",
    "\n",
    "We can also create arrays of JuMP variables."
   ]
  },
  {
   "cell_type": "code",
   "execution_count": null,
   "metadata": {},
   "outputs": [],
   "source": [
    "model = Model()\n",
    "@variable(model, x[i = 1:4] >= i)\n",
    "x"
   ]
  },
  {
   "cell_type": "markdown",
   "metadata": {},
   "source": [
    "The indices of the arrays don't have to be integers. They can be anything, like a string or a symbol."
   ]
  },
  {
   "cell_type": "code",
   "execution_count": null,
   "metadata": {},
   "outputs": [],
   "source": [
    "model = Model()\n",
    "@variable(model, x[i = 1:2, j = [:A, :B]] >= i)\n",
    "x"
   ]
  },
  {
   "cell_type": "markdown",
   "metadata": {},
   "source": [
    "We can also add a condition to filter out some of the variables"
   ]
  },
  {
   "cell_type": "code",
   "execution_count": null,
   "metadata": {},
   "outputs": [],
   "source": [
    "model = Model()\n",
    "@variable(model, x[i = 1:4, j = [:A, :B]; isodd(i)] >= i)\n",
    "x"
   ]
  },
  {
   "cell_type": "markdown",
   "metadata": {},
   "source": [
    "What if I want to add two variables with the same name?"
   ]
  },
  {
   "cell_type": "code",
   "execution_count": null,
   "metadata": {},
   "outputs": [],
   "source": [
    "model = Model()\n",
    "@variable(model, x >= 1)\n",
    "@variable(model, x >= 2)"
   ]
  },
  {
   "cell_type": "markdown",
   "metadata": {},
   "source": [
    "### Quiz Question\n",
    "\n",
    "What is the value of the following?"
   ]
  },
  {
   "cell_type": "code",
   "execution_count": null,
   "metadata": {},
   "outputs": [],
   "source": [
    "JuMP.lower_bound(x)"
   ]
  },
  {
   "cell_type": "markdown",
   "metadata": {},
   "source": [
    "### Anonymous variables\n",
    "\n",
    "So far, we've only added *named* variables. This works great until we want to add two variables with the same name! To work around this isse, we can add *anonymous* variables."
   ]
  },
  {
   "cell_type": "code",
   "execution_count": null,
   "metadata": {},
   "outputs": [],
   "source": [
    "model = Model()\n",
    "\n",
    "x = @variable(model)\n",
    "@show JuMP.has_lower_bound(x)\n",
    "\n",
    "x = @variable(model, lower_bound = 1)\n",
    "@show JuMP.lower_bound(x)\n",
    "\n",
    "x = @variable(model, [i = 1:2], lower_bound = i)\n",
    "@show JuMP.lower_bound.(x)\n",
    "\n",
    "model"
   ]
  },
  {
   "cell_type": "markdown",
   "metadata": {},
   "source": [
    "So what's the difference between the *named* and *anonymous* syntax? \n",
    "\n",
    "Well, `@variable(model, x >= 2)` is (roughly) equivalent to"
   ]
  },
  {
   "cell_type": "code",
   "execution_count": null,
   "metadata": {},
   "outputs": [],
   "source": [
    "model = Model()\n",
    "x = model[:x] = @variable(model, lower_bound = 2, base_name = \"x\")\n",
    "model"
   ]
  },
  {
   "cell_type": "code",
   "execution_count": null,
   "metadata": {},
   "outputs": [],
   "source": [
    "model = Model()\n",
    "@variable(model, x >= 2)\n",
    "model"
   ]
  },
  {
   "cell_type": "markdown",
   "metadata": {},
   "source": [
    "Although uneeded for this tutorial, we can also create binary and integer variables as follows:"
   ]
  },
  {
   "cell_type": "code",
   "execution_count": null,
   "metadata": {},
   "outputs": [],
   "source": [
    "model = Model()\n",
    "@variable(model, x >= 1, Int)\n",
    "@variable(model, y, Bin)\n",
    "model"
   ]
  },
  {
   "cell_type": "markdown",
   "metadata": {},
   "source": [
    "### Constraints\n",
    "\n",
    "Now that we've seen how to create variables, let's look at constraints. Much of the syntax should be familiar."
   ]
  },
  {
   "cell_type": "code",
   "execution_count": null,
   "metadata": {},
   "outputs": [],
   "source": [
    "model = Model()\n",
    "@variable(model, x >= 0)\n",
    "@variable(model, y >= 0)\n",
    "\n",
    "@constraint(model, c_less_than, 2x + y <= 1)\n",
    "@constraint(model, c_greater_than, 2x + y >= 1)\n",
    "@constraint(model, c_equal_to, 2x + y == 1)\n",
    "\n",
    "model"
   ]
  },
  {
   "cell_type": "code",
   "execution_count": null,
   "metadata": {},
   "outputs": [],
   "source": [
    "model[:c_equal_to]"
   ]
  },
  {
   "cell_type": "code",
   "execution_count": null,
   "metadata": {},
   "outputs": [],
   "source": [
    "anonymous_constraint = @constraint(model, [i = 1:2], i * x <= y)\n",
    "\n",
    "model"
   ]
  },
  {
   "cell_type": "markdown",
   "metadata": {},
   "source": [
    "### Objective Functions\n",
    "\n",
    "Now let's look at the objective function."
   ]
  },
  {
   "cell_type": "code",
   "execution_count": null,
   "metadata": {},
   "outputs": [],
   "source": [
    "model = Model()\n",
    "@variable(model, x >= 0)\n",
    "\n",
    "@objective(model, Min, 2x + 1)\n",
    "\n",
    "model"
   ]
  },
  {
   "cell_type": "code",
   "execution_count": null,
   "metadata": {},
   "outputs": [],
   "source": [
    "model = Model()\n",
    "@variable(model, x <= 2)\n",
    "\n",
    "@objective(model, Max, 2x + 1)\n",
    "\n",
    "model"
   ]
  },
  {
   "cell_type": "markdown",
   "metadata": {},
   "source": [
    "### Solving a Model\n",
    "\n",
    "Once we've formulated a model, the next step is to solve it. This requires a solver.\n",
    "\n",
    "JuMP supports lots of different solvers. The [JuMP documentation](http://www.juliaopt.org/JuMP.jl/v0.19.2/installation/) contains a list of the supported solvers and the types of problems each solver supports.\n",
    "\n",
    "We're going to use two solvers in particular.\n",
    "\n",
    "The first solver is the [GNU Linear Programming Kit (GLPK)](https://www.gnu.org/software/glpk/). This solver supports linear programs with continous variables.\n",
    "\n",
    "GLPK is available via the [GLPK.jl](https://github.com/JuliaOpt/GLPK.jl) package.\n",
    "\n",
    "The second solver is the COIN-OR [Interior Point OPTimizer (Ipopt)](https://projects.coin-or.org/Ipopt). This solver supports nonlinear programs with continous variables.\n",
    "\n",
    "Ipopt is available via the [Ipopt.jl](https://github.com/JuliaOpt/Ipopt.jl) package."
   ]
  },
  {
   "cell_type": "code",
   "execution_count": null,
   "metadata": {},
   "outputs": [],
   "source": [
    "using GLPK\n",
    "using Ipopt"
   ]
  },
  {
   "cell_type": "markdown",
   "metadata": {},
   "source": [
    "There are two ways to add a solver to a JuMP model:"
   ]
  },
  {
   "cell_type": "code",
   "execution_count": null,
   "metadata": {},
   "outputs": [],
   "source": [
    "model = Model(GLPK.Optimizer)\n",
    "\n",
    "# ... or ...\n",
    "\n",
    "model = Model()\n",
    "set_optimizer(model, Ipopt.Optimizer)"
   ]
  },
  {
   "cell_type": "markdown",
   "metadata": {},
   "source": [
    "If you try to solve an unsupported problem type, an error will be thrown:"
   ]
  },
  {
   "cell_type": "code",
   "execution_count": null,
   "metadata": {},
   "outputs": [],
   "source": [
    "model = Model(GLPK.Optimizer)\n",
    "@variable(model, 0 <= x <= π)\n",
    "@NLobjective(model, Min, cos(x)^2)\n",
    "optimize!(model)"
   ]
  },
  {
   "cell_type": "markdown",
   "metadata": {},
   "source": [
    "That error isn't very nice, but there is an [open JuMP issue](https://github.com/JuliaOpt/JuMP.jl/issues/1996) to resolve this."
   ]
  },
  {
   "cell_type": "code",
   "execution_count": null,
   "metadata": {},
   "outputs": [],
   "source": [
    "set_optimizer(model, Ipopt.Optimizer)\n",
    "optimize!(model)"
   ]
  },
  {
   "cell_type": "markdown",
   "metadata": {},
   "source": [
    "## Interpreting statuses\n",
    "\n",
    "After solving a model, JuMP can report three different statuses:\n",
    "\n",
    "- `termination_status(model)` explains why the solver stopped. Common statuses are `OPTIMAL`, `INFEASIBLE`, `DUAL_INFEASIBLE` (i.e., primal is potentially unbounded), and `LOCALLY_SOLVED`.\n",
    "\n",
    "- `primal_status(model)` explains how to interpret the primal solution vector. Common statuses are `FEASIBLE_POINT` and `NO_SOLUTION`.\n",
    "\n",
    "- `dual_status(model)` explains how to interpret the dual solution vector. Common statuses are `FEASIBLE_POINT` and `NO_SOLUTION`.\n",
    "\n",
    "## Getting solutions\n",
    "\n",
    "- Use `objective_value(::Model)` to get the objective value\n",
    "- Use `value(::VariableRef)` to get the primal value of a variable\n",
    "- Use `dual(::ConstraintRef)` to get the value of the dual variable associated with a constraint"
   ]
  },
  {
   "cell_type": "code",
   "execution_count": null,
   "metadata": {},
   "outputs": [],
   "source": [
    "x_value = value(x)\n",
    "obj_value = objective_value(model)\n",
    "\n",
    "println(\"Termination status: \", termination_status(model))\n",
    "println(\"Primal status:      \", primal_status(model))\n",
    "println(\"Dual status:        \", dual_status(model))\n",
    "println(\"      x | $(x_value)\")\n",
    "println(\"    π/2 | $(π/2)\")\n",
    "println(\"--------+----------------------\")\n",
    "println(\"cos²(x) | $(obj_value)\")"
   ]
  },
  {
   "cell_type": "markdown",
   "metadata": {},
   "source": [
    "## Example: Simple Economic Dispatch\n",
    "\n",
    "*This example is adapted from a [tutorial given at the 2015 Grid Science Winter School](https://github.com/JuliaOpt/juliaopt-notebooks/blob/3110eddaf5effdecfee687739295bea05731ba33/notebooks/Dvorkin%20-%20Power%20systems%20-%20Economic%20dispatch%20and%20Unit%20commitment.ipynb).*\n",
    "\n",
    "Economic dispatch (ED) is an optimization problem that minimizes the cost of supplying energy demand subject to operational constraints on power system assets. In its simplest instantiation, ED is a Linear Programing (LP) problem solved for an aggregated load and wind forecast and for a single infinitesimal moment. Mathematically, the ED problem can be written as follows:\n",
    "$$\n",
    "\\min \\sum_{i \\in I} c^g_{i} \\cdot g_{i} + c^w \\cdot w,\n",
    "$$\n",
    "where $c_{i}$ and $g_{i}$ are the incremental cost ($\\$/MWh$) and power output ($MW$) of the $i^{th}$ thermal generator, respectively, and $c^w$ and $w$ are the incremental cost ($\\$/MWh$) and wind power injection ($MW$), respectively.\n",
    "\n",
    "s.t.\n",
    "\n",
    "<li> Minimum ($g^{\\min}$) and maximum ($g^{\\max}$) limits on power outputs of the thermal generators: </li>\n",
    "$$\n",
    "g^{\\min}_{i} \\leq g_{i} \\leq g^{\\max}_{i}.\n",
    "$$\n",
    "<li>Constraint on the wind power injection:</li>\n",
    "$$\n",
    "0 \\leq w \\leq w^f, \n",
    "$$\n",
    "where $w$ and $w^f$ are the wind power injection and wind power forecast, respectively.\n",
    "\n",
    "<li>Power balance constraint:</li>\n",
    "$$\n",
    "\\sum_{i \\in I} g_{i} + w = d, \n",
    "$$\n",
    "where $d$ is the demand.\n",
    "\n",
    "Further reading on ED models can be found in A. J. Wood, B. F. Wollenberg, and G. B. Sheblé, \"Power Generation, Operation and Control\", Wiley, 2013.\n",
    "\n",
    "### JuMP Implementation of Economic Dispatch \n",
    "\n",
    "First, we need to load some plotting packages.  Note, compilation may take a few minutes."
   ]
  },
  {
   "cell_type": "code",
   "execution_count": null,
   "metadata": {},
   "outputs": [],
   "source": [
    "using Interact\n",
    "using Plots"
   ]
  },
  {
   "cell_type": "markdown",
   "metadata": {},
   "source": [
    "Now, we define some problem data for a model with two thermal generators and one wind generator."
   ]
  },
  {
   "cell_type": "code",
   "execution_count": null,
   "metadata": {},
   "outputs": [],
   "source": [
    "# Define some input data about the test system\n",
    "# Maximum power output of generators\n",
    "const GENERATION_MAX = [1000, 1000]\n",
    "# Minimum power output of generators\n",
    "const GENERATION_MIN = [0, 300]\n",
    "# Incremental cost of generators \n",
    "const COST_GENERATION = [50, 100]\n",
    "# Incremental cost of wind generators\n",
    "const COST_WIND = 50\n",
    "# Total demand\n",
    "const DEMAND = 1500\n",
    "# Wind forecast\n",
    "const WIND_MAX = 200;"
   ]
  },
  {
   "cell_type": "markdown",
   "metadata": {},
   "source": [
    "In the next cell, we create a Julia function that formulates and solves the economic dispatch problem."
   ]
  },
  {
   "cell_type": "code",
   "execution_count": null,
   "metadata": {},
   "outputs": [],
   "source": [
    "\"\"\"\n",
    "    solve_economic_dispatch(; cost_of_thermal::Vector, cost_of_wind)\n",
    "\n",
    "Formulate and solve the economic dispatch problem given the cost of generation \n",
    "for the two thermal generators and the cost of wind generation.\n",
    "\"\"\"\n",
    "function solve_economic_dispatch(;\n",
    "        cost_of_thermal = COST_GENERATION, \n",
    "        cost_of_wind = COST_WIND)\n",
    "\n",
    "    economic_dispatch = Model(GLPK.Optimizer)\n",
    "    \n",
    "    # Define decision variables    \n",
    "    @variables(economic_dispatch, begin\n",
    "        g[i=1:2]  # Thermal generation (MW).\n",
    "        w >= 0  # Wind power (MW).\n",
    "    end)\n",
    "\n",
    "    # Define the objective function\n",
    "    @objective(economic_dispatch, Min, \n",
    "        sum(cost_of_thermal[i] * g[i] for i in 1:2) + cost_of_wind * w\n",
    "    )\n",
    "\n",
    "    # Define the constraint on the maximum and minimum power output of each generator.\n",
    "    for i in 1:2\n",
    "        @constraint(economic_dispatch, g[i] <= GENERATION_MAX[i])\n",
    "        @constraint(economic_dispatch, g[i] >= GENERATION_MIN[i])\n",
    "    end\n",
    "    \n",
    "    @constraints(economic_dispatch, begin\n",
    "        # Define the constraint on the wind power injection\n",
    "        w <= WIND_MAX\n",
    "        # Define the power balance constraint\n",
    "        sum(g[i] for i in 1:2) + w == DEMAND\n",
    "    end)\n",
    "\n",
    "    # Solve statement\n",
    "    optimize!(economic_dispatch)\n",
    "    \n",
    "    # Return the optimal value of the objective function and its minimizers\n",
    "    # as a NamedTuple.\n",
    "    return (\n",
    "        generation = value.(g), \n",
    "        wind_generation = value(w),\n",
    "        wind_spillage = WIND_MAX - value(w),\n",
    "        cost = objective_value(economic_dispatch)\n",
    "    )\n",
    "end\n",
    "\n",
    "# Solve the economic dispatch problem\n",
    "solution = solve_economic_dispatch()\n",
    "\n",
    "println(\"Dispatch\")\n",
    "println(\"   Generators: \", solution.generation, \" MW\")\n",
    "println(\"         Wind: \", solution.wind_generation, \" MW\")\n",
    "println(\"Wind spillage: \", solution.wind_spillage, \" MW\") \n",
    "println(\"----------------------------------\")\n",
    "println(\"Total cost: \\$\", solution.cost)  "
   ]
  },
  {
   "cell_type": "markdown",
   "metadata": {},
   "source": [
    "### Economic dispatch with adjustable incremental costs"
   ]
  },
  {
   "cell_type": "markdown",
   "metadata": {},
   "source": [
    "In the following exercise we introduce a manipulator to vary the cost of wind generation and observe its impact the total cost, dispatch of generators G1 and G2, utilization of available wind under different values of the incremental cost of generator G1."
   ]
  },
  {
   "cell_type": "code",
   "execution_count": null,
   "metadata": {},
   "outputs": [],
   "source": [
    "@manipulate for cost_of_wind in COST_WIND .* (1:0.1:3.5)\n",
    "    solutions = Any[]\n",
    "    cost_of_g1 = COST_GENERATION[1] .* (0.5:0.01:3.0)\n",
    "    for c_g1 in cost_of_g1\n",
    "        # update the incremental cost of the first generator at every iteration\n",
    "        solution = solve_economic_dispatch(\n",
    "            cost_of_thermal = [c_g1, COST_GENERATION[2]],\n",
    "            cost_of_wind = cost_of_wind\n",
    "        )\n",
    "        push!(solutions, solution)\n",
    "    end\n",
    "    \n",
    "    # Plot the outputs\n",
    "    plot(\n",
    "        # Plot the total cost\n",
    "        plot(cost_of_g1, [sol.cost for sol in solutions],\n",
    "            ylabel = \"Total cost\",\n",
    "            ylims = (50000, 200000)\n",
    "        ),\n",
    "        # Plot the power output of Generator 1\n",
    "        plot(cost_of_g1, [sol.generation[1] for sol in solutions],\n",
    "            ylabel = \"Dispatch: G1\",\n",
    "            ylims = (0, 1100)\n",
    "        ),\n",
    "        # Plot the power output of Generator 2    \n",
    "        plot(cost_of_g1, [sol.generation[2] for sol in solutions],\n",
    "            ylabel = \"Dispatch: G2\",\n",
    "            ylims = (0, 1600)\n",
    "        ),\n",
    "        # Plot the wind power output\n",
    "        plot(cost_of_g1, [sol.wind_generation for sol in solutions],\n",
    "            ylabel = \"Dispatch: Wind\",\n",
    "            ylims = (0, 250)\n",
    "        ),\n",
    "        legend = false,\n",
    "        xlabel = \"Cost of G1\"\n",
    "    )\n",
    "end"
   ]
  },
  {
   "cell_type": "markdown",
   "metadata": {},
   "source": [
    "## Nonlinear example\n",
    "\n",
    "JuMP can also be used to solve non-linear problems (NLP). We saw a brief hint of this earlier when we used Ipopt and the `@NLobjective` macro. In the next example, we add nonlinearity to the cost of the second generator. The new cost of generation is\n",
    "$$\\text{generation_cost} = c_1^g\\times g_1 + \\frac{c_2^g\\times  g_2^{1.5}}{\\sqrt{1000}}.$$\n"
   ]
  },
  {
   "cell_type": "code",
   "execution_count": null,
   "metadata": {},
   "outputs": [],
   "source": [
    "\"\"\"\n",
    "    solve_economic_dispatch(; cost_of_thermal::Vector, cost_of_wind)\n",
    "\n",
    "Formulate and solve the economic dispatch problem given the cost of generation \n",
    "for the two thermal generators and the cost of wind generation.\n",
    "\"\"\"\n",
    "function solve_nonlinear_economic_dispatch(;\n",
    "        cost_of_thermal = COST_GENERATION, \n",
    "        cost_of_wind = COST_WIND)\n",
    "    economic_dispatch = Model(Ipopt.Optimizer)\n",
    "    set_optimizer_attribute(economic_dispatch, \"print_level\", 0)\n",
    "    \n",
    "    @variables(economic_dispatch, begin\n",
    "        g[i=1:2] >= 0\n",
    "        w >= 0\n",
    "    end)\n",
    "\n",
    "    # ===========================================================\n",
    "    # You can write out nonlinear expression in the @NLobjective macro\n",
    "    # The same also applies for @NLconstraint.\n",
    "    @NLobjective(economic_dispatch, Min,\n",
    "        cost_of_thermal[1] * g[1] + \n",
    "        cost_of_thermal[2] * g[2]^1.5 / sqrt(1000) + \n",
    "        cost_of_wind * w)\n",
    "    # ===========================================================\n",
    "    # Look! This bit changed.\n",
    "    function generator_cost(g1, g2)\n",
    "        return cost_of_thermal[1] * g1 + cost_of_thermal[2] * g2^1.5 / sqrt(1000)\n",
    "    end\n",
    "    JuMP.register(economic_dispatch, :generator_cost, 2, generator_cost, autodiff=true)\n",
    "    @NLobjective(economic_dispatch, Min, \n",
    "        generator_cost(g[1], g[2]) + cost_of_wind * w)\n",
    "    # ===========================================================\n",
    "    \n",
    "    for i in 1:2\n",
    "        @constraint(economic_dispatch, g[i] <= GENERATION_MAX[i])\n",
    "        @constraint(economic_dispatch, g[i] >= GENERATION_MIN[i])\n",
    "    end    \n",
    "    @constraints(economic_dispatch, begin\n",
    "        w <= WIND_MAX\n",
    "        sum(g[i] for i in 1:2) + w == DEMAND\n",
    "    end)\n",
    "    optimize!(economic_dispatch)\n",
    "    return (\n",
    "        generation = value.(g), \n",
    "        wind_generation = value(w),\n",
    "        wind_spillage = WIND_MAX - value(w),\n",
    "        cost = objective_value(economic_dispatch)\n",
    "    )\n",
    "end"
   ]
  },
  {
   "cell_type": "code",
   "execution_count": null,
   "metadata": {},
   "outputs": [],
   "source": [
    "@manipulate for cost_of_wind in COST_WIND .* (1:0.2:3.5)\n",
    "    solutions = Any[]\n",
    "    cost_of_g1 = COST_GENERATION[1] .* (0.5:0.1:3.0)\n",
    "    for c_g1 in cost_of_g1\n",
    "        # update the incremental cost of the first generator at every iteration\n",
    "        solution = solve_nonlinear_economic_dispatch(\n",
    "            cost_of_thermal = [c_g1, COST_GENERATION[2]],\n",
    "            cost_of_wind = cost_of_wind\n",
    "        )\n",
    "        push!(solutions, solution)\n",
    "    end\n",
    "    \n",
    "    # Plot the outputs\n",
    "    plot(\n",
    "        # Plot the total cost\n",
    "        plot(cost_of_g1, [sol.cost for sol in solutions],\n",
    "            ylabel = \"Total cost\",\n",
    "            ylims = (50000, 200000)\n",
    "        ),\n",
    "        # Plot the power output of Generator 1\n",
    "        plot(cost_of_g1, [sol.generation[1] for sol in solutions],\n",
    "            ylabel = \"Dispatch: G1\",\n",
    "            ylims = (0, 1100)\n",
    "        ),\n",
    "        # Plot the power output of Generator 2    \n",
    "        plot(cost_of_g1, [sol.generation[2] for sol in solutions],\n",
    "            ylabel = \"Dispatch: G2\",\n",
    "            ylims = (0, 1600)\n",
    "        ),\n",
    "        # Plot the wind power output\n",
    "        plot(cost_of_g1, [sol.wind_generation for sol in solutions],\n",
    "            ylabel = \"Dispatch: Wind\",\n",
    "            ylims = (0, 250)\n",
    "        ),\n",
    "        legend = false,\n",
    "        xlabel = \"Cost of G1\"\n",
    "    )\n",
    "end"
   ]
  },
  {
   "cell_type": "code",
   "execution_count": null,
   "metadata": {},
   "outputs": [],
   "source": []
  }
 ],
 "metadata": {
  "@webio": {
   "lastCommId": "c4add2088bc445ba82042a6b083394e5",
   "lastKernelId": "530d8f53-e317-4ab7-94b8-b4e46069c301"
  },
  "kernelspec": {
   "display_name": "Julia 1.3.1",
   "language": "julia",
   "name": "julia-1.3"
  },
  "language_info": {
   "file_extension": ".jl",
   "mimetype": "application/julia",
   "name": "julia",
   "version": "1.3.1"
  }
 },
 "nbformat": 4,
 "nbformat_minor": 2
}
