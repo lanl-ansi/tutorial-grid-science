{
 "cells": [
  {
   "cell_type": "markdown",
   "metadata": {},
   "source": [
    "# Class V - Fun visualizations in JuMP\n",
    "\n",
    "This notebook contains a number of fun JuMP examples."
   ]
  },
  {
   "cell_type": "code",
   "execution_count": 1,
   "metadata": {},
   "outputs": [
    {
     "name": "stdout",
     "output_type": "stream",
     "text": [
      "\u001b[32m\u001b[1m  Updating\u001b[22m\u001b[39m registry at `~/.julia/registries/General`\n",
      "\u001b[32m\u001b[1m  Updating\u001b[22m\u001b[39m git-repo `https://github.com/JuliaRegistries/General.git`\n",
      "\u001b[?25l\u001b[2K\u001b[?25h"
     ]
    }
   ],
   "source": [
    "import Pkg\n",
    "Pkg.activate(@__DIR__)\n",
    "Pkg.instantiate()"
   ]
  },
  {
   "cell_type": "markdown",
   "metadata": {},
   "source": [
    "## Example 1: minimum bounding ellipse\n",
    "\n",
    "Given a set of ellipses centered on the origin\n",
    "\n",
    "$E(A) = \\{ u\\;|\\;u^\\top A^{-1} u <= 1 \\}$\n",
    "\n",
    "find a \"minimal\" ellipse that contains the provided ellipses\n",
    "\n",
    "We can formulate this as an SDP:\n",
    "\n",
    "$\\begin{align}\n",
    "     minimize \\quad& trace(WX)\\\\\n",
    "   subject to \\quad& X \\ge A_i, \\quad i = 1,...,m \\\\\n",
    "              &  X \\succeq 0\n",
    "\\end{align}$\n",
    "\n",
    "where $W$ is a positive-definite matrix of weights to choose between different solutions."
   ]
  },
  {
   "cell_type": "code",
   "execution_count": 2,
   "metadata": {},
   "outputs": [
    {
     "name": "stderr",
     "output_type": "stream",
     "text": [
      "┌ Info: Recompiling stale cache file /Users/carleton/.julia/compiled/v1.1/SCS/uaibp.ji for SCS [c946c3f1-0d1f-5ce8-9dea-7daa1f7e2d13]\n",
      "└ @ Base loading.jl:1184\n",
      "ERROR: LoadError: LoadError: UndefVarError: RawParameter not defined\n",
      "Stacktrace:\n",
      " [1] getproperty(::Module, ::Symbol) at ./sysimg.jl:13\n",
      " [2] top-level scope at none:0\n",
      " [3] include at ./boot.jl:326 [inlined]\n",
      " [4] include_relative(::Module, ::String) at ./loading.jl:1038\n",
      " [5] include at ./sysimg.jl:29 [inlined]\n",
      " [6] include(::String) at /Users/carleton/.julia/packages/SCS/sjBd8/src/SCS.jl:1\n",
      " [7] top-level scope at none:0\n",
      " [8] include at ./boot.jl:326 [inlined]\n",
      " [9] include_relative(::Module, ::String) at ./loading.jl:1038\n",
      " [10] include(::Module, ::String) at ./sysimg.jl:29\n",
      " [11] top-level scope at none:2\n",
      " [12] eval at ./boot.jl:328 [inlined]\n",
      " [13] eval(::Expr) at ./client.jl:404\n",
      " [14] top-level scope at ./none:3\n",
      "in expression starting at /Users/carleton/.julia/packages/SCS/sjBd8/src/MOI_wrapper.jl:73\n",
      "in expression starting at /Users/carleton/.julia/packages/SCS/sjBd8/src/SCS.jl:20\n"
     ]
    },
    {
     "ename": "ErrorException",
     "evalue": "Failed to precompile SCS [c946c3f1-0d1f-5ce8-9dea-7daa1f7e2d13] to /Users/carleton/.julia/compiled/v1.1/SCS/uaibp.ji.",
     "output_type": "error",
     "traceback": [
      "Failed to precompile SCS [c946c3f1-0d1f-5ce8-9dea-7daa1f7e2d13] to /Users/carleton/.julia/compiled/v1.1/SCS/uaibp.ji.",
      "",
      "Stacktrace:",
      " [1] error(::String) at ./error.jl:33",
      " [2] compilecache(::Base.PkgId, ::String) at ./loading.jl:1197",
      " [3] _require(::Base.PkgId) at ./loading.jl:960",
      " [4] require(::Base.PkgId) at ./loading.jl:858",
      " [5] require(::Module, ::Symbol) at ./loading.jl:853",
      " [6] top-level scope at In[2]:1"
     ]
    }
   ],
   "source": [
    "using JuMP, SCS, Plots, LinearAlgebra, Interact\n",
    "\n",
    "function draw_ellipse(A::Matrix, args...; kwargs...)\n",
    "    x_values = Float64[]\n",
    "    y_values = Float64[]\n",
    "    for angle in 0:0.001π:2π\n",
    "        u = [cos(angle), sin(angle)]\n",
    "        z = A * u\n",
    "        push!(x_values, z[1])\n",
    "        push!(y_values, z[2])\n",
    "    end\n",
    "    plot!(x_values, y_values, args...; kwargs...)\n",
    "end\n",
    "\n",
    "function solve_minimum_ellipse_problem(W, A_matrices)\n",
    "    model = Model(with_optimizer(SCS.Optimizer, eps = 1e-6, verbose = false))\n",
    "    @variable(model, X[1:2, 1:2], PSD)\n",
    "    @objective(model, Min, tr(W * X))\n",
    "    for A in A_matrices\n",
    "        @SDconstraint(model, X >= A)\n",
    "    end\n",
    "    optimize!(model)\n",
    "    return termination_status(model), value.(X)\n",
    "end"
   ]
  },
  {
   "cell_type": "markdown",
   "metadata": {},
   "source": [
    "Investigate the model. Here are some things to try:\n",
    "\n",
    "- What happens if you comment out the first A matrix?\n",
    "\n",
    "- What happens if you comment out the second A matrix?\n",
    "\n",
    "- What happens if you comment out the third A matrix?\n",
    "\n",
    "You can comment lines in Julia using the `#` symbol. As a shortcut, use `[CTRL] + [/]`."
   ]
  },
  {
   "cell_type": "code",
   "execution_count": 3,
   "metadata": {},
   "outputs": [
    {
     "ename": "LoadError",
     "evalue": "UndefVarError: @manipulate not defined",
     "output_type": "error",
     "traceback": [
      "UndefVarError: @manipulate not defined",
      ""
     ]
    }
   ],
   "source": [
    "@manipulate for weight in 1:20\n",
    "    A_matrices = [\n",
    "        [2.0 0.0; 0.0 1.0],\n",
    "        [1.0 0.0; 0.0 3.0],\n",
    "        [2.3896 1.5433; 1.5433 1.35584]\n",
    "    ]\n",
    "    W = [1.0 0.0; 0.0 weight]\n",
    "    status, X_value = solve_minimum_ellipse_problem(W, A_matrices)\n",
    "    if status == MOI.OPTIMAL\n",
    "        plot(legend = false)\n",
    "        draw_ellipse.(A_matrices, color = \"gray\")\n",
    "        draw_ellipse(X_value, color=\"purple\", linewidth=2)\n",
    "    else\n",
    "        println(\"Could not solve. Termination status = $(status)\")\n",
    "    end\n",
    "end"
   ]
  },
  {
   "cell_type": "markdown",
   "metadata": {},
   "source": [
    "# Example 2: clustering points\n",
    "\n",
    "See Section 2.3 of:\n",
    "http://www.optimization-online.org/DB_FILE/2005/04/1114.pdf\n",
    "\n",
    "Given 2-D data pairs $d_i$, $i=1,\\ldots,N$, these points can be partitioned into $k$ clusters by solving the following SDP.\n",
    "\n",
    "$\\begin{align}\n",
    "     minimize \\quad& trace(W * (\\mathbf{I} - X))\\\\\n",
    "   subject\\ to \\quad& \\Sigma_j X_{ij} = 1,\\quad i=1, \\ldots,N \\\\\n",
    "              & trace(X) = k \\\\\n",
    "              &  X \\succeq 0\n",
    "\\end{align}$,\n",
    "\n",
    "where $W_{ij} = e^{\\frac{-||d_i - d_j||}{\\sigma}}$."
   ]
  },
  {
   "cell_type": "code",
   "execution_count": 4,
   "metadata": {},
   "outputs": [
    {
     "data": {
      "text/plain": [
       "solve_cluster_problem (generic function with 1 method)"
      ]
     },
     "execution_count": 4,
     "metadata": {},
     "output_type": "execute_result"
    }
   ],
   "source": [
    "\"\"\"\"\n",
    "    calculate_weight_matrix(data::Matrix{Float64})\n",
    "\n",
    "Calculates the distance between a list of 2-D data points given as\n",
    "rows in `data` matrix.\n",
    "\"\"\"\n",
    "function calculate_weight_matrix(data::Matrix{Float64}, σ = 1.0)\n",
    "    num_points = size(data, 1)\n",
    "    W = zeros(num_points, num_points)\n",
    "    for i in 1:num_points\n",
    "        for j in (i+1):num_points\n",
    "            dist = exp(-norm(data[i, :] - data[j, :]) / σ)\n",
    "            W[i, j] = dist\n",
    "            W[j, i] = dist\n",
    "        end\n",
    "    end\n",
    "    return W\n",
    "end\n",
    "\n",
    "function eye(x, y)\n",
    "    z = zeros(x, y)\n",
    "    for i in 1:min(x, y)\n",
    "        z[i, i] = 1.0\n",
    "    end\n",
    "    return z\n",
    "end\n",
    "\n",
    "function solve_cluster_problem(data::Matrix{Float64}, num_clusters::Int)\n",
    "    W = calculate_weight_matrix(data)\n",
    "    num_points = size(data, 1)\n",
    "    \n",
    "    model = Model(with_optimizer(SCS.Optimizer, verbose = false))\n",
    "\n",
    "    @variable(model, X[1:num_points, 1:num_points], PSD)\n",
    "    @objective(model, Min, tr(W * (eye(num_points, num_points) - X)))\n",
    "    @constraints(model, begin\n",
    "        X .>= 0\n",
    "        [i in 1:num_points], sum(X[i, :]) == 1\n",
    "        tr(X) == num_clusters\n",
    "    end)\n",
    "\n",
    "    optimize!(model)\n",
    "\n",
    "    X_value = value.(X)\n",
    "\n",
    "    cluster = zeros(Int, num_points)\n",
    "    cluster_counter = 0\n",
    "    for i in 1:num_points\n",
    "        if cluster[i] == 0\n",
    "            cluster_counter += 1\n",
    "            cluster[i] = cluster_counter\n",
    "            for j in (i+1):num_points\n",
    "                if norm(X_value[i, j] - X_value[i, i]) <= 1e-6\n",
    "                    cluster[j] = cluster[i]\n",
    "                end\n",
    "            end\n",
    "        end\n",
    "    end\n",
    "    return cluster\n",
    "end"
   ]
  },
  {
   "cell_type": "markdown",
   "metadata": {},
   "source": [
    "Investigate the model. What goes wrong when?"
   ]
  },
  {
   "cell_type": "code",
   "execution_count": 5,
   "metadata": {},
   "outputs": [
    {
     "ename": "LoadError",
     "evalue": "UndefVarError: @manipulate not defined",
     "output_type": "error",
     "traceback": [
      "UndefVarError: @manipulate not defined",
      ""
     ]
    }
   ],
   "source": [
    "data = vcat(\n",
    "    rand(Float64, (10, 2)) .+ [2 3],\n",
    "    rand(Float64, (10, 2)) .+ [4 6],\n",
    "    rand(Float64, (10, 2)) .+ [4 3]\n",
    ")\n",
    "\n",
    "@manipulate for num_clusters = 1:4\n",
    "    which_clusters = solve_cluster_problem(data, num_clusters)\n",
    "    plot(\n",
    "        xlabel = \"x\", ylabel = \"y\", \n",
    "        xlims=(0, 8), ylims = (0, 8),\n",
    "        legend = :bottomright\n",
    "    )\n",
    "    for k in 1:maximum(which_clusters)\n",
    "        points = which_clusters .== k\n",
    "        scatter!(data[points, 1], data[points, 2], \n",
    "            label = \"Cluster $(k)\", markersize=10)\n",
    "    end\n",
    "    plot!()\n",
    "end"
   ]
  },
  {
   "cell_type": "markdown",
   "metadata": {},
   "source": [
    "## Example 3 - Ridge regression\n",
    "\n",
    "In this example, we consider fitting a quadratic function to a noisy signal using [ridge regression](https://en.wikipedia.org/wiki/Tikhonov_regularization).\n",
    "\n",
    "$\\begin{align}\n",
    "      minimize \\quad& ||z - y||_2 + \\lambda||\\theta||_2\\\\\n",
    "   subject\\ to \\quad& z_i = \\theta_1 x_i^2 + \\theta_2 x_i + \\theta_3\n",
    "\\end{align}$,"
   ]
  },
  {
   "cell_type": "code",
   "execution_count": 6,
   "metadata": {},
   "outputs": [
    {
     "data": {
      "text/plain": [
       "solve_ridge_regression (generic function with 1 method)"
      ]
     },
     "execution_count": 6,
     "metadata": {},
     "output_type": "execute_result"
    }
   ],
   "source": [
    "using Ipopt\n",
    "\n",
    "function solve_ridge_regression(x, y, λ)            \n",
    "    N = length(x)\n",
    "    model = Model(with_optimizer(Ipopt.Optimizer, print_level = 0))\n",
    "    @variable(model, θ[i = 1:4], start = 1.0)\n",
    "    @variable(model, z[i = 1:N], start = x[i]^2)\n",
    "    @constraint(model, [i = 1:N], z[i] == θ[1] + θ[2] * x[i] + θ[3] * x[i]^2+ θ[4] * x[i]^3)\n",
    "    @NLobjective(model, Min, \n",
    "        sum((z[i] - y[i])^2 for i in 1:N) + λ * sum(θ[i]^2 for i in 1:4)\n",
    "    )\n",
    "    optimize!(model)\n",
    "    return value.(z)\n",
    "end"
   ]
  },
  {
   "cell_type": "markdown",
   "metadata": {},
   "source": [
    "Play round with the weight in front of the regularizer term. What changes? What happens if you increase the number of data points?"
   ]
  },
  {
   "cell_type": "code",
   "execution_count": 7,
   "metadata": {},
   "outputs": [
    {
     "ename": "LoadError",
     "evalue": "UndefVarError: @manipulate not defined",
     "output_type": "error",
     "traceback": [
      "UndefVarError: @manipulate not defined",
      ""
     ]
    }
   ],
   "source": [
    "N = 10\n",
    "x = rand(N)\n",
    "sort!(x)\n",
    "y = 5 * x.^2 .+ x\n",
    "yϵ = y .+ (1.5 * rand(N) .- 0.5)\n",
    "\n",
    "@manipulate for λ in 0:0.01:0.25\n",
    "    z = solve_ridge_regression(x, yϵ, λ)\n",
    "    plot(x, y, linestyle=:dash, color=\"purple\")\n",
    "    scatter!(x, yϵ, \n",
    "        legend=false, color=\"gray\", markerstrokewidth=0\n",
    "    )\n",
    "    plot!(x, z, linewidth=2, color=\"purple\")\n",
    "end"
   ]
  },
  {
   "cell_type": "markdown",
   "metadata": {},
   "source": [
    "# Example 4 - feasible regions\n",
    "\n",
    "This example explores a problem with a nonlinear feasible region."
   ]
  },
  {
   "cell_type": "code",
   "execution_count": 8,
   "metadata": {},
   "outputs": [
    {
     "ename": "LoadError",
     "evalue": "UndefVarError: @manipulate not defined",
     "output_type": "error",
     "traceback": [
      "UndefVarError: @manipulate not defined",
      ""
     ]
    }
   ],
   "source": [
    "@manipulate for λ in 0.05:0.05:0.95\n",
    "    model = Model(with_optimizer(Ipopt.Optimizer, print_level = 0))\n",
    "    @variable(model, 0 <= x <= 20)\n",
    "    @variable(model, 0 <= y <= 20)\n",
    "    @NLconstraint(model, y >= 0.05x^2)\n",
    "    @NLconstraint(model, y >= exp(-0.25 * (x - 10)))\n",
    "    @objective(model, Min, λ * x + (1 - λ) * y)\n",
    "    optimize!(model)\n",
    "\n",
    "    b = 1\n",
    "    a = b * (λ - 1) / λ\n",
    "    ab = a^2 + b^2\n",
    "    b /= ab\n",
    "    a /= ab\n",
    "\n",
    "    x_value = value(x)\n",
    "    y_value = value(y)\n",
    "\n",
    "    z = -5:0.1:25.0\n",
    "    plot(xlims=(-2.5, 10), ylims=(0, 15), legend=false)\n",
    "    vline!([0.0], color=\"gray\", linewidth=2)\n",
    "    plot!(z, 0.05z.^2, color=\"gray\", linewidth=2)\n",
    "    plot!(z, exp.(-0.25(z.-10)), color=\"gray\", linewidth=2)\n",
    "    scatter!([x_value], [y_value], color=\"purple\", markersize=10)\n",
    "    plot!(z, y_value .+ (b / a) * (z .- x_value), linestyle=:dash, color=\"purple\")\n",
    "end"
   ]
  }
 ],
 "metadata": {
  "@webio": {
   "lastCommId": "b0405a9332114afe8116afc3238202e9",
   "lastKernelId": "c56f427e-dda2-4b32-a7d0-49e3fb2b6f99"
  },
  "kernelspec": {
   "display_name": "Julia 1.3.1",
   "language": "julia",
   "name": "julia-1.3"
  },
  "language_info": {
   "file_extension": ".jl",
   "mimetype": "application/julia",
   "name": "julia",
   "version": "1.3.1"
  }
 },
 "nbformat": 4,
 "nbformat_minor": 2
}
