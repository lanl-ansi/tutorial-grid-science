{
 "cells": [
  {
   "cell_type": "markdown",
   "metadata": {},
   "source": [
    "# Class III - An introduction to PowerModels.jl\n",
    "\n",
    "*Los Alamos National Laboratory Grid Science Winter School, 2019*\n",
    "\n",
    "Welcome! This tutorial will introduce you to the basics of the [PowerModels.jl](https://github.com/lanl-ansi/PowerModels.jl) package. If you haven't yet, work through [Class I - An introduction  to Julia](Class%20I%20-%20An%20introduction%20to%20Julia.ipynb) and [Class II - An introduction  to JuMP](Class%20II%20-%20An%20introduction%20to%20JuMP.ipynb) first.\n",
    "\n",
    "As in Class II, run the following magic sauce to check we're good to go."
   ]
  },
  {
   "cell_type": "code",
   "execution_count": 1,
   "metadata": {},
   "outputs": [
    {
     "name": "stdout",
     "output_type": "stream",
     "text": [
      "\u001b[32m\u001b[1m  Updating\u001b[22m\u001b[39m registry at `~/.julia/registries/General`\n",
      "\u001b[32m\u001b[1m  Updating\u001b[22m\u001b[39m git-repo `https://github.com/JuliaRegistries/General.git`\n",
      "\u001b[?25l\u001b[2K\u001b[?25hExcellent! Everything is good to go!\n"
     ]
    }
   ],
   "source": [
    "import Pkg\n",
    "Pkg.activate(@__DIR__)\n",
    "Pkg.instantiate()\n",
    "println(\"Excellent! Everything is good to go!\")"
   ]
  },
  {
   "cell_type": "markdown",
   "metadata": {},
   "source": [
    "### Background \n",
    "\n",
    "This [presentation](https://github.com/lanl-ansi/tutorial-grid-science-2019/blob/master/assets/infrastructure_optimization_in_julia.pdf) provides motivation and context for this notebook.\n",
    "\n",
    "Some additional informaiton is also available at,\n",
    "* [PowerModels Documentation](https://lanl-ansi.github.io/PowerModels.jl/stable/)\n",
    "* [PowerModels Network Model Update](https://youtu.be/j7r4onyiNRQ)\n",
    "* [PSCC 2018 Presentation](https://youtu.be/AEEzt3IjLaM)\n",
    "* [JuMP Dev 2017 Presentation](https://youtu.be/W4LOKR7B4ts)\n"
   ]
  },
  {
   "cell_type": "markdown",
   "metadata": {},
   "source": [
    "### Working with the Network Model\n",
    "\n",
    "A simple 5-bus network model is provided with this tutorial.  The matpower file can be viewed [here](../edit/data/pglib_opf_case5_pjm.m).\n",
    "\n",
    "The `parse_file` function is used to load a text files into the PowerModels data model, "
   ]
  },
  {
   "cell_type": "code",
   "execution_count": 2,
   "metadata": {},
   "outputs": [
    {
     "name": "stderr",
     "output_type": "stream",
     "text": [
      "┌ Info: Recompiling stale cache file /Users/carleton/.julia/compiled/v1.0/PowerModels/CdeMI.ji for PowerModels [c36e90e8-916a-50a6-bd94-075b64ef4655]\n",
      "└ @ Base loading.jl:1190\n"
     ]
    },
    {
     "name": "stdout",
     "output_type": "stream",
     "text": [
      "\u001b[32m[info | PowerModels]: extending matpower format with data: areas 1x2\u001b[39m\n",
      "\u001b[35m[warn | PowerModels]: Updated generator 4 cost function with order 3 to a function of order 2: [4000.0, 0.0]\u001b[39m\n",
      "\u001b[35m[warn | PowerModels]: Updated generator 1 cost function with order 3 to a function of order 2: [1400.0, 0.0]\u001b[39m\n",
      "\u001b[35m[warn | PowerModels]: Updated generator 5 cost function with order 3 to a function of order 2: [1000.0, 0.0]\u001b[39m\n",
      "\u001b[35m[warn | PowerModels]: Updated generator 2 cost function with order 3 to a function of order 2: [1500.0, 0.0]\u001b[39m\n",
      "\u001b[35m[warn | PowerModels]: Updated generator 3 cost function with order 3 to a function of order 2: [3000.0, 0.0]\u001b[39m\n"
     ]
    },
    {
     "data": {
      "text/plain": [
       "Dict{String,Any} with 13 entries:\n",
       "  \"bus\"            => Dict{String,Any}(\"4\"=>Dict{String,Any}(\"zone\"=>1,\"bus_i\"=…\n",
       "  \"source_type\"    => \"matpower\"\n",
       "  \"name\"           => \"pglib_opf_case5_pjm\"\n",
       "  \"dcline\"         => Dict{String,Any}()\n",
       "  \"source_version\" => v\"2.0.0\"\n",
       "  \"gen\"            => Dict{String,Any}(\"4\"=>Dict{String,Any}(\"pg\"=>1.0,\"model\"=…\n",
       "  \"branch\"         => Dict{String,Any}(\"4\"=>Dict{String,Any}(\"br_r\"=>0.00108,\"r…\n",
       "  \"storage\"        => Dict{String,Any}()\n",
       "  \"baseMVA\"        => 100.0\n",
       "  \"per_unit\"       => true\n",
       "  \"areas\"          => Dict{String,Any}(\"1\"=>Dict{String,Any}(\"col_1\"=>1,\"col_2\"…\n",
       "  \"shunt\"          => Dict{String,Any}()\n",
       "  \"load\"           => Dict{String,Any}(\"1\"=>Dict{String,Any}(\"load_bus\"=>2,\"sta…"
      ]
     },
     "execution_count": 2,
     "metadata": {},
     "output_type": "execute_result"
    }
   ],
   "source": [
    "using PowerModels\n",
    "\n",
    "data = PowerModels.parse_file(\"data/pglib_opf_case5_pjm.m\")"
   ]
  },
  {
   "cell_type": "markdown",
   "metadata": {},
   "source": [
    "In this case the file parser generated a few informational of messages.  \n",
    "\n",
    "The first `info` message indicates that the file contains a data block named `area` that is not part of the Matpower data specification.  Still the parser will load this data using some standards for [Matpower data extentions](https://lanl-ansi.github.io/PowerModels.jl/stable/network-data/#Working-with-Matpower-Data-Files-1).\n",
    "\n",
    "The second block of `warn` messages indicates that PowerModels has detected that the generator cost model could be simplified.  In this case a linear function specified as a quadratic function was transformed into a linear function.  PowerModels makes a best effort to clean data while parsing, but the best practice is to clean datasets until they do not produce any warning messages in PowerModels.\n",
    "\n",
    "Let us use the silence command to ignore similar warnings for the rest of this tutorial."
   ]
  },
  {
   "cell_type": "code",
   "execution_count": 3,
   "metadata": {},
   "outputs": [
    {
     "name": "stdout",
     "output_type": "stream",
     "text": [
      "\u001b[32m[info | PowerModels]: Suppressing information and warning messages for the rest of this session.  Use the Memento package for more fine-grained control of logging.\u001b[39m\n"
     ]
    }
   ],
   "source": [
    "PowerModels.silence()"
   ]
  },
  {
   "cell_type": "markdown",
   "metadata": {},
   "source": [
    "Now, lets look at some of the network data.  The data for the first bus, load and branch can be viewed as follows,"
   ]
  },
  {
   "cell_type": "code",
   "execution_count": 4,
   "metadata": {},
   "outputs": [
    {
     "data": {
      "text/plain": [
       "Dict{String,Any} with 10 entries:\n",
       "  \"zone\"     => 1\n",
       "  \"bus_i\"    => 1\n",
       "  \"bus_type\" => 2\n",
       "  \"vmax\"     => 1.1\n",
       "  \"area\"     => 1\n",
       "  \"vmin\"     => 0.9\n",
       "  \"index\"    => 1\n",
       "  \"va\"       => 0.0\n",
       "  \"vm\"       => 1.0\n",
       "  \"base_kv\"  => 230.0"
      ]
     },
     "execution_count": 4,
     "metadata": {},
     "output_type": "execute_result"
    }
   ],
   "source": [
    "data[\"bus\"][\"1\"]"
   ]
  },
  {
   "cell_type": "code",
   "execution_count": 5,
   "metadata": {},
   "outputs": [
    {
     "data": {
      "text/plain": [
       "Dict{String,Any} with 5 entries:\n",
       "  \"load_bus\" => 2\n",
       "  \"status\"   => 1\n",
       "  \"qd\"       => 0.9861\n",
       "  \"pd\"       => 3.0\n",
       "  \"index\"    => 1"
      ]
     },
     "execution_count": 5,
     "metadata": {},
     "output_type": "execute_result"
    }
   ],
   "source": [
    "data[\"load\"][\"1\"]"
   ]
  },
  {
   "cell_type": "markdown",
   "metadata": {},
   "source": [
    "Notice that the \"pd\" value is 3.0, while in the Matpower file it was 300.  By default all data in InfrastructureModels is in per-unit.  The functions `make_mixed_units` and `make_per_unit` can be used for switching back and forth."
   ]
  },
  {
   "cell_type": "code",
   "execution_count": 6,
   "metadata": {},
   "outputs": [
    {
     "data": {
      "text/plain": [
       "Dict{String,Any} with 18 entries:\n",
       "  \"br_r\"        => 0.00281\n",
       "  \"rate_a\"      => 4.0\n",
       "  \"shift\"       => 0.0\n",
       "  \"rate_b\"      => 4.0\n",
       "  \"br_x\"        => 0.0281\n",
       "  \"rate_c\"      => 4.0\n",
       "  \"g_to\"        => 0.0\n",
       "  \"g_fr\"        => 0.0\n",
       "  \"b_fr\"        => 0.00356\n",
       "  \"f_bus\"       => 1\n",
       "  \"br_status\"   => 1\n",
       "  \"t_bus\"       => 2\n",
       "  \"b_to\"        => 0.00356\n",
       "  \"index\"       => 1\n",
       "  \"angmin\"      => -0.523599\n",
       "  \"angmax\"      => 0.523599\n",
       "  \"transformer\" => false\n",
       "  \"tap\"         => 1.0"
      ]
     },
     "execution_count": 6,
     "metadata": {},
     "output_type": "execute_result"
    }
   ],
   "source": [
    "data[\"branch\"][\"1\"]"
   ]
  },
  {
   "cell_type": "markdown",
   "metadata": {},
   "source": [
    "That's great, but looking at components one-by-one can get boring fast.\n",
    "\n",
    "All InfrastructureModels packages provide a `print_summary` function that prints a table-like summary of the network data to the terminal."
   ]
  },
  {
   "cell_type": "code",
   "execution_count": 7,
   "metadata": {},
   "outputs": [
    {
     "name": "stdout",
     "output_type": "stream",
     "text": [
      "\u001b[1mMetadata\u001b[0m\n",
      "  baseMVA: 100.000\n",
      "  name: pglib_opf_case5_pjm\n",
      "  per_unit: true\n",
      "  source_type: matpower\n",
      "  source_version: 2.0.0\n",
      "\n",
      "\u001b[1mTable Counts\u001b[0m\n",
      "  bus: 5\n",
      "  load: 3\n",
      "  shunt: 0\n",
      "  gen: 5\n",
      "  storage: 0\n",
      "  branch: 6\n",
      "  dcline: 0\n",
      "  areas: 1\n",
      "\n",
      "\n",
      "\u001b[1mTable: bus\u001b[0m\n",
      "         bus_i, bus_type\n",
      "      1:     1,        2\n",
      "      2:     2,        1\n",
      "      3:     3,        2\n",
      "      4:     4,        3\n",
      "      5:     5,        2\n",
      "\n",
      "  default values:\n",
      "    base_kv: 230.000\n",
      "    vm: 1.000\n",
      "    va: 0.000\n",
      "    vmin: 0.900\n",
      "    vmax: 1.100\n",
      "    area: 1\n",
      "    zone: 1\n",
      "\n",
      "\n",
      "\u001b[1mTable: load\u001b[0m\n",
      "         load_bus,    pd,    qd\n",
      "      1:        2, 3.000, 0.986\n",
      "      2:        3, 3.000, 0.986\n",
      "      3:        4, 4.000, 1.315\n",
      "\n",
      "  default values:\n",
      "    status: 1\n",
      "\n",
      "\n",
      "\u001b[1mTable: gen\u001b[0m\n",
      "         gen_bus,    pg,  pmax,   qmin,  qmax\n",
      "      1:       1, 0.200, 0.400, -0.300, 0.300\n",
      "      2:       1, 0.850, 1.700, -1.275, 1.275\n",
      "      3:       3, 2.600, 5.200, -3.900, 3.900\n",
      "      4:       4, 1.000, 2.000, -1.500, 1.500\n",
      "      5:       5, 3.000, 6.000, -4.500, 4.500\n",
      "\n",
      "  default values:\n",
      "    qg: 0.000\n",
      "    vg: 1.000\n",
      "    mbase: 100.000\n",
      "    pmin: 0.000\n",
      "    gen_status: 1\n",
      "    model: 2\n",
      "    ncost: 2\n",
      "    cost: [(2)]\n",
      "    startup: 0.000\n",
      "    shutdown: 0.000\n",
      "\n",
      "\n",
      "\u001b[1mTable: branch\u001b[0m\n",
      "         f_bus, t_bus,  br_r,  br_x,  b_fr,  b_to, rate_a, rate_b, rate_c\n",
      "      1:     1,     2, 0.003, 0.028, 0.004, 0.004,  4.000,  4.000,  4.000\n",
      "      2:     1,     4, 0.003, 0.030, 0.003, 0.003,  4.260,  4.260,  4.260\n",
      "      3:     1,     5, 0.001, 0.006, 0.016, 0.016,  4.260,  4.260,  4.260\n",
      "      4:     2,     3, 0.001, 0.011, 0.009, 0.009,  4.260,  4.260,  4.260\n",
      "      5:     3,     4, 0.003, 0.030, 0.003, 0.003,  4.260,  4.260,  4.260\n",
      "      6:     4,     5, 0.003, 0.030, 0.003, 0.003,  2.400,  2.400,  2.400\n",
      "\n",
      "  default values:\n",
      "    g_fr: 0.000\n",
      "    g_to: 0.000\n",
      "    tap: 1.000\n",
      "    shift: 0.000\n",
      "    br_status: 1\n",
      "    angmax: 0.524\n",
      "    angmin: -0.524\n",
      "    transformer: false\n",
      "\n",
      "\n",
      "\u001b[1mTable: areas\u001b[0m\n",
      "         col_1, col_2\n",
      "      1:     1,     4\n"
     ]
    }
   ],
   "source": [
    "PowerModels.print_summary(data)"
   ]
  },
  {
   "cell_type": "markdown",
   "metadata": {},
   "source": [
    "Dictionary comprehensions also provide an easy way to take slices of the data.\n",
    "\n",
    "For example lets inspect the generation profile and output capabilities using comprehensions."
   ]
  },
  {
   "cell_type": "code",
   "execution_count": 8,
   "metadata": {},
   "outputs": [
    {
     "data": {
      "text/plain": [
       "5-element Array{Float64,1}:\n",
       " 1.0 \n",
       " 0.2 \n",
       " 3.0 \n",
       " 0.85\n",
       " 2.6 "
      ]
     },
     "execution_count": 8,
     "metadata": {},
     "output_type": "execute_result"
    }
   ],
   "source": [
    "[gen[\"pg\"] for (i,gen) in data[\"gen\"]]"
   ]
  },
  {
   "cell_type": "code",
   "execution_count": 9,
   "metadata": {},
   "outputs": [
    {
     "data": {
      "text/plain": [
       "5-element Array{Complex{Float64},1}:\n",
       "  1.0 + 0.0im\n",
       "  0.2 + 0.0im\n",
       "  3.0 + 0.0im\n",
       " 0.85 + 0.0im\n",
       "  2.6 + 0.0im"
      ]
     },
     "execution_count": 9,
     "metadata": {},
     "output_type": "execute_result"
    }
   ],
   "source": [
    "[gen[\"pg\"] + gen[\"qg\"]im for (i,gen) in data[\"gen\"]]"
   ]
  },
  {
   "cell_type": "code",
   "execution_count": 10,
   "metadata": {},
   "outputs": [
    {
     "data": {
      "text/plain": [
       "5-element Array{Tuple{Float64,Float64},1}:\n",
       " (-1.5, 1.5)    \n",
       " (-0.3, 0.3)    \n",
       " (-4.5, 4.5)    \n",
       " (-1.275, 1.275)\n",
       " (-3.9, 3.9)    "
      ]
     },
     "execution_count": 10,
     "metadata": {},
     "output_type": "execute_result"
    }
   ],
   "source": [
    "[(gen[\"qmin\"], gen[\"qmax\"]) for (i,gen) in data[\"gen\"]]"
   ]
  },
  {
   "cell_type": "markdown",
   "metadata": {},
   "source": [
    "### Solving Optimal Power Flow (OPF)\n",
    "\n",
    "Before we can solve a power model, we need a solver.  Lets start with the simple linear programming solver GLPK and try to solve a DC OPF model."
   ]
  },
  {
   "cell_type": "code",
   "execution_count": 11,
   "metadata": {},
   "outputs": [
    {
     "data": {
      "text/plain": [
       "Dict{String,Any} with 8 entries:\n",
       "  \"solve_time\"   => 2.10108\n",
       "  \"status\"       => :Optimal\n",
       "  \"objective\"    => 17479.9\n",
       "  \"solver\"       => \"GLPKMathProgInterface.GLPKInterfaceLP.GLPKSolverLP\"\n",
       "  \"solution\"     => Dict{String,Any}(\"baseMVA\"=>100.0,\"gen\"=>Dict{String,Any}(\"…\n",
       "  \"data\"         => Dict{String,Any}(\"name\"=>\"pglib_opf_case5_pjm\",\"bus_count\"=…\n",
       "  \"machine\"      => Dict(\"cpu\"=>\"Intel(R) Core(TM) i7-4870HQ CPU @ 2.50GHz\",\"me…\n",
       "  \"objective_lb\" => -Inf"
      ]
     },
     "execution_count": 11,
     "metadata": {},
     "output_type": "execute_result"
    }
   ],
   "source": [
    "using GLPKMathProgInterface\n",
    "lp_solver = GLPKSolverLP()\n",
    "\n",
    "result = run_dc_opf(data, lp_solver)"
   ]
  },
  {
   "cell_type": "markdown",
   "metadata": {},
   "source": [
    "The result object contains a variety of useful information about the optimization problem solved, including the objective value and wall clock runtime.  Detailed documentation of the result dictionary is available [here](https://lanl-ansi.github.io/PowerModels.jl/stable/result-data/), however most interesting point is the `solution` data."
   ]
  },
  {
   "cell_type": "code",
   "execution_count": 12,
   "metadata": {},
   "outputs": [
    {
     "data": {
      "text/plain": [
       "Dict{String,Any} with 4 entries:\n",
       "  \"baseMVA\"  => 100.0\n",
       "  \"gen\"      => Dict{String,Any}(\"4\"=>Dict{String,Any}(\"qg\"=>NaN,\"pg\"=>0.0),\"1\"…\n",
       "  \"bus\"      => Dict{String,Any}(\"4\"=>Dict{String,Any}(\"va\"=>0.0,\"vm\"=>1),\"1\"=>…\n",
       "  \"per_unit\" => true"
      ]
     },
     "execution_count": 12,
     "metadata": {},
     "output_type": "execute_result"
    }
   ],
   "source": [
    "result[\"solution\"]"
   ]
  },
  {
   "cell_type": "markdown",
   "metadata": {},
   "source": [
    "Not every useful, lets try `print_summary`,"
   ]
  },
  {
   "cell_type": "code",
   "execution_count": 13,
   "metadata": {},
   "outputs": [
    {
     "name": "stdout",
     "output_type": "stream",
     "text": [
      "\u001b[1mMetadata\u001b[0m\n",
      "  baseMVA: 100.000\n",
      "  per_unit: true\n",
      "\n",
      "\u001b[1mTable Counts\u001b[0m\n",
      "  bus: 5\n",
      "  gen: 5\n",
      "\n",
      "\n",
      "\u001b[1mTable: bus\u001b[0m\n",
      "             va\n",
      "      1:  0.057\n",
      "      2: -0.014\n",
      "      3: -0.008\n",
      "      4:  0.000\n",
      "      5:  0.072\n",
      "\n",
      "  default values:\n",
      "    vm: 1\n",
      "\n",
      "\n",
      "\u001b[1mTable: gen\u001b[0m\n",
      "            pg\n",
      "      1: 0.400\n",
      "      2: 1.700\n",
      "      3: 3.235\n",
      "      4: 0.000\n",
      "      5: 4.665\n",
      "\n",
      "  default values:\n",
      "    qg: NaN0000\n"
     ]
    }
   ],
   "source": [
    "PowerModels.print_summary(result[\"solution\"])"
   ]
  },
  {
   "cell_type": "markdown",
   "metadata": {},
   "source": [
    "Looks great!  But `vm` and `qg` are missing...  On to AC OPF!"
   ]
  },
  {
   "cell_type": "code",
   "execution_count": 14,
   "metadata": {},
   "outputs": [
    {
     "ename": "MethodError",
     "evalue": "MethodError: no method matching NonlinearModel(::GLPKMathProgInterface.GLPKInterfaceLP.GLPKSolverLP)\nClosest candidates are:\n  NonlinearModel(!Matched::Int64) at /Users/carleton/.julia/packages/MathProgBase/rVlFR/src/SolverInterface/SolverInterface.jl:29\n  NonlinearModel() at /Users/carleton/.julia/packages/MathProgBase/rVlFR/src/SolverInterface/SolverInterface.jl:27",
     "output_type": "error",
     "traceback": [
      "MethodError: no method matching NonlinearModel(::GLPKMathProgInterface.GLPKInterfaceLP.GLPKSolverLP)\nClosest candidates are:\n  NonlinearModel(!Matched::Int64) at /Users/carleton/.julia/packages/MathProgBase/rVlFR/src/SolverInterface/SolverInterface.jl:29\n  NonlinearModel() at /Users/carleton/.julia/packages/MathProgBase/rVlFR/src/SolverInterface/SolverInterface.jl:27",
      "",
      "Stacktrace:",
      " [1] _buildInternalModel_nlp(::JuMP.Model, ::JuMP.ProblemTraits) at /Users/carleton/.julia/packages/JuMP/PbnIJ/src/nlp.jl:1242",
      " [2] #build#123(::Bool, ::Bool, ::JuMP.ProblemTraits, ::Function, ::JuMP.Model) at /Users/carleton/.julia/packages/JuMP/PbnIJ/src/solvers.jl:304",
      " [3] #build at ./none:0 [inlined]",
      " [4] #solve#120(::Bool, ::Bool, ::Bool, ::Base.Iterators.Pairs{Union{},Union{},Tuple{},NamedTuple{(),Tuple{}}}, ::Function, ::JuMP.Model) at /Users/carleton/.julia/packages/JuMP/PbnIJ/src/solvers.jl:168",
      " [5] solve at /Users/carleton/.julia/packages/JuMP/PbnIJ/src/solvers.jl:150 [inlined]",
      " [6] macro expansion at ./util.jl:289 [inlined]",
      " [7] solve(::GenericPowerModel{StandardACPForm}) at /Users/carleton/.julia/packages/PowerModels/pzt9u/src/core/base.jl:176",
      " [8] #solve_generic_model#138(::Function, ::Function, ::GenericPowerModel{StandardACPForm}, ::GLPKMathProgInterface.GLPKInterfaceLP.GLPKSolverLP) at /Users/carleton/.julia/packages/PowerModels/pzt9u/src/core/base.jl:234",
      " [9] #run_generic_model#135 at ./none:0 [inlined]",
      " [10] run_generic_model at /Users/carleton/.julia/packages/PowerModels/pzt9u/src/core/base.jl:195 [inlined]",
      " [11] #run_opf#575 at /Users/carleton/.julia/packages/PowerModels/pzt9u/src/prob/opf.jl:15 [inlined]",
      " [12] run_opf at /Users/carleton/.julia/packages/PowerModels/pzt9u/src/prob/opf.jl:15 [inlined]",
      " [13] #run_ac_opf#573 at /Users/carleton/.julia/packages/PowerModels/pzt9u/src/prob/opf.jl:5 [inlined]",
      " [14] run_ac_opf(::Dict{String,Any}, ::GLPKMathProgInterface.GLPKInterfaceLP.GLPKSolverLP) at /Users/carleton/.julia/packages/PowerModels/pzt9u/src/prob/opf.jl:5",
      " [15] top-level scope at In[14]:1"
     ]
    }
   ],
   "source": [
    "result = run_ac_opf(data, lp_solver)"
   ]
  },
  {
   "cell_type": "markdown",
   "metadata": {},
   "source": [
    "#### Quiz Question\n",
    "That was ugly... What happened?!?\n"
   ]
  },
  {
   "cell_type": "markdown",
   "metadata": {},
   "source": [
    "Lets try using an NLP solver."
   ]
  },
  {
   "cell_type": "code",
   "execution_count": 15,
   "metadata": {},
   "outputs": [
    {
     "name": "stdout",
     "output_type": "stream",
     "text": [
      "\n",
      "******************************************************************************\n",
      "This program contains Ipopt, a library for large-scale nonlinear optimization.\n",
      " Ipopt is released as open source code under the Eclipse Public License (EPL).\n",
      "         For more information visit http://projects.coin-or.org/Ipopt\n",
      "******************************************************************************\n",
      "\n"
     ]
    },
    {
     "data": {
      "text/plain": [
       "Dict{String,Any} with 8 entries:\n",
       "  \"solve_time\"   => 4.20517\n",
       "  \"status\"       => :LocalOptimal\n",
       "  \"objective\"    => 17551.9\n",
       "  \"solver\"       => \"IpoptSolver\"\n",
       "  \"solution\"     => Dict{String,Any}(\"baseMVA\"=>100.0,\"gen\"=>Dict{String,Any}(\"…\n",
       "  \"data\"         => Dict{String,Any}(\"name\"=>\"pglib_opf_case5_pjm\",\"bus_count\"=…\n",
       "  \"machine\"      => Dict(\"cpu\"=>\"Intel(R) Core(TM) i7-4870HQ CPU @ 2.50GHz\",\"me…\n",
       "  \"objective_lb\" => -Inf"
      ]
     },
     "execution_count": 15,
     "metadata": {},
     "output_type": "execute_result"
    }
   ],
   "source": [
    "using Ipopt\n",
    "nlp_solver = IpoptSolver(print_level=0)\n",
    "\n",
    "result = run_ac_opf(data, nlp_solver)"
   ]
  },
  {
   "cell_type": "markdown",
   "metadata": {},
   "source": [
    "It worked!  Lets look at the solution,"
   ]
  },
  {
   "cell_type": "code",
   "execution_count": 16,
   "metadata": {},
   "outputs": [
    {
     "name": "stdout",
     "output_type": "stream",
     "text": [
      "\u001b[1mMetadata\u001b[0m\n",
      "  baseMVA: 100.000\n",
      "  per_unit: true\n",
      "\n",
      "\u001b[1mTable Counts\u001b[0m\n",
      "  bus: 5\n",
      "  gen: 5\n",
      "\n",
      "\n",
      "\u001b[1mTable: bus\u001b[0m\n",
      "            vm,     va\n",
      "      1: 1.078,  0.049\n",
      "      2: 1.084, -0.013\n",
      "      3: 1.100, -0.010\n",
      "      4: 1.064,  0.000\n",
      "      5: 1.069,  0.063\n",
      "\n",
      "\n",
      "\u001b[1mTable: gen\u001b[0m\n",
      "            pg,     qg\n",
      "      1: 0.400,  0.300\n",
      "      2: 1.700,  1.275\n",
      "      3: 3.245,  3.900\n",
      "      4: 0.000, -0.108\n",
      "      5: 4.707, -1.650\n"
     ]
    }
   ],
   "source": [
    "PowerModels.print_summary(result[\"solution\"])"
   ]
  },
  {
   "cell_type": "markdown",
   "metadata": {},
   "source": [
    "The solution make sense intuitively.  The voltage magnitude on bus 3 is pushed to the upper limit, presumably to minimize line losses.  Total generation costs are similar to DC-OPF which seems reasonable.\n",
    "\n",
    "The solution seems reasonable, but is it optimal?  To test that we need a convex relaxation!  But first a brief digression."
   ]
  },
  {
   "cell_type": "markdown",
   "metadata": {},
   "source": [
    "A little secret, the functions `run_dc_opf` and `run_ac_opf` are short hands for a much more general `run_opf` function which supports many variants of optimal power flow problem.  Specifically,\n",
    "```\n",
    "run_dc_opf(data, solver) => run_opf(data, DCPPowerModel, solver)\n",
    "run_dc_opf(data, solver) => run_opf(data, ACPPowerModel, solver)\n",
    "```\n",
    "\n",
    "Try the following code with different PowerModels.  Suggested models include `ACPPowerModel`,`ACRPowerModel`,`DCPPowerModel`,`DCPLLPowerModel`,`LPACCPowerModel`, `SOCWRPowerModel`, `QCWRPowerModel`.  A fairly complete list of implemented models is available [here](https://lanl-ansi.github.io/PowerModels.jl/stable/formulation-details/)."
   ]
  },
  {
   "cell_type": "code",
   "execution_count": 17,
   "metadata": {},
   "outputs": [
    {
     "name": "stdout",
     "output_type": "stream",
     "text": [
      "\u001b[1mMetadata\u001b[0m\n",
      "  baseMVA: 100.000\n",
      "  per_unit: true\n",
      "\n",
      "\u001b[1mTable Counts\u001b[0m\n",
      "  bus: 5\n",
      "  gen: 5\n",
      "\n",
      "\n",
      "\u001b[1mTable: bus\u001b[0m\n",
      "            vm,     va\n",
      "      1: 1.078,  0.049\n",
      "      2: 1.084, -0.013\n",
      "      3: 1.100, -0.010\n",
      "      4: 1.064,  0.000\n",
      "      5: 1.069,  0.063\n",
      "\n",
      "\n",
      "\u001b[1mTable: gen\u001b[0m\n",
      "            pg,     qg\n",
      "      1: 0.400,  0.300\n",
      "      2: 1.700,  1.275\n",
      "      3: 3.245,  3.900\n",
      "      4: 0.000, -0.108\n",
      "      5: 4.707, -1.650\n",
      "\n",
      "Objective: 17551.890899394704\n"
     ]
    }
   ],
   "source": [
    "result = run_opf(data, ACPPowerModel, nlp_solver)\n",
    "PowerModels.print_summary(result[\"solution\"])\n",
    "println()\n",
    "println(\"Objective: $(result[\"objective\"])\")"
   ]
  },
  {
   "cell_type": "markdown",
   "metadata": {},
   "source": [
    "At this point you might be curious what is PowerModels doing under the hood.  In short, it builds and solves JuMP models.  The [PowerModelsAnnex](https://github.com/lanl-ansi/PowerModelsAnnex.jl/tree/master/src/model) includes some examples of the kind of JuMP models that PowerModels when you call `run_opf`.\n",
    "\n",
    "Another way to see what PowerModels is doing is to pass your own JuMP model, then you can inspect it later."
   ]
  },
  {
   "cell_type": "code",
   "execution_count": 18,
   "metadata": {},
   "outputs": [
    {
     "name": "stdout",
     "output_type": "stream",
     "text": [
      "Min 4000 0_1_pg[4] + 1500 0_1_pg[2] + 3000 0_1_pg[3] + 1000 0_1_pg[5] + 1400 0_1_pg[1]\n",
      "Subject to\n",
      " 0_1_va[4] = 0\n",
      " 0_1_p[(6, 4, 5)] - 0_1_p[(2, 1, 4)] - 0_1_p[(5, 3, 4)] - 0_1_pg[4] = -4\n",
      " 0_1_p[(4, 2, 3)] - 0_1_p[(1, 1, 2)] = -3\n",
      " 0_1_p[(5, 3, 4)] - 0_1_p[(4, 2, 3)] - 0_1_pg[3] = -3\n",
      " -0_1_p[(3, 1, 5)] - 0_1_p[(6, 4, 5)] - 0_1_pg[5] = 0\n",
      " 0_1_p[(2, 1, 4)] + 0_1_p[(3, 1, 5)] + 0_1_p[(1, 1, 2)] - 0_1_pg[2] - 0_1_pg[1] = 0\n",
      " 0_1_p[(4, 2, 3)] - 91.67583425009167 0_1_va[2] + 91.67583425009167 0_1_va[3] = 0\n",
      " 0_1_va[2] - 0_1_va[3] ≤ 0.5235987755982988\n",
      " 0_1_va[2] - 0_1_va[3] ≥ -0.5235987755982988\n",
      " 0_1_p[(2, 1, 4)] - 32.56904637832204 0_1_va[1] + 32.56904637832204 0_1_va[4] = 0\n",
      " 0_1_va[1] - 0_1_va[4] ≤ 0.5235987755982988\n",
      " 0_1_va[1] - 0_1_va[4] ≥ -0.5235987755982988\n",
      " 0_1_p[(3, 1, 5)] - 154.7029702970297 0_1_va[1] + 154.7029702970297 0_1_va[5] = 0\n",
      " 0_1_va[1] - 0_1_va[5] ≤ 0.5235987755982988\n",
      " 0_1_va[1] - 0_1_va[5] ≥ -0.5235987755982988\n",
      " 0_1_p[(5, 3, 4)] - 33.33666700003334 0_1_va[3] + 33.33666700003334 0_1_va[4] = 0\n",
      " 0_1_va[3] - 0_1_va[4] ≤ 0.5235987755982988\n",
      " 0_1_va[3] - 0_1_va[4] ≥ -0.5235987755982988\n",
      " 0_1_p[(6, 4, 5)] - 33.33666700003334 0_1_va[4] + 33.33666700003334 0_1_va[5] = 0\n",
      " 0_1_va[4] - 0_1_va[5] ≤ 0.5235987755982988\n",
      " 0_1_va[4] - 0_1_va[5] ≥ -0.5235987755982988\n",
      " 0_1_p[(1, 1, 2)] - 35.234840209999646 0_1_va[1] + 35.234840209999646 0_1_va[2] = 0\n",
      " 0_1_va[1] - 0_1_va[2] ≤ 0.5235987755982988\n",
      " 0_1_va[1] - 0_1_va[2] ≥ -0.5235987755982988\n",
      " 0_1_va[i] ∀ i ∈ {4,2,3,5,1}\n",
      " 0_1_p_dc (no indices)\n",
      " 0 ≤ 0_1_pg[4] ≤ 2\n",
      " 0 ≤ 0_1_pg[2] ≤ 1.7\n",
      " 0 ≤ 0_1_pg[3] ≤ 5.2\n",
      " 0 ≤ 0_1_pg[5] ≤ 6\n",
      " 0 ≤ 0_1_pg[1] ≤ 0.4\n",
      " -4.26 ≤ 0_1_p[(4, 2, 3)] ≤ 4.26\n",
      " -4.26 ≤ 0_1_p[(2, 1, 4)] ≤ 4.26\n",
      " -4.26 ≤ 0_1_p[(3, 1, 5)] ≤ 4.26\n",
      " -4.26 ≤ 0_1_p[(5, 3, 4)] ≤ 4.26\n",
      " -2.4 ≤ 0_1_p[(6, 4, 5)] ≤ 2.4\n",
      " -4 ≤ 0_1_p[(1, 1, 2)] ≤ 4\n",
      "\n"
     ]
    }
   ],
   "source": [
    "using JuMP\n",
    "\n",
    "m = Model()\n",
    "result = run_opf(data, DCPPowerModel, nlp_solver, jump_model=m)\n",
    "\n",
    "println(m)"
   ]
  },
  {
   "cell_type": "markdown",
   "metadata": {},
   "source": [
    "### Computing Optimality Gaps\n",
    "\n",
    "Getting back to the question of AC-OPF solution quality.  An easy way to certify AC-OPF solution quality is to use a convex-relaxation to compute a lower bound.  If the \"gap\" between the solution and the lower bound is small we are happy.\n",
    "\n",
    "Let build a helper function for computing optimality gaps."
   ]
  },
  {
   "cell_type": "code",
   "execution_count": 19,
   "metadata": {},
   "outputs": [
    {
     "data": {
      "text/plain": [
       "soc_gap (generic function with 1 method)"
      ]
     },
     "execution_count": 19,
     "metadata": {},
     "output_type": "execute_result"
    }
   ],
   "source": [
    "function soc_gap(data_file, nlp_solver)\n",
    "    data = PowerModels.parse_file(data_file)\n",
    "    ac_result = run_opf(data, ACPPowerModel, nlp_solver)\n",
    "    soc_result = run_opf(data, SOCWRPowerModel, nlp_solver)\n",
    "    \n",
    "    # it is important to check the solver terminated nominally!\n",
    "    @assert  ac_result[\"status\"] == :Optimal ||  ac_result[\"status\"] == :LocalOptimal\n",
    "    @assert soc_result[\"status\"] == :Optimal || soc_result[\"status\"] == :LocalOptimal\n",
    "    \n",
    "    # by convention optimality gaps are given as a percentage\n",
    "    gap = 100*(ac_result[\"objective\"] - soc_result[\"objective\"])/ac_result[\"objective\"]\n",
    "    \n",
    "    return (gap=gap, ub_time=ac_result[\"solve_time\"], lb_time=soc_result[\"solve_time\"]) \n",
    "end"
   ]
  },
  {
   "cell_type": "code",
   "execution_count": 20,
   "metadata": {},
   "outputs": [
    {
     "data": {
      "text/plain": [
       "(gap = 14.540746218458999, ub_time = 0.019286024, lb_time = 0.025523464)"
      ]
     },
     "execution_count": 20,
     "metadata": {},
     "output_type": "execute_result"
    }
   ],
   "source": [
    "soc_gap(\"data/pglib_opf_case5_pjm.m\", nlp_solver)"
   ]
  },
  {
   "cell_type": "markdown",
   "metadata": {},
   "source": [
    "A 14% gap, that's HUGE!  It is not clear if the AC-OPF solutoin is optimal or not.  Clearly this case requires more study.\n",
    "\n",
    "In the mean time, try the `soc_gap` function on a few more of the network cases included with this tutorial.  Available datasets are `pglib_opf_case14_ieee.m`, `pglib_opf_case30_ieee.m`, `pglib_opf_case73_ieee_rts.m`, `pglib_opf_case118_ieee.m`, `pglib_opf_case200_tamu.m`, `pglib_opf_case500_tamu.m`, `pglib_opf_case1354_pegase.m`, `pglib_opf_case2383wp_k.m` (larger may take a few minutes to run).  The complete PGLib-OPF benchmark library with over 100 cases is available [here](https://github.com/power-grid-lib/pglib-opf)."
   ]
  },
  {
   "cell_type": "code",
   "execution_count": 21,
   "metadata": {},
   "outputs": [
    {
     "data": {
      "text/plain": [
       "(gap = 0.10909416417088194, ub_time = 0.036981832, lb_time = 0.027105066)"
      ]
     },
     "execution_count": 21,
     "metadata": {},
     "output_type": "execute_result"
    }
   ],
   "source": [
    "soc_gap(\"data/pglib_opf_case14_ieee.m\", nlp_solver)"
   ]
  },
  {
   "cell_type": "markdown",
   "metadata": {},
   "source": [
    "#### Discussion Point\n",
    "\n",
    "Can you draw any conclusions from computing optimality gaps on a variety of cases?\n"
   ]
  },
  {
   "cell_type": "markdown",
   "metadata": {},
   "source": [
    "### A Simple Contingency Study\n",
    "\n",
    "Component `status` parameters can be useful for exploring a variety of component failure scenarios.  Lets use it to do a simple generator N-1 study on the 5-bus example.\n"
   ]
  },
  {
   "cell_type": "code",
   "execution_count": 22,
   "metadata": {},
   "outputs": [
    {
     "data": {
      "text/plain": [
       "single_generator_loss (generic function with 1 method)"
      ]
     },
     "execution_count": 22,
     "metadata": {},
     "output_type": "execute_result"
    }
   ],
   "source": [
    "function single_generator_loss(data_file, nlp_solver)\n",
    "    data = PowerModels.parse_file(data_file)\n",
    "    \n",
    "    result = run_opf(data, ACPPowerModel, nlp_solver)\n",
    "\n",
    "    # it is important to check the solver terminated nominally!\n",
    "    @assert  result[\"status\"] == :Optimal || result[\"status\"] == :LocalOptimal\n",
    "\n",
    "    println(\"base cost: $(result[\"objective\"])\")\n",
    "    \n",
    "    for (i,gen) in sort(data[\"gen\"])\n",
    "        # remove the generator\n",
    "        gen[\"gen_status\"] = 0\n",
    "        \n",
    "        result = run_opf(data, ACPPowerModel, nlp_solver)\n",
    "        \n",
    "        println(\"gen $(i) out: $(result[\"objective\"]), $(result[\"status\"])\")\n",
    "\n",
    "        # restore the generator\n",
    "        gen[\"gen_status\"] = 1\n",
    "    end\n",
    "end"
   ]
  },
  {
   "cell_type": "code",
   "execution_count": 23,
   "metadata": {},
   "outputs": [
    {
     "name": "stdout",
     "output_type": "stream",
     "text": [
      "base cost: 17551.890899394704\n",
      "gen 1 out: 17680.162671442777, LocalOptimal\n",
      "gen 2 out: 17929.212321096078, LocalOptimal\n",
      "gen 3 out: 0, LocalInfeasible\n",
      "gen 4 out: 17553.565008204587, LocalOptimal\n"
     ]
    },
    {
     "name": "stderr",
     "output_type": "stream",
     "text": [
      "┌ Warning: Not solved to optimality, status: Infeasible\n",
      "└ @ JuMP /Users/carleton/.julia/packages/JuMP/PbnIJ/src/nlp.jl:1283\n"
     ]
    },
    {
     "name": "stdout",
     "output_type": "stream",
     "text": [
      "gen 5 out: 0, LocalInfeasible\n"
     ]
    },
    {
     "name": "stderr",
     "output_type": "stream",
     "text": [
      "┌ Warning: Not solved to optimality, status: Infeasible\n",
      "└ @ JuMP /Users/carleton/.julia/packages/JuMP/PbnIJ/src/nlp.jl:1283\n"
     ]
    }
   ],
   "source": [
    "single_generator_loss(\"data/pglib_opf_case5_pjm.m\", nlp_solver)"
   ]
  },
  {
   "cell_type": "markdown",
   "metadata": {},
   "source": [
    "This simple study seems to suggest that this network is not N-1 secure and cannot support the loss of generator 3 or 5.  Let's compute how much these two generators contribute to the total generation capacity in the data set."
   ]
  },
  {
   "cell_type": "code",
   "execution_count": 24,
   "metadata": {},
   "outputs": [
    {
     "data": {
      "text/plain": [
       "15.3"
      ]
     },
     "execution_count": 24,
     "metadata": {},
     "output_type": "execute_result"
    }
   ],
   "source": [
    "pg_capacity = sum(gen[\"pmax\"] for (i,gen) in data[\"gen\"])"
   ]
  },
  {
   "cell_type": "code",
   "execution_count": 25,
   "metadata": {},
   "outputs": [
    {
     "data": {
      "text/plain": [
       "33.98692810457516"
      ]
     },
     "execution_count": 25,
     "metadata": {},
     "output_type": "execute_result"
    }
   ],
   "source": [
    "100*data[\"gen\"][\"3\"][\"pmax\"]/pg_capacity"
   ]
  },
  {
   "cell_type": "code",
   "execution_count": 26,
   "metadata": {},
   "outputs": [
    {
     "data": {
      "text/plain": [
       "39.2156862745098"
      ]
     },
     "execution_count": 26,
     "metadata": {},
     "output_type": "execute_result"
    }
   ],
   "source": [
    "100*data[\"gen\"][\"5\"][\"pmax\"]/pg_capacity"
   ]
  },
  {
   "cell_type": "markdown",
   "metadata": {},
   "source": [
    "It seems reasonable that losing over 30% of the total generating capacity would be problematic."
   ]
  },
  {
   "cell_type": "markdown",
   "metadata": {},
   "source": [
    "### Solving Optimal Transmission Switching (OTS)\n",
    "\n",
    "Because InfrastructureModels is built on JuMP, is it fairly easy to encode challenging mixed integer nonlinear optimization problems.  Solving these problems however presents additional challenges.\n",
    "\n",
    "Lets consider the OTS problem.  An extension of OPF where branches can be removed from the network (i.e. a binary decion).  Lets try solving OPF and OTS on the 5-bus example.  Because the OTS problem has discrete variables we will need to use a MIP solver for that one."
   ]
  },
  {
   "cell_type": "code",
   "execution_count": 27,
   "metadata": {},
   "outputs": [
    {
     "data": {
      "text/plain": [
       "Dict{String,Any} with 8 entries:\n",
       "  \"solve_time\"   => 0.0120234\n",
       "  \"status\"       => :Optimal\n",
       "  \"objective\"    => 17479.9\n",
       "  \"solver\"       => \"GLPKMathProgInterface.GLPKInterfaceLP.GLPKSolverLP\"\n",
       "  \"solution\"     => Dict{String,Any}(\"baseMVA\"=>100.0,\"gen\"=>Dict{String,Any}(\"…\n",
       "  \"data\"         => Dict{String,Any}(\"name\"=>\"pglib_opf_case5_pjm\",\"bus_count\"=…\n",
       "  \"machine\"      => Dict(\"cpu\"=>\"Intel(R) Core(TM) i7-4870HQ CPU @ 2.50GHz\",\"me…\n",
       "  \"objective_lb\" => -Inf"
      ]
     },
     "execution_count": 27,
     "metadata": {},
     "output_type": "execute_result"
    }
   ],
   "source": [
    "data = PowerModels.parse_file(\"data/pglib_opf_case5_pjm.m\")\n",
    "\n",
    "opf_result = run_opf(data, DCPPowerModel, lp_solver)"
   ]
  },
  {
   "cell_type": "code",
   "execution_count": 28,
   "metadata": {},
   "outputs": [
    {
     "data": {
      "text/plain": [
       "Dict{String,Any} with 8 entries:\n",
       "  \"solve_time\"   => 0.279565\n",
       "  \"status\"       => :Optimal\n",
       "  \"objective\"    => 14991.2\n",
       "  \"solver\"       => \"GLPKMathProgInterface.GLPKInterfaceMIP.GLPKSolverMIP\"\n",
       "  \"solution\"     => Dict{String,Any}(\"baseMVA\"=>100.0,\"gen\"=>Dict{String,Any}(\"…\n",
       "  \"data\"         => Dict{String,Any}(\"name\"=>\"pglib_opf_case5_pjm\",\"bus_count\"=…\n",
       "  \"machine\"      => Dict(\"cpu\"=>\"Intel(R) Core(TM) i7-4870HQ CPU @ 2.50GHz\",\"me…\n",
       "  \"objective_lb\" => 14991.2"
      ]
     },
     "execution_count": 28,
     "metadata": {},
     "output_type": "execute_result"
    }
   ],
   "source": [
    "mip_solver = GLPKSolverMIP()\n",
    "\n",
    "ots_result = run_ots(data, DCPPowerModel, mip_solver)"
   ]
  },
  {
   "cell_type": "markdown",
   "metadata": {},
   "source": [
    "Look at those massive cost savings!!!  Lets look at the solution to see what happened."
   ]
  },
  {
   "cell_type": "code",
   "execution_count": 29,
   "metadata": {},
   "outputs": [
    {
     "name": "stdout",
     "output_type": "stream",
     "text": [
      "\u001b[1mMetadata\u001b[0m\n",
      "  baseMVA: 100.000\n",
      "  per_unit: true\n",
      "\n",
      "\u001b[1mTable Counts\u001b[0m\n",
      "  bus: 5\n",
      "  gen: 5\n",
      "  branch: 6\n",
      "\n",
      "\n",
      "\u001b[1mTable: bus\u001b[0m\n",
      "             va\n",
      "      1:  0.049\n",
      "      2: -0.064\n",
      "      3: -0.075\n",
      "      4: -0.000\n",
      "      5:  0.072\n",
      "\n",
      "  default values:\n",
      "    vm: 1\n",
      "\n",
      "\n",
      "\u001b[1mTable: gen\u001b[0m\n",
      "            pg\n",
      "      1: 0.400\n",
      "      2: 1.662\n",
      "      3: 2.000\n",
      "      4: 0.000\n",
      "      5: 5.938\n",
      "\n",
      "  default values:\n",
      "    qg: NaN0000\n",
      "\n",
      "\n",
      "\u001b[1mTable: branch\u001b[0m\n",
      "         br_status\n",
      "      1:     1.000\n",
      "      2:     1.000\n",
      "      3:     1.000\n",
      "      4:     1.000\n",
      "\u001b[38;5;239m      5:     0.000\u001b[0m\n",
      "      6:     1.000\n"
     ]
    }
   ],
   "source": [
    "PowerModels.print_summary(ots_result[\"solution\"])"
   ]
  },
  {
   "cell_type": "markdown",
   "metadata": {},
   "source": [
    "It seems that removing branch 5 from the network will remove congestion caused by Ohm's Law and yield the observed savings."
   ]
  },
  {
   "cell_type": "markdown",
   "metadata": {},
   "source": [
    "#### OTS Home Work\n",
    "\n",
    "Explore the AC-OTS problem on the 5-bus case.  Build the model with commands like `run_ots(data, ACPPowerModel, <solver>)` and `run_ots(data, SOCWRPowerModel, <solver>)`.  Use solvers like Juniper/Bonmin as heuristics to find upper bound solutions and solvers like Juniper/Pavito to find lower bounds.  Compare the gaps similar to how we did for the OPF probem."
   ]
  },
  {
   "cell_type": "markdown",
   "metadata": {},
   "source": [
    "### Other Topics\n",
    "\n",
    "PowerModels includes a variety of useful features that are outside the scope of this brief tutorial.  These features include,\n",
    "* Extracting Duals/LMPs from linear models using output options\n",
    "* Network models with HVDC lines or storage devices\n",
    "* Optimization Based Bound Tightening algorithms\n",
    "* Using mulitnetworks for time series analysis\n",
    "* Using multiconductors to model three phase networks (e.g. see [ThreePhasePowerModels](https://github.com/lanl-ansi/ThreePhasePowerModels.jl))\n",
    "* A variety of experimental features in [PowerModelsAnnex](https://github.com/lanl-ansi/PowerModelsAnnex.jl)"
   ]
  },
  {
   "cell_type": "code",
   "execution_count": null,
   "metadata": {},
   "outputs": [],
   "source": []
  }
 ],
 "metadata": {
  "kernelspec": {
   "display_name": "Julia 1.0.2",
   "language": "julia",
   "name": "julia-1.0"
  },
  "language_info": {
   "file_extension": ".jl",
   "mimetype": "application/julia",
   "name": "julia",
   "version": "1.0.2"
  }
 },
 "nbformat": 4,
 "nbformat_minor": 2
}
