{
 "cells": [
  {
   "cell_type": "markdown",
   "metadata": {},
   "source": [
    "# Class IV - An introduction to GasModels.jl\n",
    "\n",
    "*Los Alamos National Laboratory Grid Science Winter School, 2019*\n",
    "\n",
    "Welcome! This tutorial will introduce you to the basics of the [GasModels.jl](https://github.com/lanl-ansi/GasModels.jl) package. If you haven't yet, work through [Class I - An introduction  to Julia](Class%20I%20-%20An%20introduction%20to%20Julia.ipynb) and [Class II - An introduction  to JuMP](Class%20II%20-%20An%20introduction%20to%20JuMP.ipynb) first.\n",
    "\n",
    "As in Class II, run the following magic sauce to check we're good to go."
   ]
  },
  {
   "cell_type": "code",
   "execution_count": 1,
   "metadata": {},
   "outputs": [
    {
     "name": "stdout",
     "output_type": "stream",
     "text": [
      "\u001b[32m\u001b[1m  Updating\u001b[22m\u001b[39m registry at `~/.julia/registries/General`\n",
      "\u001b[32m\u001b[1m  Updating\u001b[22m\u001b[39m git-repo `https://github.com/JuliaRegistries/General.git`\n",
      "\u001b[2K\u001b[?25h[1mFetching:\u001b[22m\u001b[39m [========================================>]  100.0 %.0 %\u001b[32m\u001b[1m Installed\u001b[22m\u001b[39m Widgets ─────────────── v0.4.4\n",
      "\u001b[32m\u001b[1m Installed\u001b[22m\u001b[39m Measures ────────────── v0.3.0\n",
      "\u001b[32m\u001b[1m Installed\u001b[22m\u001b[39m RecipesBase ─────────── v0.6.0\n",
      "\u001b[32m\u001b[1m Installed\u001b[22m\u001b[39m Requires ────────────── v0.5.2\n",
      "\u001b[32m\u001b[1m Installed\u001b[22m\u001b[39m InteractBulma ───────── v0.4.2\n",
      "\u001b[32m\u001b[1m Installed\u001b[22m\u001b[39m Pidfile ─────────────── v1.1.0\n",
      "\u001b[32m\u001b[1m Installed\u001b[22m\u001b[39m Interact ────────────── v0.9.0\n",
      "\u001b[32m\u001b[1m Installed\u001b[22m\u001b[39m GLPK ────────────────── v0.9.1\n",
      "\u001b[32m\u001b[1m Installed\u001b[22m\u001b[39m CSSUtil ─────────────── v0.1.0\n",
      "\u001b[32m\u001b[1m Installed\u001b[22m\u001b[39m FixedPointNumbers ───── v0.5.3\n",
      "\u001b[32m\u001b[1m Installed\u001b[22m\u001b[39m Showoff ─────────────── v0.2.1\n",
      "\u001b[32m\u001b[1m Installed\u001b[22m\u001b[39m PlotThemes ──────────── v0.3.0\n",
      "\u001b[32m\u001b[1m Installed\u001b[22m\u001b[39m FunctionalCollections ─ v0.5.0\n",
      "\u001b[32m\u001b[1m Installed\u001b[22m\u001b[39m LinQuadOptInterface ─── v0.6.0\n",
      "\u001b[32m\u001b[1m Installed\u001b[22m\u001b[39m ColorTypes ──────────── v0.7.5\n",
      "\u001b[32m\u001b[1m Installed\u001b[22m\u001b[39m AssetRegistry ───────── v0.1.0\n",
      "\u001b[32m\u001b[1m Installed\u001b[22m\u001b[39m GR ──────────────────── v0.36.0\n",
      "\u001b[32m\u001b[1m Installed\u001b[22m\u001b[39m Reexport ────────────── v0.2.0\n",
      "\u001b[32m\u001b[1m Installed\u001b[22m\u001b[39m PlotUtils ───────────── v0.5.5\n",
      "\u001b[32m\u001b[1m Installed\u001b[22m\u001b[39m Plots ───────────────── v0.22.1\n",
      "\u001b[32m\u001b[1m Installed\u001b[22m\u001b[39m IJulia ──────────────── v1.14.1\n",
      "\u001b[32m\u001b[1m Installed\u001b[22m\u001b[39m Contour ─────────────── v0.5.1\n",
      "\u001b[32m\u001b[1m Installed\u001b[22m\u001b[39m MathOptInterface ────── v0.8.0\n",
      "\u001b[32m\u001b[1m Installed\u001b[22m\u001b[39m Observables ─────────── v0.2.3\n",
      "\u001b[32m\u001b[1m Installed\u001b[22m\u001b[39m InteractBase ────────── v0.8.2\n",
      "\u001b[32m\u001b[1m Installed\u001b[22m\u001b[39m JSExpr ──────────────── v0.5.0\n",
      "\u001b[32m\u001b[1m Installed\u001b[22m\u001b[39m Knockout ────────────── v0.2.0\n",
      "\u001b[32m\u001b[1m Installed\u001b[22m\u001b[39m Ipopt ───────────────── v0.5.0\n",
      "\u001b[32m\u001b[1m Installed\u001b[22m\u001b[39m MacroTools ──────────── v0.4.4\n",
      "\u001b[32m\u001b[1m Installed\u001b[22m\u001b[39m WebIO ───────────────── v0.7.0\n",
      "\u001b[32m\u001b[1m Installed\u001b[22m\u001b[39m Colors ──────────────── v0.9.5\n",
      "\u001b[32m\u001b[1m  Building\u001b[22m\u001b[39m GLPK ─────────→ `~/.julia/packages/GLPK/rw631/deps/build.log`\n",
      "\u001b[32m\u001b[1m  Building\u001b[22m\u001b[39m WebIO ────────→ `~/.julia/packages/WebIO/Rk8wc/deps/build.log`\n",
      "\u001b[32m\u001b[1m  Building\u001b[22m\u001b[39m Knockout ─────→ `~/.julia/packages/Knockout/JIqpG/deps/build.log`\n",
      "\u001b[32m\u001b[1m  Building\u001b[22m\u001b[39m InteractBase ─→ `~/.julia/packages/InteractBase/3SqBl/deps/build.log`\n",
      "\u001b[32m\u001b[1m  Building\u001b[22m\u001b[39m InteractBulma → `~/.julia/packages/InteractBulma/Ohu5Y/deps/build.log`\n",
      "\u001b[32m\u001b[1m  Building\u001b[22m\u001b[39m GR ───────────→ `~/.julia/packages/GR/wFd9A/deps/build.log`\n",
      "\u001b[32m\u001b[1m  Building\u001b[22m\u001b[39m IJulia ───────→ `~/.julia/packages/IJulia/DL02A/deps/build.log`\n",
      "\u001b[32m\u001b[1m  Building\u001b[22m\u001b[39m Plots ────────→ `~/.julia/packages/Plots/cDXot/deps/build.log`\n",
      "\u001b[32m\u001b[1m  Building\u001b[22m\u001b[39m Ipopt ────────→ `~/.julia/packages/Ipopt/OLtKb/deps/build.log`\n",
      "Excellent! Everything is good to go!\n"
     ]
    }
   ],
   "source": [
    "import Pkg\n",
    "Pkg.activate(@__DIR__)\n",
    "Pkg.instantiate()\n",
    "println(\"Excellent! Everything is good to go!\")"
   ]
  },
  {
   "cell_type": "markdown",
   "metadata": {},
   "source": [
    "### Background \n",
    "\n",
    "This [presentation](https://github.com/lanl-ansi/tutorial-grid-science-2019/blob/master/assets/infrastructure_optimization_in_julia.pdf) provides motivation and context for this notebook.\n",
    "\n",
    "Some additional informaiton is also available at,\n",
    "* [GasModels Documentation](https://lanl-ansi.github.io/GasModels.jl/stable/)\n"
   ]
  },
  {
   "cell_type": "markdown",
   "metadata": {},
   "source": [
    "### Working with the Network Model\n",
    "\n",
    "Two 40-node gas network models are provided with this tutorial.  The MATLAB-like input data files can be viewed [here](http://localhost:8888/edit/data/gaslib40.m) and [here](http://localhost:8888/edit/data/gaslib40-ls.m).\n",
    "\n",
    "Similar to PowerModels, the `parse_file` function from GasModels is used to load a text files into the GasModels data model, "
   ]
  },
  {
   "cell_type": "code",
   "execution_count": 2,
   "metadata": {},
   "outputs": [
    {
     "name": "stdout",
     "output_type": "stream",
     "text": [
      "\u001b[35m[warn | InfrastructureModels]: Matlab parser skipping the following line:\u001b[39m\n",
      "\u001b[35m  end\u001b[39m\n"
     ]
    },
    {
     "name": "stderr",
     "output_type": "stream",
     "text": [
      "┌ Warning: no case version found in .m file.  The file seems to be missing \"mgc.version = ...\"\n",
      "└ @ GasModels /Users/kaarthiksundar/.julia/packages/GasModels/edHge/src/io/matlab.jl:111\n"
     ]
    },
    {
     "data": {
      "text/plain": [
       "Dict{String,Any} with 19 entries:\n",
       "  \"gas_specific_gravity\"         => 0.6\n",
       "  \"temperature\"                  => 273.15\n",
       "  \"source_type\"                  => \".m\"\n",
       "  \"name\"                         => \"gaslib40\"\n",
       "  \"source_version\"               => \"0.0.0+\"\n",
       "  \"multinetwork\"                 => false\n",
       "  \"gas_molar_mass\"               => 0.0185674\n",
       "  \"consumer\"                     => Dict{String,Any}(\"24\"=>Dict{String,Any}(\"ql…\n",
       "  \"standard_density\"             => 1.0\n",
       "  \"baseQ\"                        => 604.167\n",
       "  \"compressibility_factor\"       => 0.8\n",
       "  \"specific_heat_capacity_ratio\" => 1.4\n",
       "  \"producer\"                     => Dict{String,Any}(\"1\"=>Dict{String,Any}(\"qgm…\n",
       "  \"per_unit\"                     => true\n",
       "  \"junction\"                     => Dict{String,Any}(\"32\"=>Dict{String,Any}(\"ju…\n",
       "  \"baseP\"                        => 8101325\n",
       "  \"sound_speed\"                  => 312.805\n",
       "  \"R\"                            => 8.314\n",
       "  \"connection\"                   => Dict{String,Any}(\"32\"=>Dict{String,Any}(\"le…"
      ]
     },
     "execution_count": 2,
     "metadata": {},
     "output_type": "execute_result"
    }
   ],
   "source": [
    "using GasModels\n",
    "\n",
    "data = GasModels.parse_file(\"data/gaslib40.m\")"
   ]
  },
  {
   "cell_type": "markdown",
   "metadata": {},
   "source": [
    "In this case the file parser generated a warning messages.  \n",
    "\n",
    "The second warning block message indicates that the data file did not have any version information. Still the parser will load this data.\n",
    "\n",
    "Now, lets look at some of the network data.  The data for the first bus, load and branch can be viewed as follows,"
   ]
  },
  {
   "cell_type": "code",
   "execution_count": 3,
   "metadata": {},
   "outputs": [
    {
     "data": {
      "text/plain": [
       "Dict{String,Any} with 8 entries:\n",
       "  \"length\"          => 76893.6\n",
       "  \"f_junction\"      => 32\n",
       "  \"friction_factor\" => 0.0074\n",
       "  \"status\"          => 1\n",
       "  \"t_junction\"      => 18\n",
       "  \"diameter\"        => 0.8\n",
       "  \"type\"            => \"pipe\"\n",
       "  \"index\"           => 1"
      ]
     },
     "execution_count": 3,
     "metadata": {},
     "output_type": "execute_result"
    }
   ],
   "source": [
    "data[\"connection\"][\"1\"]"
   ]
  },
  {
   "cell_type": "code",
   "execution_count": 4,
   "metadata": {},
   "outputs": [
    {
     "data": {
      "text/plain": [
       "Dict{String,Any} with 10 entries:\n",
       "  \"c_ratio_max\" => 5.0\n",
       "  \"f_junction\"  => 33\n",
       "  \"qmax\"        => 700.0\n",
       "  \"status\"      => 1\n",
       "  \"t_junction\"  => 100021\n",
       "  \"c_ratio_min\" => 1.0\n",
       "  \"power_max\"   => 3500.0\n",
       "  \"qmin\"        => 0.0\n",
       "  \"type\"        => \"compressor\"\n",
       "  \"index\"       => 100000"
      ]
     },
     "execution_count": 4,
     "metadata": {},
     "output_type": "execute_result"
    }
   ],
   "source": [
    "data[\"connection\"][\"100000\"]"
   ]
  },
  {
   "cell_type": "markdown",
   "metadata": {},
   "source": [
    "Here, connection can either be of type \"pipe\" in which case it has a length, diameter, and friction_factor associated with it or can be a compressor with a different set of fields as shown above. "
   ]
  },
  {
   "cell_type": "code",
   "execution_count": 5,
   "metadata": {},
   "outputs": [
    {
     "data": {
      "text/plain": [
       "Dict{String,Any} with 7 entries:\n",
       "  \"junction_type\" => 0\n",
       "  \"status\"        => 1\n",
       "  \"junction_i\"    => 1\n",
       "  \"pmax\"          => 1.0\n",
       "  \"p_nominal\"     => 3.10133e6\n",
       "  \"pmin\"          => 0.382817\n",
       "  \"index\"         => 1"
      ]
     },
     "execution_count": 5,
     "metadata": {},
     "output_type": "execute_result"
    }
   ],
   "source": [
    "data[\"junction\"][\"1\"]"
   ]
  },
  {
   "cell_type": "markdown",
   "metadata": {},
   "source": [
    "That's great, but looking at components one-by-one can get boring fast.\n",
    "\n",
    "All InfrastructureModels packages provide a `print_summary` function that prints a table-like summary of the network data to the terminal."
   ]
  },
  {
   "cell_type": "code",
   "execution_count": 6,
   "metadata": {},
   "outputs": [
    {
     "name": "stdout",
     "output_type": "stream",
     "text": [
      "\u001b[1mMetadata\u001b[0m\n",
      "  R: 8.314\n",
      "  baseP: 8101325\n",
      "  baseQ: 604.167\n",
      "  compressibility_factor: 0.800\n",
      "  gas_molar_mass: 0.019\n",
      "  gas_specific_gravity: 0.600\n",
      "  multinetwork: false\n",
      "  name: gaslib40\n",
      "  per_unit: true\n",
      "  sound_speed: 312.805\n",
      "  source_type: .m\n",
      "  source_version: 0.0.0+\n",
      "  specific_heat_capacity_ratio: 1.400\n",
      "  standard_density: 1.000\n",
      "  temperature: 273.150\n",
      "\n",
      "\u001b[1mTable Counts\u001b[0m\n",
      "  junction: 46\n",
      "  connection: 51\n",
      "  producer: 3\n",
      "  consumer: 29\n",
      "\n",
      "\n",
      "\u001b[1mTable: junction\u001b[0m\n",
      "          junction_i,  pmin,  pmax,  p_nominal\n",
      "       0:          0, 0.013, 1.000, 101325.000\n",
      "       1:          1, 0.383, 1.000, 3.101325e6\n",
      "       2:          2, 0.383, 1.000, 3.101325e6\n",
      "       3:          3, 0.013, 1.000, 101325.000\n",
      "       4:          4, 0.013, 1.000, 101325.000\n",
      "       5:          5, 0.383, 1.000, 3.101325e6\n",
      "       6:          6, 0.013, 1.000, 101325.000\n",
      "       7:          7, 0.013, 1.000, 101325.000\n",
      "       8:          8, 0.013, 1.000, 101325.000\n",
      "       9:          9, 0.013, 1.000, 101325.000\n",
      "      10:         10, 0.013, 1.000, 101325.000\n",
      "      11:         11, 0.013, 1.000, 101325.000\n",
      "      12:         12, 0.013, 1.000, 101325.000\n",
      "      13:         13, 0.383, 1.000, 3.101325e6\n",
      "      14:         14, 0.013, 1.000, 101325.000\n",
      "      15:         15, 0.013, 1.000, 101325.000\n",
      "      16:         16, 0.013, 1.000, 101325.000\n",
      "      17:         17, 0.013, 1.000, 101325.000\n",
      "      18:         18, 0.013, 1.000, 101325.000\n",
      "      19:         19, 0.013, 1.000, 101325.000\n",
      "      20:         20, 0.013, 1.000, 101325.000\n",
      "      21:         21, 0.383, 1.000, 3.101325e6\n",
      "      22:         22, 0.013, 1.000, 101325.000\n",
      "      23:         23, 0.013, 1.000, 101325.000\n",
      "      24:         24, 0.013, 1.000, 101325.000\n",
      "      25:         25, 0.013, 1.000, 101325.000\n",
      "      26:         26, 0.013, 1.000, 101325.000\n",
      "      27:         27, 0.013, 0.877, 101325.000\n",
      "      28:         28, 0.013, 1.000, 101325.000\n",
      "      29:         29, 0.013, 1.000, 101325.000\n",
      "      30:         30, 0.013, 1.000, 101325.000\n",
      "      31:         31, 0.013, 1.000, 101325.000\n",
      "      32:         32, 0.013, 0.877, 101325.000\n",
      "      33:         33, 0.013, 0.877, 101325.000\n",
      "      34:         34, 0.013, 1.000, 101325.000\n",
      "      35:         35, 0.013, 0.877, 101325.000\n",
      "      36:         36, 0.013, 1.000, 101325.000\n",
      "      37:         37, 0.383, 1.000, 3.101325e6\n",
      "      38:         38, 0.013, 0.877, 101325.000\n",
      "      39:         39, 0.013, 0.877, 101325.000\n",
      "  100021:     100021, 0.013, 1.000, 101325.000\n",
      "  200002:     200002, 0.013, 1.000, 101325.000\n",
      "  300001:     300001, 0.013, 1.000, 101325.000\n",
      "  400037:     400037, 0.013, 1.000, 101325.000\n",
      "  500005:     500005, 0.013, 1.000, 101325.000\n",
      "  600013:     600013, 0.013, 1.000, 101325.000\n",
      "\n",
      "  default values:\n",
      "    junction_type: 0\n",
      "    status: 1\n",
      "\n",
      "\n",
      "\u001b[1mTable: connection\u001b[0m\n",
      "                type, f_junction, t_junction,    length, diameter, friction_factor\n",
      "       0:       pipe,          0,          5, 13071.085,    1.000,           0.007\n",
      "       1:       pipe,         32,         18, 76893.551,    0.800,           0.007\n",
      "       2:       pipe,         37,         15, 21557.566,    1.000,           0.007\n",
      "       3:       pipe,         15,         16,  6998.054,    1.000,           0.007\n",
      "       4:       pipe,         16,         12, 58218.970,    0.800,           0.007\n",
      "       5:       pipe,         27,         28, 86690.266,    0.800,           0.007\n",
      "       6:       pipe,         28,         11, 16579.326,    0.600,           0.008\n",
      "       7:       pipe,         11,         20, 10022.783,    0.600,           0.008\n",
      "       8:       pipe,         28,          6, 35218.839,    0.600,           0.008\n",
      "       9:       pipe,          6,         22, 20322.205,    0.600,           0.008\n",
      "      10:       pipe,         20,          8, 32868.202,    0.800,           0.007\n",
      "      11:       pipe,         27,         39, 47488.284,    0.800,           0.007\n",
      "      12:       pipe,          8,          9,  3802.587,    0.600,           0.008\n",
      "      13:       pipe,          8,         24, 39036.042,    0.800,           0.007\n",
      "      14:       pipe,          9,         26, 38659.824,    0.400,           0.008\n",
      "      15:       pipe,         24,          3, 18017.850,    0.600,           0.008\n",
      "      16:       pipe,         26,         23,  3067.547,    0.600,           0.008\n",
      "      17:       pipe,         23,         14, 12015.875,    0.400,           0.008\n",
      "      18:       pipe,          9,          7, 14043.114,    0.400,           0.008\n",
      "      19:       pipe,          7,         19, 20634.698,    0.600,           0.008\n",
      "      20:       pipe,         19,          6, 10586.130,    0.600,           0.008\n",
      "      21:       pipe,         19,         10, 10452.031,    0.600,           0.008\n",
      "      22:       pipe,          5,         25, 12397.352,    0.800,           0.007\n",
      "      23:       pipe,         10,         22, 19303.192,    0.600,           0.008\n",
      "      24:       pipe,         27,         22, 66036.595,    0.600,           0.008\n",
      "      25:       pipe,         27,         17, 18969.413,    1.000,           0.007\n",
      "      26:       pipe,         17,         31, 36061.010,    0.800,           0.007\n",
      "      27:       pipe,         31,         30, 22224.153,    0.800,           0.007\n",
      "      28:       pipe,         31,          4, 31179.619,    0.800,           0.007\n",
      "      29:       pipe,          4,         17, 12766.703,    1.000,           0.007\n",
      "      30:       pipe,         31,         38, 32921.260,    0.800,           0.007\n",
      "      31:       pipe,         35,         21, 49866.148,    0.800,           0.007\n",
      "      32:       pipe,         21,         34,  3479.455,    0.800,           0.007\n",
      "      33:       pipe,         35,         36,  3418.008,    1.000,           0.007\n",
      "      34:       pipe,         29,         36, 32449.372,    1.000,           0.007\n",
      "      35:       pipe,         29,         21, 26427.482,    0.800,           0.007\n",
      "      36:       pipe,         12,         13, 18136.597,    1.000,           0.007\n",
      "      37:       pipe,         12,         33, 65057.174,    0.800,           0.007\n",
      "      38:       pipe,         12,         34, 65532.213,    0.800,           0.007\n",
      "      39: compressor,         37,     400037,        --,       --,              --\n",
      "      40: compressor,         13,     600013,        --,       --,              --\n",
      "      41: compressor,         21,     100021,        --,       --,              --\n",
      "      42: compressor,          2,     200002,        --,       --,              --\n",
      "      43: compressor,          1,     300001,        --,       --,              --\n",
      "      44: compressor,          5,     500005,        --,       --,              --\n",
      "  100000: compressor,         33,     100021,        --,       --,              --\n",
      "  100001: compressor,         35,     200002,        --,       --,              --\n",
      "  100002: compressor,         38,     300001,        --,       --,              --\n",
      "  100003: compressor,         27,     400037,        --,       --,              --\n",
      "  100004: compressor,         39,     500005,        --,       --,              --\n",
      "  100005: compressor,         32,     600013,        --,       --,              --\n",
      "\n",
      "  default values:\n",
      "    qmin: 0.000\n",
      "    qmax: 700.000\n",
      "    c_ratio_min: 1.000\n",
      "    c_ratio_max: 5.000\n",
      "    power_max: 3500.000\n",
      "    status: 1\n",
      "\n",
      "\n",
      "\u001b[1mTable: producer\u001b[0m\n",
      "         producer_i, junction, qg_junc\n",
      "      0:          0,        0,       0\n",
      "      1:          1,        1,       1\n",
      "      2:          2,        2,       2\n",
      "\n",
      "  default values:\n",
      "    qgfirm: 0.333\n",
      "    qgmin: 0.000\n",
      "    qgmax: 0.000\n",
      "    status: 1\n",
      "\n",
      "\n",
      "\u001b[1mTable: consumer\u001b[0m\n",
      "         consumer_i, junction, ql_junc\n",
      "      3:          3,        3,       3\n",
      "      4:          4,        4,       4\n",
      "      5:          5,        5,       5\n",
      "      6:          6,        6,       6\n",
      "      7:          7,        7,       7\n",
      "      8:          8,        8,       8\n",
      "      9:          9,        9,       9\n",
      "     10:         10,       10,      10\n",
      "     11:         11,       11,      11\n",
      "     12:         12,       12,      12\n",
      "     13:         13,       13,      13\n",
      "     14:         14,       14,      14\n",
      "     15:         15,       15,      15\n",
      "     16:         16,       16,      16\n",
      "     17:         17,       17,      17\n",
      "     18:         18,       18,      18\n",
      "     19:         19,       19,      19\n",
      "     20:         20,       20,      20\n",
      "     21:         21,       21,      21\n",
      "     22:         22,       22,      22\n",
      "     23:         23,       23,      23\n",
      "     24:         24,       24,      24\n",
      "     25:         25,       25,      25\n",
      "     26:         26,       26,      26\n",
      "     27:         27,       27,      27\n",
      "     28:         28,       28,      28\n",
      "     29:         29,       29,      29\n",
      "     30:         30,       30,      30\n",
      "     31:         31,       31,      31\n",
      "\n",
      "  default values:\n",
      "    qlfirm: 0.034\n",
      "    qlmin: 0.000\n",
      "    qlmax: 0.000\n",
      "    status: 1.000\n"
     ]
    }
   ],
   "source": [
    "GasModels.print_summary(data)"
   ]
  },
  {
   "cell_type": "markdown",
   "metadata": {},
   "source": [
    "Dictionary comprehensions also provide an easy way to take slices of the data.\n",
    "\n",
    "For example lets inspect the generation profile and output capabilities using comprehensions."
   ]
  },
  {
   "cell_type": "code",
   "execution_count": 8,
   "metadata": {},
   "outputs": [
    {
     "data": {
      "text/plain": [
       "5-element Array{Float64,1}:\n",
       " 1.0 \n",
       " 0.2 \n",
       " 3.0 \n",
       " 0.85\n",
       " 2.6 "
      ]
     },
     "execution_count": 8,
     "metadata": {},
     "output_type": "execute_result"
    }
   ],
   "source": [
    "[gen[\"pg\"] for (i,gen) in data[\"gen\"]]"
   ]
  },
  {
   "cell_type": "code",
   "execution_count": 9,
   "metadata": {},
   "outputs": [
    {
     "data": {
      "text/plain": [
       "5-element Array{Complex{Float64},1}:\n",
       "  1.0 + 0.0im\n",
       "  0.2 + 0.0im\n",
       "  3.0 + 0.0im\n",
       " 0.85 + 0.0im\n",
       "  2.6 + 0.0im"
      ]
     },
     "execution_count": 9,
     "metadata": {},
     "output_type": "execute_result"
    }
   ],
   "source": [
    "[gen[\"pg\"] + gen[\"qg\"]im for (i,gen) in data[\"gen\"]]"
   ]
  },
  {
   "cell_type": "code",
   "execution_count": 10,
   "metadata": {},
   "outputs": [
    {
     "data": {
      "text/plain": [
       "5-element Array{Tuple{Float64,Float64},1}:\n",
       " (-1.5, 1.5)    \n",
       " (-0.3, 0.3)    \n",
       " (-4.5, 4.5)    \n",
       " (-1.275, 1.275)\n",
       " (-3.9, 3.9)    "
      ]
     },
     "execution_count": 10,
     "metadata": {},
     "output_type": "execute_result"
    }
   ],
   "source": [
    "[(gen[\"qmin\"], gen[\"qmax\"]) for (i,gen) in data[\"gen\"]]"
   ]
  },
  {
   "cell_type": "markdown",
   "metadata": {},
   "source": [
    "### Solving Optimal Power Flow (OPF)\n",
    "\n",
    "Before we can solve a power model, we need a solver.  Lets start with the simple linear programming solver GLPK and try to solve a DC OPF model."
   ]
  },
  {
   "cell_type": "code",
   "execution_count": 11,
   "metadata": {},
   "outputs": [
    {
     "data": {
      "text/plain": [
       "Dict{String,Any} with 8 entries:\n",
       "  \"solve_time\"   => 2.10108\n",
       "  \"status\"       => :Optimal\n",
       "  \"objective\"    => 17479.9\n",
       "  \"solver\"       => \"GLPKMathProgInterface.GLPKInterfaceLP.GLPKSolverLP\"\n",
       "  \"solution\"     => Dict{String,Any}(\"baseMVA\"=>100.0,\"gen\"=>Dict{String,Any}(\"…\n",
       "  \"data\"         => Dict{String,Any}(\"name\"=>\"pglib_opf_case5_pjm\",\"bus_count\"=…\n",
       "  \"machine\"      => Dict(\"cpu\"=>\"Intel(R) Core(TM) i7-4870HQ CPU @ 2.50GHz\",\"me…\n",
       "  \"objective_lb\" => -Inf"
      ]
     },
     "execution_count": 11,
     "metadata": {},
     "output_type": "execute_result"
    }
   ],
   "source": [
    "using GLPKMathProgInterface\n",
    "lp_solver = GLPKSolverLP()\n",
    "\n",
    "result = run_dc_opf(data, lp_solver)"
   ]
  },
  {
   "cell_type": "markdown",
   "metadata": {},
   "source": [
    "The result object contains a variety of useful information about the optimization problem solved, including the objective value and wall clock runtime.  Detailed documentation of the result dictionary is available [here](https://lanl-ansi.github.io/PowerModels.jl/stable/result-data/), however most interesting point is the `solution` data."
   ]
  },
  {
   "cell_type": "code",
   "execution_count": 12,
   "metadata": {},
   "outputs": [
    {
     "data": {
      "text/plain": [
       "Dict{String,Any} with 4 entries:\n",
       "  \"baseMVA\"  => 100.0\n",
       "  \"gen\"      => Dict{String,Any}(\"4\"=>Dict{String,Any}(\"qg\"=>NaN,\"pg\"=>0.0),\"1\"…\n",
       "  \"bus\"      => Dict{String,Any}(\"4\"=>Dict{String,Any}(\"va\"=>0.0,\"vm\"=>1),\"1\"=>…\n",
       "  \"per_unit\" => true"
      ]
     },
     "execution_count": 12,
     "metadata": {},
     "output_type": "execute_result"
    }
   ],
   "source": [
    "result[\"solution\"]"
   ]
  },
  {
   "cell_type": "markdown",
   "metadata": {},
   "source": [
    "Not every useful, lets try `print_summary`,"
   ]
  },
  {
   "cell_type": "code",
   "execution_count": 13,
   "metadata": {},
   "outputs": [
    {
     "name": "stdout",
     "output_type": "stream",
     "text": [
      "\u001b[1mMetadata\u001b[0m\n",
      "  baseMVA: 100.000\n",
      "  per_unit: true\n",
      "\n",
      "\u001b[1mTable Counts\u001b[0m\n",
      "  bus: 5\n",
      "  gen: 5\n",
      "\n",
      "\n",
      "\u001b[1mTable: bus\u001b[0m\n",
      "             va\n",
      "      1:  0.057\n",
      "      2: -0.014\n",
      "      3: -0.008\n",
      "      4:  0.000\n",
      "      5:  0.072\n",
      "\n",
      "  default values:\n",
      "    vm: 1\n",
      "\n",
      "\n",
      "\u001b[1mTable: gen\u001b[0m\n",
      "            pg\n",
      "      1: 0.400\n",
      "      2: 1.700\n",
      "      3: 3.235\n",
      "      4: 0.000\n",
      "      5: 4.665\n",
      "\n",
      "  default values:\n",
      "    qg: NaN0000\n"
     ]
    }
   ],
   "source": [
    "PowerModels.print_summary(result[\"solution\"])"
   ]
  },
  {
   "cell_type": "markdown",
   "metadata": {},
   "source": [
    "Looks great!  But `vm` and `qg` are missing...  On to AC OPF!"
   ]
  },
  {
   "cell_type": "code",
   "execution_count": 14,
   "metadata": {},
   "outputs": [
    {
     "ename": "MethodError",
     "evalue": "MethodError: no method matching NonlinearModel(::GLPKMathProgInterface.GLPKInterfaceLP.GLPKSolverLP)\nClosest candidates are:\n  NonlinearModel(!Matched::Int64) at /Users/carleton/.julia/packages/MathProgBase/rVlFR/src/SolverInterface/SolverInterface.jl:29\n  NonlinearModel() at /Users/carleton/.julia/packages/MathProgBase/rVlFR/src/SolverInterface/SolverInterface.jl:27",
     "output_type": "error",
     "traceback": [
      "MethodError: no method matching NonlinearModel(::GLPKMathProgInterface.GLPKInterfaceLP.GLPKSolverLP)\nClosest candidates are:\n  NonlinearModel(!Matched::Int64) at /Users/carleton/.julia/packages/MathProgBase/rVlFR/src/SolverInterface/SolverInterface.jl:29\n  NonlinearModel() at /Users/carleton/.julia/packages/MathProgBase/rVlFR/src/SolverInterface/SolverInterface.jl:27",
      "",
      "Stacktrace:",
      " [1] _buildInternalModel_nlp(::JuMP.Model, ::JuMP.ProblemTraits) at /Users/carleton/.julia/packages/JuMP/PbnIJ/src/nlp.jl:1242",
      " [2] #build#123(::Bool, ::Bool, ::JuMP.ProblemTraits, ::Function, ::JuMP.Model) at /Users/carleton/.julia/packages/JuMP/PbnIJ/src/solvers.jl:304",
      " [3] #build at ./none:0 [inlined]",
      " [4] #solve#120(::Bool, ::Bool, ::Bool, ::Base.Iterators.Pairs{Union{},Union{},Tuple{},NamedTuple{(),Tuple{}}}, ::Function, ::JuMP.Model) at /Users/carleton/.julia/packages/JuMP/PbnIJ/src/solvers.jl:168",
      " [5] solve at /Users/carleton/.julia/packages/JuMP/PbnIJ/src/solvers.jl:150 [inlined]",
      " [6] macro expansion at ./util.jl:289 [inlined]",
      " [7] solve(::GenericPowerModel{StandardACPForm}) at /Users/carleton/.julia/packages/PowerModels/pzt9u/src/core/base.jl:176",
      " [8] #solve_generic_model#138(::Function, ::Function, ::GenericPowerModel{StandardACPForm}, ::GLPKMathProgInterface.GLPKInterfaceLP.GLPKSolverLP) at /Users/carleton/.julia/packages/PowerModels/pzt9u/src/core/base.jl:234",
      " [9] #run_generic_model#135 at ./none:0 [inlined]",
      " [10] run_generic_model at /Users/carleton/.julia/packages/PowerModels/pzt9u/src/core/base.jl:195 [inlined]",
      " [11] #run_opf#575 at /Users/carleton/.julia/packages/PowerModels/pzt9u/src/prob/opf.jl:15 [inlined]",
      " [12] run_opf at /Users/carleton/.julia/packages/PowerModels/pzt9u/src/prob/opf.jl:15 [inlined]",
      " [13] #run_ac_opf#573 at /Users/carleton/.julia/packages/PowerModels/pzt9u/src/prob/opf.jl:5 [inlined]",
      " [14] run_ac_opf(::Dict{String,Any}, ::GLPKMathProgInterface.GLPKInterfaceLP.GLPKSolverLP) at /Users/carleton/.julia/packages/PowerModels/pzt9u/src/prob/opf.jl:5",
      " [15] top-level scope at In[14]:1"
     ]
    }
   ],
   "source": [
    "result = run_ac_opf(data, lp_solver)"
   ]
  },
  {
   "cell_type": "markdown",
   "metadata": {},
   "source": [
    "#### Quiz Question\n",
    "That was ugly... What happened?!?\n"
   ]
  },
  {
   "cell_type": "markdown",
   "metadata": {},
   "source": [
    "Lets try using an NLP solver."
   ]
  },
  {
   "cell_type": "code",
   "execution_count": 15,
   "metadata": {},
   "outputs": [
    {
     "name": "stdout",
     "output_type": "stream",
     "text": [
      "\n",
      "******************************************************************************\n",
      "This program contains Ipopt, a library for large-scale nonlinear optimization.\n",
      " Ipopt is released as open source code under the Eclipse Public License (EPL).\n",
      "         For more information visit http://projects.coin-or.org/Ipopt\n",
      "******************************************************************************\n",
      "\n"
     ]
    },
    {
     "data": {
      "text/plain": [
       "Dict{String,Any} with 8 entries:\n",
       "  \"solve_time\"   => 4.20517\n",
       "  \"status\"       => :LocalOptimal\n",
       "  \"objective\"    => 17551.9\n",
       "  \"solver\"       => \"IpoptSolver\"\n",
       "  \"solution\"     => Dict{String,Any}(\"baseMVA\"=>100.0,\"gen\"=>Dict{String,Any}(\"…\n",
       "  \"data\"         => Dict{String,Any}(\"name\"=>\"pglib_opf_case5_pjm\",\"bus_count\"=…\n",
       "  \"machine\"      => Dict(\"cpu\"=>\"Intel(R) Core(TM) i7-4870HQ CPU @ 2.50GHz\",\"me…\n",
       "  \"objective_lb\" => -Inf"
      ]
     },
     "execution_count": 15,
     "metadata": {},
     "output_type": "execute_result"
    }
   ],
   "source": [
    "using Ipopt\n",
    "nlp_solver = IpoptSolver(print_level=0)\n",
    "\n",
    "result = run_ac_opf(data, nlp_solver)"
   ]
  },
  {
   "cell_type": "markdown",
   "metadata": {},
   "source": [
    "It worked!  Lets look at the solution,"
   ]
  },
  {
   "cell_type": "code",
   "execution_count": 16,
   "metadata": {},
   "outputs": [
    {
     "name": "stdout",
     "output_type": "stream",
     "text": [
      "\u001b[1mMetadata\u001b[0m\n",
      "  baseMVA: 100.000\n",
      "  per_unit: true\n",
      "\n",
      "\u001b[1mTable Counts\u001b[0m\n",
      "  bus: 5\n",
      "  gen: 5\n",
      "\n",
      "\n",
      "\u001b[1mTable: bus\u001b[0m\n",
      "            vm,     va\n",
      "      1: 1.078,  0.049\n",
      "      2: 1.084, -0.013\n",
      "      3: 1.100, -0.010\n",
      "      4: 1.064,  0.000\n",
      "      5: 1.069,  0.063\n",
      "\n",
      "\n",
      "\u001b[1mTable: gen\u001b[0m\n",
      "            pg,     qg\n",
      "      1: 0.400,  0.300\n",
      "      2: 1.700,  1.275\n",
      "      3: 3.245,  3.900\n",
      "      4: 0.000, -0.108\n",
      "      5: 4.707, -1.650\n"
     ]
    }
   ],
   "source": [
    "PowerModels.print_summary(result[\"solution\"])"
   ]
  },
  {
   "cell_type": "markdown",
   "metadata": {},
   "source": [
    "The solution make sense intuitively.  The voltage magnitude on bus 3 is pushed to the upper limit, presumably to minimize line losses.  Total generation costs are similar to DC-OPF which seems reasonable.\n",
    "\n",
    "The solution seems reasonable, but is it optimal?  To test that we need a convex relaxation!  But first a brief digression."
   ]
  },
  {
   "cell_type": "markdown",
   "metadata": {},
   "source": [
    "A little secret, the functions `run_dc_opf` and `run_ac_opf` are short hands for a much more general `run_opf` function which supports many variants of optimal power flow problem.  Specifically,\n",
    "```\n",
    "run_dc_opf(data, solver) => run_opf(data, DCPPowerModel, solver)\n",
    "run_dc_opf(data, solver) => run_opf(data, ACPPowerModel, solver)\n",
    "```\n",
    "\n",
    "Try the following code with different PowerModels.  Suggested models include `ACPPowerModel`,`ACRPowerModel`,`DCPPowerModel`,`DCPLLPowerModel`,`LPACCPowerModel`, `SOCWRPowerModel`, `QCWRPowerModel`.  A fairly complete list of implemented models is available [here](https://lanl-ansi.github.io/PowerModels.jl/stable/formulation-details/)."
   ]
  },
  {
   "cell_type": "code",
   "execution_count": 17,
   "metadata": {},
   "outputs": [
    {
     "name": "stdout",
     "output_type": "stream",
     "text": [
      "\u001b[1mMetadata\u001b[0m\n",
      "  baseMVA: 100.000\n",
      "  per_unit: true\n",
      "\n",
      "\u001b[1mTable Counts\u001b[0m\n",
      "  bus: 5\n",
      "  gen: 5\n",
      "\n",
      "\n",
      "\u001b[1mTable: bus\u001b[0m\n",
      "            vm,     va\n",
      "      1: 1.078,  0.049\n",
      "      2: 1.084, -0.013\n",
      "      3: 1.100, -0.010\n",
      "      4: 1.064,  0.000\n",
      "      5: 1.069,  0.063\n",
      "\n",
      "\n",
      "\u001b[1mTable: gen\u001b[0m\n",
      "            pg,     qg\n",
      "      1: 0.400,  0.300\n",
      "      2: 1.700,  1.275\n",
      "      3: 3.245,  3.900\n",
      "      4: 0.000, -0.108\n",
      "      5: 4.707, -1.650\n",
      "\n",
      "Objective: 17551.890899394704\n"
     ]
    }
   ],
   "source": [
    "result = run_opf(data, ACPPowerModel, nlp_solver)\n",
    "PowerModels.print_summary(result[\"solution\"])\n",
    "println()\n",
    "println(\"Objective: $(result[\"objective\"])\")"
   ]
  },
  {
   "cell_type": "markdown",
   "metadata": {},
   "source": [
    "At this point you might be curious what is PowerModels doing under the hood.  In short, it builds and solves JuMP models.  The [PowerModelsAnnex](https://github.com/lanl-ansi/PowerModelsAnnex.jl/tree/master/src/model) includes some examples of the kind of JuMP models that PowerModels when you call `run_opf`.\n",
    "\n",
    "Another way to see what PowerModels is doing is to pass your own JuMP model, then you can inspect it later."
   ]
  },
  {
   "cell_type": "code",
   "execution_count": 18,
   "metadata": {},
   "outputs": [
    {
     "name": "stdout",
     "output_type": "stream",
     "text": [
      "Min 4000 0_1_pg[4] + 1500 0_1_pg[2] + 3000 0_1_pg[3] + 1000 0_1_pg[5] + 1400 0_1_pg[1]\n",
      "Subject to\n",
      " 0_1_va[4] = 0\n",
      " 0_1_p[(6, 4, 5)] - 0_1_p[(2, 1, 4)] - 0_1_p[(5, 3, 4)] - 0_1_pg[4] = -4\n",
      " 0_1_p[(4, 2, 3)] - 0_1_p[(1, 1, 2)] = -3\n",
      " 0_1_p[(5, 3, 4)] - 0_1_p[(4, 2, 3)] - 0_1_pg[3] = -3\n",
      " -0_1_p[(3, 1, 5)] - 0_1_p[(6, 4, 5)] - 0_1_pg[5] = 0\n",
      " 0_1_p[(2, 1, 4)] + 0_1_p[(3, 1, 5)] + 0_1_p[(1, 1, 2)] - 0_1_pg[2] - 0_1_pg[1] = 0\n",
      " 0_1_p[(4, 2, 3)] - 91.67583425009167 0_1_va[2] + 91.67583425009167 0_1_va[3] = 0\n",
      " 0_1_va[2] - 0_1_va[3] ≤ 0.5235987755982988\n",
      " 0_1_va[2] - 0_1_va[3] ≥ -0.5235987755982988\n",
      " 0_1_p[(2, 1, 4)] - 32.56904637832204 0_1_va[1] + 32.56904637832204 0_1_va[4] = 0\n",
      " 0_1_va[1] - 0_1_va[4] ≤ 0.5235987755982988\n",
      " 0_1_va[1] - 0_1_va[4] ≥ -0.5235987755982988\n",
      " 0_1_p[(3, 1, 5)] - 154.7029702970297 0_1_va[1] + 154.7029702970297 0_1_va[5] = 0\n",
      " 0_1_va[1] - 0_1_va[5] ≤ 0.5235987755982988\n",
      " 0_1_va[1] - 0_1_va[5] ≥ -0.5235987755982988\n",
      " 0_1_p[(5, 3, 4)] - 33.33666700003334 0_1_va[3] + 33.33666700003334 0_1_va[4] = 0\n",
      " 0_1_va[3] - 0_1_va[4] ≤ 0.5235987755982988\n",
      " 0_1_va[3] - 0_1_va[4] ≥ -0.5235987755982988\n",
      " 0_1_p[(6, 4, 5)] - 33.33666700003334 0_1_va[4] + 33.33666700003334 0_1_va[5] = 0\n",
      " 0_1_va[4] - 0_1_va[5] ≤ 0.5235987755982988\n",
      " 0_1_va[4] - 0_1_va[5] ≥ -0.5235987755982988\n",
      " 0_1_p[(1, 1, 2)] - 35.234840209999646 0_1_va[1] + 35.234840209999646 0_1_va[2] = 0\n",
      " 0_1_va[1] - 0_1_va[2] ≤ 0.5235987755982988\n",
      " 0_1_va[1] - 0_1_va[2] ≥ -0.5235987755982988\n",
      " 0_1_va[i] ∀ i ∈ {4,2,3,5,1}\n",
      " 0_1_p_dc (no indices)\n",
      " 0 ≤ 0_1_pg[4] ≤ 2\n",
      " 0 ≤ 0_1_pg[2] ≤ 1.7\n",
      " 0 ≤ 0_1_pg[3] ≤ 5.2\n",
      " 0 ≤ 0_1_pg[5] ≤ 6\n",
      " 0 ≤ 0_1_pg[1] ≤ 0.4\n",
      " -4.26 ≤ 0_1_p[(4, 2, 3)] ≤ 4.26\n",
      " -4.26 ≤ 0_1_p[(2, 1, 4)] ≤ 4.26\n",
      " -4.26 ≤ 0_1_p[(3, 1, 5)] ≤ 4.26\n",
      " -4.26 ≤ 0_1_p[(5, 3, 4)] ≤ 4.26\n",
      " -2.4 ≤ 0_1_p[(6, 4, 5)] ≤ 2.4\n",
      " -4 ≤ 0_1_p[(1, 1, 2)] ≤ 4\n",
      "\n"
     ]
    }
   ],
   "source": [
    "using JuMP\n",
    "\n",
    "m = Model()\n",
    "result = run_opf(data, DCPPowerModel, nlp_solver, jump_model=m)\n",
    "\n",
    "println(m)"
   ]
  },
  {
   "cell_type": "markdown",
   "metadata": {},
   "source": [
    "### Computing Optimality Gaps\n",
    "\n",
    "Getting back to the question of AC-OPF solution quality.  An easy way to certify AC-OPF solution quality is to use a convex-relaxation to compute a lower bound.  If the \"gap\" between the solution and the lower bound is small we are happy.\n",
    "\n",
    "Let build a helper function for computing optimality gaps."
   ]
  },
  {
   "cell_type": "code",
   "execution_count": 19,
   "metadata": {},
   "outputs": [
    {
     "data": {
      "text/plain": [
       "soc_gap (generic function with 1 method)"
      ]
     },
     "execution_count": 19,
     "metadata": {},
     "output_type": "execute_result"
    }
   ],
   "source": [
    "function soc_gap(data_file, nlp_solver)\n",
    "    data = PowerModels.parse_file(data_file)\n",
    "    ac_result = run_opf(data, ACPPowerModel, nlp_solver)\n",
    "    soc_result = run_opf(data, SOCWRPowerModel, nlp_solver)\n",
    "    \n",
    "    # it is important to check the solver terminated nominally!\n",
    "    @assert  ac_result[\"status\"] == :Optimal ||  ac_result[\"status\"] == :LocalOptimal\n",
    "    @assert soc_result[\"status\"] == :Optimal || soc_result[\"status\"] == :LocalOptimal\n",
    "    \n",
    "    # by convention optimality gaps are given as a percentage\n",
    "    gap = 100*(ac_result[\"objective\"] - soc_result[\"objective\"])/ac_result[\"objective\"]\n",
    "    \n",
    "    return (gap=gap, ub_time=ac_result[\"solve_time\"], lb_time=soc_result[\"solve_time\"]) \n",
    "end"
   ]
  },
  {
   "cell_type": "code",
   "execution_count": 20,
   "metadata": {},
   "outputs": [
    {
     "data": {
      "text/plain": [
       "(gap = 14.540746218458999, ub_time = 0.019286024, lb_time = 0.025523464)"
      ]
     },
     "execution_count": 20,
     "metadata": {},
     "output_type": "execute_result"
    }
   ],
   "source": [
    "soc_gap(\"data/pglib_opf_case5_pjm.m\", nlp_solver)"
   ]
  },
  {
   "cell_type": "markdown",
   "metadata": {},
   "source": [
    "A 14% gap, that's HUGE!  It is not clear if the AC-OPF solutoin is optimal or not.  Clearly this case requires more study.\n",
    "\n",
    "In the mean time, try the `soc_gap` function on a few more of the network cases included with this tutorial.  Available datasets are `pglib_opf_case14_ieee.m`, `pglib_opf_case30_ieee.m`, `pglib_opf_case73_ieee_rts.m`, `pglib_opf_case118_ieee.m`, `pglib_opf_case200_tamu.m`, `pglib_opf_case500_tamu.m`, `pglib_opf_case1354_pegase.m`, `pglib_opf_case2383wp_k.m` (larger may take a few minutes to run).  The complete PGLib-OPF benchmark library with over 100 cases is available [here](https://github.com/power-grid-lib/pglib-opf)."
   ]
  },
  {
   "cell_type": "code",
   "execution_count": 21,
   "metadata": {},
   "outputs": [
    {
     "data": {
      "text/plain": [
       "(gap = 0.10909416417088194, ub_time = 0.036981832, lb_time = 0.027105066)"
      ]
     },
     "execution_count": 21,
     "metadata": {},
     "output_type": "execute_result"
    }
   ],
   "source": [
    "soc_gap(\"data/pglib_opf_case14_ieee.m\", nlp_solver)"
   ]
  },
  {
   "cell_type": "markdown",
   "metadata": {},
   "source": [
    "#### Discussion Point\n",
    "\n",
    "Can you draw any conclusions from computing optimality gaps on a variety of cases?\n"
   ]
  },
  {
   "cell_type": "markdown",
   "metadata": {},
   "source": [
    "### A Simple Contingency Study\n",
    "\n",
    "Component `status` parameters can be useful for exploring a variety of component failure scenarios.  Lets use it to do a simple generator N-1 study on the 5-bus example.\n"
   ]
  },
  {
   "cell_type": "code",
   "execution_count": 22,
   "metadata": {},
   "outputs": [
    {
     "data": {
      "text/plain": [
       "single_generator_loss (generic function with 1 method)"
      ]
     },
     "execution_count": 22,
     "metadata": {},
     "output_type": "execute_result"
    }
   ],
   "source": [
    "function single_generator_loss(data_file, nlp_solver)\n",
    "    data = PowerModels.parse_file(data_file)\n",
    "    \n",
    "    result = run_opf(data, ACPPowerModel, nlp_solver)\n",
    "\n",
    "    # it is important to check the solver terminated nominally!\n",
    "    @assert  result[\"status\"] == :Optimal || result[\"status\"] == :LocalOptimal\n",
    "\n",
    "    println(\"base cost: $(result[\"objective\"])\")\n",
    "    \n",
    "    for (i,gen) in sort(data[\"gen\"])\n",
    "        # remove the generator\n",
    "        gen[\"gen_status\"] = 0\n",
    "        \n",
    "        result = run_opf(data, ACPPowerModel, nlp_solver)\n",
    "        \n",
    "        println(\"gen $(i) out: $(result[\"objective\"]), $(result[\"status\"])\")\n",
    "\n",
    "        # restore the generator\n",
    "        gen[\"gen_status\"] = 1\n",
    "    end\n",
    "end"
   ]
  },
  {
   "cell_type": "code",
   "execution_count": 23,
   "metadata": {},
   "outputs": [
    {
     "name": "stdout",
     "output_type": "stream",
     "text": [
      "base cost: 17551.890899394704\n",
      "gen 1 out: 17680.162671442777, LocalOptimal\n",
      "gen 2 out: 17929.212321096078, LocalOptimal\n",
      "gen 3 out: 0, LocalInfeasible\n",
      "gen 4 out: 17553.565008204587, LocalOptimal\n"
     ]
    },
    {
     "name": "stderr",
     "output_type": "stream",
     "text": [
      "┌ Warning: Not solved to optimality, status: Infeasible\n",
      "└ @ JuMP /Users/carleton/.julia/packages/JuMP/PbnIJ/src/nlp.jl:1283\n"
     ]
    },
    {
     "name": "stdout",
     "output_type": "stream",
     "text": [
      "gen 5 out: 0, LocalInfeasible\n"
     ]
    },
    {
     "name": "stderr",
     "output_type": "stream",
     "text": [
      "┌ Warning: Not solved to optimality, status: Infeasible\n",
      "└ @ JuMP /Users/carleton/.julia/packages/JuMP/PbnIJ/src/nlp.jl:1283\n"
     ]
    }
   ],
   "source": [
    "single_generator_loss(\"data/pglib_opf_case5_pjm.m\", nlp_solver)"
   ]
  },
  {
   "cell_type": "markdown",
   "metadata": {},
   "source": [
    "This simple study seems to suggest that this network is not N-1 secure and cannot support the loss of generator 3 or 5.  Let's compute how much these two generators contribute to the total generation capacity in the data set."
   ]
  },
  {
   "cell_type": "code",
   "execution_count": 24,
   "metadata": {},
   "outputs": [
    {
     "data": {
      "text/plain": [
       "15.3"
      ]
     },
     "execution_count": 24,
     "metadata": {},
     "output_type": "execute_result"
    }
   ],
   "source": [
    "pg_capacity = sum(gen[\"pmax\"] for (i,gen) in data[\"gen\"])"
   ]
  },
  {
   "cell_type": "code",
   "execution_count": 25,
   "metadata": {},
   "outputs": [
    {
     "data": {
      "text/plain": [
       "33.98692810457516"
      ]
     },
     "execution_count": 25,
     "metadata": {},
     "output_type": "execute_result"
    }
   ],
   "source": [
    "100*data[\"gen\"][\"3\"][\"pmax\"]/pg_capacity"
   ]
  },
  {
   "cell_type": "code",
   "execution_count": 26,
   "metadata": {},
   "outputs": [
    {
     "data": {
      "text/plain": [
       "39.2156862745098"
      ]
     },
     "execution_count": 26,
     "metadata": {},
     "output_type": "execute_result"
    }
   ],
   "source": [
    "100*data[\"gen\"][\"5\"][\"pmax\"]/pg_capacity"
   ]
  },
  {
   "cell_type": "markdown",
   "metadata": {},
   "source": [
    "It seems reasonable that losing over 30% of the total generating capacity would be problematic."
   ]
  },
  {
   "cell_type": "markdown",
   "metadata": {},
   "source": [
    "### Other Topics\n",
    "\n",
    "PowerModels includes a variety of useful features that are outside the scope of this brief tutorial.  These features include,\n",
    "* TBD"
   ]
  },
  {
   "cell_type": "code",
   "execution_count": null,
   "metadata": {},
   "outputs": [],
   "source": []
  }
 ],
 "metadata": {
  "kernelspec": {
   "display_name": "Julia 1.0.3",
   "language": "julia",
   "name": "julia-1.0"
  },
  "language_info": {
   "file_extension": ".jl",
   "mimetype": "application/julia",
   "name": "julia",
   "version": "1.0.3"
  }
 },
 "nbformat": 4,
 "nbformat_minor": 2
}
