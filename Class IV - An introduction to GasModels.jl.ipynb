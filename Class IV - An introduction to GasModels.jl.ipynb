{
 "cells": [
  {
   "cell_type": "markdown",
   "metadata": {},
   "source": [
    "# Class IV - An introduction to GasModels.jl\n",
    "\n",
    "*Los Alamos National Laboratory Grid Science Winter School, 2019*\n",
    "\n",
    "Welcome! This tutorial will introduce you to the basics of the [GasModels.jl](https://github.com/lanl-ansi/GasModels.jl) package. If you haven't yet, work through [Class I - An introduction  to Julia](Class%20I%20-%20An%20introduction%20to%20Julia.ipynb) and [Class II - An introduction  to JuMP](Class%20II%20-%20An%20introduction%20to%20JuMP.ipynb) first.\n",
    "\n",
    "As in Class II, run the following magic sauce to check we're good to go."
   ]
  },
  {
   "cell_type": "code",
   "execution_count": 1,
   "metadata": {},
   "outputs": [
    {
     "name": "stdout",
     "output_type": "stream",
     "text": [
      "\u001b[32m\u001b[1m  Updating\u001b[22m\u001b[39m registry at `~/.julia/registries/General`\n",
      "\u001b[32m\u001b[1m  Updating\u001b[22m\u001b[39m git-repo `https://github.com/JuliaRegistries/General.git`\n",
      "\u001b[?25l\u001b[2K\u001b[?25hExcellent! Everything is good to go!\n"
     ]
    }
   ],
   "source": [
    "import Pkg\n",
    "Pkg.activate(@__DIR__)\n",
    "Pkg.instantiate()\n",
    "println(\"Excellent! Everything is good to go!\")"
   ]
  },
  {
   "cell_type": "markdown",
   "metadata": {},
   "source": [
    "### Background \n",
    "\n",
    "This [presentation](https://github.com/lanl-ansi/tutorial-grid-science-2019/blob/master/assets/infrastructure_optimization_in_julia.pdf) provides motivation and context for this notebook.\n",
    "\n",
    "Some additional informaiton is also available at,\n",
    "* [GasModels Documentation](https://lanl-ansi.github.io/GasModels.jl/stable/)\n"
   ]
  },
  {
   "cell_type": "markdown",
   "metadata": {},
   "source": [
    "### Working with the Network Model\n",
    "\n",
    "A 40-node gas network models is provided with this tutorial.  The MATLAB-like input data files can be viewed [here](../edit/data/gaslib40.m).\n",
    "\n",
    "Similar to PowerModels, the `parse_file` function from GasModels is used to load a text files into the GasModels data model, "
   ]
  },
  {
   "cell_type": "code",
   "execution_count": 2,
   "metadata": {},
   "outputs": [
    {
     "name": "stderr",
     "output_type": "stream",
     "text": [
      "┌ Info: Precompiling GasModels [5e113713-6c35-5477-b766-e1109486666f]\n",
      "└ @ Base loading.jl:1186\n"
     ]
    },
    {
     "name": "stdout",
     "output_type": "stream",
     "text": [
      "\u001b[35m[warn | InfrastructureModels]: Matlab parser skipping the following line:\u001b[39m\n",
      "\u001b[35m  end\u001b[39m\n",
      "\u001b[35m[warn | GasModels]: no case version found in .m file.  The file seems to be missing \"mgc.version = ...\"\u001b[39m\n"
     ]
    },
    {
     "data": {
      "text/plain": [
       "Dict{String,Any} with 21 entries:\n",
       "  \"gas_specific_gravity\"         => 0.6\n",
       "  \"temperature\"                  => 273.15\n",
       "  \"source_type\"                  => \".m\"\n",
       "  \"name\"                         => \"gaslib40\"\n",
       "  \"source_version\"               => \"0.0.0+\"\n",
       "  \"multinetwork\"                 => false\n",
       "  \"gas_molar_mass\"               => 0.0185674\n",
       "  \"compressor\"                   => Dict{String,Any}(\"41\"=>Dict{String,Any}(\"t_…\n",
       "  \"consumer\"                     => Dict{String,Any}(\"24\"=>Dict{String,Any}(\"ql…\n",
       "  \"standard_density\"             => 1.0\n",
       "  \"baseQ\"                        => 604.167\n",
       "  \"compressibility_factor\"       => 0.8\n",
       "  \"specific_heat_capacity_ratio\" => 1.4\n",
       "  \"producer\"                     => Dict{String,Any}(\"1\"=>Dict{String,Any}(\"qgm…\n",
       "  \"per_unit\"                     => true\n",
       "  \"junction\"                     => Dict{String,Any}(\"32\"=>Dict{String,Any}(\"ju…\n",
       "  \"pipe\"                         => Dict{String,Any}(\"32\"=>Dict{String,Any}(\"le…\n",
       "  \"baseP\"                        => 8101325\n",
       "  \"sound_speed\"                  => 312.805\n",
       "  \"R\"                            => 8.314\n",
       "  \"connection\"                   => Any[]"
      ]
     },
     "execution_count": 2,
     "metadata": {},
     "output_type": "execute_result"
    }
   ],
   "source": [
    "using GasModels\n",
    "\n",
    "data = GasModels.parse_file(\"data/gaslib40.m\")"
   ]
  },
  {
   "cell_type": "markdown",
   "metadata": {},
   "source": [
    "In this case the file parser generated warning messages.  \n",
    "\n",
    "The second warning block message indicates that the data file did not have any version information. Still the parser will load this data.\n",
    "\n",
    "Now, lets look at some of the network data.  The data for the first pipe and compressor can be viewed as follows,"
   ]
  },
  {
   "cell_type": "code",
   "execution_count": 11,
   "metadata": {},
   "outputs": [
    {
     "data": {
      "text/plain": [
       "Dict{String,Any} with 10 entries:\n",
       "  \"length\"          => 76893.6\n",
       "  \"f_junction\"      => 32\n",
       "  \"friction_factor\" => 0.0074\n",
       "  \"pd_max\"          => 0.768207\n",
       "  \"status\"          => 1\n",
       "  \"t_junction\"      => 18\n",
       "  \"pd_min\"          => -0.999844\n",
       "  \"diameter\"        => 0.8\n",
       "  \"pipline_i\"       => 1\n",
       "  \"index\"           => 1"
      ]
     },
     "execution_count": 11,
     "metadata": {},
     "output_type": "execute_result"
    }
   ],
   "source": [
    "data[\"pipe\"][\"1\"]"
   ]
  },
  {
   "cell_type": "code",
   "execution_count": 14,
   "metadata": {},
   "outputs": [
    {
     "data": {
      "text/plain": [
       "Dict{String,Any} with 12 entries:\n",
       "  \"pd_max\"       => 0.999844\n",
       "  \"t_junction\"   => 100021\n",
       "  \"c_ratio_min\"  => 1.0\n",
       "  \"status\"       => 1\n",
       "  \"power_max\"    => 3500.0\n",
       "  \"pd_min\"       => -0.853451\n",
       "  \"index\"        => 41\n",
       "  \"c_ratio_max\"  => 5.0\n",
       "  \"f_junction\"   => 21\n",
       "  \"qmax\"         => 700.0\n",
       "  \"qmin\"         => 0.0\n",
       "  \"compressor_i\" => 41"
      ]
     },
     "execution_count": 14,
     "metadata": {},
     "output_type": "execute_result"
    }
   ],
   "source": [
    "data[\"compressor\"][\"41\"]"
   ]
  },
  {
   "cell_type": "markdown",
   "metadata": {},
   "source": [
    "Here, connection can either be of type \"pipe\" in which case it has a length, diameter, and friction_factor associated with it or can be a compressor with a different set of fields as shown above.\n",
    "\n",
    "The first junction in the network can be viewed as follows,"
   ]
  },
  {
   "cell_type": "code",
   "execution_count": 5,
   "metadata": {},
   "outputs": [
    {
     "data": {
      "text/plain": [
       "Dict{String,Any} with 7 entries:\n",
       "  \"junction_type\" => 0\n",
       "  \"status\"        => 1\n",
       "  \"junction_i\"    => 1\n",
       "  \"pmax\"          => 1.0\n",
       "  \"p_nominal\"     => 3.10133e6\n",
       "  \"pmin\"          => 0.382817\n",
       "  \"index\"         => 1"
      ]
     },
     "execution_count": 5,
     "metadata": {},
     "output_type": "execute_result"
    }
   ],
   "source": [
    "data[\"junction\"][\"1\"]"
   ]
  },
  {
   "cell_type": "markdown",
   "metadata": {},
   "source": [
    "That's great, but looking at components one-by-one can get boring fast.\n",
    "\n",
    "All InfrastructureModels packages provide a `print_summary` function that prints a table-like summary of the network data to the terminal."
   ]
  },
  {
   "cell_type": "code",
   "execution_count": 6,
   "metadata": {},
   "outputs": [
    {
     "name": "stdout",
     "output_type": "stream",
     "text": [
      "\u001b[1mMetadata\u001b[0m\n",
      "  R: 8.314\n",
      "  baseP: 8101325\n",
      "  baseQ: 604.167\n",
      "  compressibility_factor: 0.800\n",
      "  connection: [(0)]\n",
      "  gas_molar_mass: 0.019\n",
      "  gas_specific_gravity: 0.600\n",
      "  multinetwork: false\n",
      "  name: gaslib40\n",
      "  per_unit: true\n",
      "  sound_speed: 312.805\n",
      "  source_type: .m\n",
      "  source_version: 0.0.0+\n",
      "  specific_heat_capacity_ratio: 1.400\n",
      "  standard_density: 1.000\n",
      "  temperature: 273.150\n",
      "\n",
      "\u001b[1mTable Counts\u001b[0m\n",
      "  junction: 46\n",
      "  producer: 3\n",
      "  consumer: 29\n",
      "  compressor: 12\n",
      "  pipe: 39\n",
      "\n",
      "\n",
      "\u001b[1mTable: junction\u001b[0m\n",
      "          junction_i,  pmin,  pmax,  p_nominal\n",
      "       0:          0, 0.013, 1.000, 101325.000\n",
      "       1:          1, 0.383, 1.000, 3.101325e6\n",
      "       2:          2, 0.383, 1.000, 3.101325e6\n",
      "       3:          3, 0.013, 1.000, 101325.000\n",
      "       4:          4, 0.013, 1.000, 101325.000\n",
      "       5:          5, 0.383, 1.000, 3.101325e6\n",
      "       6:          6, 0.013, 1.000, 101325.000\n",
      "       7:          7, 0.013, 1.000, 101325.000\n",
      "       8:          8, 0.013, 1.000, 101325.000\n",
      "       9:          9, 0.013, 1.000, 101325.000\n",
      "      10:         10, 0.013, 1.000, 101325.000\n",
      "      11:         11, 0.013, 1.000, 101325.000\n",
      "      12:         12, 0.013, 1.000, 101325.000\n",
      "      13:         13, 0.383, 1.000, 3.101325e6\n",
      "      14:         14, 0.013, 1.000, 101325.000\n",
      "      15:         15, 0.013, 1.000, 101325.000\n",
      "      16:         16, 0.013, 1.000, 101325.000\n",
      "      17:         17, 0.013, 1.000, 101325.000\n",
      "      18:         18, 0.013, 1.000, 101325.000\n",
      "      19:         19, 0.013, 1.000, 101325.000\n",
      "      20:         20, 0.013, 1.000, 101325.000\n",
      "      21:         21, 0.383, 1.000, 3.101325e6\n",
      "      22:         22, 0.013, 1.000, 101325.000\n",
      "      23:         23, 0.013, 1.000, 101325.000\n",
      "      24:         24, 0.013, 1.000, 101325.000\n",
      "      25:         25, 0.013, 1.000, 101325.000\n",
      "      26:         26, 0.013, 1.000, 101325.000\n",
      "      27:         27, 0.013, 0.877, 101325.000\n",
      "      28:         28, 0.013, 1.000, 101325.000\n",
      "      29:         29, 0.013, 1.000, 101325.000\n",
      "      30:         30, 0.013, 1.000, 101325.000\n",
      "      31:         31, 0.013, 1.000, 101325.000\n",
      "      32:         32, 0.013, 0.877, 101325.000\n",
      "      33:         33, 0.013, 0.877, 101325.000\n",
      "      34:         34, 0.013, 1.000, 101325.000\n",
      "      35:         35, 0.013, 0.877, 101325.000\n",
      "      36:         36, 0.013, 1.000, 101325.000\n",
      "      37:         37, 0.383, 1.000, 3.101325e6\n",
      "      38:         38, 0.013, 0.877, 101325.000\n",
      "      39:         39, 0.013, 0.877, 101325.000\n",
      "  100021:     100021, 0.013, 1.000, 101325.000\n",
      "  200002:     200002, 0.013, 1.000, 101325.000\n",
      "  300001:     300001, 0.013, 1.000, 101325.000\n",
      "  400037:     400037, 0.013, 1.000, 101325.000\n",
      "  500005:     500005, 0.013, 1.000, 101325.000\n",
      "  600013:     600013, 0.013, 1.000, 101325.000\n",
      "\n",
      "  default values:\n",
      "    junction_type: 0\n",
      "    status: 1\n",
      "\n",
      "\n",
      "\u001b[1mTable: producer\u001b[0m\n",
      "         producer_i, junction, qg_junc\n",
      "      0:          0,        0,       0\n",
      "      1:          1,        1,       1\n",
      "      2:          2,        2,       2\n",
      "\n",
      "  default values:\n",
      "    qg: 0.333\n",
      "    qgmin: 0.000\n",
      "    qgmax: 0.333\n",
      "    status: 1\n",
      "    dispatchable: 0\n",
      "\n",
      "\n",
      "\u001b[1mTable: consumer\u001b[0m\n",
      "         consumer_i, junction, ql_junc\n",
      "      3:          3,        3,       3\n",
      "      4:          4,        4,       4\n",
      "      5:          5,        5,       5\n",
      "      6:          6,        6,       6\n",
      "      7:          7,        7,       7\n",
      "      8:          8,        8,       8\n",
      "      9:          9,        9,       9\n",
      "     10:         10,       10,      10\n",
      "     11:         11,       11,      11\n",
      "     12:         12,       12,      12\n",
      "     13:         13,       13,      13\n",
      "     14:         14,       14,      14\n",
      "     15:         15,       15,      15\n",
      "     16:         16,       16,      16\n",
      "     17:         17,       17,      17\n",
      "     18:         18,       18,      18\n",
      "     19:         19,       19,      19\n",
      "     20:         20,       20,      20\n",
      "     21:         21,       21,      21\n",
      "     22:         22,       22,      22\n",
      "     23:         23,       23,      23\n",
      "     24:         24,       24,      24\n",
      "     25:         25,       25,      25\n",
      "     26:         26,       26,      26\n",
      "     27:         27,       27,      27\n",
      "     28:         28,       28,      28\n",
      "     29:         29,       29,      29\n",
      "     30:         30,       30,      30\n",
      "     31:         31,       31,      31\n",
      "\n",
      "  default values:\n",
      "    ql: 0.034\n",
      "    qlmin: 0.000\n",
      "    qlmax: 0.034\n",
      "    status: 1.000\n",
      "    dispatchable: 0\n",
      "\n",
      "\n",
      "\u001b[1mTable: compressor\u001b[0m\n",
      "          f_junction, t_junction, compressor_i\n",
      "      39:         37,     400037,           39\n",
      "      40:         13,     600013,           40\n",
      "      41:         21,     100021,           41\n",
      "      42:          2,     200002,           42\n",
      "      43:          1,     300001,           43\n",
      "      44:          5,     500005,           44\n",
      "  100000:         33,     100021,       100000\n",
      "  100001:         35,     200002,       100001\n",
      "  100002:         38,     300001,       100002\n",
      "  100003:         27,     400037,       100003\n",
      "  100004:         39,     500005,       100004\n",
      "  100005:         32,     600013,       100005\n",
      "\n",
      "  default values:\n",
      "    qmin: 0.000\n",
      "    qmax: 700.000\n",
      "    c_ratio_min: 1.000\n",
      "    c_ratio_max: 5.000\n",
      "    power_max: 3500.000\n",
      "    status: 1\n",
      "\n",
      "\n",
      "\u001b[1mTable: pipe\u001b[0m\n",
      "         f_junction, t_junction,    length, diameter, friction_factor, pipline_i\n",
      "      0:          0,          5, 13071.085,    1.000,           0.007,         0\n",
      "      1:         32,         18, 76893.551,    0.800,           0.007,         1\n",
      "      2:         37,         15, 21557.566,    1.000,           0.007,         2\n",
      "      3:         15,         16,  6998.054,    1.000,           0.007,         3\n",
      "      4:         16,         12, 58218.970,    0.800,           0.007,         4\n",
      "      5:         27,         28, 86690.266,    0.800,           0.007,         5\n",
      "      6:         28,         11, 16579.326,    0.600,           0.008,         6\n",
      "      7:         11,         20, 10022.783,    0.600,           0.008,         7\n",
      "      8:         28,          6, 35218.839,    0.600,           0.008,         8\n",
      "      9:          6,         22, 20322.205,    0.600,           0.008,         9\n",
      "     10:         20,          8, 32868.202,    0.800,           0.007,        10\n",
      "     11:         27,         39, 47488.284,    0.800,           0.007,        11\n",
      "     12:          8,          9,  3802.587,    0.600,           0.008,        12\n",
      "     13:          8,         24, 39036.042,    0.800,           0.007,        13\n",
      "     14:          9,         26, 38659.824,    0.400,           0.008,        14\n",
      "     15:         24,          3, 18017.850,    0.600,           0.008,        15\n",
      "     16:         26,         23,  3067.547,    0.600,           0.008,        16\n",
      "     17:         23,         14, 12015.875,    0.400,           0.008,        17\n",
      "     18:          9,          7, 14043.114,    0.400,           0.008,        18\n",
      "     19:          7,         19, 20634.698,    0.600,           0.008,        19\n",
      "     20:         19,          6, 10586.130,    0.600,           0.008,        20\n",
      "     21:         19,         10, 10452.031,    0.600,           0.008,        21\n",
      "     22:          5,         25, 12397.352,    0.800,           0.007,        22\n",
      "     23:         10,         22, 19303.192,    0.600,           0.008,        23\n",
      "     24:         27,         22, 66036.595,    0.600,           0.008,        24\n",
      "     25:         27,         17, 18969.413,    1.000,           0.007,        25\n",
      "     26:         17,         31, 36061.010,    0.800,           0.007,        26\n",
      "     27:         31,         30, 22224.153,    0.800,           0.007,        27\n",
      "     28:         31,          4, 31179.619,    0.800,           0.007,        28\n",
      "     29:          4,         17, 12766.703,    1.000,           0.007,        29\n",
      "     30:         31,         38, 32921.260,    0.800,           0.007,        30\n",
      "     31:         35,         21, 49866.148,    0.800,           0.007,        31\n",
      "     32:         21,         34,  3479.455,    0.800,           0.007,        32\n",
      "     33:         35,         36,  3418.008,    1.000,           0.007,        33\n",
      "     34:         29,         36, 32449.372,    1.000,           0.007,        34\n",
      "     35:         29,         21, 26427.482,    0.800,           0.007,        35\n",
      "     36:         12,         13, 18136.597,    1.000,           0.007,        36\n",
      "     37:         12,         33, 65057.174,    0.800,           0.007,        37\n",
      "     38:         12,         34, 65532.213,    0.800,           0.007,        38\n",
      "\n",
      "  default values:\n",
      "    status: 1\n"
     ]
    }
   ],
   "source": [
    "GasModels.print_summary(data)"
   ]
  },
  {
   "cell_type": "markdown",
   "metadata": {},
   "source": [
    "### Solving the Gas Flow Problem (GF)\n",
    "\n",
    "Before we can solve a gas flow problem, we need a solver.  The gas flow problem as defined in GasModels.jl is a Mixed-Integer Nonlinear Program (MINLP). Hence, we require an MINLP solver; in this case we will use [Pavito](https://github.com/JuliaOpt/Pavito.jl). This MINLP solver requires two other solvers (1) a mip-solver and (2) a continuous NLP solver. We shall use GLPK and Ipopt as the mip solver and NLP solvers, respectively. "
   ]
  },
  {
   "cell_type": "code",
   "execution_count": 7,
   "metadata": {},
   "outputs": [
    {
     "name": "stderr",
     "output_type": "stream",
     "text": [
      "┌ Info: Recompiling stale cache file /Users/carleton/.julia/compiled/v1.1/Juniper/IquFR.ji for Juniper [2ddba703-00a4-53a7-87a5-e8b9971dde84]\n",
      "└ @ Base loading.jl:1184\n"
     ]
    },
    {
     "name": "stdout",
     "output_type": "stream",
     "text": [
      "nl_solver   : OptimizerFactory(Ipopt.Optimizer, (), Base.Iterators.Pairs{Symbol,Real,Tuple{Symbol,Symbol},NamedTuple{(:tol, :print_level),Tuple{Float64,Int64}}}(:tol=>1.0e-6,:print_level=>0))\n",
      "mip_solver  : OptimizerFactory(Cbc.Optimizer, (), Base.Iterators.Pairs(:logLevel=>0))\n",
      "log_levels  : Symbol[:Options, :Table, :Info]\n",
      "\n",
      "#Variables: 199\n",
      "#IntBinVar: 102\n",
      "#Constraints: 565\n",
      "#Linear Constraints: 409\n",
      "#Quadratic Constraints: 0\n",
      "#NonLinear Constraints: 156\n",
      "Obj Sense: Max\n",
      "\n",
      "\n",
      "******************************************************************************\n",
      "This program contains Ipopt, a library for large-scale nonlinear optimization.\n",
      " Ipopt is released as open source code under the Eclipse Public License (EPL).\n",
      "         For more information visit http://projects.coin-or.org/Ipopt\n",
      "******************************************************************************\n",
      "\n",
      "Status of relaxation: LOCALLY_SOLVED\n",
      "Time for relaxation: 10.752138137817383\n",
      "Relaxation Obj: 0.0\n",
      "\n",
      "       MIPobj              NLPobj       Time \n",
      "=============================================\n",
      "      29.9912              0.0115        5.9 \n",
      "       2.3716              0.0043        6.2 \n",
      "       2.2784              0.0057        6.5 \n",
      "       2.3312              0.0043        6.8 \n",
      "       2.0951              0.003         7.3 \n",
      "       2.1906              0.0005        7.9 \n",
      "       2.1161              0.0013        8.6 \n",
      "       2.141               0.0113        9.5 \n",
      "       2.3434              0.0668       10.6 \n",
      "       2.7494              0.0605       11.7 \n",
      "       2.9192              0.0816       12.8 \n",
      "       2.9648              0.0077       14.2 \n",
      "       2.2951              0.0124       15.8 \n",
      "       2.3417              0.0187       17.4 \n",
      "       2.5545              0.0117       19.4 \n",
      "       2.4657              0.0287       21.6 \n",
      "       2.6637              0.023        23.8 \n",
      "       2.619               0.0161       26.4 \n",
      "       2.5492              0.0083       29.0 \n",
      "       2.3736              0.0006       31.9 \n",
      "       2.0957              0.0002       34.9 \n",
      "       2.1104              0.001        38.2 \n",
      "       2.1582              0.0089       41.6 \n",
      "       2.2789              0.001        45.5 \n",
      "       2.1279              0.0121       50.0 \n",
      "       2.3267              0.0181       54.5 \n",
      "\n",
      "FP: 59.03756809234619 s\n",
      "FP: 27 rounds\n",
      "FP: No integral solution found\n"
     ]
    },
    {
     "name": "stderr",
     "output_type": "stream",
     "text": [
      "┌ Warning: MIP couldn't be solved to optimality. Terminated with status: TIME_LIMIT\n",
      "└ @ Juniper /Users/carleton/.julia/packages/Juniper/DC0lg/src/fpump.jl:337\n"
     ]
    },
    {
     "name": "stdout",
     "output_type": "stream",
     "text": [
      "\n",
      " ONodes   CLevel          Incumbent                   BestBound            Gap    Time   Restarts  GainGap  \n",
      "============================================================================================================\n"
     ]
    },
    {
     "name": "stderr",
     "output_type": "stream",
     "text": [
      "┌ Warning: Changed num_strong_var to 5 because of strong_branching_approx_time_limit\n",
      "└ @ Juniper /Users/carleton/.julia/packages/Juniper/DC0lg/src/bb_strategies.jl:265\n"
     ]
    },
    {
     "name": "stdout",
     "output_type": "stream",
     "text": [
      "    2       2                 -                          0.0                -     3.5       1         -     \n",
      "    2       3                 -                          0.0                -     4.3       -        0.0%   \n",
      "    2       4                 -                          0.0                -     4.4       -        0.0%   \n",
      "    3       5                 -                          0.0                -     4.6       -        0.0%   \n",
      "    4       6                 -                          0.0                -     4.7       -        0.0%   \n",
      "    5       7                 -                          0.0                -     4.9       -        0.0%   \n",
      "    5       8                 -                          0.0                -     5.0       -        0.0%   \n",
      "    6       9                 -                          0.0                -     5.2       -        0.0%   \n",
      "    5       10                -                          0.0                -     5.4       -        0.0%   \n",
      "    4       10                -                          0.0                -     5.6       -        0.0%   \n",
      "    3       8                 -                          0.0                -     5.8       -        0.0%   \n",
      "    2       7                 -                          0.0                -     6.0       -        0.0%   \n",
      "    1       6                 -                          0.0                -     6.3       -        0.0%   \n",
      "    2       3                 -                          0.0                -     6.4       -        0.0%   \n",
      "    2       4                 -                          0.0                -     6.6       -        0.0%   \n",
      "    2       5                 -                          0.0                -     6.7       -        0.0%   \n",
      "    1       6                 -                          0.0                -     6.9       -        0.0%   \n",
      "    1       4                 -                          0.0                -     7.1       -        0.0%   \n",
      "    1       5                 -                          0.0                -     7.2       -        0.0%   \n",
      "    2       6                 -                          0.0                -     7.3       -        0.0%   \n",
      "    3       7                 -                          0.0                -     7.5       -        0.0%   \n",
      "    4       8                 -                          0.0                -     7.7       -        0.0%   \n",
      "    5       9                 -                          0.0                -     7.8       -        0.0%   \n",
      "    6       10                -                          0.0                -     8.0       -        0.0%   \n",
      "    7       11                -                          0.0                -     8.1       -        0.0%   \n",
      "    7       12                -                          0.0                -     8.3       -        0.0%   \n",
      "    8       13                -                          0.0                -     8.5       -        0.0%   \n",
      "    8       14                -                          0.0                -     8.8       -        0.0%   \n",
      "    7       15                -                          0.0                -     9.1       -        0.0%   \n",
      "    7       14                -                          0.0                -     9.4       -        0.0%   \n",
      "    6       15                -                          0.0                -     9.7       -        0.0%   \n",
      "    7       12                -                          0.0                -     9.8       -        0.0%   \n",
      "    7       13                -                          0.0                -     10.0      -        0.0%   \n",
      "    6       14                -                          0.0                -     10.3      -        0.0%   \n",
      "    6       13                -                          0.0                -     10.6      -        0.0%   \n",
      "    6       14                -                          0.0                -     10.9      -        0.0%   \n",
      "    5       15                -                          0.0                -     11.2      -        0.0%   \n",
      "    5       11                -                          0.0                -     11.4      -        0.0%   \n",
      "    5       12                -                          0.0                -     11.6      -        0.0%   \n",
      "    4       13                -                          0.0                -     11.9      -        0.0%   \n",
      "    3       10                -                          0.0                -     12.2      -        0.0%   \n",
      "    4       9                 -                          0.0                -     12.4      -        0.0%   \n",
      "    3       10                -                          0.0                -     12.6      -        0.0%   \n",
      "    2       11                -                          0.0                -     13.2      -        0.0%   \n",
      "    3       8                 -                          0.0                -     13.3      -        0.0%   \n",
      "    4       9                 -                          0.0                -     13.5      -        0.0%   \n",
      "    3       10                -                          0.0                -     13.7      -        0.0%   \n",
      "    3       11                -                          0.0                -     14.2      -        0.0%   \n",
      "    2       12                -                          0.0                -     14.4      -        0.0%   \n",
      "    2       9                 -                          0.0                -     14.6      -        0.0%   \n",
      "    3       10                -                          0.0                -     14.9      -        0.0%   \n",
      "    4       11                -                          0.0                -     15.0      -        0.0%   \n",
      "    4       12                -                          0.0                -     15.3      -        0.0%   \n",
      "    5       13                -                          0.0                -     15.4      -        0.0%   \n",
      "    6       14                -                          0.0                -     15.5      -        0.0%   \n",
      "    6       15                -                          0.0                -     15.8      -        0.0%   \n",
      "    5       16                -                          0.0                -     16.0      -        0.0%   \n",
      "    4       15                -                          0.0                -     16.2      -        0.0%   \n",
      "    3       14                -                          0.0                -     16.5      -        0.0%   \n",
      "    2       12                -                          0.0                -     16.7      -        0.0%   \n",
      "    1       11                -                          0.0                -     17.0      -        0.0%   \n",
      "    1       7                 -                          0.0                -     17.1      -        0.0%   \n",
      "    2       8                 -                          0.0                -     17.2      -        0.0%   \n",
      "    3       9                 -                          0.0                -     17.4      -        0.0%   \n",
      "    4       10                -                          0.0                -     17.6      -        0.0%   \n",
      "    3       11                -                          0.0                -     17.9      -        0.0%   \n",
      "    2       11                -                          0.0                -     18.2      -        0.0%   \n",
      "    2       10                -                          0.0                -     18.4      -        0.0%   \n",
      "    2       11                -                          0.0                -     18.6      -        0.0%   \n",
      "    3       12                -                          0.0                -     18.7      -        0.0%   \n",
      "    2       13                -                          0.0                -     18.9      -        0.0%   \n",
      "    1       13                -                          0.0                -     19.2      -        0.0%   \n",
      "    2       9                 -                          0.0                -     19.4      -        0.0%   \n",
      "    1       10                -                          0.0                -     19.7      -        0.0%   \n",
      "    2       10                -                          0.0                -     19.9      -        0.0%   \n",
      "    2       11                -                          0.0                -     20.1      -        0.0%   \n"
     ]
    },
    {
     "name": "stdout",
     "output_type": "stream",
     "text": [
      "    2       12                -                          0.0                -     20.4      -        0.0%   \n",
      "    2       13                -                          0.0                -     20.5      -        0.0%   \n",
      "    1       14                -                          0.0                -     20.9      -        0.0%   \n",
      "    2       11                -                          0.0                -     21.1      -        0.0%   \n",
      "    3       12                -                          0.0                -     21.5      -        0.0%   \n",
      "    4       13                -                          0.0                -     21.7      -        0.0%   \n",
      "    4       14                -                          0.0                -     21.8      -        0.0%   \n",
      "    4       15                -                          0.0                -     22.0      -        0.0%   \n",
      "    0       16               0.0                         0.0               0%     22.1      -        0.0%   \n",
      "\n",
      "#branches: 87\n",
      "Obj: 0.0\n"
     ]
    },
    {
     "data": {
      "text/plain": [
       "Dict{String,Any} with 8 entries:\n",
       "  \"solve_time\"   => 92.3176\n",
       "  \"optimizer\"    => \"MathOptInterface.Bridges.LazyBridgeOptimizer{Juniper.Optim…\n",
       "  \"status\"       => :LocalOptimal\n",
       "  \"objective\"    => 0.0\n",
       "  \"solution\"     => Dict{String,Any}(\"baseQ\"=>604.167,\"junction\"=>Dict{String,A…\n",
       "  \"data\"         => Dict{String,Any}(\"name\"=>\"gaslib40\",\"compressor_count\"=>12,…\n",
       "  \"machine\"      => Dict(\"cpu\"=>\"Intel(R) Core(TM) i7-4870HQ CPU @ 2.50GHz\",\"me…\n",
       "  \"objective_lb\" => -Inf"
      ]
     },
     "execution_count": 7,
     "metadata": {},
     "output_type": "execute_result"
    }
   ],
   "source": [
    "using JuMP\n",
    "using Cbc\n",
    "using Ipopt\n",
    "using Juniper\n",
    "\n",
    "cbc_solver = JuMP.with_optimizer(Cbc.Optimizer, logLevel=0)\n",
    "ipopt_solver = JuMP.with_optimizer(Ipopt.Optimizer, tol=1e-6, print_level=0)\n",
    "\n",
    "juniper_solver = JuMP.with_optimizer(Juniper.Optimizer, mip_solver=cbc_solver, nl_solver=ipopt_solver)\n",
    "\n",
    "result = run_gf(data, MINLPGasModel, juniper_solver)"
   ]
  },
  {
   "cell_type": "markdown",
   "metadata": {},
   "source": [
    "The result object contains a variety of useful information about the optimization problem solved, including the objective value and wall clock runtime.  Detailed documentation of the result dictionary is available [here](https://lanl-ansi.github.io/GasModels.jl/stable/result-data/), however most interesting point is the `solution` data."
   ]
  },
  {
   "cell_type": "code",
   "execution_count": 8,
   "metadata": {},
   "outputs": [
    {
     "data": {
      "text/plain": [
       "Dict{String,Any} with 7 entries:\n",
       "  \"baseQ\"        => 604.167\n",
       "  \"junction\"     => Dict{String,Any}(\"32\"=>Dict{String,Any}(\"p\"=>0.768943),\"29\"…\n",
       "  \"pipe\"         => Dict{String,Any}(\"32\"=>Dict{String,Any}(\"f\"=>0.471246),\"29\"…\n",
       "  \"baseP\"        => 8101325\n",
       "  \"multinetwork\" => false\n",
       "  \"per_unit\"     => true\n",
       "  \"compressor\"   => Dict{String,Any}(\"41\"=>Dict{String,Any}(\"f\"=>-0.206879,\"rat…"
      ]
     },
     "execution_count": 8,
     "metadata": {},
     "output_type": "execute_result"
    }
   ],
   "source": [
    "result[\"solution\"]"
   ]
  },
  {
   "cell_type": "markdown",
   "metadata": {},
   "source": [
    "Not every useful, lets try `print_summary`,"
   ]
  },
  {
   "cell_type": "code",
   "execution_count": 9,
   "metadata": {},
   "outputs": [
    {
     "name": "stdout",
     "output_type": "stream",
     "text": [
      "\u001b[1mMetadata\u001b[0m\n",
      "  baseP: 8101325\n",
      "  baseQ: 604.167\n",
      "  multinetwork: false\n",
      "  per_unit: true\n",
      "\n",
      "\u001b[1mTable Counts\u001b[0m\n",
      "  junction: 46\n",
      "  compressor: 12\n",
      "  pipe: 39\n",
      "\n",
      "\n",
      "\u001b[1mTable: junction\u001b[0m\n",
      "              p\n",
      "       0: 0.700\n",
      "       1: 0.697\n",
      "       2: 0.676\n",
      "       3: 0.584\n",
      "       4: 0.816\n",
      "       5: 0.693\n",
      "       6: 0.674\n",
      "       7: 0.648\n",
      "       8: 0.589\n",
      "       9: 0.588\n",
      "      10: 0.669\n",
      "      11: 0.629\n",
      "      12: 0.606\n",
      "      13: 0.606\n",
      "      14: 0.177\n",
      "      15: 0.580\n",
      "      16: 0.581\n",
      "      17: 0.816\n",
      "      18: 0.768\n",
      "      19: 0.667\n",
      "      20: 0.603\n",
      "      21: 0.820\n",
      "      22: 0.679\n",
      "      23: 0.205\n",
      "      24: 0.586\n",
      "      25: 0.693\n",
      "      26: 0.208\n",
      "      27: 0.813\n",
      "      28: 0.686\n",
      "      29: 0.828\n",
      "      30: 0.823\n",
      "      31: 0.823\n",
      "      32: 0.769\n",
      "      33: 0.559\n",
      "      34: 0.811\n",
      "      35: 0.833\n",
      "      36: 0.832\n",
      "      37: 0.579\n",
      "      38: 0.866\n",
      "      39: 0.853\n",
      "  100021: 0.820\n",
      "  200002: 0.833\n",
      "  300001: 0.866\n",
      "  400037: 0.813\n",
      "  500005: 0.853\n",
      "  600013: 0.769\n",
      "\n",
      "\n",
      "\u001b[1mTable: compressor\u001b[0m\n",
      "               f, ratio\n",
      "      39:  0.092, 1.404\n",
      "      40:  0.034, 1.269\n",
      "      41: -0.207, 1.000\n",
      "      42:  0.333, 1.232\n",
      "      43:  0.333, 1.243\n",
      "      44:  0.264, 1.230\n",
      "  100000:  0.207, 1.468\n",
      "  100001: -0.333, 1.000\n",
      "  100002: -0.333, 1.000\n",
      "  100003: -0.092, 1.000\n",
      "  100004: -0.264, 1.000\n",
      "  100005: -0.034, 1.000\n",
      "\n",
      "\n",
      "\u001b[1mTable: pipe\u001b[0m\n",
      "              f\n",
      "      0:  0.333\n",
      "      1:  0.034\n",
      "      2: -0.092\n",
      "      3: -0.126\n",
      "      4: -0.161\n",
      "      5:  0.332\n",
      "      6:  0.226\n",
      "      7:  0.191\n",
      "      8:  0.072\n",
      "      9: -0.062\n",
      "     10:  0.157\n",
      "     11: -0.264\n",
      "     12:  0.053\n",
      "     13:  0.069\n",
      "     14:  0.103\n",
      "     15:  0.034\n",
      "     16:  0.069\n",
      "     17:  0.034\n",
      "     18: -0.084\n",
      "     19: -0.119\n",
      "     20: -0.099\n",
      "     21: -0.054\n",
      "     22:  0.034\n",
      "     23: -0.089\n",
      "     24:  0.185\n",
      "     25: -0.195\n",
      "     26: -0.130\n",
      "     27:  0.034\n",
      "     28:  0.135\n",
      "     29:  0.100\n",
      "     30: -0.333\n",
      "     31:  0.144\n",
      "     32:  0.471\n",
      "     33:  0.189\n",
      "     34: -0.189\n",
      "     35:  0.155\n",
      "     36:  0.069\n",
      "     37:  0.207\n",
      "     38: -0.471\n"
     ]
    }
   ],
   "source": [
    "GasModels.print_summary(result[\"solution\"])"
   ]
  }
 ],
  "kernelspec": {
   "display_name": "Julia 1.3.1",
   "language": "julia",
   "name": "julia-1.3"
  },
  "language_info": {
   "file_extension": ".jl",
   "mimetype": "application/julia",
   "name": "julia",
   "version": "1.3.1"
  }
 },
 "nbformat": 4,
 "nbformat_minor": 2
}
