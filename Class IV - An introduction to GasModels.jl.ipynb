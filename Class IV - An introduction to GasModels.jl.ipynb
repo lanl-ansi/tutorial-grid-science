{
 "cells": [
  {
   "cell_type": "markdown",
   "metadata": {},
   "source": [
    "# Class IV - An introduction to GasModels.jl\n",
    "\n",
    "*Los Alamos National Laboratory Grid Science Winter School, 2019*\n",
    "\n",
    "Welcome! This tutorial will introduce you to the basics of the [GasModels.jl](https://github.com/lanl-ansi/GasModels.jl) package. If you haven't yet, work through [Class I - An introduction  to Julia](Class%20I%20-%20An%20introduction%20to%20Julia.ipynb) and [Class II - An introduction  to JuMP](Class%20II%20-%20An%20introduction%20to%20JuMP.ipynb) first.\n",
    "\n",
    "As in Class II, run the following magic sauce to check we're good to go."
   ]
  },
  {
   "cell_type": "code",
   "execution_count": 1,
   "metadata": {},
   "outputs": [
    {
     "name": "stdout",
     "output_type": "stream",
     "text": [
      "\u001b[32m\u001b[1m  Updating\u001b[22m\u001b[39m registry at `~/.julia/registries/General`\n",
      "\u001b[32m\u001b[1m  Updating\u001b[22m\u001b[39m git-repo `https://github.com/JuliaRegistries/General.git`\n",
      "\u001b[?25l\u001b[2K\u001b[?25hExcellent! Everything is good to go!\n"
     ]
    }
   ],
   "source": [
    "import Pkg\n",
    "Pkg.activate(@__DIR__)\n",
    "Pkg.instantiate()\n",
    "println(\"Excellent! Everything is good to go!\")"
   ]
  },
  {
   "cell_type": "markdown",
   "metadata": {},
   "source": [
    "### Background \n",
    "\n",
    "This [presentation](https://github.com/lanl-ansi/tutorial-grid-science-2019/blob/master/assets/infrastructure_optimization_in_julia.pdf) provides motivation and context for this notebook.\n",
    "\n",
    "Some additional informaiton is also available at,\n",
    "* [GasModels Documentation](https://lanl-ansi.github.io/GasModels.jl/stable/)\n"
   ]
  },
  {
   "cell_type": "markdown",
   "metadata": {},
   "source": [
    "### Working with the Network Model\n",
    "\n",
    "A 40-node gas network models is provided with this tutorial.  The MATLAB-like input data files can be viewed [here](../edit/data/gaslib40.m).\n",
    "\n",
    "Similar to PowerModels, the `parse_file` function from GasModels is used to load a text files into the GasModels data model, "
   ]
  },
  {
   "cell_type": "code",
   "execution_count": 2,
   "metadata": {},
   "outputs": [
    {
     "name": "stderr",
     "output_type": "stream",
     "text": [
      "┌ Info: Recompiling stale cache file /Users/carleton/.julia/compiled/v1.0/GasModels/5VKJw.ji for GasModels [5e113713-6c35-5477-b766-e1109486666f]\n",
      "└ @ Base loading.jl:1190\n"
     ]
    },
    {
     "name": "stdout",
     "output_type": "stream",
     "text": [
      "\u001b[35m[warn | InfrastructureModels]: Matlab parser skipping the following line:\u001b[39m\n",
      "\u001b[35m  end\u001b[39m\n"
     ]
    },
    {
     "name": "stderr",
     "output_type": "stream",
     "text": [
      "┌ Warning: no case version found in .m file.  The file seems to be missing \"mgc.version = ...\"\n",
      "└ @ GasModels /Users/carleton/.julia/packages/GasModels/qLHEc/src/io/matlab.jl:111\n"
     ]
    },
    {
     "data": {
      "text/plain": [
       "Dict{String,Any} with 19 entries:\n",
       "  \"gas_specific_gravity\"         => 0.6\n",
       "  \"temperature\"                  => 273.15\n",
       "  \"source_type\"                  => \".m\"\n",
       "  \"name\"                         => \"gaslib40\"\n",
       "  \"source_version\"               => \"0.0.0+\"\n",
       "  \"multinetwork\"                 => false\n",
       "  \"gas_molar_mass\"               => 0.0185674\n",
       "  \"consumer\"                     => Dict{String,Any}(\"24\"=>Dict{String,Any}(\"ql…\n",
       "  \"standard_density\"             => 1.0\n",
       "  \"baseQ\"                        => 604.167\n",
       "  \"compressibility_factor\"       => 0.8\n",
       "  \"specific_heat_capacity_ratio\" => 1.4\n",
       "  \"producer\"                     => Dict{String,Any}(\"1\"=>Dict{String,Any}(\"qgm…\n",
       "  \"per_unit\"                     => true\n",
       "  \"junction\"                     => Dict{String,Any}(\"32\"=>Dict{String,Any}(\"ju…\n",
       "  \"baseP\"                        => 8101325\n",
       "  \"sound_speed\"                  => 312.805\n",
       "  \"R\"                            => 8.314\n",
       "  \"connection\"                   => Dict{String,Any}(\"32\"=>Dict{String,Any}(\"le…"
      ]
     },
     "execution_count": 2,
     "metadata": {},
     "output_type": "execute_result"
    }
   ],
   "source": [
    "using GasModels\n",
    "\n",
    "data = GasModels.parse_file(\"data/gaslib40.m\")"
   ]
  },
  {
   "cell_type": "markdown",
   "metadata": {},
   "source": [
    "In this case the file parser generated warning messages.  \n",
    "\n",
    "The second warning block message indicates that the data file did not have any version information. Still the parser will load this data.\n",
    "\n",
    "Now, lets look at some of the network data.  The data for the first pipe and compressor can be viewed as follows,"
   ]
  },
  {
   "cell_type": "code",
   "execution_count": 3,
   "metadata": {},
   "outputs": [
    {
     "data": {
      "text/plain": [
       "Dict{String,Any} with 8 entries:\n",
       "  \"length\"          => 76893.6\n",
       "  \"f_junction\"      => 32\n",
       "  \"friction_factor\" => 0.0074\n",
       "  \"status\"          => 1\n",
       "  \"t_junction\"      => 18\n",
       "  \"diameter\"        => 0.8\n",
       "  \"type\"            => \"pipe\"\n",
       "  \"index\"           => 1"
      ]
     },
     "execution_count": 3,
     "metadata": {},
     "output_type": "execute_result"
    }
   ],
   "source": [
    "data[\"connection\"][\"1\"]"
   ]
  },
  {
   "cell_type": "code",
   "execution_count": 4,
   "metadata": {},
   "outputs": [
    {
     "data": {
      "text/plain": [
       "Dict{String,Any} with 10 entries:\n",
       "  \"c_ratio_max\" => 5.0\n",
       "  \"f_junction\"  => 33\n",
       "  \"qmax\"        => 700.0\n",
       "  \"status\"      => 1\n",
       "  \"t_junction\"  => 100021\n",
       "  \"c_ratio_min\" => 1.0\n",
       "  \"power_max\"   => 3500.0\n",
       "  \"qmin\"        => 0.0\n",
       "  \"type\"        => \"compressor\"\n",
       "  \"index\"       => 100000"
      ]
     },
     "execution_count": 4,
     "metadata": {},
     "output_type": "execute_result"
    }
   ],
   "source": [
    "data[\"connection\"][\"100000\"]"
   ]
  },
  {
   "cell_type": "markdown",
   "metadata": {},
   "source": [
    "Here, connection can either be of type \"pipe\" in which case it has a length, diameter, and friction_factor associated with it or can be a compressor with a different set of fields as shown above.\n",
    "\n",
    "The first junction in the network can be viewed as follows,"
   ]
  },
  {
   "cell_type": "code",
   "execution_count": 5,
   "metadata": {},
   "outputs": [
    {
     "data": {
      "text/plain": [
       "Dict{String,Any} with 7 entries:\n",
       "  \"junction_type\" => 0\n",
       "  \"status\"        => 1\n",
       "  \"junction_i\"    => 1\n",
       "  \"pmax\"          => 1.0\n",
       "  \"p_nominal\"     => 3.10133e6\n",
       "  \"pmin\"          => 0.382817\n",
       "  \"index\"         => 1"
      ]
     },
     "execution_count": 5,
     "metadata": {},
     "output_type": "execute_result"
    }
   ],
   "source": [
    "data[\"junction\"][\"1\"]"
   ]
  },
  {
   "cell_type": "markdown",
   "metadata": {},
   "source": [
    "That's great, but looking at components one-by-one can get boring fast.\n",
    "\n",
    "All InfrastructureModels packages provide a `print_summary` function that prints a table-like summary of the network data to the terminal."
   ]
  },
  {
   "cell_type": "code",
   "execution_count": 6,
   "metadata": {},
   "outputs": [
    {
     "name": "stdout",
     "output_type": "stream",
     "text": [
      "\u001b[1mMetadata\u001b[0m\n",
      "  R: 8.314\n",
      "  baseP: 8101325\n",
      "  baseQ: 604.167\n",
      "  compressibility_factor: 0.800\n",
      "  gas_molar_mass: 0.019\n",
      "  gas_specific_gravity: 0.600\n",
      "  multinetwork: false\n",
      "  name: gaslib40\n",
      "  per_unit: true\n",
      "  sound_speed: 312.805\n",
      "  source_type: .m\n",
      "  source_version: 0.0.0+\n",
      "  specific_heat_capacity_ratio: 1.400\n",
      "  standard_density: 1.000\n",
      "  temperature: 273.150\n",
      "\n",
      "\u001b[1mTable Counts\u001b[0m\n",
      "  junction: 46\n",
      "  connection: 51\n",
      "  producer: 3\n",
      "  consumer: 29\n",
      "\n",
      "\n",
      "\u001b[1mTable: junction\u001b[0m\n",
      "          junction_i,  pmin,  pmax,  p_nominal\n",
      "       0:          0, 0.013, 1.000, 101325.000\n",
      "       1:          1, 0.383, 1.000, 3.101325e6\n",
      "       2:          2, 0.383, 1.000, 3.101325e6\n",
      "       3:          3, 0.013, 1.000, 101325.000\n",
      "       4:          4, 0.013, 1.000, 101325.000\n",
      "       5:          5, 0.383, 1.000, 3.101325e6\n",
      "       6:          6, 0.013, 1.000, 101325.000\n",
      "       7:          7, 0.013, 1.000, 101325.000\n",
      "       8:          8, 0.013, 1.000, 101325.000\n",
      "       9:          9, 0.013, 1.000, 101325.000\n",
      "      10:         10, 0.013, 1.000, 101325.000\n",
      "      11:         11, 0.013, 1.000, 101325.000\n",
      "      12:         12, 0.013, 1.000, 101325.000\n",
      "      13:         13, 0.383, 1.000, 3.101325e6\n",
      "      14:         14, 0.013, 1.000, 101325.000\n",
      "      15:         15, 0.013, 1.000, 101325.000\n",
      "      16:         16, 0.013, 1.000, 101325.000\n",
      "      17:         17, 0.013, 1.000, 101325.000\n",
      "      18:         18, 0.013, 1.000, 101325.000\n",
      "      19:         19, 0.013, 1.000, 101325.000\n",
      "      20:         20, 0.013, 1.000, 101325.000\n",
      "      21:         21, 0.383, 1.000, 3.101325e6\n",
      "      22:         22, 0.013, 1.000, 101325.000\n",
      "      23:         23, 0.013, 1.000, 101325.000\n",
      "      24:         24, 0.013, 1.000, 101325.000\n",
      "      25:         25, 0.013, 1.000, 101325.000\n",
      "      26:         26, 0.013, 1.000, 101325.000\n",
      "      27:         27, 0.013, 0.877, 101325.000\n",
      "      28:         28, 0.013, 1.000, 101325.000\n",
      "      29:         29, 0.013, 1.000, 101325.000\n",
      "      30:         30, 0.013, 1.000, 101325.000\n",
      "      31:         31, 0.013, 1.000, 101325.000\n",
      "      32:         32, 0.013, 0.877, 101325.000\n",
      "      33:         33, 0.013, 0.877, 101325.000\n",
      "      34:         34, 0.013, 1.000, 101325.000\n",
      "      35:         35, 0.013, 0.877, 101325.000\n",
      "      36:         36, 0.013, 1.000, 101325.000\n",
      "      37:         37, 0.383, 1.000, 3.101325e6\n",
      "      38:         38, 0.013, 0.877, 101325.000\n",
      "      39:         39, 0.013, 0.877, 101325.000\n",
      "  100021:     100021, 0.013, 1.000, 101325.000\n",
      "  200002:     200002, 0.013, 1.000, 101325.000\n",
      "  300001:     300001, 0.013, 1.000, 101325.000\n",
      "  400037:     400037, 0.013, 1.000, 101325.000\n",
      "  500005:     500005, 0.013, 1.000, 101325.000\n",
      "  600013:     600013, 0.013, 1.000, 101325.000\n",
      "\n",
      "  default values:\n",
      "    junction_type: 0\n",
      "    status: 1\n",
      "\n",
      "\n",
      "\u001b[1mTable: connection\u001b[0m\n",
      "                type, f_junction, t_junction,    length, diameter, friction_factor\n",
      "       0:       pipe,          0,          5, 13071.085,    1.000,           0.007\n",
      "       1:       pipe,         32,         18, 76893.551,    0.800,           0.007\n",
      "       2:       pipe,         37,         15, 21557.566,    1.000,           0.007\n",
      "       3:       pipe,         15,         16,  6998.054,    1.000,           0.007\n",
      "       4:       pipe,         16,         12, 58218.970,    0.800,           0.007\n",
      "       5:       pipe,         27,         28, 86690.266,    0.800,           0.007\n",
      "       6:       pipe,         28,         11, 16579.326,    0.600,           0.008\n",
      "       7:       pipe,         11,         20, 10022.783,    0.600,           0.008\n",
      "       8:       pipe,         28,          6, 35218.839,    0.600,           0.008\n",
      "       9:       pipe,          6,         22, 20322.205,    0.600,           0.008\n",
      "      10:       pipe,         20,          8, 32868.202,    0.800,           0.007\n",
      "      11:       pipe,         27,         39, 47488.284,    0.800,           0.007\n",
      "      12:       pipe,          8,          9,  3802.587,    0.600,           0.008\n",
      "      13:       pipe,          8,         24, 39036.042,    0.800,           0.007\n",
      "      14:       pipe,          9,         26, 38659.824,    0.400,           0.008\n",
      "      15:       pipe,         24,          3, 18017.850,    0.600,           0.008\n",
      "      16:       pipe,         26,         23,  3067.547,    0.600,           0.008\n",
      "      17:       pipe,         23,         14, 12015.875,    0.400,           0.008\n",
      "      18:       pipe,          9,          7, 14043.114,    0.400,           0.008\n",
      "      19:       pipe,          7,         19, 20634.698,    0.600,           0.008\n",
      "      20:       pipe,         19,          6, 10586.130,    0.600,           0.008\n",
      "      21:       pipe,         19,         10, 10452.031,    0.600,           0.008\n",
      "      22:       pipe,          5,         25, 12397.352,    0.800,           0.007\n",
      "      23:       pipe,         10,         22, 19303.192,    0.600,           0.008\n",
      "      24:       pipe,         27,         22, 66036.595,    0.600,           0.008\n",
      "      25:       pipe,         27,         17, 18969.413,    1.000,           0.007\n",
      "      26:       pipe,         17,         31, 36061.010,    0.800,           0.007\n",
      "      27:       pipe,         31,         30, 22224.153,    0.800,           0.007\n",
      "      28:       pipe,         31,          4, 31179.619,    0.800,           0.007\n",
      "      29:       pipe,          4,         17, 12766.703,    1.000,           0.007\n",
      "      30:       pipe,         31,         38, 32921.260,    0.800,           0.007\n",
      "      31:       pipe,         35,         21, 49866.148,    0.800,           0.007\n",
      "      32:       pipe,         21,         34,  3479.455,    0.800,           0.007\n",
      "      33:       pipe,         35,         36,  3418.008,    1.000,           0.007\n",
      "      34:       pipe,         29,         36, 32449.372,    1.000,           0.007\n",
      "      35:       pipe,         29,         21, 26427.482,    0.800,           0.007\n",
      "      36:       pipe,         12,         13, 18136.597,    1.000,           0.007\n",
      "      37:       pipe,         12,         33, 65057.174,    0.800,           0.007\n",
      "      38:       pipe,         12,         34, 65532.213,    0.800,           0.007\n",
      "      39: compressor,         37,     400037,        --,       --,              --\n",
      "      40: compressor,         13,     600013,        --,       --,              --\n",
      "      41: compressor,         21,     100021,        --,       --,              --\n",
      "      42: compressor,          2,     200002,        --,       --,              --\n",
      "      43: compressor,          1,     300001,        --,       --,              --\n",
      "      44: compressor,          5,     500005,        --,       --,              --\n",
      "  100000: compressor,         33,     100021,        --,       --,              --\n",
      "  100001: compressor,         35,     200002,        --,       --,              --\n",
      "  100002: compressor,         38,     300001,        --,       --,              --\n",
      "  100003: compressor,         27,     400037,        --,       --,              --\n",
      "  100004: compressor,         39,     500005,        --,       --,              --\n",
      "  100005: compressor,         32,     600013,        --,       --,              --\n",
      "\n",
      "  default values:\n",
      "    qmin: 0.000\n",
      "    qmax: 700.000\n",
      "    c_ratio_min: 1.000\n",
      "    c_ratio_max: 5.000\n",
      "    power_max: 3500.000\n",
      "    status: 1\n",
      "\n",
      "\n",
      "\u001b[1mTable: producer\u001b[0m\n",
      "         producer_i, junction, qg_junc\n",
      "      0:          0,        0,       0\n",
      "      1:          1,        1,       1\n",
      "      2:          2,        2,       2\n",
      "\n",
      "  default values:\n",
      "    qgfirm: 0.333\n",
      "    qgmin: 0.000\n",
      "    qgmax: 0.000\n",
      "    status: 1\n",
      "\n",
      "\n",
      "\u001b[1mTable: consumer\u001b[0m\n",
      "         consumer_i, junction, ql_junc\n",
      "      3:          3,        3,       3\n",
      "      4:          4,        4,       4\n",
      "      5:          5,        5,       5\n",
      "      6:          6,        6,       6\n",
      "      7:          7,        7,       7\n",
      "      8:          8,        8,       8\n",
      "      9:          9,        9,       9\n",
      "     10:         10,       10,      10\n",
      "     11:         11,       11,      11\n",
      "     12:         12,       12,      12\n",
      "     13:         13,       13,      13\n",
      "     14:         14,       14,      14\n",
      "     15:         15,       15,      15\n",
      "     16:         16,       16,      16\n",
      "     17:         17,       17,      17\n",
      "     18:         18,       18,      18\n",
      "     19:         19,       19,      19\n",
      "     20:         20,       20,      20\n",
      "     21:         21,       21,      21\n",
      "     22:         22,       22,      22\n",
      "     23:         23,       23,      23\n",
      "     24:         24,       24,      24\n",
      "     25:         25,       25,      25\n",
      "     26:         26,       26,      26\n",
      "     27:         27,       27,      27\n",
      "     28:         28,       28,      28\n",
      "     29:         29,       29,      29\n",
      "     30:         30,       30,      30\n",
      "     31:         31,       31,      31\n",
      "\n",
      "  default values:\n",
      "    qlfirm: 0.034\n",
      "    qlmin: 0.000\n",
      "    qlmax: 0.000\n",
      "    status: 1.000\n"
     ]
    }
   ],
   "source": [
    "GasModels.print_summary(data)"
   ]
  },
  {
   "cell_type": "markdown",
   "metadata": {},
   "source": [
    "### Solving the Gas Flow Problem (GF)\n",
    "\n",
    "Before we can solve a gas flow problem, we need a solver.  The gas flow problem as defined in GasModels.jl is a Mixed-Integer Nonlinear Program (MINLP). Hence, we require an MINLP solver; in this case we will use [Pavito](https://github.com/JuliaOpt/Pavito.jl). This MINLP solver requires two other solvers (1) a mip-solver and (2) a continuous NLP solver. We shall use GLPK and Ipopt as the mip solver and NLP solvers, respectively. "
   ]
  },
  {
   "cell_type": "code",
   "execution_count": 7,
   "metadata": {},
   "outputs": [
    {
     "name": "stdout",
     "output_type": "stream",
     "text": [
      "\n",
      "MINLP has a linear objective, 199 variables (102 integer), 565 constraints (156 nonlinear)\n",
      "\n",
      "Pavito started, using iterative method...\n",
      "\n",
      "******************************************************************************\n",
      "This program contains Ipopt, a library for large-scale nonlinear optimization.\n",
      " Ipopt is released as open source code under the Eclipse Public License (EPL).\n",
      "         For more information visit http://projects.coin-or.org/Ipopt\n",
      "******************************************************************************\n",
      "\n",
      "\n",
      "Iter. | Best feasible  | Best bound     | Rel. gap    | Time (s)   \n",
      "    1 |           +Inf |  +0.000000e+00 |       >1000 |   1.697e+00\n",
      "\n",
      "Pavito finished...\n",
      "\n",
      "Status                 Optimal\n",
      "Objective value        0.00000\n",
      "Objective bound        0.00000\n",
      "Objective gap          0.00000\n",
      "Iterations                   1\n",
      "Total time             1.81357 sec\n",
      "MIP total time         0.49505 sec\n",
      "NLP total time         0.23318 sec\n",
      "\n"
     ]
    },
    {
     "data": {
      "text/plain": [
       "Dict{String,Any} with 8 entries:\n",
       "  \"solve_time\"   => 1.81357\n",
       "  \"status\"       => :Optimal\n",
       "  \"objective\"    => 0.0\n",
       "  \"solver\"       => \"PavitoSolver\"\n",
       "  \"solution\"     => Dict{String,Any}(\"baseQ\"=>604.167,\"junction\"=>Dict{String,A…\n",
       "  \"data\"         => Dict{String,Any}(\"name\"=>\"gaslib40\",\"junction_count\"=>46,\"c…\n",
       "  \"machine\"      => Dict(\"cpu\"=>\"Intel(R) Core(TM) i7-4870HQ CPU @ 2.50GHz\",\"me…\n",
       "  \"objective_lb\" => 0.0"
      ]
     },
     "execution_count": 7,
     "metadata": {},
     "output_type": "execute_result"
    }
   ],
   "source": [
    "using GLPKMathProgInterface\n",
    "using Ipopt\n",
    "using Pavito\n",
    "\n",
    "glpk_solver = GLPKSolverMIP()\n",
    "ipopt_solver = IpoptSolver(tol=1e-6, print_level=0)\n",
    "\n",
    "pavito_solver = PavitoSolver(mip_solver=glpk_solver, cont_solver=ipopt_solver, mip_solver_drives=false, log_level=1)\n",
    "\n",
    "result = run_gf(data, MINLPGasModel, pavito_solver)"
   ]
  },
  {
   "cell_type": "markdown",
   "metadata": {},
   "source": [
    "The result object contains a variety of useful information about the optimization problem solved, including the objective value and wall clock runtime.  Detailed documentation of the result dictionary is available [here](https://lanl-ansi.github.io/GasModels.jl/stable/result-data/), however most interesting point is the `solution` data."
   ]
  },
  {
   "cell_type": "code",
   "execution_count": 8,
   "metadata": {},
   "outputs": [
    {
     "data": {
      "text/plain": [
       "Dict{String,Any} with 6 entries:\n",
       "  \"baseQ\"        => 604.167\n",
       "  \"junction\"     => Dict{String,Any}(\"32\"=>Dict{String,Any}(\"p\"=>0.799014),\"29\"…\n",
       "  \"baseP\"        => 8101325\n",
       "  \"multinetwork\" => false\n",
       "  \"per_unit\"     => true\n",
       "  \"connection\"   => Dict{String,Any}(\"32\"=>Dict{String,Any}(\"f\"=>0.100659,\"rati…"
      ]
     },
     "execution_count": 8,
     "metadata": {},
     "output_type": "execute_result"
    }
   ],
   "source": [
    "result[\"solution\"]"
   ]
  },
  {
   "cell_type": "markdown",
   "metadata": {},
   "source": [
    "Not every useful, lets try `print_summary`,"
   ]
  },
  {
   "cell_type": "code",
   "execution_count": 9,
   "metadata": {},
   "outputs": [
    {
     "name": "stdout",
     "output_type": "stream",
     "text": [
      "\u001b[1mMetadata\u001b[0m\n",
      "  baseP: 8101325\n",
      "  baseQ: 604.167\n",
      "  multinetwork: false\n",
      "  per_unit: true\n",
      "\n",
      "\u001b[1mTable Counts\u001b[0m\n",
      "  junction: 46\n",
      "  connection: 51\n",
      "\n",
      "\n",
      "\u001b[1mTable: junction\u001b[0m\n",
      "              p\n",
      "       0: 0.700\n",
      "       1: 0.697\n",
      "       2: 0.610\n",
      "       3: 0.585\n",
      "       4: 0.817\n",
      "       5: 0.693\n",
      "       6: 0.674\n",
      "       7: 0.648\n",
      "       8: 0.589\n",
      "       9: 0.589\n",
      "      10: 0.670\n",
      "      11: 0.629\n",
      "      12: 0.710\n",
      "      13: 0.709\n",
      "      14: 0.178\n",
      "      15: 0.688\n",
      "      16: 0.688\n",
      "      17: 0.816\n",
      "      18: 0.798\n",
      "      19: 0.668\n",
      "      20: 0.603\n",
      "      21: 0.720\n",
      "      22: 0.680\n",
      "      23: 0.206\n",
      "      24: 0.586\n",
      "      25: 0.693\n",
      "      26: 0.209\n",
      "      27: 0.813\n",
      "      28: 0.686\n",
      "      29: 0.728\n",
      "      30: 0.823\n",
      "      31: 0.824\n",
      "      32: 0.799\n",
      "      33: 0.734\n",
      "      34: 0.719\n",
      "      35: 0.734\n",
      "      36: 0.733\n",
      "      37: 0.687\n",
      "      38: 0.867\n",
      "      39: 0.853\n",
      "  100021: 0.734\n",
      "  200002: 0.734\n",
      "  300001: 0.867\n",
      "  400037: 0.813\n",
      "  500005: 0.853\n",
      "  600013: 0.799\n",
      "\n",
      "\n",
      "\u001b[1mTable: connection\u001b[0m\n",
      "               f, ratio\n",
      "       0:  0.333, 1.000\n",
      "       1:  0.034, 1.000\n",
      "       2: -0.092, 1.000\n",
      "       3: -0.126, 1.000\n",
      "       4: -0.161, 1.000\n",
      "       5:  0.332, 1.000\n",
      "       6:  0.226, 1.000\n",
      "       7:  0.191, 1.000\n",
      "       8:  0.072, 1.000\n",
      "       9: -0.062, 1.000\n",
      "      10:  0.157, 1.000\n",
      "      11: -0.264, 1.000\n",
      "      12:  0.053, 1.000\n",
      "      13:  0.069, 1.000\n",
      "      14:  0.103, 1.000\n",
      "      15:  0.034, 1.000\n",
      "      16:  0.069, 1.000\n",
      "      17:  0.034, 1.000\n",
      "      18: -0.084, 1.000\n",
      "      19: -0.119, 1.000\n",
      "      20: -0.099, 1.000\n",
      "      21: -0.054, 1.000\n",
      "      22:  0.034, 1.000\n",
      "      23: -0.089, 1.000\n",
      "      24:  0.185, 1.000\n",
      "      25: -0.195, 1.000\n",
      "      26: -0.130, 1.000\n",
      "      27:  0.034, 1.000\n",
      "      28:  0.135, 1.000\n",
      "      29:  0.100, 1.000\n",
      "      30: -0.333, 1.000\n",
      "      31:  0.144, 1.000\n",
      "      32:  0.101, 1.000\n",
      "      33:  0.189, 1.000\n",
      "      34: -0.189, 1.000\n",
      "      35:  0.155, 1.000\n",
      "      36:  0.069, 1.000\n",
      "      37: -0.164, 1.000\n",
      "      38: -0.101, 1.000\n",
      "      39:  0.092, 1.184\n",
      "      40:  0.034, 1.126\n",
      "      41:  0.164, 1.020\n",
      "      42:  0.333, 1.202\n",
      "      43:  0.333, 1.244\n",
      "      44:  0.264, 1.230\n",
      "  100000: -0.164, 1.000\n",
      "  100001: -0.333, 1.000\n",
      "  100002: -0.333, 1.000\n",
      "  100003: -0.092, 1.000\n",
      "  100004: -0.264, 1.000\n",
      "  100005: -0.034, 1.000\n"
     ]
    }
   ],
   "source": [
    "GasModels.print_summary(result[\"solution\"])"
   ]
  }
 ],
 "metadata": {
  "kernelspec": {
   "display_name": "Julia 1.0.2",
   "language": "julia",
   "name": "julia-1.0"
  },
  "language_info": {
   "file_extension": ".jl",
   "mimetype": "application/julia",
   "name": "julia",
   "version": "1.0.2"
  }
 },
 "nbformat": 4,
 "nbformat_minor": 2
}
